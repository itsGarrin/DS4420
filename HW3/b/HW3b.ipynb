{
 "cells": [
  {
   "cell_type": "code",
   "execution_count": 1,
   "id": "initial_id",
   "metadata": {
    "collapsed": true,
    "ExecuteTime": {
     "end_time": "2023-11-02T19:32:17.967399Z",
     "start_time": "2023-11-02T19:32:15.408172Z"
    }
   },
   "outputs": [],
   "source": [
    "import pandas as pd\n",
    "\n",
    "import MLutils as ml"
   ]
  },
  {
   "cell_type": "code",
   "execution_count": 2,
   "outputs": [],
   "source": [
    "# Load data\n",
    "spambase = pd.read_csv('spambase.data', header=None, delim_whitespace=False,\n",
    "                       names=['word_freq_make', 'word_freq_address', 'word_freq_all', 'word_freq_3d', 'word_freq_our',\n",
    "                              'word_freq_over', 'word_freq_remove', 'word_freq_internet', 'word_freq_order',\n",
    "                              'word_freq_mail', 'word_freq_receive', 'word_freq_will', 'word_freq_people',\n",
    "                              'word_freq_report', 'word_freq_addresses', 'word_freq_free', 'word_freq_business',\n",
    "                              'word_freq_email', 'word_freq_you', 'word_freq_credit', 'word_freq_your',\n",
    "                              'word_freq_font', 'word_freq_000', 'word_freq_money', 'word_freq_hp', 'word_freq_hpl',\n",
    "                              'word_freq_george', 'word_freq_650', 'word_freq_lab', 'word_freq_labs',\n",
    "                              'word_freq_telnet', 'word_freq_857', 'word_freq_data', 'word_freq_415', 'word_freq_85',\n",
    "                              'word_freq_technology', 'word_freq_1999', 'word_freq_parts', 'word_freq_pm',\n",
    "                              'word_freq_direct', 'word_freq_cs', 'word_freq_meeting', 'word_freq_original',\n",
    "                              'word_freq_project', 'word_freq_re', 'word_freq_edu', 'word_freq_table',\n",
    "                              'word_freq_conference', 'char_freq_;', 'char_freq_(', 'char_freq_[', 'char_freq_!',\n",
    "                              'char_freq_$', 'char_freq_#', 'capital_run_length_average', 'capital_run_length_longest',\n",
    "                              'capital_run_length_total', 'spam'])"
   ],
   "metadata": {
    "collapsed": false,
    "ExecuteTime": {
     "end_time": "2023-11-02T19:32:17.979449Z",
     "start_time": "2023-11-02T19:32:17.969044Z"
    }
   },
   "id": "78ad4a26ad92842"
  },
  {
   "cell_type": "code",
   "execution_count": 3,
   "outputs": [
    {
     "data": {
      "text/plain": "      word_freq_make  word_freq_address  word_freq_all  word_freq_3d  \\\n0               0.00               0.64           0.64           0.0   \n1               0.21               0.28           0.50           0.0   \n2               0.06               0.00           0.71           0.0   \n3               0.00               0.00           0.00           0.0   \n4               0.00               0.00           0.00           0.0   \n...              ...                ...            ...           ...   \n4596            0.31               0.00           0.62           0.0   \n4597            0.00               0.00           0.00           0.0   \n4598            0.30               0.00           0.30           0.0   \n4599            0.96               0.00           0.00           0.0   \n4600            0.00               0.00           0.65           0.0   \n\n      word_freq_our  word_freq_over  word_freq_remove  word_freq_internet  \\\n0              0.32            0.00              0.00                0.00   \n1              0.14            0.28              0.21                0.07   \n2              1.23            0.19              0.19                0.12   \n3              0.63            0.00              0.31                0.63   \n4              0.63            0.00              0.31                0.63   \n...             ...             ...               ...                 ...   \n4596           0.00            0.31              0.00                0.00   \n4597           0.00            0.00              0.00                0.00   \n4598           0.00            0.00              0.00                0.00   \n4599           0.32            0.00              0.00                0.00   \n4600           0.00            0.00              0.00                0.00   \n\n      word_freq_order  word_freq_mail  ...  char_freq_;  char_freq_(  \\\n0                0.00            0.00  ...        0.000        0.000   \n1                0.00            0.94  ...        0.000        0.132   \n2                0.64            0.25  ...        0.010        0.143   \n3                0.31            0.63  ...        0.000        0.137   \n4                0.31            0.63  ...        0.000        0.135   \n...               ...             ...  ...          ...          ...   \n4596             0.00            0.00  ...        0.000        0.232   \n4597             0.00            0.00  ...        0.000        0.000   \n4598             0.00            0.00  ...        0.102        0.718   \n4599             0.00            0.00  ...        0.000        0.057   \n4600             0.00            0.00  ...        0.000        0.000   \n\n      char_freq_[  char_freq_!  char_freq_$  char_freq_#  \\\n0             0.0        0.778        0.000        0.000   \n1             0.0        0.372        0.180        0.048   \n2             0.0        0.276        0.184        0.010   \n3             0.0        0.137        0.000        0.000   \n4             0.0        0.135        0.000        0.000   \n...           ...          ...          ...          ...   \n4596          0.0        0.000        0.000        0.000   \n4597          0.0        0.353        0.000        0.000   \n4598          0.0        0.000        0.000        0.000   \n4599          0.0        0.000        0.000        0.000   \n4600          0.0        0.125        0.000        0.000   \n\n      capital_run_length_average  capital_run_length_longest  \\\n0                          3.756                          61   \n1                          5.114                         101   \n2                          9.821                         485   \n3                          3.537                          40   \n4                          3.537                          40   \n...                          ...                         ...   \n4596                       1.142                           3   \n4597                       1.555                           4   \n4598                       1.404                           6   \n4599                       1.147                           5   \n4600                       1.250                           5   \n\n      capital_run_length_total  spam  \n0                          278     1  \n1                         1028     1  \n2                         2259     1  \n3                          191     1  \n4                          191     1  \n...                        ...   ...  \n4596                        88     0  \n4597                        14     0  \n4598                       118     0  \n4599                        78     0  \n4600                        40     0  \n\n[4601 rows x 58 columns]",
      "text/html": "<div>\n<style scoped>\n    .dataframe tbody tr th:only-of-type {\n        vertical-align: middle;\n    }\n\n    .dataframe tbody tr th {\n        vertical-align: top;\n    }\n\n    .dataframe thead th {\n        text-align: right;\n    }\n</style>\n<table border=\"1\" class=\"dataframe\">\n  <thead>\n    <tr style=\"text-align: right;\">\n      <th></th>\n      <th>word_freq_make</th>\n      <th>word_freq_address</th>\n      <th>word_freq_all</th>\n      <th>word_freq_3d</th>\n      <th>word_freq_our</th>\n      <th>word_freq_over</th>\n      <th>word_freq_remove</th>\n      <th>word_freq_internet</th>\n      <th>word_freq_order</th>\n      <th>word_freq_mail</th>\n      <th>...</th>\n      <th>char_freq_;</th>\n      <th>char_freq_(</th>\n      <th>char_freq_[</th>\n      <th>char_freq_!</th>\n      <th>char_freq_$</th>\n      <th>char_freq_#</th>\n      <th>capital_run_length_average</th>\n      <th>capital_run_length_longest</th>\n      <th>capital_run_length_total</th>\n      <th>spam</th>\n    </tr>\n  </thead>\n  <tbody>\n    <tr>\n      <th>0</th>\n      <td>0.00</td>\n      <td>0.64</td>\n      <td>0.64</td>\n      <td>0.0</td>\n      <td>0.32</td>\n      <td>0.00</td>\n      <td>0.00</td>\n      <td>0.00</td>\n      <td>0.00</td>\n      <td>0.00</td>\n      <td>...</td>\n      <td>0.000</td>\n      <td>0.000</td>\n      <td>0.0</td>\n      <td>0.778</td>\n      <td>0.000</td>\n      <td>0.000</td>\n      <td>3.756</td>\n      <td>61</td>\n      <td>278</td>\n      <td>1</td>\n    </tr>\n    <tr>\n      <th>1</th>\n      <td>0.21</td>\n      <td>0.28</td>\n      <td>0.50</td>\n      <td>0.0</td>\n      <td>0.14</td>\n      <td>0.28</td>\n      <td>0.21</td>\n      <td>0.07</td>\n      <td>0.00</td>\n      <td>0.94</td>\n      <td>...</td>\n      <td>0.000</td>\n      <td>0.132</td>\n      <td>0.0</td>\n      <td>0.372</td>\n      <td>0.180</td>\n      <td>0.048</td>\n      <td>5.114</td>\n      <td>101</td>\n      <td>1028</td>\n      <td>1</td>\n    </tr>\n    <tr>\n      <th>2</th>\n      <td>0.06</td>\n      <td>0.00</td>\n      <td>0.71</td>\n      <td>0.0</td>\n      <td>1.23</td>\n      <td>0.19</td>\n      <td>0.19</td>\n      <td>0.12</td>\n      <td>0.64</td>\n      <td>0.25</td>\n      <td>...</td>\n      <td>0.010</td>\n      <td>0.143</td>\n      <td>0.0</td>\n      <td>0.276</td>\n      <td>0.184</td>\n      <td>0.010</td>\n      <td>9.821</td>\n      <td>485</td>\n      <td>2259</td>\n      <td>1</td>\n    </tr>\n    <tr>\n      <th>3</th>\n      <td>0.00</td>\n      <td>0.00</td>\n      <td>0.00</td>\n      <td>0.0</td>\n      <td>0.63</td>\n      <td>0.00</td>\n      <td>0.31</td>\n      <td>0.63</td>\n      <td>0.31</td>\n      <td>0.63</td>\n      <td>...</td>\n      <td>0.000</td>\n      <td>0.137</td>\n      <td>0.0</td>\n      <td>0.137</td>\n      <td>0.000</td>\n      <td>0.000</td>\n      <td>3.537</td>\n      <td>40</td>\n      <td>191</td>\n      <td>1</td>\n    </tr>\n    <tr>\n      <th>4</th>\n      <td>0.00</td>\n      <td>0.00</td>\n      <td>0.00</td>\n      <td>0.0</td>\n      <td>0.63</td>\n      <td>0.00</td>\n      <td>0.31</td>\n      <td>0.63</td>\n      <td>0.31</td>\n      <td>0.63</td>\n      <td>...</td>\n      <td>0.000</td>\n      <td>0.135</td>\n      <td>0.0</td>\n      <td>0.135</td>\n      <td>0.000</td>\n      <td>0.000</td>\n      <td>3.537</td>\n      <td>40</td>\n      <td>191</td>\n      <td>1</td>\n    </tr>\n    <tr>\n      <th>...</th>\n      <td>...</td>\n      <td>...</td>\n      <td>...</td>\n      <td>...</td>\n      <td>...</td>\n      <td>...</td>\n      <td>...</td>\n      <td>...</td>\n      <td>...</td>\n      <td>...</td>\n      <td>...</td>\n      <td>...</td>\n      <td>...</td>\n      <td>...</td>\n      <td>...</td>\n      <td>...</td>\n      <td>...</td>\n      <td>...</td>\n      <td>...</td>\n      <td>...</td>\n      <td>...</td>\n    </tr>\n    <tr>\n      <th>4596</th>\n      <td>0.31</td>\n      <td>0.00</td>\n      <td>0.62</td>\n      <td>0.0</td>\n      <td>0.00</td>\n      <td>0.31</td>\n      <td>0.00</td>\n      <td>0.00</td>\n      <td>0.00</td>\n      <td>0.00</td>\n      <td>...</td>\n      <td>0.000</td>\n      <td>0.232</td>\n      <td>0.0</td>\n      <td>0.000</td>\n      <td>0.000</td>\n      <td>0.000</td>\n      <td>1.142</td>\n      <td>3</td>\n      <td>88</td>\n      <td>0</td>\n    </tr>\n    <tr>\n      <th>4597</th>\n      <td>0.00</td>\n      <td>0.00</td>\n      <td>0.00</td>\n      <td>0.0</td>\n      <td>0.00</td>\n      <td>0.00</td>\n      <td>0.00</td>\n      <td>0.00</td>\n      <td>0.00</td>\n      <td>0.00</td>\n      <td>...</td>\n      <td>0.000</td>\n      <td>0.000</td>\n      <td>0.0</td>\n      <td>0.353</td>\n      <td>0.000</td>\n      <td>0.000</td>\n      <td>1.555</td>\n      <td>4</td>\n      <td>14</td>\n      <td>0</td>\n    </tr>\n    <tr>\n      <th>4598</th>\n      <td>0.30</td>\n      <td>0.00</td>\n      <td>0.30</td>\n      <td>0.0</td>\n      <td>0.00</td>\n      <td>0.00</td>\n      <td>0.00</td>\n      <td>0.00</td>\n      <td>0.00</td>\n      <td>0.00</td>\n      <td>...</td>\n      <td>0.102</td>\n      <td>0.718</td>\n      <td>0.0</td>\n      <td>0.000</td>\n      <td>0.000</td>\n      <td>0.000</td>\n      <td>1.404</td>\n      <td>6</td>\n      <td>118</td>\n      <td>0</td>\n    </tr>\n    <tr>\n      <th>4599</th>\n      <td>0.96</td>\n      <td>0.00</td>\n      <td>0.00</td>\n      <td>0.0</td>\n      <td>0.32</td>\n      <td>0.00</td>\n      <td>0.00</td>\n      <td>0.00</td>\n      <td>0.00</td>\n      <td>0.00</td>\n      <td>...</td>\n      <td>0.000</td>\n      <td>0.057</td>\n      <td>0.0</td>\n      <td>0.000</td>\n      <td>0.000</td>\n      <td>0.000</td>\n      <td>1.147</td>\n      <td>5</td>\n      <td>78</td>\n      <td>0</td>\n    </tr>\n    <tr>\n      <th>4600</th>\n      <td>0.00</td>\n      <td>0.00</td>\n      <td>0.65</td>\n      <td>0.0</td>\n      <td>0.00</td>\n      <td>0.00</td>\n      <td>0.00</td>\n      <td>0.00</td>\n      <td>0.00</td>\n      <td>0.00</td>\n      <td>...</td>\n      <td>0.000</td>\n      <td>0.000</td>\n      <td>0.0</td>\n      <td>0.125</td>\n      <td>0.000</td>\n      <td>0.000</td>\n      <td>1.250</td>\n      <td>5</td>\n      <td>40</td>\n      <td>0</td>\n    </tr>\n  </tbody>\n</table>\n<p>4601 rows × 58 columns</p>\n</div>"
     },
     "metadata": {},
     "output_type": "display_data"
    }
   ],
   "source": [
    "display(spambase)"
   ],
   "metadata": {
    "collapsed": false,
    "ExecuteTime": {
     "end_time": "2023-11-02T19:32:17.990801Z",
     "start_time": "2023-11-02T19:32:17.981388Z"
    }
   },
   "id": "2b4ad3ff0c76df1b"
  },
  {
   "cell_type": "code",
   "execution_count": 4,
   "outputs": [],
   "source": [
    "# Normalize data\n",
    "spambase.iloc[:, :-1] = ml.normalize(spambase.iloc[:, :-1])[0]"
   ],
   "metadata": {
    "collapsed": false,
    "ExecuteTime": {
     "end_time": "2023-11-02T19:32:17.997075Z",
     "start_time": "2023-11-02T19:32:17.991429Z"
    }
   },
   "id": "f9774a70b2735cae"
  },
  {
   "cell_type": "code",
   "execution_count": 5,
   "outputs": [
    {
     "data": {
      "text/plain": "      word_freq_make  word_freq_address  word_freq_all  word_freq_3d  \\\n0          -0.342396           0.330849       0.712781     -0.046894   \n1           0.345322           0.051904       0.435082     -0.046894   \n2          -0.145906          -0.165054       0.851631     -0.046894   \n3          -0.342396          -0.165054      -0.556700     -0.046894   \n4          -0.342396          -0.165054      -0.556700     -0.046894   \n...              ...                ...            ...           ...   \n4596        0.672807          -0.165054       0.673110     -0.046894   \n4597       -0.342396          -0.165054      -0.556700     -0.046894   \n4598        0.640058          -0.165054       0.038369     -0.046894   \n4599        2.801459          -0.165054      -0.556700     -0.046894   \n4600       -0.342396          -0.165054       0.732617     -0.046894   \n\n      word_freq_our  word_freq_over  word_freq_remove  word_freq_internet  \\\n0          0.011563       -0.350228         -0.291762           -0.262533   \n1         -0.256089        0.672326          0.244717           -0.088001   \n2          1.364698        0.343648          0.193623            0.036666   \n3          0.472521       -0.350228          0.500183            1.308259   \n4          0.472521       -0.350228          0.500183            1.308259   \n...             ...             ...               ...                 ...   \n4596      -0.464264        0.781886         -0.291762           -0.262533   \n4597      -0.464264       -0.350228         -0.291762           -0.262533   \n4598      -0.464264       -0.350228         -0.291762           -0.262533   \n4599       0.011563       -0.350228         -0.291762           -0.262533   \n4600      -0.464264       -0.350228         -0.291762           -0.262533   \n\n      word_freq_order  word_freq_mail  ...  char_freq_;  char_freq_(  \\\n0           -0.323267       -0.371324  ...    -0.158436    -0.514251   \n1           -0.323267        1.086593  ...    -0.158436    -0.026004   \n2            1.973802        0.016420  ...    -0.117364     0.014683   \n3            0.789376        0.605791  ...    -0.158436    -0.007510   \n4            0.789376        0.605791  ...    -0.158436    -0.014908   \n...               ...             ...  ...          ...          ...   \n4596        -0.323267       -0.371324  ...    -0.158436     0.343879   \n4597        -0.323267       -0.371324  ...    -0.158436    -0.514251   \n4598        -0.323267       -0.371324  ...     0.260504     2.141513   \n4599        -0.323267       -0.371324  ...    -0.158436    -0.303417   \n4600        -0.323267       -0.371324  ...    -0.158436    -0.514251   \n\n      char_freq_[  char_freq_!  char_freq_$  char_freq_#  \\\n0       -0.155181     0.623939    -0.308321    -0.103037   \n1       -0.155181     0.126189     0.423737     0.008762   \n2       -0.155181     0.008495     0.440005    -0.079746   \n3       -0.155181    -0.161917    -0.308321    -0.103037   \n4       -0.155181    -0.164369    -0.308321    -0.103037   \n...           ...          ...          ...          ...   \n4596    -0.155181    -0.329876    -0.308321    -0.103037   \n4597    -0.155181     0.102896    -0.308321    -0.103037   \n4598    -0.155181    -0.329876    -0.308321    -0.103037   \n4599    -0.155181    -0.329876    -0.308321    -0.103037   \n4600    -0.155181    -0.176628    -0.308321    -0.103037   \n\n      capital_run_length_average  capital_run_length_longest  \\\n0                      -0.045242                    0.045293   \n1                      -0.002443                    0.250536   \n2                       0.145905                    2.220865   \n3                      -0.052144                   -0.062459   \n4                      -0.052144                   -0.062459   \n...                          ...                         ...   \n4596                   -0.127626                   -0.252309   \n4597                   -0.114610                   -0.247178   \n4598                   -0.119369                   -0.236916   \n4599                   -0.127469                   -0.242047   \n4600                   -0.124223                   -0.242047   \n\n      capital_run_length_total  spam  \n0                    -0.008723     1  \n1                     1.228191     1  \n2                     3.258378     1  \n3                    -0.152205     1  \n4                    -0.152205     1  \n...                        ...   ...  \n4596                 -0.322075     0  \n4597                 -0.444117     0  \n4598                 -0.272598     0  \n4599                 -0.338567     0  \n4600                 -0.401237     0  \n\n[4601 rows x 58 columns]",
      "text/html": "<div>\n<style scoped>\n    .dataframe tbody tr th:only-of-type {\n        vertical-align: middle;\n    }\n\n    .dataframe tbody tr th {\n        vertical-align: top;\n    }\n\n    .dataframe thead th {\n        text-align: right;\n    }\n</style>\n<table border=\"1\" class=\"dataframe\">\n  <thead>\n    <tr style=\"text-align: right;\">\n      <th></th>\n      <th>word_freq_make</th>\n      <th>word_freq_address</th>\n      <th>word_freq_all</th>\n      <th>word_freq_3d</th>\n      <th>word_freq_our</th>\n      <th>word_freq_over</th>\n      <th>word_freq_remove</th>\n      <th>word_freq_internet</th>\n      <th>word_freq_order</th>\n      <th>word_freq_mail</th>\n      <th>...</th>\n      <th>char_freq_;</th>\n      <th>char_freq_(</th>\n      <th>char_freq_[</th>\n      <th>char_freq_!</th>\n      <th>char_freq_$</th>\n      <th>char_freq_#</th>\n      <th>capital_run_length_average</th>\n      <th>capital_run_length_longest</th>\n      <th>capital_run_length_total</th>\n      <th>spam</th>\n    </tr>\n  </thead>\n  <tbody>\n    <tr>\n      <th>0</th>\n      <td>-0.342396</td>\n      <td>0.330849</td>\n      <td>0.712781</td>\n      <td>-0.046894</td>\n      <td>0.011563</td>\n      <td>-0.350228</td>\n      <td>-0.291762</td>\n      <td>-0.262533</td>\n      <td>-0.323267</td>\n      <td>-0.371324</td>\n      <td>...</td>\n      <td>-0.158436</td>\n      <td>-0.514251</td>\n      <td>-0.155181</td>\n      <td>0.623939</td>\n      <td>-0.308321</td>\n      <td>-0.103037</td>\n      <td>-0.045242</td>\n      <td>0.045293</td>\n      <td>-0.008723</td>\n      <td>1</td>\n    </tr>\n    <tr>\n      <th>1</th>\n      <td>0.345322</td>\n      <td>0.051904</td>\n      <td>0.435082</td>\n      <td>-0.046894</td>\n      <td>-0.256089</td>\n      <td>0.672326</td>\n      <td>0.244717</td>\n      <td>-0.088001</td>\n      <td>-0.323267</td>\n      <td>1.086593</td>\n      <td>...</td>\n      <td>-0.158436</td>\n      <td>-0.026004</td>\n      <td>-0.155181</td>\n      <td>0.126189</td>\n      <td>0.423737</td>\n      <td>0.008762</td>\n      <td>-0.002443</td>\n      <td>0.250536</td>\n      <td>1.228191</td>\n      <td>1</td>\n    </tr>\n    <tr>\n      <th>2</th>\n      <td>-0.145906</td>\n      <td>-0.165054</td>\n      <td>0.851631</td>\n      <td>-0.046894</td>\n      <td>1.364698</td>\n      <td>0.343648</td>\n      <td>0.193623</td>\n      <td>0.036666</td>\n      <td>1.973802</td>\n      <td>0.016420</td>\n      <td>...</td>\n      <td>-0.117364</td>\n      <td>0.014683</td>\n      <td>-0.155181</td>\n      <td>0.008495</td>\n      <td>0.440005</td>\n      <td>-0.079746</td>\n      <td>0.145905</td>\n      <td>2.220865</td>\n      <td>3.258378</td>\n      <td>1</td>\n    </tr>\n    <tr>\n      <th>3</th>\n      <td>-0.342396</td>\n      <td>-0.165054</td>\n      <td>-0.556700</td>\n      <td>-0.046894</td>\n      <td>0.472521</td>\n      <td>-0.350228</td>\n      <td>0.500183</td>\n      <td>1.308259</td>\n      <td>0.789376</td>\n      <td>0.605791</td>\n      <td>...</td>\n      <td>-0.158436</td>\n      <td>-0.007510</td>\n      <td>-0.155181</td>\n      <td>-0.161917</td>\n      <td>-0.308321</td>\n      <td>-0.103037</td>\n      <td>-0.052144</td>\n      <td>-0.062459</td>\n      <td>-0.152205</td>\n      <td>1</td>\n    </tr>\n    <tr>\n      <th>4</th>\n      <td>-0.342396</td>\n      <td>-0.165054</td>\n      <td>-0.556700</td>\n      <td>-0.046894</td>\n      <td>0.472521</td>\n      <td>-0.350228</td>\n      <td>0.500183</td>\n      <td>1.308259</td>\n      <td>0.789376</td>\n      <td>0.605791</td>\n      <td>...</td>\n      <td>-0.158436</td>\n      <td>-0.014908</td>\n      <td>-0.155181</td>\n      <td>-0.164369</td>\n      <td>-0.308321</td>\n      <td>-0.103037</td>\n      <td>-0.052144</td>\n      <td>-0.062459</td>\n      <td>-0.152205</td>\n      <td>1</td>\n    </tr>\n    <tr>\n      <th>...</th>\n      <td>...</td>\n      <td>...</td>\n      <td>...</td>\n      <td>...</td>\n      <td>...</td>\n      <td>...</td>\n      <td>...</td>\n      <td>...</td>\n      <td>...</td>\n      <td>...</td>\n      <td>...</td>\n      <td>...</td>\n      <td>...</td>\n      <td>...</td>\n      <td>...</td>\n      <td>...</td>\n      <td>...</td>\n      <td>...</td>\n      <td>...</td>\n      <td>...</td>\n      <td>...</td>\n    </tr>\n    <tr>\n      <th>4596</th>\n      <td>0.672807</td>\n      <td>-0.165054</td>\n      <td>0.673110</td>\n      <td>-0.046894</td>\n      <td>-0.464264</td>\n      <td>0.781886</td>\n      <td>-0.291762</td>\n      <td>-0.262533</td>\n      <td>-0.323267</td>\n      <td>-0.371324</td>\n      <td>...</td>\n      <td>-0.158436</td>\n      <td>0.343879</td>\n      <td>-0.155181</td>\n      <td>-0.329876</td>\n      <td>-0.308321</td>\n      <td>-0.103037</td>\n      <td>-0.127626</td>\n      <td>-0.252309</td>\n      <td>-0.322075</td>\n      <td>0</td>\n    </tr>\n    <tr>\n      <th>4597</th>\n      <td>-0.342396</td>\n      <td>-0.165054</td>\n      <td>-0.556700</td>\n      <td>-0.046894</td>\n      <td>-0.464264</td>\n      <td>-0.350228</td>\n      <td>-0.291762</td>\n      <td>-0.262533</td>\n      <td>-0.323267</td>\n      <td>-0.371324</td>\n      <td>...</td>\n      <td>-0.158436</td>\n      <td>-0.514251</td>\n      <td>-0.155181</td>\n      <td>0.102896</td>\n      <td>-0.308321</td>\n      <td>-0.103037</td>\n      <td>-0.114610</td>\n      <td>-0.247178</td>\n      <td>-0.444117</td>\n      <td>0</td>\n    </tr>\n    <tr>\n      <th>4598</th>\n      <td>0.640058</td>\n      <td>-0.165054</td>\n      <td>0.038369</td>\n      <td>-0.046894</td>\n      <td>-0.464264</td>\n      <td>-0.350228</td>\n      <td>-0.291762</td>\n      <td>-0.262533</td>\n      <td>-0.323267</td>\n      <td>-0.371324</td>\n      <td>...</td>\n      <td>0.260504</td>\n      <td>2.141513</td>\n      <td>-0.155181</td>\n      <td>-0.329876</td>\n      <td>-0.308321</td>\n      <td>-0.103037</td>\n      <td>-0.119369</td>\n      <td>-0.236916</td>\n      <td>-0.272598</td>\n      <td>0</td>\n    </tr>\n    <tr>\n      <th>4599</th>\n      <td>2.801459</td>\n      <td>-0.165054</td>\n      <td>-0.556700</td>\n      <td>-0.046894</td>\n      <td>0.011563</td>\n      <td>-0.350228</td>\n      <td>-0.291762</td>\n      <td>-0.262533</td>\n      <td>-0.323267</td>\n      <td>-0.371324</td>\n      <td>...</td>\n      <td>-0.158436</td>\n      <td>-0.303417</td>\n      <td>-0.155181</td>\n      <td>-0.329876</td>\n      <td>-0.308321</td>\n      <td>-0.103037</td>\n      <td>-0.127469</td>\n      <td>-0.242047</td>\n      <td>-0.338567</td>\n      <td>0</td>\n    </tr>\n    <tr>\n      <th>4600</th>\n      <td>-0.342396</td>\n      <td>-0.165054</td>\n      <td>0.732617</td>\n      <td>-0.046894</td>\n      <td>-0.464264</td>\n      <td>-0.350228</td>\n      <td>-0.291762</td>\n      <td>-0.262533</td>\n      <td>-0.323267</td>\n      <td>-0.371324</td>\n      <td>...</td>\n      <td>-0.158436</td>\n      <td>-0.514251</td>\n      <td>-0.155181</td>\n      <td>-0.176628</td>\n      <td>-0.308321</td>\n      <td>-0.103037</td>\n      <td>-0.124223</td>\n      <td>-0.242047</td>\n      <td>-0.401237</td>\n      <td>0</td>\n    </tr>\n  </tbody>\n</table>\n<p>4601 rows × 58 columns</p>\n</div>"
     },
     "metadata": {},
     "output_type": "display_data"
    }
   ],
   "source": [
    "display(spambase)"
   ],
   "metadata": {
    "collapsed": false,
    "ExecuteTime": {
     "end_time": "2023-11-02T19:32:18.016955Z",
     "start_time": "2023-11-02T19:32:17.998396Z"
    }
   },
   "id": "b633d42f7f47686d"
  },
  {
   "cell_type": "code",
   "execution_count": 6,
   "outputs": [
    {
     "data": {
      "text/plain": "       word_freq_make  word_freq_address  word_freq_all  word_freq_3d  \\\ncount    4.601000e+03       4.601000e+03    4601.000000  4.601000e+03   \nmean    -3.088645e-17       1.544322e-17       0.000000 -6.177290e-18   \nstd      1.000000e+00       1.000000e+00       1.000000  1.000000e+00   \nmin     -3.423965e-01      -1.650540e-01      -0.556700 -4.689449e-02   \n25%     -3.423965e-01      -1.650540e-01      -0.556700 -4.689449e-02   \n50%     -3.423965e-01      -1.650540e-01      -0.556700 -4.689449e-02   \n75%     -3.423965e-01      -1.650540e-01       0.276397 -4.689449e-02   \nmax      1.452542e+01       1.089978e+01       9.559480  3.063795e+01   \n\n       word_freq_our  word_freq_over  word_freq_remove  word_freq_internet  \\\ncount   4.601000e+03    4.601000e+03      4.601000e+03        4.601000e+03   \nmean    3.706374e-17    6.177290e-17      2.470916e-17       -2.470916e-17   \nstd     1.000000e+00    1.000000e+00      1.000000e+00        1.000000e+00   \nmin    -4.642639e-01   -3.502281e-01     -2.917622e-01       -2.625330e-01   \n25%    -4.642639e-01   -3.502281e-01     -2.917622e-01       -2.625330e-01   \n50%    -4.642639e-01   -3.502281e-01     -2.917622e-01       -2.625330e-01   \n75%     1.007811e-01   -3.502281e-01     -2.917622e-01       -2.625330e-01   \nmax     1.440534e+01    2.112341e+01      1.828062e+01        2.743827e+01   \n\n       word_freq_order  word_freq_mail  ...   char_freq_;   char_freq_(  \\\ncount     4.601000e+03    4.601000e+03  ...  4.601000e+03  4.601000e+03   \nmean      9.883663e-17   -6.177290e-18  ...  3.706374e-17 -5.559561e-17   \nstd       1.000000e+00    1.000000e+00  ...  1.000000e+00  1.000000e+00   \nmin      -3.232672e-01   -3.713240e-01  ... -1.584361e-01 -5.142507e-01   \n25%      -3.232672e-01   -3.713240e-01  ... -1.584361e-01 -5.142507e-01   \n50%      -3.232672e-01   -3.713240e-01  ... -1.584361e-01 -2.738264e-01   \n75%      -3.232672e-01   -1.231679e-01  ... -1.584361e-01  1.811304e-01   \nmax       1.855577e+01    2.782542e+01  ...  1.785190e+01  3.555679e+01   \n\n        char_freq_[   char_freq_!   char_freq_$   char_freq_#  \\\ncount  4.601000e+03  4.601000e+03  4.601000e+03  4.601000e+03   \nmean   2.162051e-17  2.470916e-17 -2.470916e-17  1.853187e-17   \nstd    1.000000e+00  1.000000e+00  1.000000e+00  1.000000e+00   \nmin   -1.551808e-01 -3.298764e-01 -3.083214e-01 -1.030372e-01   \n25%   -1.551808e-01 -3.298764e-01 -3.083214e-01 -1.030372e-01   \n50%   -1.551808e-01 -3.298764e-01 -3.083214e-01 -1.030372e-01   \n75%   -1.551808e-01  5.630838e-02 -9.683788e-02 -1.030372e-01   \nmax    3.715028e+01  3.948762e+01  2.410583e+01  4.608158e+01   \n\n       capital_run_length_average  capital_run_length_longest  \\\ncount                4.601000e+03                4.601000e+03   \nmean                 3.706374e-17                1.235458e-17   \nstd                  1.000000e+00                1.000000e+00   \nmin                 -1.321017e-01               -2.625709e-01   \n25%                 -1.135701e-01               -2.369156e-01   \n50%                 -9.188672e-02               -1.907360e-01   \n75%                 -4.681818e-02               -4.706618e-02   \nmax                  3.458328e+01                5.098651e+01   \n\n       capital_run_length_total         spam  \ncount               4601.000000  4601.000000  \nmean                   0.000000     0.394045  \nstd                    1.000000     0.488698  \nmin                   -0.465557     0.000000  \n25%                   -0.409483     0.000000  \n50%                   -0.310530     0.000000  \n75%                   -0.028514     1.000000  \nmax                   25.658062     1.000000  \n\n[8 rows x 58 columns]",
      "text/html": "<div>\n<style scoped>\n    .dataframe tbody tr th:only-of-type {\n        vertical-align: middle;\n    }\n\n    .dataframe tbody tr th {\n        vertical-align: top;\n    }\n\n    .dataframe thead th {\n        text-align: right;\n    }\n</style>\n<table border=\"1\" class=\"dataframe\">\n  <thead>\n    <tr style=\"text-align: right;\">\n      <th></th>\n      <th>word_freq_make</th>\n      <th>word_freq_address</th>\n      <th>word_freq_all</th>\n      <th>word_freq_3d</th>\n      <th>word_freq_our</th>\n      <th>word_freq_over</th>\n      <th>word_freq_remove</th>\n      <th>word_freq_internet</th>\n      <th>word_freq_order</th>\n      <th>word_freq_mail</th>\n      <th>...</th>\n      <th>char_freq_;</th>\n      <th>char_freq_(</th>\n      <th>char_freq_[</th>\n      <th>char_freq_!</th>\n      <th>char_freq_$</th>\n      <th>char_freq_#</th>\n      <th>capital_run_length_average</th>\n      <th>capital_run_length_longest</th>\n      <th>capital_run_length_total</th>\n      <th>spam</th>\n    </tr>\n  </thead>\n  <tbody>\n    <tr>\n      <th>count</th>\n      <td>4.601000e+03</td>\n      <td>4.601000e+03</td>\n      <td>4601.000000</td>\n      <td>4.601000e+03</td>\n      <td>4.601000e+03</td>\n      <td>4.601000e+03</td>\n      <td>4.601000e+03</td>\n      <td>4.601000e+03</td>\n      <td>4.601000e+03</td>\n      <td>4.601000e+03</td>\n      <td>...</td>\n      <td>4.601000e+03</td>\n      <td>4.601000e+03</td>\n      <td>4.601000e+03</td>\n      <td>4.601000e+03</td>\n      <td>4.601000e+03</td>\n      <td>4.601000e+03</td>\n      <td>4.601000e+03</td>\n      <td>4.601000e+03</td>\n      <td>4601.000000</td>\n      <td>4601.000000</td>\n    </tr>\n    <tr>\n      <th>mean</th>\n      <td>-3.088645e-17</td>\n      <td>1.544322e-17</td>\n      <td>0.000000</td>\n      <td>-6.177290e-18</td>\n      <td>3.706374e-17</td>\n      <td>6.177290e-17</td>\n      <td>2.470916e-17</td>\n      <td>-2.470916e-17</td>\n      <td>9.883663e-17</td>\n      <td>-6.177290e-18</td>\n      <td>...</td>\n      <td>3.706374e-17</td>\n      <td>-5.559561e-17</td>\n      <td>2.162051e-17</td>\n      <td>2.470916e-17</td>\n      <td>-2.470916e-17</td>\n      <td>1.853187e-17</td>\n      <td>3.706374e-17</td>\n      <td>1.235458e-17</td>\n      <td>0.000000</td>\n      <td>0.394045</td>\n    </tr>\n    <tr>\n      <th>std</th>\n      <td>1.000000e+00</td>\n      <td>1.000000e+00</td>\n      <td>1.000000</td>\n      <td>1.000000e+00</td>\n      <td>1.000000e+00</td>\n      <td>1.000000e+00</td>\n      <td>1.000000e+00</td>\n      <td>1.000000e+00</td>\n      <td>1.000000e+00</td>\n      <td>1.000000e+00</td>\n      <td>...</td>\n      <td>1.000000e+00</td>\n      <td>1.000000e+00</td>\n      <td>1.000000e+00</td>\n      <td>1.000000e+00</td>\n      <td>1.000000e+00</td>\n      <td>1.000000e+00</td>\n      <td>1.000000e+00</td>\n      <td>1.000000e+00</td>\n      <td>1.000000</td>\n      <td>0.488698</td>\n    </tr>\n    <tr>\n      <th>min</th>\n      <td>-3.423965e-01</td>\n      <td>-1.650540e-01</td>\n      <td>-0.556700</td>\n      <td>-4.689449e-02</td>\n      <td>-4.642639e-01</td>\n      <td>-3.502281e-01</td>\n      <td>-2.917622e-01</td>\n      <td>-2.625330e-01</td>\n      <td>-3.232672e-01</td>\n      <td>-3.713240e-01</td>\n      <td>...</td>\n      <td>-1.584361e-01</td>\n      <td>-5.142507e-01</td>\n      <td>-1.551808e-01</td>\n      <td>-3.298764e-01</td>\n      <td>-3.083214e-01</td>\n      <td>-1.030372e-01</td>\n      <td>-1.321017e-01</td>\n      <td>-2.625709e-01</td>\n      <td>-0.465557</td>\n      <td>0.000000</td>\n    </tr>\n    <tr>\n      <th>25%</th>\n      <td>-3.423965e-01</td>\n      <td>-1.650540e-01</td>\n      <td>-0.556700</td>\n      <td>-4.689449e-02</td>\n      <td>-4.642639e-01</td>\n      <td>-3.502281e-01</td>\n      <td>-2.917622e-01</td>\n      <td>-2.625330e-01</td>\n      <td>-3.232672e-01</td>\n      <td>-3.713240e-01</td>\n      <td>...</td>\n      <td>-1.584361e-01</td>\n      <td>-5.142507e-01</td>\n      <td>-1.551808e-01</td>\n      <td>-3.298764e-01</td>\n      <td>-3.083214e-01</td>\n      <td>-1.030372e-01</td>\n      <td>-1.135701e-01</td>\n      <td>-2.369156e-01</td>\n      <td>-0.409483</td>\n      <td>0.000000</td>\n    </tr>\n    <tr>\n      <th>50%</th>\n      <td>-3.423965e-01</td>\n      <td>-1.650540e-01</td>\n      <td>-0.556700</td>\n      <td>-4.689449e-02</td>\n      <td>-4.642639e-01</td>\n      <td>-3.502281e-01</td>\n      <td>-2.917622e-01</td>\n      <td>-2.625330e-01</td>\n      <td>-3.232672e-01</td>\n      <td>-3.713240e-01</td>\n      <td>...</td>\n      <td>-1.584361e-01</td>\n      <td>-2.738264e-01</td>\n      <td>-1.551808e-01</td>\n      <td>-3.298764e-01</td>\n      <td>-3.083214e-01</td>\n      <td>-1.030372e-01</td>\n      <td>-9.188672e-02</td>\n      <td>-1.907360e-01</td>\n      <td>-0.310530</td>\n      <td>0.000000</td>\n    </tr>\n    <tr>\n      <th>75%</th>\n      <td>-3.423965e-01</td>\n      <td>-1.650540e-01</td>\n      <td>0.276397</td>\n      <td>-4.689449e-02</td>\n      <td>1.007811e-01</td>\n      <td>-3.502281e-01</td>\n      <td>-2.917622e-01</td>\n      <td>-2.625330e-01</td>\n      <td>-3.232672e-01</td>\n      <td>-1.231679e-01</td>\n      <td>...</td>\n      <td>-1.584361e-01</td>\n      <td>1.811304e-01</td>\n      <td>-1.551808e-01</td>\n      <td>5.630838e-02</td>\n      <td>-9.683788e-02</td>\n      <td>-1.030372e-01</td>\n      <td>-4.681818e-02</td>\n      <td>-4.706618e-02</td>\n      <td>-0.028514</td>\n      <td>1.000000</td>\n    </tr>\n    <tr>\n      <th>max</th>\n      <td>1.452542e+01</td>\n      <td>1.089978e+01</td>\n      <td>9.559480</td>\n      <td>3.063795e+01</td>\n      <td>1.440534e+01</td>\n      <td>2.112341e+01</td>\n      <td>1.828062e+01</td>\n      <td>2.743827e+01</td>\n      <td>1.855577e+01</td>\n      <td>2.782542e+01</td>\n      <td>...</td>\n      <td>1.785190e+01</td>\n      <td>3.555679e+01</td>\n      <td>3.715028e+01</td>\n      <td>3.948762e+01</td>\n      <td>2.410583e+01</td>\n      <td>4.608158e+01</td>\n      <td>3.458328e+01</td>\n      <td>5.098651e+01</td>\n      <td>25.658062</td>\n      <td>1.000000</td>\n    </tr>\n  </tbody>\n</table>\n<p>8 rows × 58 columns</p>\n</div>"
     },
     "metadata": {},
     "output_type": "display_data"
    }
   ],
   "source": [
    "# Describe data\n",
    "display(spambase.describe())"
   ],
   "metadata": {
    "collapsed": false,
    "ExecuteTime": {
     "end_time": "2023-11-02T19:32:18.047059Z",
     "start_time": "2023-11-02T19:32:18.005223Z"
    }
   },
   "id": "a9434fd2b9b6b5c4"
  },
  {
   "cell_type": "markdown",
   "source": [
    "# Problem 1"
   ],
   "metadata": {
    "collapsed": false
   },
   "id": "ddd8502c5bb756fe"
  },
  {
   "cell_type": "markdown",
   "source": [
    "## GDA"
   ],
   "metadata": {
    "collapsed": false
   },
   "id": "41dbb0ff14f4b64f"
  },
  {
   "cell_type": "code",
   "execution_count": 7,
   "outputs": [],
   "source": [
    "gda = ml.GaussianDiscriminantAnalysis()\n",
    "accuracy = gda.cross_validate(spambase)"
   ],
   "metadata": {
    "collapsed": false,
    "ExecuteTime": {
     "end_time": "2023-11-02T19:32:26.141341Z",
     "start_time": "2023-11-02T19:32:18.040823Z"
    }
   },
   "id": "f7b7a585f1f666ce"
  },
  {
   "cell_type": "markdown",
   "source": [
    "### Accuracy"
   ],
   "metadata": {
    "collapsed": false
   },
   "id": "e20192eb7820a8e7"
  },
  {
   "cell_type": "code",
   "execution_count": 8,
   "outputs": [
    {
     "name": "stdout",
     "output_type": "stream",
     "text": [
      "GDA accuracy: 83.17%\n"
     ]
    }
   ],
   "source": [
    "print('GDA accuracy: {:.2f}%'.format(accuracy * 100))"
   ],
   "metadata": {
    "collapsed": false,
    "ExecuteTime": {
     "end_time": "2023-11-02T19:32:26.155779Z",
     "start_time": "2023-11-02T19:32:26.144928Z"
    }
   },
   "id": "f0790ecc81c1e6f8"
  },
  {
   "cell_type": "markdown",
   "source": [
    "# Problem 2"
   ],
   "metadata": {
    "collapsed": false
   },
   "id": "a39562a8fc6aac7a"
  },
  {
   "cell_type": "markdown",
   "source": [
    "## Bernoulli Naive Bayes"
   ],
   "metadata": {
    "collapsed": false
   },
   "id": "aef51f55e37408b9"
  },
  {
   "cell_type": "code",
   "execution_count": 9,
   "outputs": [],
   "source": [
    "bnb = ml.BernoulliNaiveBayes()\n",
    "accuracy, bnb_confusion = bnb.cross_validate(spambase, confusion=True)"
   ],
   "metadata": {
    "collapsed": false,
    "ExecuteTime": {
     "end_time": "2023-11-02T19:32:27.438178Z",
     "start_time": "2023-11-02T19:32:26.163664Z"
    }
   },
   "id": "e0af9d4fc2da9758"
  },
  {
   "cell_type": "markdown",
   "source": [
    "### Accuracy"
   ],
   "metadata": {
    "collapsed": false
   },
   "id": "353fa290e2b88503"
  },
  {
   "cell_type": "code",
   "execution_count": 10,
   "outputs": [
    {
     "name": "stdout",
     "output_type": "stream",
     "text": [
      "Bernoulli Naive Bayes accuracy: 90.87%\n"
     ]
    }
   ],
   "source": [
    "print('Bernoulli Naive Bayes accuracy: {:.2f}%'.format(accuracy * 100))"
   ],
   "metadata": {
    "collapsed": false,
    "ExecuteTime": {
     "end_time": "2023-11-02T19:32:27.439941Z",
     "start_time": "2023-11-02T19:32:27.438323Z"
    }
   },
   "id": "28a2e88da8f0fb6f"
  },
  {
   "cell_type": "markdown",
   "source": [
    "## Gaussian Naive Bayes"
   ],
   "metadata": {
    "collapsed": false
   },
   "id": "2a3d873edbb1ff8e"
  },
  {
   "cell_type": "code",
   "execution_count": 11,
   "outputs": [],
   "source": [
    "gnb = ml.GaussianNaiveBayes()\n",
    "accuracy, gnb_confusion = gnb.cross_validate(spambase, confusion=True)"
   ],
   "metadata": {
    "collapsed": false,
    "ExecuteTime": {
     "end_time": "2023-11-02T19:32:29.402752Z",
     "start_time": "2023-11-02T19:32:27.440397Z"
    }
   },
   "id": "7d0302e08532e288"
  },
  {
   "cell_type": "markdown",
   "source": [
    "### Accuracy"
   ],
   "metadata": {
    "collapsed": false
   },
   "id": "4aa0b1093e99f3e7"
  },
  {
   "cell_type": "code",
   "execution_count": 12,
   "outputs": [
    {
     "name": "stdout",
     "output_type": "stream",
     "text": [
      "Gaussian Naive Bayes accuracy: 82.63%\n"
     ]
    }
   ],
   "source": [
    "print('Gaussian Naive Bayes accuracy: {:.2f}%'.format(accuracy * 100))"
   ],
   "metadata": {
    "collapsed": false,
    "ExecuteTime": {
     "end_time": "2023-11-02T19:32:29.404493Z",
     "start_time": "2023-11-02T19:32:29.402941Z"
    }
   },
   "id": "676d9331e6c57069"
  },
  {
   "cell_type": "markdown",
   "source": [
    "## Error Tables"
   ],
   "metadata": {
    "collapsed": false
   },
   "id": "9bbfd0ba746bf42"
  },
  {
   "cell_type": "markdown",
   "source": [
    "### Bernoulli Naive Bayes"
   ],
   "metadata": {
    "collapsed": false
   },
   "id": "bc1881d23b5cab32"
  },
  {
   "cell_type": "code",
   "execution_count": 13,
   "outputs": [
    {
     "name": "stdout",
     "output_type": "stream",
     "text": [
      "Bernoulli Naive Bayes error table:\n"
     ]
    },
    {
     "data": {
      "text/plain": "array([[2633,  145],\n       [ 275, 1547]])"
     },
     "metadata": {},
     "output_type": "display_data"
    }
   ],
   "source": [
    "print('Bernoulli Naive Bayes error table:')\n",
    "display(bnb_confusion)"
   ],
   "metadata": {
    "collapsed": false,
    "ExecuteTime": {
     "end_time": "2023-11-02T19:32:29.406705Z",
     "start_time": "2023-11-02T19:32:29.405056Z"
    }
   },
   "id": "86eed5cb20cb8061"
  },
  {
   "cell_type": "markdown",
   "source": [
    "### Gaussian Naive Bayes"
   ],
   "metadata": {
    "collapsed": false
   },
   "id": "e0c49481db263ec"
  },
  {
   "cell_type": "code",
   "execution_count": 14,
   "outputs": [
    {
     "name": "stdout",
     "output_type": "stream",
     "text": [
      "Gaussian Naive Bayes error table:\n"
     ]
    },
    {
     "data": {
      "text/plain": "array([[2067,  734],\n       [  65, 1734]])"
     },
     "metadata": {},
     "output_type": "display_data"
    }
   ],
   "source": [
    "print('Gaussian Naive Bayes error table:')\n",
    "display(gnb_confusion)"
   ],
   "metadata": {
    "collapsed": false,
    "ExecuteTime": {
     "end_time": "2023-11-02T19:32:29.410306Z",
     "start_time": "2023-11-02T19:32:29.408724Z"
    }
   },
   "id": "5448645114e61d41"
  },
  {
   "cell_type": "markdown",
   "source": [
    "## ROC Curves"
   ],
   "metadata": {
    "collapsed": false
   },
   "id": "cf29695b504ad556"
  },
  {
   "cell_type": "markdown",
   "source": [
    "### Bernoulli Naive Bayes"
   ],
   "metadata": {
    "collapsed": false
   },
   "id": "8183ab413f4313f9"
  },
  {
   "cell_type": "markdown",
   "source": [
    "#### Calculate ROC curve"
   ],
   "metadata": {
    "collapsed": false
   },
   "id": "ffa16795af9212fd"
  },
  {
   "cell_type": "code",
   "execution_count": 15,
   "outputs": [],
   "source": [
    "bnb_fpr, bnb_tpr = bnb.roc_curve(spambase)"
   ],
   "metadata": {
    "collapsed": false,
    "ExecuteTime": {
     "end_time": "2023-11-02T19:32:29.590386Z",
     "start_time": "2023-11-02T19:32:29.410558Z"
    }
   },
   "id": "72099cb864ee01c3"
  },
  {
   "cell_type": "markdown",
   "source": [
    "#### Plot ROC curve"
   ],
   "metadata": {
    "collapsed": false
   },
   "id": "c5360f628ae2922d"
  },
  {
   "cell_type": "code",
   "execution_count": 16,
   "outputs": [
    {
     "data": {
      "text/plain": "<Figure size 640x480 with 1 Axes>",
      "image/png": "[encoded data removed]"
     },
     "metadata": {},
     "output_type": "display_data"
    }
   ],
   "source": [
    "bnb_fpr, bnb_tpr = zip(*sorted(zip(bnb_fpr, bnb_tpr)))\n",
    "ml.plot_roc_curve(bnb_fpr, bnb_tpr)"
   ],
   "metadata": {
    "collapsed": false,
    "ExecuteTime": {
     "end_time": "2023-11-02T19:32:29.651026Z",
     "start_time": "2023-11-02T19:32:29.590795Z"
    }
   },
   "id": "99862ae318f8625c"
  },
  {
   "cell_type": "markdown",
   "source": [
    "#### Calculate AUC"
   ],
   "metadata": {
    "collapsed": false
   },
   "id": "d6c74df8e258a2db"
  },
  {
   "cell_type": "code",
   "execution_count": 17,
   "outputs": [
    {
     "name": "stdout",
     "output_type": "stream",
     "text": [
      "AUC: 0.9658703071672352\n"
     ]
    }
   ],
   "source": [
    "print(\"AUC: \" + str(ml.calculate_auc(bnb_fpr, bnb_tpr)))"
   ],
   "metadata": {
    "collapsed": false,
    "ExecuteTime": {
     "end_time": "2023-11-02T19:32:29.653205Z",
     "start_time": "2023-11-02T19:32:29.651780Z"
    }
   },
   "id": "a5bc9f2c1410fd27"
  },
  {
   "cell_type": "markdown",
   "source": [
    "### Gaussian Naive Bayes"
   ],
   "metadata": {
    "collapsed": false
   },
   "id": "dbc81169c204bb02"
  },
  {
   "cell_type": "markdown",
   "source": [
    "#### Calculate ROC curve"
   ],
   "metadata": {
    "collapsed": false
   },
   "id": "6642cc738be5f6ec"
  },
  {
   "cell_type": "code",
   "execution_count": 18,
   "outputs": [],
   "source": [
    "gnb_fpr, gnb_tpr = gnb.roc_curve(spambase)"
   ],
   "metadata": {
    "collapsed": false,
    "ExecuteTime": {
     "end_time": "2023-11-02T19:32:29.933803Z",
     "start_time": "2023-11-02T19:32:29.654230Z"
    }
   },
   "id": "17453628399deb7"
  },
  {
   "cell_type": "markdown",
   "source": [
    "#### Plot ROC curve"
   ],
   "metadata": {
    "collapsed": false
   },
   "id": "79315f4919e974bd"
  },
  {
   "cell_type": "code",
   "execution_count": 19,
   "outputs": [
    {
     "data": {
      "text/plain": "<Figure size 640x480 with 1 Axes>",
      "image/png": "[encoded data removed]"
     },
     "metadata": {},
     "output_type": "display_data"
    }
   ],
   "source": [
    "gnb_fpr, gnb_tpr = zip(*sorted(zip(gnb_fpr, gnb_tpr)))\n",
    "ml.plot_roc_curve(gnb_fpr, gnb_tpr)"
   ],
   "metadata": {
    "collapsed": false,
    "ExecuteTime": {
     "end_time": "2023-11-02T19:32:29.980191Z",
     "start_time": "2023-11-02T19:32:29.939779Z"
    }
   },
   "id": "5f872810b393fdcd"
  },
  {
   "cell_type": "markdown",
   "source": [
    "#### Calculate AUC"
   ],
   "metadata": {
    "collapsed": false
   },
   "id": "bbcb54ff97186108"
  },
  {
   "cell_type": "code",
   "execution_count": 20,
   "outputs": [
    {
     "name": "stdout",
     "output_type": "stream",
     "text": [
      "AUC: 0.9542411364033299\n"
     ]
    }
   ],
   "source": [
    "print(\"AUC: \" + str(ml.calculate_auc(gnb_fpr, gnb_tpr)))"
   ],
   "metadata": {
    "collapsed": false,
    "ExecuteTime": {
     "end_time": "2023-11-02T19:32:29.982573Z",
     "start_time": "2023-11-02T19:32:29.981039Z"
    }
   },
   "id": "79a09cddff68b77f"
  },
  {
   "cell_type": "markdown",
   "source": [
    "# Problem 4"
   ],
   "metadata": {
    "collapsed": false
   },
   "id": "ff95bb348fb01850"
  },
  {
   "cell_type": "code",
   "execution_count": 21,
   "outputs": [],
   "source": [
    "# Load data\n",
    "gauss_2dim = pd.read_csv('2gaussian.txt', header=None, delimiter=' ')\n",
    "gauss_3dim = pd.read_csv('3gaussian.txt', header=None, delimiter=' ')"
   ],
   "metadata": {
    "collapsed": false,
    "ExecuteTime": {
     "end_time": "2023-11-02T19:32:29.989106Z",
     "start_time": "2023-11-02T19:32:29.983418Z"
    }
   },
   "id": "9f43f5e2b995f72b"
  },
  {
   "cell_type": "code",
   "execution_count": 22,
   "outputs": [
    {
     "data": {
      "text/plain": "             0         1\n0     7.571044  3.530274\n1     7.337218  4.262713\n2     3.071828  1.118019\n3     6.226851  3.667489\n4     3.513142  1.603125\n...        ...       ...\n5995  2.758050  4.078467\n5996  2.323261  0.918399\n5997  5.616393  3.777932\n5998  8.592154  3.634904\n5999  3.022213  3.783373\n\n[6000 rows x 2 columns]",
      "text/html": "<div>\n<style scoped>\n    .dataframe tbody tr th:only-of-type {\n        vertical-align: middle;\n    }\n\n    .dataframe tbody tr th {\n        vertical-align: top;\n    }\n\n    .dataframe thead th {\n        text-align: right;\n    }\n</style>\n<table border=\"1\" class=\"dataframe\">\n  <thead>\n    <tr style=\"text-align: right;\">\n      <th></th>\n      <th>0</th>\n      <th>1</th>\n    </tr>\n  </thead>\n  <tbody>\n    <tr>\n      <th>0</th>\n      <td>7.571044</td>\n      <td>3.530274</td>\n    </tr>\n    <tr>\n      <th>1</th>\n      <td>7.337218</td>\n      <td>4.262713</td>\n    </tr>\n    <tr>\n      <th>2</th>\n      <td>3.071828</td>\n      <td>1.118019</td>\n    </tr>\n    <tr>\n      <th>3</th>\n      <td>6.226851</td>\n      <td>3.667489</td>\n    </tr>\n    <tr>\n      <th>4</th>\n      <td>3.513142</td>\n      <td>1.603125</td>\n    </tr>\n    <tr>\n      <th>...</th>\n      <td>...</td>\n      <td>...</td>\n    </tr>\n    <tr>\n      <th>5995</th>\n      <td>2.758050</td>\n      <td>4.078467</td>\n    </tr>\n    <tr>\n      <th>5996</th>\n      <td>2.323261</td>\n      <td>0.918399</td>\n    </tr>\n    <tr>\n      <th>5997</th>\n      <td>5.616393</td>\n      <td>3.777932</td>\n    </tr>\n    <tr>\n      <th>5998</th>\n      <td>8.592154</td>\n      <td>3.634904</td>\n    </tr>\n    <tr>\n      <th>5999</th>\n      <td>3.022213</td>\n      <td>3.783373</td>\n    </tr>\n  </tbody>\n</table>\n<p>6000 rows × 2 columns</p>\n</div>"
     },
     "metadata": {},
     "output_type": "display_data"
    }
   ],
   "source": [
    "display(gauss_2dim)"
   ],
   "metadata": {
    "collapsed": false,
    "ExecuteTime": {
     "end_time": "2023-11-02T19:32:29.992941Z",
     "start_time": "2023-11-02T19:32:29.990865Z"
    }
   },
   "id": "7f61a10b279345fc"
  },
  {
   "cell_type": "code",
   "execution_count": 23,
   "outputs": [
    {
     "data": {
      "text/plain": "             0         1\n0     2.946933  3.162225\n1     5.983996  4.846717\n2     5.301430  8.168113\n3     6.498912  8.594854\n4     4.994876  8.675435\n...        ...       ...\n9995  6.669666  3.725383\n9996  6.016944  7.806277\n9997  6.270552  2.837002\n9998  5.279352  7.871976\n9999  7.261968  4.585684\n\n[10000 rows x 2 columns]",
      "text/html": "<div>\n<style scoped>\n    .dataframe tbody tr th:only-of-type {\n        vertical-align: middle;\n    }\n\n    .dataframe tbody tr th {\n        vertical-align: top;\n    }\n\n    .dataframe thead th {\n        text-align: right;\n    }\n</style>\n<table border=\"1\" class=\"dataframe\">\n  <thead>\n    <tr style=\"text-align: right;\">\n      <th></th>\n      <th>0</th>\n      <th>1</th>\n    </tr>\n  </thead>\n  <tbody>\n    <tr>\n      <th>0</th>\n      <td>2.946933</td>\n      <td>3.162225</td>\n    </tr>\n    <tr>\n      <th>1</th>\n      <td>5.983996</td>\n      <td>4.846717</td>\n    </tr>\n    <tr>\n      <th>2</th>\n      <td>5.301430</td>\n      <td>8.168113</td>\n    </tr>\n    <tr>\n      <th>3</th>\n      <td>6.498912</td>\n      <td>8.594854</td>\n    </tr>\n    <tr>\n      <th>4</th>\n      <td>4.994876</td>\n      <td>8.675435</td>\n    </tr>\n    <tr>\n      <th>...</th>\n      <td>...</td>\n      <td>...</td>\n    </tr>\n    <tr>\n      <th>9995</th>\n      <td>6.669666</td>\n      <td>3.725383</td>\n    </tr>\n    <tr>\n      <th>9996</th>\n      <td>6.016944</td>\n      <td>7.806277</td>\n    </tr>\n    <tr>\n      <th>9997</th>\n      <td>6.270552</td>\n      <td>2.837002</td>\n    </tr>\n    <tr>\n      <th>9998</th>\n      <td>5.279352</td>\n      <td>7.871976</td>\n    </tr>\n    <tr>\n      <th>9999</th>\n      <td>7.261968</td>\n      <td>4.585684</td>\n    </tr>\n  </tbody>\n</table>\n<p>10000 rows × 2 columns</p>\n</div>"
     },
     "metadata": {},
     "output_type": "display_data"
    }
   ],
   "source": [
    "display(gauss_3dim)"
   ],
   "metadata": {
    "collapsed": false,
    "ExecuteTime": {
     "end_time": "2023-11-02T19:32:29.996800Z",
     "start_time": "2023-11-02T19:32:29.994467Z"
    }
   },
   "id": "6b4754fe088caf03"
  },
  {
   "cell_type": "markdown",
   "source": [
    "## 2D Gaussian EM"
   ],
   "metadata": {
    "collapsed": false
   },
   "id": "4bdcf3a5782a65c"
  },
  {
   "cell_type": "code",
   "execution_count": 24,
   "outputs": [],
   "source": [
    "g2dem = ml.GaussianEM(dim=2, k=2)\n",
    "means_2d, covars_2d = g2dem.fit(gauss_2dim)"
   ],
   "metadata": {
    "collapsed": false,
    "ExecuteTime": {
     "end_time": "2023-11-02T19:32:30.889987Z",
     "start_time": "2023-11-02T19:32:29.997387Z"
    }
   },
   "id": "f93ff88986fd7d39"
  },
  {
   "cell_type": "markdown",
   "source": [
    "### Results"
   ],
   "metadata": {
    "collapsed": false
   },
   "id": "eff183b914f5da2f"
  },
  {
   "cell_type": "markdown",
   "source": [
    "#### 1"
   ],
   "metadata": {
    "collapsed": false
   },
   "id": "654ccaebd398280f"
  },
  {
   "cell_type": "code",
   "execution_count": 25,
   "outputs": [
    {
     "name": "stdout",
     "output_type": "stream",
     "text": [
      "2D Gaussian EM mean 1: \n",
      "0    7.013148\n",
      "1    3.983134\n",
      "dtype: float64\n",
      "2D Gaussian EM covariance 1: \n",
      "[[0.97475894 0.49747031]\n",
      " [0.49747031 1.0011426 ]]\n"
     ]
    }
   ],
   "source": [
    "print('2D Gaussian EM mean 1: \\n{}'.format(means_2d[0]))\n",
    "print('2D Gaussian EM covariance 1: \\n{}'.format(covars_2d[0]))"
   ],
   "metadata": {
    "collapsed": false,
    "ExecuteTime": {
     "end_time": "2023-11-02T19:32:30.892009Z",
     "start_time": "2023-11-02T19:32:30.889890Z"
    }
   },
   "id": "4cd034f4c16a025"
  },
  {
   "cell_type": "markdown",
   "source": [
    "#### 2"
   ],
   "metadata": {
    "collapsed": false
   },
   "id": "fb9bf4b5aad0aa2"
  },
  {
   "cell_type": "code",
   "execution_count": 26,
   "outputs": [
    {
     "name": "stdout",
     "output_type": "stream",
     "text": [
      "2D Gaussian EM mean 2: \n",
      "0    2.994132\n",
      "1    3.052097\n",
      "dtype: float64\n",
      "2D Gaussian EM covariance 2: \n",
      "[[1.01023425 0.02719139]\n",
      " [0.02719139 2.93782297]]\n"
     ]
    }
   ],
   "source": [
    "print('2D Gaussian EM mean 2: \\n{}'.format(means_2d[1]))\n",
    "print('2D Gaussian EM covariance 2: \\n{}'.format(covars_2d[1]))"
   ],
   "metadata": {
    "collapsed": false,
    "ExecuteTime": {
     "end_time": "2023-11-02T19:32:30.894007Z",
     "start_time": "2023-11-02T19:32:30.892643Z"
    }
   },
   "id": "ccef403c4c8f4746"
  },
  {
   "cell_type": "markdown",
   "source": [
    "## 3D Gaussian EM"
   ],
   "metadata": {
    "collapsed": false
   },
   "id": "536ee9203ee1dc69"
  },
  {
   "cell_type": "code",
   "execution_count": 28,
   "outputs": [],
   "source": [
    "g3dem = ml.GaussianEM(dim=2, k=3)\n",
    "means_3d, covars_3d = g3dem.fit(gauss_3dim)"
   ],
   "metadata": {
    "collapsed": false,
    "ExecuteTime": {
     "end_time": "2023-11-02T19:33:06.379360Z",
     "start_time": "2023-11-02T19:33:05.450004Z"
    }
   },
   "id": "bb85afe1a6460ca"
  },
  {
   "cell_type": "markdown",
   "source": [
    "### Results"
   ],
   "metadata": {
    "collapsed": false
   },
   "id": "b82da1c12f4b365a"
  },
  {
   "cell_type": "markdown",
   "source": [
    "#### 1"
   ],
   "metadata": {
    "collapsed": false
   },
   "id": "27848d36920b8fce"
  },
  {
   "cell_type": "code",
   "execution_count": 29,
   "outputs": [
    {
     "name": "stdout",
     "output_type": "stream",
     "text": [
      "3D Gaussian EM mean 1: \n",
      "0    2.129288\n",
      "1    0.826821\n",
      "dtype: float64\n",
      "3D Gaussian EM covariance 1: \n",
      "[[ 0.5537334  -0.67097251]\n",
      " [-0.67097251  1.36247374]]\n"
     ]
    }
   ],
   "source": [
    "print('3D Gaussian EM mean 1: \\n{}'.format(means_3d[0]))\n",
    "print('3D Gaussian EM covariance 1: \\n{}'.format(covars_3d[0]))"
   ],
   "metadata": {
    "collapsed": false,
    "ExecuteTime": {
     "end_time": "2023-11-02T19:33:07.771623Z",
     "start_time": "2023-11-02T19:33:07.765441Z"
    }
   },
   "id": "5ef262987dfa0af1"
  },
  {
   "cell_type": "markdown",
   "source": [
    "#### 2"
   ],
   "metadata": {
    "collapsed": false
   },
   "id": "26bcacdbdb136396"
  },
  {
   "cell_type": "code",
   "execution_count": 30,
   "outputs": [
    {
     "name": "stdout",
     "output_type": "stream",
     "text": [
      "3D Gaussian EM mean 2: \n",
      "0    5.764305\n",
      "1    5.878890\n",
      "dtype: float64\n",
      "3D Gaussian EM covariance 2: \n",
      "[[ 1.93289394 -1.08987689]\n",
      " [-1.08987689  3.04145171]]\n"
     ]
    }
   ],
   "source": [
    "print('3D Gaussian EM mean 2: \\n{}'.format(means_3d[1]))\n",
    "print('3D Gaussian EM covariance 2: \\n{}'.format(covars_3d[1]))"
   ],
   "metadata": {
    "collapsed": false,
    "ExecuteTime": {
     "end_time": "2023-11-02T19:33:08.139222Z",
     "start_time": "2023-11-02T19:33:08.132619Z"
    }
   },
   "id": "23a40755f0a5aa0b"
  },
  {
   "cell_type": "markdown",
   "source": [
    "#### 3"
   ],
   "metadata": {
    "collapsed": false
   },
   "id": "2585d7b35efac1dc"
  },
  {
   "cell_type": "code",
   "execution_count": 31,
   "outputs": [
    {
     "name": "stdout",
     "output_type": "stream",
     "text": [
      "3D Gaussian EM mean 3: \n",
      "0    3.080189\n",
      "1    3.143382\n",
      "dtype: float64\n",
      "3D Gaussian EM covariance 3: \n",
      "[[ 1.0202753  -0.0880538 ]\n",
      " [-0.0880538   3.35421495]]\n"
     ]
    }
   ],
   "source": [
    "print('3D Gaussian EM mean 3: \\n{}'.format(means_3d[2]))\n",
    "print('3D Gaussian EM covariance 3: \\n{}'.format(covars_3d[2]))"
   ],
   "metadata": {
    "collapsed": false,
    "ExecuteTime": {
     "end_time": "2023-11-02T19:33:08.968187Z",
     "start_time": "2023-11-02T19:33:08.961679Z"
    }
   },
   "id": "f0db2d1ae24f3817"
  },
  {
   "cell_type": "markdown",
   "source": [
    "# Problem 6"
   ],
   "metadata": {
    "collapsed": false
   },
   "id": "68d32f0fed076d79"
  },
  {
   "cell_type": "code",
   "execution_count": 32,
   "outputs": [],
   "source": [
    "# Load data\n",
    "coin_flips = pd.read_csv('coin_flips.txt', header=None, delimiter=' ')"
   ],
   "metadata": {
    "collapsed": false,
    "ExecuteTime": {
     "end_time": "2023-11-02T19:33:09.885270Z",
     "start_time": "2023-11-02T19:33:09.879394Z"
    }
   },
   "id": "f150b301411d52cd"
  },
  {
   "cell_type": "code",
   "execution_count": 33,
   "outputs": [
    {
     "data": {
      "text/plain": "    0   1   2   3   4   5   6   7   8   9   10  11  12  13  14  15  16  17  \\\n0    0   1   0   0   1   0   1   0   1   0   0   0   1   1   1   0   1   1   \n1    1   0   0   1   1   1   1   1   1   1   1   1   0   0   1   1   1   1   \n2    1   1   0   1   1   1   0   0   1   1   0   0   0   1   0   1   1   0   \n3    1   0   0   0   0   0   0   0   0   1   0   0   0   1   0   0   0   0   \n4    0   0   1   0   0   1   0   0   0   1   0   0   0   0   0   0   0   0   \n5    0   0   1   1   0   0   1   0   1   0   1   1   0   1   0   1   1   1   \n6    1   1   1   1   1   1   1   1   0   1   1   1   1   1   1   1   1   1   \n7    1   1   1   0   1   1   0   1   1   1   1   1   1   0   1   1   0   1   \n8    0   1   0   0   0   1   0   1   0   0   0   0   0   0   0   0   0   0   \n9    1   1   1   1   1   1   1   1   1   1   0   1   1   1   1   1   1   1   \n10   1   1   1   1   0   1   1   1   1   1   0   1   1   1   1   1   1   1   \n11   1   1   1   1   0   1   1   1   0   1   1   1   1   0   1   0   1   1   \n12   0   0   0   0   0   0   0   0   0   0   1   0   0   0   0   0   0   0   \n13   0   1   0   1   1   1   0   1   1   1   1   1   0   1   1   1   1   0   \n14   0   0   0   0   0   0   1   1   0   1   0   0   0   1   0   0   0   0   \n15   1   1   1   0   1   1   1   1   1   1   1   1   1   1   1   1   1   1   \n16   1   1   1   1   1   1   1   1   1   1   1   0   1   1   1   1   1   1   \n17   1   1   0   0   0   1   0   1   0   0   1   1   0   0   0   0   0   1   \n18   0   1   1   1   1   1   0   0   0   0   0   1   1   0   1   1   0   1   \n19   1   0   0   1   1   1   1   1   1   1   1   0   1   1   1   0   0   1   \n20   1   0   1   0   0   1   0   1   0   1   0   1   0   0   0   1   0   0   \n21   1   1   1   1   0   1   0   0   0   1   0   0   1   1   1   0   1   1   \n22   1   1   0   0   1   0   0   1   0   1   1   0   0   1   1   1   1   1   \n23   0   0   1   1   1   1   1   1   1   1   1   1   1   1   1   1   1   1   \n24   1   1   0   1   0   0   1   1   0   0   1   1   1   1   0   1   1   1   \n25   1   1   0   0   1   1   0   1   1   0   1   1   0   1   0   0   0   1   \n26   1   1   0   1   1   1   0   1   1   0   0   0   1   1   1   1   0   1   \n27   0   1   0   1   1   1   0   1   0   1   1   0   1   0   1   1   1   0   \n28   0   1   0   1   0   0   0   0   0   0   0   0   1   0   0   1   0   0   \n29   1   1   1   1   0   1   1   1   1   1   0   1   0   0   1   0   0   0   \n30   0   0   0   0   0   0   0   0   0   0   0   0   1   0   0   0   0   0   \n31   1   1   0   1   0   0   1   1   1   1   0   1   1   0   1   1   1   0   \n32   1   0   1   1   1   1   1   1   0   1   1   1   0   0   1   0   1   1   \n33   1   1   0   0   1   0   0   1   1   0   1   1   0   0   1   0   0   0   \n34   0   0   1   0   0   0   1   0   0   0   0   0   1   1   0   1   1   0   \n35   1   0   1   1   0   0   0   1   0   1   1   0   0   0   0   0   0   0   \n36   1   1   1   1   1   1   1   1   1   1   1   0   1   1   1   1   1   1   \n37   0   1   1   0   1   0   0   1   0   1   1   1   1   0   0   0   0   1   \n38   1   0   1   1   1   1   1   1   1   1   1   1   1   1   1   1   1   0   \n39   0   0   1   0   0   1   0   1   0   0   1   1   1   0   1   1   1   1   \n40   1   0   1   0   0   0   0   0   0   0   0   0   0   0   0   0   0   1   \n41   1   1   1   1   0   0   1   0   1   1   0   0   0   1   1   1   0   1   \n42   0   0   1   0   0   0   1   1   0   1   0   0   0   0   1   0   0   1   \n43   1   1   1   1   1   1   1   1   1   1   1   1   1   1   0   1   1   1   \n44   0   0   1   0   1   0   1   0   0   0   0   0   0   1   0   1   0   0   \n45   0   0   0   1   0   0   0   0   0   1   0   0   0   0   1   1   1   0   \n46   0   0   0   1   0   0   0   0   0   0   0   0   1   1   0   0   0   0   \n47   1   0   1   1   1   1   1   0   0   1   1   0   1   0   1   1   1   1   \n48   0   1   1   0   0   0   0   1   0   1   0   0   1   1   0   1   0   0   \n49   1   1   1   0   0   0   0   1   1   1   1   0   0   1   0   0   1   1   \n\n    18  19  \n0    0   1  \n1    0   1  \n2    1   0  \n3    0   0  \n4    0   0  \n5    1   1  \n6    1   1  \n7    0   0  \n8    1   1  \n9    1   1  \n10   1   1  \n11   0   0  \n12   0   1  \n13   1   1  \n14   0   1  \n15   1   1  \n16   1   1  \n17   1   1  \n18   0   1  \n19   1   0  \n20   0   0  \n21   1   1  \n22   0   1  \n23   1   1  \n24   0   1  \n25   1   1  \n26   1   1  \n27   0   0  \n28   0   0  \n29   0   1  \n30   1   1  \n31   1   1  \n32   1   0  \n33   0   0  \n34   0   1  \n35   0   0  \n36   1   1  \n37   0   1  \n38   1   1  \n39   1   1  \n40   0   0  \n41   1   1  \n42   1   1  \n43   1   1  \n44   0   0  \n45   0   0  \n46   0   0  \n47   0   1  \n48   0   1  \n49   1   0  ",
      "text/html": "<div>\n<style scoped>\n    .dataframe tbody tr th:only-of-type {\n        vertical-align: middle;\n    }\n\n    .dataframe tbody tr th {\n        vertical-align: top;\n    }\n\n    .dataframe thead th {\n        text-align: right;\n    }\n</style>\n<table border=\"1\" class=\"dataframe\">\n  <thead>\n    <tr style=\"text-align: right;\">\n      <th></th>\n      <th>0</th>\n      <th>1</th>\n      <th>2</th>\n      <th>3</th>\n      <th>4</th>\n      <th>5</th>\n      <th>6</th>\n      <th>7</th>\n      <th>8</th>\n      <th>9</th>\n      <th>10</th>\n      <th>11</th>\n      <th>12</th>\n      <th>13</th>\n      <th>14</th>\n      <th>15</th>\n      <th>16</th>\n      <th>17</th>\n      <th>18</th>\n      <th>19</th>\n    </tr>\n  </thead>\n  <tbody>\n    <tr>\n      <th>0</th>\n      <td>0</td>\n      <td>1</td>\n      <td>0</td>\n      <td>0</td>\n      <td>1</td>\n      <td>0</td>\n      <td>1</td>\n      <td>0</td>\n      <td>1</td>\n      <td>0</td>\n      <td>0</td>\n      <td>0</td>\n      <td>1</td>\n      <td>1</td>\n      <td>1</td>\n      <td>0</td>\n      <td>1</td>\n      <td>1</td>\n      <td>0</td>\n      <td>1</td>\n    </tr>\n    <tr>\n      <th>1</th>\n      <td>1</td>\n      <td>0</td>\n      <td>0</td>\n      <td>1</td>\n      <td>1</td>\n      <td>1</td>\n      <td>1</td>\n      <td>1</td>\n      <td>1</td>\n      <td>1</td>\n      <td>1</td>\n      <td>1</td>\n      <td>0</td>\n      <td>0</td>\n      <td>1</td>\n      <td>1</td>\n      <td>1</td>\n      <td>1</td>\n      <td>0</td>\n      <td>1</td>\n    </tr>\n    <tr>\n      <th>2</th>\n      <td>1</td>\n      <td>1</td>\n      <td>0</td>\n      <td>1</td>\n      <td>1</td>\n      <td>1</td>\n      <td>0</td>\n      <td>0</td>\n      <td>1</td>\n      <td>1</td>\n      <td>0</td>\n      <td>0</td>\n      <td>0</td>\n      <td>1</td>\n      <td>0</td>\n      <td>1</td>\n      <td>1</td>\n      <td>0</td>\n      <td>1</td>\n      <td>0</td>\n    </tr>\n    <tr>\n      <th>3</th>\n      <td>1</td>\n      <td>0</td>\n      <td>0</td>\n      <td>0</td>\n      <td>0</td>\n      <td>0</td>\n      <td>0</td>\n      <td>0</td>\n      <td>0</td>\n      <td>1</td>\n      <td>0</td>\n      <td>0</td>\n      <td>0</td>\n      <td>1</td>\n      <td>0</td>\n      <td>0</td>\n      <td>0</td>\n      <td>0</td>\n      <td>0</td>\n      <td>0</td>\n    </tr>\n    <tr>\n      <th>4</th>\n      <td>0</td>\n      <td>0</td>\n      <td>1</td>\n      <td>0</td>\n      <td>0</td>\n      <td>1</td>\n      <td>0</td>\n      <td>0</td>\n      <td>0</td>\n      <td>1</td>\n      <td>0</td>\n      <td>0</td>\n      <td>0</td>\n      <td>0</td>\n      <td>0</td>\n      <td>0</td>\n      <td>0</td>\n      <td>0</td>\n      <td>0</td>\n      <td>0</td>\n    </tr>\n    <tr>\n      <th>5</th>\n      <td>0</td>\n      <td>0</td>\n      <td>1</td>\n      <td>1</td>\n      <td>0</td>\n      <td>0</td>\n      <td>1</td>\n      <td>0</td>\n      <td>1</td>\n      <td>0</td>\n      <td>1</td>\n      <td>1</td>\n      <td>0</td>\n      <td>1</td>\n      <td>0</td>\n      <td>1</td>\n      <td>1</td>\n      <td>1</td>\n      <td>1</td>\n      <td>1</td>\n    </tr>\n    <tr>\n      <th>6</th>\n      <td>1</td>\n      <td>1</td>\n      <td>1</td>\n      <td>1</td>\n      <td>1</td>\n      <td>1</td>\n      <td>1</td>\n      <td>1</td>\n      <td>0</td>\n      <td>1</td>\n      <td>1</td>\n      <td>1</td>\n      <td>1</td>\n      <td>1</td>\n      <td>1</td>\n      <td>1</td>\n      <td>1</td>\n      <td>1</td>\n      <td>1</td>\n      <td>1</td>\n    </tr>\n    <tr>\n      <th>7</th>\n      <td>1</td>\n      <td>1</td>\n      <td>1</td>\n      <td>0</td>\n      <td>1</td>\n      <td>1</td>\n      <td>0</td>\n      <td>1</td>\n      <td>1</td>\n      <td>1</td>\n      <td>1</td>\n      <td>1</td>\n      <td>1</td>\n      <td>0</td>\n      <td>1</td>\n      <td>1</td>\n      <td>0</td>\n      <td>1</td>\n      <td>0</td>\n      <td>0</td>\n    </tr>\n    <tr>\n      <th>8</th>\n      <td>0</td>\n      <td>1</td>\n      <td>0</td>\n      <td>0</td>\n      <td>0</td>\n      <td>1</td>\n      <td>0</td>\n      <td>1</td>\n      <td>0</td>\n      <td>0</td>\n      <td>0</td>\n      <td>0</td>\n      <td>0</td>\n      <td>0</td>\n      <td>0</td>\n      <td>0</td>\n      <td>0</td>\n      <td>0</td>\n      <td>1</td>\n      <td>1</td>\n    </tr>\n    <tr>\n      <th>9</th>\n      <td>1</td>\n      <td>1</td>\n      <td>1</td>\n      <td>1</td>\n      <td>1</td>\n      <td>1</td>\n      <td>1</td>\n      <td>1</td>\n      <td>1</td>\n      <td>1</td>\n      <td>0</td>\n      <td>1</td>\n      <td>1</td>\n      <td>1</td>\n      <td>1</td>\n      <td>1</td>\n      <td>1</td>\n      <td>1</td>\n      <td>1</td>\n      <td>1</td>\n    </tr>\n    <tr>\n      <th>10</th>\n      <td>1</td>\n      <td>1</td>\n      <td>1</td>\n      <td>1</td>\n      <td>0</td>\n      <td>1</td>\n      <td>1</td>\n      <td>1</td>\n      <td>1</td>\n      <td>1</td>\n      <td>0</td>\n      <td>1</td>\n      <td>1</td>\n      <td>1</td>\n      <td>1</td>\n      <td>1</td>\n      <td>1</td>\n      <td>1</td>\n      <td>1</td>\n      <td>1</td>\n    </tr>\n    <tr>\n      <th>11</th>\n      <td>1</td>\n      <td>1</td>\n      <td>1</td>\n      <td>1</td>\n      <td>0</td>\n      <td>1</td>\n      <td>1</td>\n      <td>1</td>\n      <td>0</td>\n      <td>1</td>\n      <td>1</td>\n      <td>1</td>\n      <td>1</td>\n      <td>0</td>\n      <td>1</td>\n      <td>0</td>\n      <td>1</td>\n      <td>1</td>\n      <td>0</td>\n      <td>0</td>\n    </tr>\n    <tr>\n      <th>12</th>\n      <td>0</td>\n      <td>0</td>\n      <td>0</td>\n      <td>0</td>\n      <td>0</td>\n      <td>0</td>\n      <td>0</td>\n      <td>0</td>\n      <td>0</td>\n      <td>0</td>\n      <td>1</td>\n      <td>0</td>\n      <td>0</td>\n      <td>0</td>\n      <td>0</td>\n      <td>0</td>\n      <td>0</td>\n      <td>0</td>\n      <td>0</td>\n      <td>1</td>\n    </tr>\n    <tr>\n      <th>13</th>\n      <td>0</td>\n      <td>1</td>\n      <td>0</td>\n      <td>1</td>\n      <td>1</td>\n      <td>1</td>\n      <td>0</td>\n      <td>1</td>\n      <td>1</td>\n      <td>1</td>\n      <td>1</td>\n      <td>1</td>\n      <td>0</td>\n      <td>1</td>\n      <td>1</td>\n      <td>1</td>\n      <td>1</td>\n      <td>0</td>\n      <td>1</td>\n      <td>1</td>\n    </tr>\n    <tr>\n      <th>14</th>\n      <td>0</td>\n      <td>0</td>\n      <td>0</td>\n      <td>0</td>\n      <td>0</td>\n      <td>0</td>\n      <td>1</td>\n      <td>1</td>\n      <td>0</td>\n      <td>1</td>\n      <td>0</td>\n      <td>0</td>\n      <td>0</td>\n      <td>1</td>\n      <td>0</td>\n      <td>0</td>\n      <td>0</td>\n      <td>0</td>\n      <td>0</td>\n      <td>1</td>\n    </tr>\n    <tr>\n      <th>15</th>\n      <td>1</td>\n      <td>1</td>\n      <td>1</td>\n      <td>0</td>\n      <td>1</td>\n      <td>1</td>\n      <td>1</td>\n      <td>1</td>\n      <td>1</td>\n      <td>1</td>\n      <td>1</td>\n      <td>1</td>\n      <td>1</td>\n      <td>1</td>\n      <td>1</td>\n      <td>1</td>\n      <td>1</td>\n      <td>1</td>\n      <td>1</td>\n      <td>1</td>\n    </tr>\n    <tr>\n      <th>16</th>\n      <td>1</td>\n      <td>1</td>\n      <td>1</td>\n      <td>1</td>\n      <td>1</td>\n      <td>1</td>\n      <td>1</td>\n      <td>1</td>\n      <td>1</td>\n      <td>1</td>\n      <td>1</td>\n      <td>0</td>\n      <td>1</td>\n      <td>1</td>\n      <td>1</td>\n      <td>1</td>\n      <td>1</td>\n      <td>1</td>\n      <td>1</td>\n      <td>1</td>\n    </tr>\n    <tr>\n      <th>17</th>\n      <td>1</td>\n      <td>1</td>\n      <td>0</td>\n      <td>0</td>\n      <td>0</td>\n      <td>1</td>\n      <td>0</td>\n      <td>1</td>\n      <td>0</td>\n      <td>0</td>\n      <td>1</td>\n      <td>1</td>\n      <td>0</td>\n      <td>0</td>\n      <td>0</td>\n      <td>0</td>\n      <td>0</td>\n      <td>1</td>\n      <td>1</td>\n      <td>1</td>\n    </tr>\n    <tr>\n      <th>18</th>\n      <td>0</td>\n      <td>1</td>\n      <td>1</td>\n      <td>1</td>\n      <td>1</td>\n      <td>1</td>\n      <td>0</td>\n      <td>0</td>\n      <td>0</td>\n      <td>0</td>\n      <td>0</td>\n      <td>1</td>\n      <td>1</td>\n      <td>0</td>\n      <td>1</td>\n      <td>1</td>\n      <td>0</td>\n      <td>1</td>\n      <td>0</td>\n      <td>1</td>\n    </tr>\n    <tr>\n      <th>19</th>\n      <td>1</td>\n      <td>0</td>\n      <td>0</td>\n      <td>1</td>\n      <td>1</td>\n      <td>1</td>\n      <td>1</td>\n      <td>1</td>\n      <td>1</td>\n      <td>1</td>\n      <td>1</td>\n      <td>0</td>\n      <td>1</td>\n      <td>1</td>\n      <td>1</td>\n      <td>0</td>\n      <td>0</td>\n      <td>1</td>\n      <td>1</td>\n      <td>0</td>\n    </tr>\n    <tr>\n      <th>20</th>\n      <td>1</td>\n      <td>0</td>\n      <td>1</td>\n      <td>0</td>\n      <td>0</td>\n      <td>1</td>\n      <td>0</td>\n      <td>1</td>\n      <td>0</td>\n      <td>1</td>\n      <td>0</td>\n      <td>1</td>\n      <td>0</td>\n      <td>0</td>\n      <td>0</td>\n      <td>1</td>\n      <td>0</td>\n      <td>0</td>\n      <td>0</td>\n      <td>0</td>\n    </tr>\n    <tr>\n      <th>21</th>\n      <td>1</td>\n      <td>1</td>\n      <td>1</td>\n      <td>1</td>\n      <td>0</td>\n      <td>1</td>\n      <td>0</td>\n      <td>0</td>\n      <td>0</td>\n      <td>1</td>\n      <td>0</td>\n      <td>0</td>\n      <td>1</td>\n      <td>1</td>\n      <td>1</td>\n      <td>0</td>\n      <td>1</td>\n      <td>1</td>\n      <td>1</td>\n      <td>1</td>\n    </tr>\n    <tr>\n      <th>22</th>\n      <td>1</td>\n      <td>1</td>\n      <td>0</td>\n      <td>0</td>\n      <td>1</td>\n      <td>0</td>\n      <td>0</td>\n      <td>1</td>\n      <td>0</td>\n      <td>1</td>\n      <td>1</td>\n      <td>0</td>\n      <td>0</td>\n      <td>1</td>\n      <td>1</td>\n      <td>1</td>\n      <td>1</td>\n      <td>1</td>\n      <td>0</td>\n      <td>1</td>\n    </tr>\n    <tr>\n      <th>23</th>\n      <td>0</td>\n      <td>0</td>\n      <td>1</td>\n      <td>1</td>\n      <td>1</td>\n      <td>1</td>\n      <td>1</td>\n      <td>1</td>\n      <td>1</td>\n      <td>1</td>\n      <td>1</td>\n      <td>1</td>\n      <td>1</td>\n      <td>1</td>\n      <td>1</td>\n      <td>1</td>\n      <td>1</td>\n      <td>1</td>\n      <td>1</td>\n      <td>1</td>\n    </tr>\n    <tr>\n      <th>24</th>\n      <td>1</td>\n      <td>1</td>\n      <td>0</td>\n      <td>1</td>\n      <td>0</td>\n      <td>0</td>\n      <td>1</td>\n      <td>1</td>\n      <td>0</td>\n      <td>0</td>\n      <td>1</td>\n      <td>1</td>\n      <td>1</td>\n      <td>1</td>\n      <td>0</td>\n      <td>1</td>\n      <td>1</td>\n      <td>1</td>\n      <td>0</td>\n      <td>1</td>\n    </tr>\n    <tr>\n      <th>25</th>\n      <td>1</td>\n      <td>1</td>\n      <td>0</td>\n      <td>0</td>\n      <td>1</td>\n      <td>1</td>\n      <td>0</td>\n      <td>1</td>\n      <td>1</td>\n      <td>0</td>\n      <td>1</td>\n      <td>1</td>\n      <td>0</td>\n      <td>1</td>\n      <td>0</td>\n      <td>0</td>\n      <td>0</td>\n      <td>1</td>\n      <td>1</td>\n      <td>1</td>\n    </tr>\n    <tr>\n      <th>26</th>\n      <td>1</td>\n      <td>1</td>\n      <td>0</td>\n      <td>1</td>\n      <td>1</td>\n      <td>1</td>\n      <td>0</td>\n      <td>1</td>\n      <td>1</td>\n      <td>0</td>\n      <td>0</td>\n      <td>0</td>\n      <td>1</td>\n      <td>1</td>\n      <td>1</td>\n      <td>1</td>\n      <td>0</td>\n      <td>1</td>\n      <td>1</td>\n      <td>1</td>\n    </tr>\n    <tr>\n      <th>27</th>\n      <td>0</td>\n      <td>1</td>\n      <td>0</td>\n      <td>1</td>\n      <td>1</td>\n      <td>1</td>\n      <td>0</td>\n      <td>1</td>\n      <td>0</td>\n      <td>1</td>\n      <td>1</td>\n      <td>0</td>\n      <td>1</td>\n      <td>0</td>\n      <td>1</td>\n      <td>1</td>\n      <td>1</td>\n      <td>0</td>\n      <td>0</td>\n      <td>0</td>\n    </tr>\n    <tr>\n      <th>28</th>\n      <td>0</td>\n      <td>1</td>\n      <td>0</td>\n      <td>1</td>\n      <td>0</td>\n      <td>0</td>\n      <td>0</td>\n      <td>0</td>\n      <td>0</td>\n      <td>0</td>\n      <td>0</td>\n      <td>0</td>\n      <td>1</td>\n      <td>0</td>\n      <td>0</td>\n      <td>1</td>\n      <td>0</td>\n      <td>0</td>\n      <td>0</td>\n      <td>0</td>\n    </tr>\n    <tr>\n      <th>29</th>\n      <td>1</td>\n      <td>1</td>\n      <td>1</td>\n      <td>1</td>\n      <td>0</td>\n      <td>1</td>\n      <td>1</td>\n      <td>1</td>\n      <td>1</td>\n      <td>1</td>\n      <td>0</td>\n      <td>1</td>\n      <td>0</td>\n      <td>0</td>\n      <td>1</td>\n      <td>0</td>\n      <td>0</td>\n      <td>0</td>\n      <td>0</td>\n      <td>1</td>\n    </tr>\n    <tr>\n      <th>30</th>\n      <td>0</td>\n      <td>0</td>\n      <td>0</td>\n      <td>0</td>\n      <td>0</td>\n      <td>0</td>\n      <td>0</td>\n      <td>0</td>\n      <td>0</td>\n      <td>0</td>\n      <td>0</td>\n      <td>0</td>\n      <td>1</td>\n      <td>0</td>\n      <td>0</td>\n      <td>0</td>\n      <td>0</td>\n      <td>0</td>\n      <td>1</td>\n      <td>1</td>\n    </tr>\n    <tr>\n      <th>31</th>\n      <td>1</td>\n      <td>1</td>\n      <td>0</td>\n      <td>1</td>\n      <td>0</td>\n      <td>0</td>\n      <td>1</td>\n      <td>1</td>\n      <td>1</td>\n      <td>1</td>\n      <td>0</td>\n      <td>1</td>\n      <td>1</td>\n      <td>0</td>\n      <td>1</td>\n      <td>1</td>\n      <td>1</td>\n      <td>0</td>\n      <td>1</td>\n      <td>1</td>\n    </tr>\n    <tr>\n      <th>32</th>\n      <td>1</td>\n      <td>0</td>\n      <td>1</td>\n      <td>1</td>\n      <td>1</td>\n      <td>1</td>\n      <td>1</td>\n      <td>1</td>\n      <td>0</td>\n      <td>1</td>\n      <td>1</td>\n      <td>1</td>\n      <td>0</td>\n      <td>0</td>\n      <td>1</td>\n      <td>0</td>\n      <td>1</td>\n      <td>1</td>\n      <td>1</td>\n      <td>0</td>\n    </tr>\n    <tr>\n      <th>33</th>\n      <td>1</td>\n      <td>1</td>\n      <td>0</td>\n      <td>0</td>\n      <td>1</td>\n      <td>0</td>\n      <td>0</td>\n      <td>1</td>\n      <td>1</td>\n      <td>0</td>\n      <td>1</td>\n      <td>1</td>\n      <td>0</td>\n      <td>0</td>\n      <td>1</td>\n      <td>0</td>\n      <td>0</td>\n      <td>0</td>\n      <td>0</td>\n      <td>0</td>\n    </tr>\n    <tr>\n      <th>34</th>\n      <td>0</td>\n      <td>0</td>\n      <td>1</td>\n      <td>0</td>\n      <td>0</td>\n      <td>0</td>\n      <td>1</td>\n      <td>0</td>\n      <td>0</td>\n      <td>0</td>\n      <td>0</td>\n      <td>0</td>\n      <td>1</td>\n      <td>1</td>\n      <td>0</td>\n      <td>1</td>\n      <td>1</td>\n      <td>0</td>\n      <td>0</td>\n      <td>1</td>\n    </tr>\n    <tr>\n      <th>35</th>\n      <td>1</td>\n      <td>0</td>\n      <td>1</td>\n      <td>1</td>\n      <td>0</td>\n      <td>0</td>\n      <td>0</td>\n      <td>1</td>\n      <td>0</td>\n      <td>1</td>\n      <td>1</td>\n      <td>0</td>\n      <td>0</td>\n      <td>0</td>\n      <td>0</td>\n      <td>0</td>\n      <td>0</td>\n      <td>0</td>\n      <td>0</td>\n      <td>0</td>\n    </tr>\n    <tr>\n      <th>36</th>\n      <td>1</td>\n      <td>1</td>\n      <td>1</td>\n      <td>1</td>\n      <td>1</td>\n      <td>1</td>\n      <td>1</td>\n      <td>1</td>\n      <td>1</td>\n      <td>1</td>\n      <td>1</td>\n      <td>0</td>\n      <td>1</td>\n      <td>1</td>\n      <td>1</td>\n      <td>1</td>\n      <td>1</td>\n      <td>1</td>\n      <td>1</td>\n      <td>1</td>\n    </tr>\n    <tr>\n      <th>37</th>\n      <td>0</td>\n      <td>1</td>\n      <td>1</td>\n      <td>0</td>\n      <td>1</td>\n      <td>0</td>\n      <td>0</td>\n      <td>1</td>\n      <td>0</td>\n      <td>1</td>\n      <td>1</td>\n      <td>1</td>\n      <td>1</td>\n      <td>0</td>\n      <td>0</td>\n      <td>0</td>\n      <td>0</td>\n      <td>1</td>\n      <td>0</td>\n      <td>1</td>\n    </tr>\n    <tr>\n      <th>38</th>\n      <td>1</td>\n      <td>0</td>\n      <td>1</td>\n      <td>1</td>\n      <td>1</td>\n      <td>1</td>\n      <td>1</td>\n      <td>1</td>\n      <td>1</td>\n      <td>1</td>\n      <td>1</td>\n      <td>1</td>\n      <td>1</td>\n      <td>1</td>\n      <td>1</td>\n      <td>1</td>\n      <td>1</td>\n      <td>0</td>\n      <td>1</td>\n      <td>1</td>\n    </tr>\n    <tr>\n      <th>39</th>\n      <td>0</td>\n      <td>0</td>\n      <td>1</td>\n      <td>0</td>\n      <td>0</td>\n      <td>1</td>\n      <td>0</td>\n      <td>1</td>\n      <td>0</td>\n      <td>0</td>\n      <td>1</td>\n      <td>1</td>\n      <td>1</td>\n      <td>0</td>\n      <td>1</td>\n      <td>1</td>\n      <td>1</td>\n      <td>1</td>\n      <td>1</td>\n      <td>1</td>\n    </tr>\n    <tr>\n      <th>40</th>\n      <td>1</td>\n      <td>0</td>\n      <td>1</td>\n      <td>0</td>\n      <td>0</td>\n      <td>0</td>\n      <td>0</td>\n      <td>0</td>\n      <td>0</td>\n      <td>0</td>\n      <td>0</td>\n      <td>0</td>\n      <td>0</td>\n      <td>0</td>\n      <td>0</td>\n      <td>0</td>\n      <td>0</td>\n      <td>1</td>\n      <td>0</td>\n      <td>0</td>\n    </tr>\n    <tr>\n      <th>41</th>\n      <td>1</td>\n      <td>1</td>\n      <td>1</td>\n      <td>1</td>\n      <td>0</td>\n      <td>0</td>\n      <td>1</td>\n      <td>0</td>\n      <td>1</td>\n      <td>1</td>\n      <td>0</td>\n      <td>0</td>\n      <td>0</td>\n      <td>1</td>\n      <td>1</td>\n      <td>1</td>\n      <td>0</td>\n      <td>1</td>\n      <td>1</td>\n      <td>1</td>\n    </tr>\n    <tr>\n      <th>42</th>\n      <td>0</td>\n      <td>0</td>\n      <td>1</td>\n      <td>0</td>\n      <td>0</td>\n      <td>0</td>\n      <td>1</td>\n      <td>1</td>\n      <td>0</td>\n      <td>1</td>\n      <td>0</td>\n      <td>0</td>\n      <td>0</td>\n      <td>0</td>\n      <td>1</td>\n      <td>0</td>\n      <td>0</td>\n      <td>1</td>\n      <td>1</td>\n      <td>1</td>\n    </tr>\n    <tr>\n      <th>43</th>\n      <td>1</td>\n      <td>1</td>\n      <td>1</td>\n      <td>1</td>\n      <td>1</td>\n      <td>1</td>\n      <td>1</td>\n      <td>1</td>\n      <td>1</td>\n      <td>1</td>\n      <td>1</td>\n      <td>1</td>\n      <td>1</td>\n      <td>1</td>\n      <td>0</td>\n      <td>1</td>\n      <td>1</td>\n      <td>1</td>\n      <td>1</td>\n      <td>1</td>\n    </tr>\n    <tr>\n      <th>44</th>\n      <td>0</td>\n      <td>0</td>\n      <td>1</td>\n      <td>0</td>\n      <td>1</td>\n      <td>0</td>\n      <td>1</td>\n      <td>0</td>\n      <td>0</td>\n      <td>0</td>\n      <td>0</td>\n      <td>0</td>\n      <td>0</td>\n      <td>1</td>\n      <td>0</td>\n      <td>1</td>\n      <td>0</td>\n      <td>0</td>\n      <td>0</td>\n      <td>0</td>\n    </tr>\n    <tr>\n      <th>45</th>\n      <td>0</td>\n      <td>0</td>\n      <td>0</td>\n      <td>1</td>\n      <td>0</td>\n      <td>0</td>\n      <td>0</td>\n      <td>0</td>\n      <td>0</td>\n      <td>1</td>\n      <td>0</td>\n      <td>0</td>\n      <td>0</td>\n      <td>0</td>\n      <td>1</td>\n      <td>1</td>\n      <td>1</td>\n      <td>0</td>\n      <td>0</td>\n      <td>0</td>\n    </tr>\n    <tr>\n      <th>46</th>\n      <td>0</td>\n      <td>0</td>\n      <td>0</td>\n      <td>1</td>\n      <td>0</td>\n      <td>0</td>\n      <td>0</td>\n      <td>0</td>\n      <td>0</td>\n      <td>0</td>\n      <td>0</td>\n      <td>0</td>\n      <td>1</td>\n      <td>1</td>\n      <td>0</td>\n      <td>0</td>\n      <td>0</td>\n      <td>0</td>\n      <td>0</td>\n      <td>0</td>\n    </tr>\n    <tr>\n      <th>47</th>\n      <td>1</td>\n      <td>0</td>\n      <td>1</td>\n      <td>1</td>\n      <td>1</td>\n      <td>1</td>\n      <td>1</td>\n      <td>0</td>\n      <td>0</td>\n      <td>1</td>\n      <td>1</td>\n      <td>0</td>\n      <td>1</td>\n      <td>0</td>\n      <td>1</td>\n      <td>1</td>\n      <td>1</td>\n      <td>1</td>\n      <td>0</td>\n      <td>1</td>\n    </tr>\n    <tr>\n      <th>48</th>\n      <td>0</td>\n      <td>1</td>\n      <td>1</td>\n      <td>0</td>\n      <td>0</td>\n      <td>0</td>\n      <td>0</td>\n      <td>1</td>\n      <td>0</td>\n      <td>1</td>\n      <td>0</td>\n      <td>0</td>\n      <td>1</td>\n      <td>1</td>\n      <td>0</td>\n      <td>1</td>\n      <td>0</td>\n      <td>0</td>\n      <td>0</td>\n      <td>1</td>\n    </tr>\n    <tr>\n      <th>49</th>\n      <td>1</td>\n      <td>1</td>\n      <td>1</td>\n      <td>0</td>\n      <td>0</td>\n      <td>0</td>\n      <td>0</td>\n      <td>1</td>\n      <td>1</td>\n      <td>1</td>\n      <td>1</td>\n      <td>0</td>\n      <td>0</td>\n      <td>1</td>\n      <td>0</td>\n      <td>0</td>\n      <td>1</td>\n      <td>1</td>\n      <td>1</td>\n      <td>0</td>\n    </tr>\n  </tbody>\n</table>\n</div>"
     },
     "metadata": {},
     "output_type": "display_data"
    }
   ],
   "source": [
    "display(coin_flips)"
   ],
   "metadata": {
    "collapsed": false,
    "ExecuteTime": {
     "end_time": "2023-11-02T19:33:10.689697Z",
     "start_time": "2023-11-02T19:33:10.684298Z"
    }
   },
   "id": "216b14b33af4ddd6"
  },
  {
   "cell_type": "markdown",
   "source": [
    "## Binomial EM"
   ],
   "metadata": {
    "collapsed": false
   },
   "id": "97ed79cb1b0bdd97"
  },
  {
   "cell_type": "code",
   "execution_count": 34,
   "outputs": [],
   "source": [
    "bem = ml.BinomialEM(k=3)\n",
    "weights, probs = bem.fit(coin_flips)"
   ],
   "metadata": {
    "collapsed": false,
    "ExecuteTime": {
     "end_time": "2023-11-02T19:33:11.905677Z",
     "start_time": "2023-11-02T19:33:11.592580Z"
    }
   },
   "id": "6620fa066c2bd0b7"
  },
  {
   "cell_type": "markdown",
   "source": [
    "### Results"
   ],
   "metadata": {
    "collapsed": false
   },
   "id": "e39614520b9c34ec"
  },
  {
   "cell_type": "code",
   "execution_count": 35,
   "outputs": [
    {
     "name": "stdout",
     "output_type": "stream",
     "text": [
      "Binomial EM weights: \n",
      "[0.17855768 0.51462834 0.30681398]\n",
      "Binomial EM probabilities: \n",
      "[[0.93172853]\n",
      " [0.61003783]\n",
      " [0.23691867]]\n"
     ]
    }
   ],
   "source": [
    "print('Binomial EM weights: \\n{}'.format(weights))\n",
    "print('Binomial EM probabilities: \\n{}'.format(probs))"
   ],
   "metadata": {
    "collapsed": false,
    "ExecuteTime": {
     "end_time": "2023-11-02T19:33:12.436365Z",
     "start_time": "2023-11-02T19:33:12.418254Z"
    }
   },
   "id": "4e59fc4cabb52f08"
  },
  {
   "cell_type": "code",
   "execution_count": null,
   "outputs": [],
   "source": [],
   "metadata": {
    "collapsed": false
   },
   "id": "f025d44e7dfa6fed"
  }
 ],
 "metadata": {
  "kernelspec": {
   "display_name": "Python 3",
   "language": "python",
   "name": "python3"
  },
  "language_info": {
   "codemirror_mode": {
    "name": "ipython",
    "version": 2
   },
   "file_extension": ".py",
   "mimetype": "text/x-python",
   "name": "python",
   "nbconvert_exporter": "python",
   "pygments_lexer": "ipython2",
   "version": "2.7.6"
  }
 },
 "nbformat": 4,
 "nbformat_minor": 5
}
