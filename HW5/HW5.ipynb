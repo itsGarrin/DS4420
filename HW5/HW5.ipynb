{
 "cells": [
  {
   "cell_type": "code",
   "execution_count": 1,
   "id": "initial_id",
   "metadata": {
    "collapsed": true,
    "ExecuteTime": {
     "end_time": "2023-11-26T12:32:10.610828Z",
     "start_time": "2023-11-26T12:32:07.964700Z"
    }
   },
   "outputs": [],
   "source": [
    "import pandas as pd\n",
    "from sklearn import model_selection\n",
    "from sklearn.decomposition import PCA\n",
    "\n",
    "import MLutils as ml"
   ]
  },
  {
   "cell_type": "code",
   "execution_count": 2,
   "outputs": [],
   "source": [
    "# Load data\n",
    "columns = ['word_freq_make', 'word_freq_address', 'word_freq_all', 'word_freq_3d', 'word_freq_our',\n",
    "           'word_freq_over', 'word_freq_remove', 'word_freq_internet', 'word_freq_order',\n",
    "           'word_freq_mail', 'word_freq_receive', 'word_freq_will', 'word_freq_people',\n",
    "           'word_freq_report', 'word_freq_addresses', 'word_freq_free', 'word_freq_business',\n",
    "           'word_freq_email', 'word_freq_you', 'word_freq_credit', 'word_freq_your',\n",
    "           'word_freq_font', 'word_freq_000', 'word_freq_money', 'word_freq_hp', 'word_freq_hpl',\n",
    "           'word_freq_george', 'word_freq_650', 'word_freq_lab', 'word_freq_labs',\n",
    "           'word_freq_telnet', 'word_freq_857', 'word_freq_data', 'word_freq_415', 'word_freq_85',\n",
    "           'word_freq_technology', 'word_freq_1999', 'word_freq_parts', 'word_freq_pm',\n",
    "           'word_freq_direct', 'word_freq_cs', 'word_freq_meeting', 'word_freq_original',\n",
    "           'word_freq_project', 'word_freq_re', 'word_freq_edu', 'word_freq_table',\n",
    "           'word_freq_conference', 'char_freq_;', 'char_freq_(', 'char_freq_[', 'char_freq_!',\n",
    "           'char_freq_$', 'char_freq_#', 'capital_run_length_average', 'capital_run_length_longest',\n",
    "           'capital_run_length_total']\n",
    "\n",
    "spambase = pd.read_csv('spambase.data', header=None, delim_whitespace=False, names=columns + ['spam'])\n",
    "\n",
    "spam_polluted_train = pd.read_csv('spam_polluted/train_feature.txt', header=None, delim_whitespace=True)\n",
    "spam_polluted_train['spam'] = pd.read_csv('spam_polluted/train_label.txt', header=None, delim_whitespace=True,\n",
    "                                          names=['spam'])\n",
    "\n",
    "spam_polluted_test = pd.read_csv('spam_polluted/test_feature.txt', header=None, delim_whitespace=True)\n",
    "spam_polluted_test['spam'] = pd.read_csv('spam_polluted/test_label.txt', header=None, delim_whitespace=True,\n",
    "                                         names=['spam'])\n",
    "\n",
    "spam_polluted_train.columns = spam_polluted_train.columns.astype(str)\n",
    "spam_polluted_test.columns = spam_polluted_test.columns.astype(str)\n",
    "\n",
    "# Combine polluted train and test data\n",
    "spam_polluted = pd.concat([spam_polluted_train, spam_polluted_test], ignore_index=True)"
   ],
   "metadata": {
    "collapsed": false,
    "ExecuteTime": {
     "end_time": "2023-11-26T12:32:10.918639Z",
     "start_time": "2023-11-26T12:32:10.613010Z"
    }
   },
   "id": "cd23b771ccdb80c9"
  },
  {
   "cell_type": "code",
   "execution_count": 3,
   "outputs": [
    {
     "data": {
      "text/plain": "      word_freq_make  word_freq_address  word_freq_all  word_freq_3d  \\\n0               0.00               0.64           0.64           0.0   \n1               0.21               0.28           0.50           0.0   \n2               0.06               0.00           0.71           0.0   \n3               0.00               0.00           0.00           0.0   \n4               0.00               0.00           0.00           0.0   \n...              ...                ...            ...           ...   \n4596            0.31               0.00           0.62           0.0   \n4597            0.00               0.00           0.00           0.0   \n4598            0.30               0.00           0.30           0.0   \n4599            0.96               0.00           0.00           0.0   \n4600            0.00               0.00           0.65           0.0   \n\n      word_freq_our  word_freq_over  word_freq_remove  word_freq_internet  \\\n0              0.32            0.00              0.00                0.00   \n1              0.14            0.28              0.21                0.07   \n2              1.23            0.19              0.19                0.12   \n3              0.63            0.00              0.31                0.63   \n4              0.63            0.00              0.31                0.63   \n...             ...             ...               ...                 ...   \n4596           0.00            0.31              0.00                0.00   \n4597           0.00            0.00              0.00                0.00   \n4598           0.00            0.00              0.00                0.00   \n4599           0.32            0.00              0.00                0.00   \n4600           0.00            0.00              0.00                0.00   \n\n      word_freq_order  word_freq_mail  ...  char_freq_;  char_freq_(  \\\n0                0.00            0.00  ...        0.000        0.000   \n1                0.00            0.94  ...        0.000        0.132   \n2                0.64            0.25  ...        0.010        0.143   \n3                0.31            0.63  ...        0.000        0.137   \n4                0.31            0.63  ...        0.000        0.135   \n...               ...             ...  ...          ...          ...   \n4596             0.00            0.00  ...        0.000        0.232   \n4597             0.00            0.00  ...        0.000        0.000   \n4598             0.00            0.00  ...        0.102        0.718   \n4599             0.00            0.00  ...        0.000        0.057   \n4600             0.00            0.00  ...        0.000        0.000   \n\n      char_freq_[  char_freq_!  char_freq_$  char_freq_#  \\\n0             0.0        0.778        0.000        0.000   \n1             0.0        0.372        0.180        0.048   \n2             0.0        0.276        0.184        0.010   \n3             0.0        0.137        0.000        0.000   \n4             0.0        0.135        0.000        0.000   \n...           ...          ...          ...          ...   \n4596          0.0        0.000        0.000        0.000   \n4597          0.0        0.353        0.000        0.000   \n4598          0.0        0.000        0.000        0.000   \n4599          0.0        0.000        0.000        0.000   \n4600          0.0        0.125        0.000        0.000   \n\n      capital_run_length_average  capital_run_length_longest  \\\n0                          3.756                          61   \n1                          5.114                         101   \n2                          9.821                         485   \n3                          3.537                          40   \n4                          3.537                          40   \n...                          ...                         ...   \n4596                       1.142                           3   \n4597                       1.555                           4   \n4598                       1.404                           6   \n4599                       1.147                           5   \n4600                       1.250                           5   \n\n      capital_run_length_total  spam  \n0                          278     1  \n1                         1028     1  \n2                         2259     1  \n3                          191     1  \n4                          191     1  \n...                        ...   ...  \n4596                        88     0  \n4597                        14     0  \n4598                       118     0  \n4599                        78     0  \n4600                        40     0  \n\n[4601 rows x 58 columns]",
      "text/html": "<div>\n<style scoped>\n    .dataframe tbody tr th:only-of-type {\n        vertical-align: middle;\n    }\n\n    .dataframe tbody tr th {\n        vertical-align: top;\n    }\n\n    .dataframe thead th {\n        text-align: right;\n    }\n</style>\n<table border=\"1\" class=\"dataframe\">\n  <thead>\n    <tr style=\"text-align: right;\">\n      <th></th>\n      <th>word_freq_make</th>\n      <th>word_freq_address</th>\n      <th>word_freq_all</th>\n      <th>word_freq_3d</th>\n      <th>word_freq_our</th>\n      <th>word_freq_over</th>\n      <th>word_freq_remove</th>\n      <th>word_freq_internet</th>\n      <th>word_freq_order</th>\n      <th>word_freq_mail</th>\n      <th>...</th>\n      <th>char_freq_;</th>\n      <th>char_freq_(</th>\n      <th>char_freq_[</th>\n      <th>char_freq_!</th>\n      <th>char_freq_$</th>\n      <th>char_freq_#</th>\n      <th>capital_run_length_average</th>\n      <th>capital_run_length_longest</th>\n      <th>capital_run_length_total</th>\n      <th>spam</th>\n    </tr>\n  </thead>\n  <tbody>\n    <tr>\n      <th>0</th>\n      <td>0.00</td>\n      <td>0.64</td>\n      <td>0.64</td>\n      <td>0.0</td>\n      <td>0.32</td>\n      <td>0.00</td>\n      <td>0.00</td>\n      <td>0.00</td>\n      <td>0.00</td>\n      <td>0.00</td>\n      <td>...</td>\n      <td>0.000</td>\n      <td>0.000</td>\n      <td>0.0</td>\n      <td>0.778</td>\n      <td>0.000</td>\n      <td>0.000</td>\n      <td>3.756</td>\n      <td>61</td>\n      <td>278</td>\n      <td>1</td>\n    </tr>\n    <tr>\n      <th>1</th>\n      <td>0.21</td>\n      <td>0.28</td>\n      <td>0.50</td>\n      <td>0.0</td>\n      <td>0.14</td>\n      <td>0.28</td>\n      <td>0.21</td>\n      <td>0.07</td>\n      <td>0.00</td>\n      <td>0.94</td>\n      <td>...</td>\n      <td>0.000</td>\n      <td>0.132</td>\n      <td>0.0</td>\n      <td>0.372</td>\n      <td>0.180</td>\n      <td>0.048</td>\n      <td>5.114</td>\n      <td>101</td>\n      <td>1028</td>\n      <td>1</td>\n    </tr>\n    <tr>\n      <th>2</th>\n      <td>0.06</td>\n      <td>0.00</td>\n      <td>0.71</td>\n      <td>0.0</td>\n      <td>1.23</td>\n      <td>0.19</td>\n      <td>0.19</td>\n      <td>0.12</td>\n      <td>0.64</td>\n      <td>0.25</td>\n      <td>...</td>\n      <td>0.010</td>\n      <td>0.143</td>\n      <td>0.0</td>\n      <td>0.276</td>\n      <td>0.184</td>\n      <td>0.010</td>\n      <td>9.821</td>\n      <td>485</td>\n      <td>2259</td>\n      <td>1</td>\n    </tr>\n    <tr>\n      <th>3</th>\n      <td>0.00</td>\n      <td>0.00</td>\n      <td>0.00</td>\n      <td>0.0</td>\n      <td>0.63</td>\n      <td>0.00</td>\n      <td>0.31</td>\n      <td>0.63</td>\n      <td>0.31</td>\n      <td>0.63</td>\n      <td>...</td>\n      <td>0.000</td>\n      <td>0.137</td>\n      <td>0.0</td>\n      <td>0.137</td>\n      <td>0.000</td>\n      <td>0.000</td>\n      <td>3.537</td>\n      <td>40</td>\n      <td>191</td>\n      <td>1</td>\n    </tr>\n    <tr>\n      <th>4</th>\n      <td>0.00</td>\n      <td>0.00</td>\n      <td>0.00</td>\n      <td>0.0</td>\n      <td>0.63</td>\n      <td>0.00</td>\n      <td>0.31</td>\n      <td>0.63</td>\n      <td>0.31</td>\n      <td>0.63</td>\n      <td>...</td>\n      <td>0.000</td>\n      <td>0.135</td>\n      <td>0.0</td>\n      <td>0.135</td>\n      <td>0.000</td>\n      <td>0.000</td>\n      <td>3.537</td>\n      <td>40</td>\n      <td>191</td>\n      <td>1</td>\n    </tr>\n    <tr>\n      <th>...</th>\n      <td>...</td>\n      <td>...</td>\n      <td>...</td>\n      <td>...</td>\n      <td>...</td>\n      <td>...</td>\n      <td>...</td>\n      <td>...</td>\n      <td>...</td>\n      <td>...</td>\n      <td>...</td>\n      <td>...</td>\n      <td>...</td>\n      <td>...</td>\n      <td>...</td>\n      <td>...</td>\n      <td>...</td>\n      <td>...</td>\n      <td>...</td>\n      <td>...</td>\n      <td>...</td>\n    </tr>\n    <tr>\n      <th>4596</th>\n      <td>0.31</td>\n      <td>0.00</td>\n      <td>0.62</td>\n      <td>0.0</td>\n      <td>0.00</td>\n      <td>0.31</td>\n      <td>0.00</td>\n      <td>0.00</td>\n      <td>0.00</td>\n      <td>0.00</td>\n      <td>...</td>\n      <td>0.000</td>\n      <td>0.232</td>\n      <td>0.0</td>\n      <td>0.000</td>\n      <td>0.000</td>\n      <td>0.000</td>\n      <td>1.142</td>\n      <td>3</td>\n      <td>88</td>\n      <td>0</td>\n    </tr>\n    <tr>\n      <th>4597</th>\n      <td>0.00</td>\n      <td>0.00</td>\n      <td>0.00</td>\n      <td>0.0</td>\n      <td>0.00</td>\n      <td>0.00</td>\n      <td>0.00</td>\n      <td>0.00</td>\n      <td>0.00</td>\n      <td>0.00</td>\n      <td>...</td>\n      <td>0.000</td>\n      <td>0.000</td>\n      <td>0.0</td>\n      <td>0.353</td>\n      <td>0.000</td>\n      <td>0.000</td>\n      <td>1.555</td>\n      <td>4</td>\n      <td>14</td>\n      <td>0</td>\n    </tr>\n    <tr>\n      <th>4598</th>\n      <td>0.30</td>\n      <td>0.00</td>\n      <td>0.30</td>\n      <td>0.0</td>\n      <td>0.00</td>\n      <td>0.00</td>\n      <td>0.00</td>\n      <td>0.00</td>\n      <td>0.00</td>\n      <td>0.00</td>\n      <td>...</td>\n      <td>0.102</td>\n      <td>0.718</td>\n      <td>0.0</td>\n      <td>0.000</td>\n      <td>0.000</td>\n      <td>0.000</td>\n      <td>1.404</td>\n      <td>6</td>\n      <td>118</td>\n      <td>0</td>\n    </tr>\n    <tr>\n      <th>4599</th>\n      <td>0.96</td>\n      <td>0.00</td>\n      <td>0.00</td>\n      <td>0.0</td>\n      <td>0.32</td>\n      <td>0.00</td>\n      <td>0.00</td>\n      <td>0.00</td>\n      <td>0.00</td>\n      <td>0.00</td>\n      <td>...</td>\n      <td>0.000</td>\n      <td>0.057</td>\n      <td>0.0</td>\n      <td>0.000</td>\n      <td>0.000</td>\n      <td>0.000</td>\n      <td>1.147</td>\n      <td>5</td>\n      <td>78</td>\n      <td>0</td>\n    </tr>\n    <tr>\n      <th>4600</th>\n      <td>0.00</td>\n      <td>0.00</td>\n      <td>0.65</td>\n      <td>0.0</td>\n      <td>0.00</td>\n      <td>0.00</td>\n      <td>0.00</td>\n      <td>0.00</td>\n      <td>0.00</td>\n      <td>0.00</td>\n      <td>...</td>\n      <td>0.000</td>\n      <td>0.000</td>\n      <td>0.0</td>\n      <td>0.125</td>\n      <td>0.000</td>\n      <td>0.000</td>\n      <td>1.250</td>\n      <td>5</td>\n      <td>40</td>\n      <td>0</td>\n    </tr>\n  </tbody>\n</table>\n<p>4601 rows × 58 columns</p>\n</div>"
     },
     "metadata": {},
     "output_type": "display_data"
    },
    {
     "data": {
      "text/plain": "         0     1     2    3     4     5     6     7     8     9  ...  \\\n0     0.21  0.28  0.50  0.0  0.14  0.28  0.21  0.07  0.00  0.94  ...   \n1     0.06  0.00  0.71  0.0  1.23  0.19  0.19  0.12  0.64  0.25  ...   \n2     0.00  0.00  0.00  0.0  0.63  0.00  0.31  0.63  0.31  0.63  ...   \n3     0.00  0.00  0.00  0.0  0.63  0.00  0.31  0.63  0.31  0.63  ...   \n4     0.00  0.00  0.00  0.0  1.85  0.00  0.00  1.85  0.00  0.00  ...   \n...    ...   ...   ...  ...   ...   ...   ...   ...   ...   ...  ...   \n4135  0.00  0.00  1.19  0.0  0.00  0.00  0.00  0.00  0.00  0.00  ...   \n4136  0.31  0.00  0.62  0.0  0.00  0.31  0.00  0.00  0.00  0.00  ...   \n4137  0.00  0.00  0.00  0.0  0.00  0.00  0.00  0.00  0.00  0.00  ...   \n4138  0.30  0.00  0.30  0.0  0.00  0.00  0.00  0.00  0.00  0.00  ...   \n4139  0.96  0.00  0.00  0.0  0.32  0.00  0.00  0.00  0.00  0.00  ...   \n\n          1048      1049      1050      1051      1052      1053      1054  \\\n0     0.068515  0.014376  0.068351  0.032469  0.014087  0.034152  0.051189   \n1     0.050598  0.071449  0.034827  0.037157  0.051147  0.067859  0.052220   \n2     0.045824  0.011757  0.031530  0.032750  0.073789  0.045900  0.072750   \n3     0.013711  0.054859  0.004493  0.053976  0.029885  0.063413  0.070903   \n4     0.071441  0.058734  0.058241  0.034914  0.018111  0.019574  0.009803   \n...        ...       ...       ...       ...       ...       ...       ...   \n4135  0.008603  0.012331  0.041340  0.021970  0.059619  0.008046  0.015922   \n4136  0.046379  0.062328  0.057656  0.042930  0.022706  0.001332  0.053998   \n4137  0.037031  0.046458  0.005940  0.074133  0.045335  0.061015  0.068747   \n4138  0.017454  0.058703  0.004143  0.016548  0.048861  0.019306  0.076441   \n4139  0.031217  0.015802  0.011910  0.011954  0.024252  0.038291  0.022585   \n\n          1055      1056  spam  \n0     0.063388  0.043658     1  \n1     0.004742  0.009583     1  \n2     0.040348  0.029986     1  \n3     0.026120  0.008427     1  \n4     0.065727  0.058667     1  \n...        ...       ...   ...  \n4135  0.028007  0.033463     0  \n4136  0.073089  0.056421     0  \n4137  0.028783  0.007017     0  \n4138  0.067222  0.002527     0  \n4139  0.051085  0.029160     0  \n\n[4140 rows x 1058 columns]",
      "text/html": "<div>\n<style scoped>\n    .dataframe tbody tr th:only-of-type {\n        vertical-align: middle;\n    }\n\n    .dataframe tbody tr th {\n        vertical-align: top;\n    }\n\n    .dataframe thead th {\n        text-align: right;\n    }\n</style>\n<table border=\"1\" class=\"dataframe\">\n  <thead>\n    <tr style=\"text-align: right;\">\n      <th></th>\n      <th>0</th>\n      <th>1</th>\n      <th>2</th>\n      <th>3</th>\n      <th>4</th>\n      <th>5</th>\n      <th>6</th>\n      <th>7</th>\n      <th>8</th>\n      <th>9</th>\n      <th>...</th>\n      <th>1048</th>\n      <th>1049</th>\n      <th>1050</th>\n      <th>1051</th>\n      <th>1052</th>\n      <th>1053</th>\n      <th>1054</th>\n      <th>1055</th>\n      <th>1056</th>\n      <th>spam</th>\n    </tr>\n  </thead>\n  <tbody>\n    <tr>\n      <th>0</th>\n      <td>0.21</td>\n      <td>0.28</td>\n      <td>0.50</td>\n      <td>0.0</td>\n      <td>0.14</td>\n      <td>0.28</td>\n      <td>0.21</td>\n      <td>0.07</td>\n      <td>0.00</td>\n      <td>0.94</td>\n      <td>...</td>\n      <td>0.068515</td>\n      <td>0.014376</td>\n      <td>0.068351</td>\n      <td>0.032469</td>\n      <td>0.014087</td>\n      <td>0.034152</td>\n      <td>0.051189</td>\n      <td>0.063388</td>\n      <td>0.043658</td>\n      <td>1</td>\n    </tr>\n    <tr>\n      <th>1</th>\n      <td>0.06</td>\n      <td>0.00</td>\n      <td>0.71</td>\n      <td>0.0</td>\n      <td>1.23</td>\n      <td>0.19</td>\n      <td>0.19</td>\n      <td>0.12</td>\n      <td>0.64</td>\n      <td>0.25</td>\n      <td>...</td>\n      <td>0.050598</td>\n      <td>0.071449</td>\n      <td>0.034827</td>\n      <td>0.037157</td>\n      <td>0.051147</td>\n      <td>0.067859</td>\n      <td>0.052220</td>\n      <td>0.004742</td>\n      <td>0.009583</td>\n      <td>1</td>\n    </tr>\n    <tr>\n      <th>2</th>\n      <td>0.00</td>\n      <td>0.00</td>\n      <td>0.00</td>\n      <td>0.0</td>\n      <td>0.63</td>\n      <td>0.00</td>\n      <td>0.31</td>\n      <td>0.63</td>\n      <td>0.31</td>\n      <td>0.63</td>\n      <td>...</td>\n      <td>0.045824</td>\n      <td>0.011757</td>\n      <td>0.031530</td>\n      <td>0.032750</td>\n      <td>0.073789</td>\n      <td>0.045900</td>\n      <td>0.072750</td>\n      <td>0.040348</td>\n      <td>0.029986</td>\n      <td>1</td>\n    </tr>\n    <tr>\n      <th>3</th>\n      <td>0.00</td>\n      <td>0.00</td>\n      <td>0.00</td>\n      <td>0.0</td>\n      <td>0.63</td>\n      <td>0.00</td>\n      <td>0.31</td>\n      <td>0.63</td>\n      <td>0.31</td>\n      <td>0.63</td>\n      <td>...</td>\n      <td>0.013711</td>\n      <td>0.054859</td>\n      <td>0.004493</td>\n      <td>0.053976</td>\n      <td>0.029885</td>\n      <td>0.063413</td>\n      <td>0.070903</td>\n      <td>0.026120</td>\n      <td>0.008427</td>\n      <td>1</td>\n    </tr>\n    <tr>\n      <th>4</th>\n      <td>0.00</td>\n      <td>0.00</td>\n      <td>0.00</td>\n      <td>0.0</td>\n      <td>1.85</td>\n      <td>0.00</td>\n      <td>0.00</td>\n      <td>1.85</td>\n      <td>0.00</td>\n      <td>0.00</td>\n      <td>...</td>\n      <td>0.071441</td>\n      <td>0.058734</td>\n      <td>0.058241</td>\n      <td>0.034914</td>\n      <td>0.018111</td>\n      <td>0.019574</td>\n      <td>0.009803</td>\n      <td>0.065727</td>\n      <td>0.058667</td>\n      <td>1</td>\n    </tr>\n    <tr>\n      <th>...</th>\n      <td>...</td>\n      <td>...</td>\n      <td>...</td>\n      <td>...</td>\n      <td>...</td>\n      <td>...</td>\n      <td>...</td>\n      <td>...</td>\n      <td>...</td>\n      <td>...</td>\n      <td>...</td>\n      <td>...</td>\n      <td>...</td>\n      <td>...</td>\n      <td>...</td>\n      <td>...</td>\n      <td>...</td>\n      <td>...</td>\n      <td>...</td>\n      <td>...</td>\n      <td>...</td>\n    </tr>\n    <tr>\n      <th>4135</th>\n      <td>0.00</td>\n      <td>0.00</td>\n      <td>1.19</td>\n      <td>0.0</td>\n      <td>0.00</td>\n      <td>0.00</td>\n      <td>0.00</td>\n      <td>0.00</td>\n      <td>0.00</td>\n      <td>0.00</td>\n      <td>...</td>\n      <td>0.008603</td>\n      <td>0.012331</td>\n      <td>0.041340</td>\n      <td>0.021970</td>\n      <td>0.059619</td>\n      <td>0.008046</td>\n      <td>0.015922</td>\n      <td>0.028007</td>\n      <td>0.033463</td>\n      <td>0</td>\n    </tr>\n    <tr>\n      <th>4136</th>\n      <td>0.31</td>\n      <td>0.00</td>\n      <td>0.62</td>\n      <td>0.0</td>\n      <td>0.00</td>\n      <td>0.31</td>\n      <td>0.00</td>\n      <td>0.00</td>\n      <td>0.00</td>\n      <td>0.00</td>\n      <td>...</td>\n      <td>0.046379</td>\n      <td>0.062328</td>\n      <td>0.057656</td>\n      <td>0.042930</td>\n      <td>0.022706</td>\n      <td>0.001332</td>\n      <td>0.053998</td>\n      <td>0.073089</td>\n      <td>0.056421</td>\n      <td>0</td>\n    </tr>\n    <tr>\n      <th>4137</th>\n      <td>0.00</td>\n      <td>0.00</td>\n      <td>0.00</td>\n      <td>0.0</td>\n      <td>0.00</td>\n      <td>0.00</td>\n      <td>0.00</td>\n      <td>0.00</td>\n      <td>0.00</td>\n      <td>0.00</td>\n      <td>...</td>\n      <td>0.037031</td>\n      <td>0.046458</td>\n      <td>0.005940</td>\n      <td>0.074133</td>\n      <td>0.045335</td>\n      <td>0.061015</td>\n      <td>0.068747</td>\n      <td>0.028783</td>\n      <td>0.007017</td>\n      <td>0</td>\n    </tr>\n    <tr>\n      <th>4138</th>\n      <td>0.30</td>\n      <td>0.00</td>\n      <td>0.30</td>\n      <td>0.0</td>\n      <td>0.00</td>\n      <td>0.00</td>\n      <td>0.00</td>\n      <td>0.00</td>\n      <td>0.00</td>\n      <td>0.00</td>\n      <td>...</td>\n      <td>0.017454</td>\n      <td>0.058703</td>\n      <td>0.004143</td>\n      <td>0.016548</td>\n      <td>0.048861</td>\n      <td>0.019306</td>\n      <td>0.076441</td>\n      <td>0.067222</td>\n      <td>0.002527</td>\n      <td>0</td>\n    </tr>\n    <tr>\n      <th>4139</th>\n      <td>0.96</td>\n      <td>0.00</td>\n      <td>0.00</td>\n      <td>0.0</td>\n      <td>0.32</td>\n      <td>0.00</td>\n      <td>0.00</td>\n      <td>0.00</td>\n      <td>0.00</td>\n      <td>0.00</td>\n      <td>...</td>\n      <td>0.031217</td>\n      <td>0.015802</td>\n      <td>0.011910</td>\n      <td>0.011954</td>\n      <td>0.024252</td>\n      <td>0.038291</td>\n      <td>0.022585</td>\n      <td>0.051085</td>\n      <td>0.029160</td>\n      <td>0</td>\n    </tr>\n  </tbody>\n</table>\n<p>4140 rows × 1058 columns</p>\n</div>"
     },
     "metadata": {},
     "output_type": "display_data"
    },
    {
     "data": {
      "text/plain": "        0     1     2    3     4     5     6     7    8     9  ...      1048  \\\n0    0.00  0.64  0.64  0.0  0.32  0.00  0.00  0.00  0.0  0.00  ...  0.037503   \n1    0.00  0.00  0.00  0.0  0.00  0.00  0.96  0.00  0.0  1.92  ...  0.016471   \n2    0.00  0.00  0.00  0.0  0.00  0.00  0.00  0.00  0.0  0.00  ...  0.050797   \n3    1.17  0.00  0.00  0.0  0.00  0.00  0.00  0.00  0.0  0.00  ...  0.001639   \n4    0.30  0.00  0.00  0.0  0.61  0.92  0.00  2.45  0.0  0.00  ...  0.008402   \n..    ...   ...   ...  ...   ...   ...   ...   ...  ...   ...  ...       ...   \n456  0.00  0.00  0.00  0.0  0.00  0.00  0.00  0.00  0.0  0.00  ...  0.059033   \n457  0.00  0.00  0.00  0.0  0.00  0.00  0.00  0.00  0.0  0.00  ...  0.069568   \n458  0.00  0.00  0.00  0.0  0.00  0.00  0.00  0.00  0.0  0.00  ...  0.039451   \n459  0.00  0.00  0.00  0.0  0.00  0.00  0.00  0.00  0.0  0.00  ...  0.027839   \n460  0.00  0.00  0.65  0.0  0.00  0.00  0.00  0.00  0.0  0.00  ...  0.063123   \n\n         1049      1050      1051      1052      1053      1054      1055  \\\n0    0.040918  0.000563  0.006243  0.041089  0.014344  0.042052  0.045074   \n1    0.053028  0.074753  0.044093  0.049550  0.010641  0.051331  0.018565   \n2    0.020699  0.011128  0.062373  0.015312  0.002700  0.005830  0.042279   \n3    0.033305  0.046086  0.041225  0.029758  0.071276  0.069395  0.001066   \n4    0.057602  0.035860  0.050893  0.030966  0.075909  0.015172  0.002239   \n..        ...       ...       ...       ...       ...       ...       ...   \n456  0.042735  0.032502  0.027365  0.024529  0.042266  0.035607  0.050341   \n457  0.052859  0.037492  0.073815  0.075152  0.051175  0.004231  0.053001   \n458  0.001632  0.050405  0.040429  0.053173  0.029333  0.029063  0.028139   \n459  0.006222  0.064354  0.033661  0.055305  0.027338  0.016306  0.043003   \n460  0.010391  0.006828  0.073195  0.024002  0.052238  0.046430  0.023500   \n\n         1056  spam  \n0    0.058401     1  \n1    0.038492     1  \n2    0.031624     1  \n3    0.071314     1  \n4    0.066309     1  \n..        ...   ...  \n456  0.019569     0  \n457  0.018082     0  \n458  0.015943     0  \n459  0.044025     0  \n460  0.032610     0  \n\n[461 rows x 1058 columns]",
      "text/html": "<div>\n<style scoped>\n    .dataframe tbody tr th:only-of-type {\n        vertical-align: middle;\n    }\n\n    .dataframe tbody tr th {\n        vertical-align: top;\n    }\n\n    .dataframe thead th {\n        text-align: right;\n    }\n</style>\n<table border=\"1\" class=\"dataframe\">\n  <thead>\n    <tr style=\"text-align: right;\">\n      <th></th>\n      <th>0</th>\n      <th>1</th>\n      <th>2</th>\n      <th>3</th>\n      <th>4</th>\n      <th>5</th>\n      <th>6</th>\n      <th>7</th>\n      <th>8</th>\n      <th>9</th>\n      <th>...</th>\n      <th>1048</th>\n      <th>1049</th>\n      <th>1050</th>\n      <th>1051</th>\n      <th>1052</th>\n      <th>1053</th>\n      <th>1054</th>\n      <th>1055</th>\n      <th>1056</th>\n      <th>spam</th>\n    </tr>\n  </thead>\n  <tbody>\n    <tr>\n      <th>0</th>\n      <td>0.00</td>\n      <td>0.64</td>\n      <td>0.64</td>\n      <td>0.0</td>\n      <td>0.32</td>\n      <td>0.00</td>\n      <td>0.00</td>\n      <td>0.00</td>\n      <td>0.0</td>\n      <td>0.00</td>\n      <td>...</td>\n      <td>0.037503</td>\n      <td>0.040918</td>\n      <td>0.000563</td>\n      <td>0.006243</td>\n      <td>0.041089</td>\n      <td>0.014344</td>\n      <td>0.042052</td>\n      <td>0.045074</td>\n      <td>0.058401</td>\n      <td>1</td>\n    </tr>\n    <tr>\n      <th>1</th>\n      <td>0.00</td>\n      <td>0.00</td>\n      <td>0.00</td>\n      <td>0.0</td>\n      <td>0.00</td>\n      <td>0.00</td>\n      <td>0.96</td>\n      <td>0.00</td>\n      <td>0.0</td>\n      <td>1.92</td>\n      <td>...</td>\n      <td>0.016471</td>\n      <td>0.053028</td>\n      <td>0.074753</td>\n      <td>0.044093</td>\n      <td>0.049550</td>\n      <td>0.010641</td>\n      <td>0.051331</td>\n      <td>0.018565</td>\n      <td>0.038492</td>\n      <td>1</td>\n    </tr>\n    <tr>\n      <th>2</th>\n      <td>0.00</td>\n      <td>0.00</td>\n      <td>0.00</td>\n      <td>0.0</td>\n      <td>0.00</td>\n      <td>0.00</td>\n      <td>0.00</td>\n      <td>0.00</td>\n      <td>0.0</td>\n      <td>0.00</td>\n      <td>...</td>\n      <td>0.050797</td>\n      <td>0.020699</td>\n      <td>0.011128</td>\n      <td>0.062373</td>\n      <td>0.015312</td>\n      <td>0.002700</td>\n      <td>0.005830</td>\n      <td>0.042279</td>\n      <td>0.031624</td>\n      <td>1</td>\n    </tr>\n    <tr>\n      <th>3</th>\n      <td>1.17</td>\n      <td>0.00</td>\n      <td>0.00</td>\n      <td>0.0</td>\n      <td>0.00</td>\n      <td>0.00</td>\n      <td>0.00</td>\n      <td>0.00</td>\n      <td>0.0</td>\n      <td>0.00</td>\n      <td>...</td>\n      <td>0.001639</td>\n      <td>0.033305</td>\n      <td>0.046086</td>\n      <td>0.041225</td>\n      <td>0.029758</td>\n      <td>0.071276</td>\n      <td>0.069395</td>\n      <td>0.001066</td>\n      <td>0.071314</td>\n      <td>1</td>\n    </tr>\n    <tr>\n      <th>4</th>\n      <td>0.30</td>\n      <td>0.00</td>\n      <td>0.00</td>\n      <td>0.0</td>\n      <td>0.61</td>\n      <td>0.92</td>\n      <td>0.00</td>\n      <td>2.45</td>\n      <td>0.0</td>\n      <td>0.00</td>\n      <td>...</td>\n      <td>0.008402</td>\n      <td>0.057602</td>\n      <td>0.035860</td>\n      <td>0.050893</td>\n      <td>0.030966</td>\n      <td>0.075909</td>\n      <td>0.015172</td>\n      <td>0.002239</td>\n      <td>0.066309</td>\n      <td>1</td>\n    </tr>\n    <tr>\n      <th>...</th>\n      <td>...</td>\n      <td>...</td>\n      <td>...</td>\n      <td>...</td>\n      <td>...</td>\n      <td>...</td>\n      <td>...</td>\n      <td>...</td>\n      <td>...</td>\n      <td>...</td>\n      <td>...</td>\n      <td>...</td>\n      <td>...</td>\n      <td>...</td>\n      <td>...</td>\n      <td>...</td>\n      <td>...</td>\n      <td>...</td>\n      <td>...</td>\n      <td>...</td>\n      <td>...</td>\n    </tr>\n    <tr>\n      <th>456</th>\n      <td>0.00</td>\n      <td>0.00</td>\n      <td>0.00</td>\n      <td>0.0</td>\n      <td>0.00</td>\n      <td>0.00</td>\n      <td>0.00</td>\n      <td>0.00</td>\n      <td>0.0</td>\n      <td>0.00</td>\n      <td>...</td>\n      <td>0.059033</td>\n      <td>0.042735</td>\n      <td>0.032502</td>\n      <td>0.027365</td>\n      <td>0.024529</td>\n      <td>0.042266</td>\n      <td>0.035607</td>\n      <td>0.050341</td>\n      <td>0.019569</td>\n      <td>0</td>\n    </tr>\n    <tr>\n      <th>457</th>\n      <td>0.00</td>\n      <td>0.00</td>\n      <td>0.00</td>\n      <td>0.0</td>\n      <td>0.00</td>\n      <td>0.00</td>\n      <td>0.00</td>\n      <td>0.00</td>\n      <td>0.0</td>\n      <td>0.00</td>\n      <td>...</td>\n      <td>0.069568</td>\n      <td>0.052859</td>\n      <td>0.037492</td>\n      <td>0.073815</td>\n      <td>0.075152</td>\n      <td>0.051175</td>\n      <td>0.004231</td>\n      <td>0.053001</td>\n      <td>0.018082</td>\n      <td>0</td>\n    </tr>\n    <tr>\n      <th>458</th>\n      <td>0.00</td>\n      <td>0.00</td>\n      <td>0.00</td>\n      <td>0.0</td>\n      <td>0.00</td>\n      <td>0.00</td>\n      <td>0.00</td>\n      <td>0.00</td>\n      <td>0.0</td>\n      <td>0.00</td>\n      <td>...</td>\n      <td>0.039451</td>\n      <td>0.001632</td>\n      <td>0.050405</td>\n      <td>0.040429</td>\n      <td>0.053173</td>\n      <td>0.029333</td>\n      <td>0.029063</td>\n      <td>0.028139</td>\n      <td>0.015943</td>\n      <td>0</td>\n    </tr>\n    <tr>\n      <th>459</th>\n      <td>0.00</td>\n      <td>0.00</td>\n      <td>0.00</td>\n      <td>0.0</td>\n      <td>0.00</td>\n      <td>0.00</td>\n      <td>0.00</td>\n      <td>0.00</td>\n      <td>0.0</td>\n      <td>0.00</td>\n      <td>...</td>\n      <td>0.027839</td>\n      <td>0.006222</td>\n      <td>0.064354</td>\n      <td>0.033661</td>\n      <td>0.055305</td>\n      <td>0.027338</td>\n      <td>0.016306</td>\n      <td>0.043003</td>\n      <td>0.044025</td>\n      <td>0</td>\n    </tr>\n    <tr>\n      <th>460</th>\n      <td>0.00</td>\n      <td>0.00</td>\n      <td>0.65</td>\n      <td>0.0</td>\n      <td>0.00</td>\n      <td>0.00</td>\n      <td>0.00</td>\n      <td>0.00</td>\n      <td>0.0</td>\n      <td>0.00</td>\n      <td>...</td>\n      <td>0.063123</td>\n      <td>0.010391</td>\n      <td>0.006828</td>\n      <td>0.073195</td>\n      <td>0.024002</td>\n      <td>0.052238</td>\n      <td>0.046430</td>\n      <td>0.023500</td>\n      <td>0.032610</td>\n      <td>0</td>\n    </tr>\n  </tbody>\n</table>\n<p>461 rows × 1058 columns</p>\n</div>"
     },
     "metadata": {},
     "output_type": "display_data"
    }
   ],
   "source": [
    "# Display data\n",
    "display(spambase)\n",
    "display(spam_polluted_train)\n",
    "display(spam_polluted_test)"
   ],
   "metadata": {
    "collapsed": false,
    "ExecuteTime": {
     "end_time": "2023-11-26T12:32:10.951213Z",
     "start_time": "2023-11-26T12:32:10.920168Z"
    }
   },
   "id": "aa84104438a39331"
  },
  {
   "cell_type": "code",
   "execution_count": 4,
   "outputs": [],
   "source": [
    "# Normalize data without labels\n",
    "spambase.iloc[:, :-1] = ml.normalize(spambase.iloc[:, :-1])[0]\n",
    "spam_polluted_train.iloc[:, :-1], spam_polluted_train_avg, spam_polluted_train_stdev = \\\n",
    "    ml.normalize(spam_polluted_train.iloc[:, :-1])\n",
    "spam_polluted_test.iloc[:, :-1] = (spam_polluted_test.iloc[:,\n",
    "                                   :-1] - spam_polluted_train_avg) / spam_polluted_train_stdev"
   ],
   "metadata": {
    "collapsed": false,
    "ExecuteTime": {
     "end_time": "2023-11-26T12:32:11.063342Z",
     "start_time": "2023-11-26T12:32:10.945378Z"
    }
   },
   "id": "c31901804dbb6c25"
  },
  {
   "cell_type": "code",
   "execution_count": 5,
   "outputs": [],
   "source": [
    "# Split data using 80/20 split sklearn function\n",
    "spam_train, spam_test = model_selection.train_test_split(spambase, test_size=0.2, random_state=0)"
   ],
   "metadata": {
    "collapsed": false,
    "ExecuteTime": {
     "end_time": "2023-11-26T12:32:11.085202Z",
     "start_time": "2023-11-26T12:32:11.061048Z"
    }
   },
   "id": "7f7763d2b28ef597"
  },
  {
   "cell_type": "markdown",
   "source": [
    "# Problem 1"
   ],
   "metadata": {
    "collapsed": false
   },
   "id": "799f0f35856b36a0"
  },
  {
   "cell_type": "markdown",
   "source": [
    "## AdaBoost Feature Analysis"
   ],
   "metadata": {
    "collapsed": false
   },
   "id": "7f346722338834ea"
  },
  {
   "cell_type": "code",
   "execution_count": 6,
   "outputs": [],
   "source": [
    "ada_spam = ml.AdaBoost(num_classifiers=300, splitter=\"best\")\n",
    "ada_spam.fit(spam_train)"
   ],
   "metadata": {
    "collapsed": false,
    "ExecuteTime": {
     "end_time": "2023-11-26T12:32:12.313187Z",
     "start_time": "2023-11-26T12:32:11.065955Z"
    }
   },
   "id": "480b78ff02bf02e"
  },
  {
   "cell_type": "markdown",
   "source": [
    "### Accuracy"
   ],
   "metadata": {
    "collapsed": false
   },
   "id": "25836bcfc3476611"
  },
  {
   "cell_type": "code",
   "execution_count": 7,
   "outputs": [
    {
     "name": "stdout",
     "output_type": "stream",
     "text": [
      "Accuracy:  0.9250814332247557\n"
     ]
    }
   ],
   "source": [
    "print('Accuracy: ', ada_spam.accuracy(spam_test))"
   ],
   "metadata": {
    "collapsed": false,
    "ExecuteTime": {
     "end_time": "2023-11-26T12:32:12.405277Z",
     "start_time": "2023-11-26T12:32:12.311449Z"
    }
   },
   "id": "225d663d5901f30a"
  },
  {
   "cell_type": "markdown",
   "source": [
    "### Feature Importance"
   ],
   "metadata": {
    "collapsed": false
   },
   "id": "15b5225535680beb"
  },
  {
   "cell_type": "code",
   "execution_count": 8,
   "outputs": [
    {
     "name": "stdout",
     "output_type": "stream",
     "text": [
      "Feature Importance:  [(26, 38.0), (41, 30.0), (38, 23.0), (40, 22.0), (47, 20.0), (48, 14.0), (49, 14.0), (45, 11.0), (28, 10.0), (43, 10.0)]\n"
     ]
    }
   ],
   "source": [
    "print('Feature Importance: ', ada_spam.top_features(10))"
   ],
   "metadata": {
    "collapsed": false,
    "ExecuteTime": {
     "end_time": "2023-11-26T12:32:12.407376Z",
     "start_time": "2023-11-26T12:32:12.405497Z"
    }
   },
   "id": "1949cb4ec47af51f"
  },
  {
   "cell_type": "markdown",
   "source": [
    "## Polluted Spam AdaBoost"
   ],
   "metadata": {
    "collapsed": false
   },
   "id": "4cf54e2107d8d235"
  },
  {
   "cell_type": "code",
   "execution_count": 9,
   "outputs": [],
   "source": [
    "ada_polluted = ml.AdaBoost()\n",
    "ada_polluted.fit(spam_polluted_train)"
   ],
   "metadata": {
    "collapsed": false,
    "ExecuteTime": {
     "end_time": "2023-11-26T12:32:43.104779Z",
     "start_time": "2023-11-26T12:32:12.412710Z"
    }
   },
   "id": "8b11cc3906fb6085"
  },
  {
   "cell_type": "markdown",
   "source": [
    "### Accuracy"
   ],
   "metadata": {
    "collapsed": false
   },
   "id": "87e54cfbcf5f8ea8"
  },
  {
   "cell_type": "code",
   "execution_count": 10,
   "outputs": [
    {
     "name": "stdout",
     "output_type": "stream",
     "text": [
      "Accuracy:  0.9414316702819957\n"
     ]
    }
   ],
   "source": [
    "print('Accuracy: ', ada_polluted.accuracy(spam_polluted_test))"
   ],
   "metadata": {
    "collapsed": false,
    "ExecuteTime": {
     "end_time": "2023-11-26T12:32:43.262560Z",
     "start_time": "2023-11-26T12:32:43.108059Z"
    }
   },
   "id": "b45465e32a1c94e1"
  },
  {
   "cell_type": "markdown",
   "source": [
    "# Problem 2"
   ],
   "metadata": {
    "collapsed": false
   },
   "id": "3de977529947cb20"
  },
  {
   "cell_type": "markdown",
   "source": [
    "## Gaussian Naive Bayes"
   ],
   "metadata": {
    "collapsed": false
   },
   "id": "4bf194f5c7f598f7"
  },
  {
   "cell_type": "code",
   "execution_count": 11,
   "outputs": [],
   "source": [
    "gnb_spam = ml.GaussianNaiveBayes()"
   ],
   "metadata": {
    "collapsed": false,
    "ExecuteTime": {
     "end_time": "2023-11-26T12:32:43.263742Z",
     "start_time": "2023-11-26T12:32:43.262716Z"
    }
   },
   "id": "8c93cb0c43f63ef7"
  },
  {
   "cell_type": "markdown",
   "source": [
    "### Accuracy"
   ],
   "metadata": {
    "collapsed": false
   },
   "id": "2266c121afd03fa0"
  },
  {
   "cell_type": "code",
   "execution_count": 12,
   "outputs": [
    {
     "name": "stdout",
     "output_type": "stream",
     "text": [
      "Accuracy:  0.6282608695652174\n"
     ]
    }
   ],
   "source": [
    "print('Accuracy: ', gnb_spam.cross_validate(spam_polluted))"
   ],
   "metadata": {
    "collapsed": false,
    "ExecuteTime": {
     "end_time": "2023-11-26T12:32:46.219751Z",
     "start_time": "2023-11-26T12:32:43.264597Z"
    }
   },
   "id": "c296b16801d77bd3"
  },
  {
   "cell_type": "markdown",
   "source": [
    "## sklearn PCA"
   ],
   "metadata": {
    "collapsed": false
   },
   "id": "a848c4545f4fd756"
  },
  {
   "cell_type": "code",
   "execution_count": 13,
   "outputs": [],
   "source": [
    "pca = PCA(n_components=100)\n",
    "pca.fit(spam_polluted)\n",
    "pca_spam_df = pd.DataFrame(pca.transform(spam_polluted))\n",
    "pca_spam_df['spam'] = spam_polluted['spam']"
   ],
   "metadata": {
    "collapsed": false,
    "ExecuteTime": {
     "end_time": "2023-11-26T12:32:46.768045Z",
     "start_time": "2023-11-26T12:32:46.222225Z"
    }
   },
   "id": "b47e0284e26b9538"
  },
  {
   "cell_type": "markdown",
   "source": [
    "### GNB"
   ],
   "metadata": {
    "collapsed": false
   },
   "id": "362b7e6143a3e63c"
  },
  {
   "cell_type": "code",
   "execution_count": 14,
   "outputs": [],
   "source": [
    "gnb_pca_spam = ml.GaussianNaiveBayes()"
   ],
   "metadata": {
    "collapsed": false,
    "ExecuteTime": {
     "end_time": "2023-11-26T12:32:46.826240Z",
     "start_time": "2023-11-26T12:32:46.780800Z"
    }
   },
   "id": "8435f9a7bf87be99"
  },
  {
   "cell_type": "markdown",
   "source": [
    "#### Accuracy"
   ],
   "metadata": {
    "collapsed": false
   },
   "id": "459f0c5c81dd7915"
  },
  {
   "cell_type": "code",
   "execution_count": 15,
   "outputs": [
    {
     "name": "stdout",
     "output_type": "stream",
     "text": [
      "Accuracy:  0.773695652173913\n"
     ]
    }
   ],
   "source": [
    "print('Accuracy: ', gnb_pca_spam.cross_validate(pca_spam_df))"
   ],
   "metadata": {
    "collapsed": false,
    "ExecuteTime": {
     "end_time": "2023-11-26T12:32:48.901117Z",
     "start_time": "2023-11-26T12:32:46.861279Z"
    }
   },
   "id": "3305fa61d8474ef2"
  },
  {
   "cell_type": "markdown",
   "source": [
    "## Implemented PCA"
   ],
   "metadata": {
    "collapsed": false
   },
   "id": "54130237fab42b39"
  },
  {
   "cell_type": "code",
   "execution_count": 16,
   "outputs": [],
   "source": [
    "pca_spam = ml.PCA(100)\n",
    "pca_spam.fit(spam_polluted)\n",
    "pca_spam_df = pd.DataFrame(pca_spam.transform(spam_polluted))\n",
    "pca_spam_df['spam'] = spam_polluted['spam']"
   ],
   "metadata": {
    "collapsed": false,
    "ExecuteTime": {
     "end_time": "2023-11-26T12:32:50.819801Z",
     "start_time": "2023-11-26T12:32:48.901410Z"
    }
   },
   "id": "2eb91c40ae2883d6"
  },
  {
   "cell_type": "markdown",
   "source": [
    "### GNB"
   ],
   "metadata": {
    "collapsed": false
   },
   "id": "b36173f18488c023"
  },
  {
   "cell_type": "code",
   "execution_count": 17,
   "outputs": [],
   "source": [
    "gnb_pca_spam = ml.GaussianNaiveBayes()"
   ],
   "metadata": {
    "collapsed": false,
    "ExecuteTime": {
     "end_time": "2023-11-26T12:32:50.830607Z",
     "start_time": "2023-11-26T12:32:50.820142Z"
    }
   },
   "id": "7fa6171b6c4b9f1b"
  },
  {
   "cell_type": "markdown",
   "source": [
    "#### Accuracy"
   ],
   "metadata": {
    "collapsed": false
   },
   "id": "b2869a4018927cec"
  },
  {
   "cell_type": "code",
   "execution_count": 18,
   "outputs": [
    {
     "name": "stdout",
     "output_type": "stream",
     "text": [
      "Accuracy:  0.7797826086956522\n"
     ]
    }
   ],
   "source": [
    "print('Accuracy: ', gnb_pca_spam.cross_validate(pca_spam_df))"
   ],
   "metadata": {
    "collapsed": false,
    "ExecuteTime": {
     "end_time": "2023-11-26T12:32:52.890313Z",
     "start_time": "2023-11-26T12:32:50.824794Z"
    }
   },
   "id": "76cfe223f3173e06"
  },
  {
   "cell_type": "markdown",
   "source": [
    "# Problem 3"
   ],
   "metadata": {
    "collapsed": false
   },
   "id": "e9e39ea39e8a4f5b"
  },
  {
   "cell_type": "code",
   "execution_count": 19,
   "outputs": [],
   "source": [
    "# Load data\n",
    "missing_train = pd.read_csv('20_percent_missing_train.txt', header=None, delim_whitespace=False)\n",
    "\n",
    "missing_test = pd.read_csv('20_percent_missing_test.txt', header=None, delim_whitespace=False)\n",
    "\n",
    "missing_train.columns = missing_train.columns.astype(str)\n",
    "missing_test.columns = missing_test.columns.astype(str)\n",
    "\n",
    "missing = pd.concat([missing_train, missing_test], ignore_index=True)"
   ],
   "metadata": {
    "collapsed": false,
    "ExecuteTime": {
     "end_time": "2023-11-26T12:32:52.923850Z",
     "start_time": "2023-11-26T12:32:52.890584Z"
    }
   },
   "id": "5c3720082f5450f0"
  },
  {
   "cell_type": "code",
   "execution_count": 20,
   "outputs": [
    {
     "data": {
      "text/plain": "        0     1     2    3     4     5     6     7     8     9  ...     48  \\\n0     0.0  0.64   NaN  0.0  0.32  0.00   NaN  0.00   NaN  0.00  ...  0.000   \n1     NaN  0.00  0.00  0.0   NaN   NaN  0.31  0.63  0.31  0.63  ...  0.000   \n2     NaN  0.00  0.00  NaN  0.63   NaN   NaN  0.63  0.31  0.63  ...  0.000   \n3     0.0   NaN   NaN  0.0  1.85  0.00   NaN  1.85  0.00   NaN  ...    NaN   \n4     NaN  0.00  0.00  0.0  1.92  0.00  0.00   NaN   NaN  0.64  ...    NaN   \n...   ...   ...   ...  ...   ...   ...   ...   ...   ...   ...  ...    ...   \n3676  NaN  0.00  0.62  0.0  0.00  0.31  0.00  0.00   NaN   NaN  ...  0.000   \n3677  NaN  0.00  0.00  0.0  0.00   NaN  0.00   NaN  0.00   NaN  ...    NaN   \n3678  0.3   NaN  0.30  NaN  0.00  0.00  0.00  0.00  0.00  0.00  ...  0.102   \n3679  NaN   NaN  0.00  0.0  0.32   NaN  0.00   NaN  0.00  0.00  ...  0.000   \n3680  0.0  0.00   NaN  0.0  0.00   NaN   NaN   NaN  0.00  0.00  ...    NaN   \n\n         49   50     51     52   53     54    55     56   57  \n0     0.000  NaN  0.778  0.000  0.0  3.756  61.0    NaN  1.0  \n1     0.137  NaN  0.137  0.000  0.0  3.537  40.0  191.0  1.0  \n2       NaN  0.0    NaN  0.000  NaN  3.537  40.0  191.0  1.0  \n3     0.223  0.0  0.000  0.000  0.0  3.000   NaN   54.0  1.0  \n4     0.054  0.0  0.164  0.054  0.0  1.671   4.0  112.0  1.0  \n...     ...  ...    ...    ...  ...    ...   ...    ...  ...  \n3676    NaN  0.0  0.000    NaN  NaN  1.142   3.0    NaN  0.0  \n3677  0.000  0.0  0.353  0.000  0.0    NaN   NaN    NaN  0.0  \n3678  0.718  0.0  0.000    NaN  0.0  1.404   6.0  118.0  0.0  \n3679  0.057  0.0  0.000  0.000  0.0    NaN   NaN   78.0  0.0  \n3680    NaN  NaN  0.125  0.000  NaN  1.250   5.0    NaN  0.0  \n\n[3681 rows x 58 columns]",
      "text/html": "<div>\n<style scoped>\n    .dataframe tbody tr th:only-of-type {\n        vertical-align: middle;\n    }\n\n    .dataframe tbody tr th {\n        vertical-align: top;\n    }\n\n    .dataframe thead th {\n        text-align: right;\n    }\n</style>\n<table border=\"1\" class=\"dataframe\">\n  <thead>\n    <tr style=\"text-align: right;\">\n      <th></th>\n      <th>0</th>\n      <th>1</th>\n      <th>2</th>\n      <th>3</th>\n      <th>4</th>\n      <th>5</th>\n      <th>6</th>\n      <th>7</th>\n      <th>8</th>\n      <th>9</th>\n      <th>...</th>\n      <th>48</th>\n      <th>49</th>\n      <th>50</th>\n      <th>51</th>\n      <th>52</th>\n      <th>53</th>\n      <th>54</th>\n      <th>55</th>\n      <th>56</th>\n      <th>57</th>\n    </tr>\n  </thead>\n  <tbody>\n    <tr>\n      <th>0</th>\n      <td>0.0</td>\n      <td>0.64</td>\n      <td>NaN</td>\n      <td>0.0</td>\n      <td>0.32</td>\n      <td>0.00</td>\n      <td>NaN</td>\n      <td>0.00</td>\n      <td>NaN</td>\n      <td>0.00</td>\n      <td>...</td>\n      <td>0.000</td>\n      <td>0.000</td>\n      <td>NaN</td>\n      <td>0.778</td>\n      <td>0.000</td>\n      <td>0.0</td>\n      <td>3.756</td>\n      <td>61.0</td>\n      <td>NaN</td>\n      <td>1.0</td>\n    </tr>\n    <tr>\n      <th>1</th>\n      <td>NaN</td>\n      <td>0.00</td>\n      <td>0.00</td>\n      <td>0.0</td>\n      <td>NaN</td>\n      <td>NaN</td>\n      <td>0.31</td>\n      <td>0.63</td>\n      <td>0.31</td>\n      <td>0.63</td>\n      <td>...</td>\n      <td>0.000</td>\n      <td>0.137</td>\n      <td>NaN</td>\n      <td>0.137</td>\n      <td>0.000</td>\n      <td>0.0</td>\n      <td>3.537</td>\n      <td>40.0</td>\n      <td>191.0</td>\n      <td>1.0</td>\n    </tr>\n    <tr>\n      <th>2</th>\n      <td>NaN</td>\n      <td>0.00</td>\n      <td>0.00</td>\n      <td>NaN</td>\n      <td>0.63</td>\n      <td>NaN</td>\n      <td>NaN</td>\n      <td>0.63</td>\n      <td>0.31</td>\n      <td>0.63</td>\n      <td>...</td>\n      <td>0.000</td>\n      <td>NaN</td>\n      <td>0.0</td>\n      <td>NaN</td>\n      <td>0.000</td>\n      <td>NaN</td>\n      <td>3.537</td>\n      <td>40.0</td>\n      <td>191.0</td>\n      <td>1.0</td>\n    </tr>\n    <tr>\n      <th>3</th>\n      <td>0.0</td>\n      <td>NaN</td>\n      <td>NaN</td>\n      <td>0.0</td>\n      <td>1.85</td>\n      <td>0.00</td>\n      <td>NaN</td>\n      <td>1.85</td>\n      <td>0.00</td>\n      <td>NaN</td>\n      <td>...</td>\n      <td>NaN</td>\n      <td>0.223</td>\n      <td>0.0</td>\n      <td>0.000</td>\n      <td>0.000</td>\n      <td>0.0</td>\n      <td>3.000</td>\n      <td>NaN</td>\n      <td>54.0</td>\n      <td>1.0</td>\n    </tr>\n    <tr>\n      <th>4</th>\n      <td>NaN</td>\n      <td>0.00</td>\n      <td>0.00</td>\n      <td>0.0</td>\n      <td>1.92</td>\n      <td>0.00</td>\n      <td>0.00</td>\n      <td>NaN</td>\n      <td>NaN</td>\n      <td>0.64</td>\n      <td>...</td>\n      <td>NaN</td>\n      <td>0.054</td>\n      <td>0.0</td>\n      <td>0.164</td>\n      <td>0.054</td>\n      <td>0.0</td>\n      <td>1.671</td>\n      <td>4.0</td>\n      <td>112.0</td>\n      <td>1.0</td>\n    </tr>\n    <tr>\n      <th>...</th>\n      <td>...</td>\n      <td>...</td>\n      <td>...</td>\n      <td>...</td>\n      <td>...</td>\n      <td>...</td>\n      <td>...</td>\n      <td>...</td>\n      <td>...</td>\n      <td>...</td>\n      <td>...</td>\n      <td>...</td>\n      <td>...</td>\n      <td>...</td>\n      <td>...</td>\n      <td>...</td>\n      <td>...</td>\n      <td>...</td>\n      <td>...</td>\n      <td>...</td>\n      <td>...</td>\n    </tr>\n    <tr>\n      <th>3676</th>\n      <td>NaN</td>\n      <td>0.00</td>\n      <td>0.62</td>\n      <td>0.0</td>\n      <td>0.00</td>\n      <td>0.31</td>\n      <td>0.00</td>\n      <td>0.00</td>\n      <td>NaN</td>\n      <td>NaN</td>\n      <td>...</td>\n      <td>0.000</td>\n      <td>NaN</td>\n      <td>0.0</td>\n      <td>0.000</td>\n      <td>NaN</td>\n      <td>NaN</td>\n      <td>1.142</td>\n      <td>3.0</td>\n      <td>NaN</td>\n      <td>0.0</td>\n    </tr>\n    <tr>\n      <th>3677</th>\n      <td>NaN</td>\n      <td>0.00</td>\n      <td>0.00</td>\n      <td>0.0</td>\n      <td>0.00</td>\n      <td>NaN</td>\n      <td>0.00</td>\n      <td>NaN</td>\n      <td>0.00</td>\n      <td>NaN</td>\n      <td>...</td>\n      <td>NaN</td>\n      <td>0.000</td>\n      <td>0.0</td>\n      <td>0.353</td>\n      <td>0.000</td>\n      <td>0.0</td>\n      <td>NaN</td>\n      <td>NaN</td>\n      <td>NaN</td>\n      <td>0.0</td>\n    </tr>\n    <tr>\n      <th>3678</th>\n      <td>0.3</td>\n      <td>NaN</td>\n      <td>0.30</td>\n      <td>NaN</td>\n      <td>0.00</td>\n      <td>0.00</td>\n      <td>0.00</td>\n      <td>0.00</td>\n      <td>0.00</td>\n      <td>0.00</td>\n      <td>...</td>\n      <td>0.102</td>\n      <td>0.718</td>\n      <td>0.0</td>\n      <td>0.000</td>\n      <td>NaN</td>\n      <td>0.0</td>\n      <td>1.404</td>\n      <td>6.0</td>\n      <td>118.0</td>\n      <td>0.0</td>\n    </tr>\n    <tr>\n      <th>3679</th>\n      <td>NaN</td>\n      <td>NaN</td>\n      <td>0.00</td>\n      <td>0.0</td>\n      <td>0.32</td>\n      <td>NaN</td>\n      <td>0.00</td>\n      <td>NaN</td>\n      <td>0.00</td>\n      <td>0.00</td>\n      <td>...</td>\n      <td>0.000</td>\n      <td>0.057</td>\n      <td>0.0</td>\n      <td>0.000</td>\n      <td>0.000</td>\n      <td>0.0</td>\n      <td>NaN</td>\n      <td>NaN</td>\n      <td>78.0</td>\n      <td>0.0</td>\n    </tr>\n    <tr>\n      <th>3680</th>\n      <td>0.0</td>\n      <td>0.00</td>\n      <td>NaN</td>\n      <td>0.0</td>\n      <td>0.00</td>\n      <td>NaN</td>\n      <td>NaN</td>\n      <td>NaN</td>\n      <td>0.00</td>\n      <td>0.00</td>\n      <td>...</td>\n      <td>NaN</td>\n      <td>NaN</td>\n      <td>NaN</td>\n      <td>0.125</td>\n      <td>0.000</td>\n      <td>NaN</td>\n      <td>1.250</td>\n      <td>5.0</td>\n      <td>NaN</td>\n      <td>0.0</td>\n    </tr>\n  </tbody>\n</table>\n<p>3681 rows × 58 columns</p>\n</div>"
     },
     "metadata": {},
     "output_type": "display_data"
    },
    {
     "data": {
      "text/plain": "        0     1     2    3     4     5    6     7     8     9  ...     48  \\\n0    0.21  0.28   NaN  NaN   NaN   NaN  NaN  0.07  0.00  0.94  ...  0.000   \n1    0.00  0.00  0.25  0.0  0.38  0.25  NaN  0.00  0.00  0.00  ...  0.022   \n2    0.05  0.07  0.10  0.0  0.76   NaN  NaN   NaN  0.55  0.00  ...  0.042   \n3     NaN   NaN   NaN  0.0  0.00  0.00  0.0  0.00   NaN   NaN  ...    NaN   \n4     NaN  0.00  0.00  NaN  2.94  0.00  NaN  0.00  0.00  0.00  ...  0.335   \n..    ...   ...   ...  ...   ...   ...  ...   ...   ...   ...  ...    ...   \n915  0.00   NaN  0.00  0.0  0.00  0.00  0.0  0.00  0.00  0.00  ...    NaN   \n916  0.00  0.00  1.02  0.0  0.00   NaN  0.0  0.00   NaN   NaN  ...  0.000   \n917  0.00  0.00  0.00  0.0   NaN  0.00  NaN   NaN   NaN  0.00  ...  0.000   \n918  0.00  0.00  0.00  0.0  0.00   NaN  0.0  0.00  0.00   NaN  ...  0.000   \n919  0.00  0.00  1.25  NaN  2.50  0.00  0.0  0.00  0.00  0.00  ...  0.000   \n\n        49     50     51     52     53     54     55      56   57  \n0    0.132  0.000  0.372    NaN  0.048  5.114  101.0     NaN  1.0  \n1    0.044    NaN    NaN  0.000  0.000    NaN   11.0   184.0  1.0  \n2      NaN  0.016  0.250  0.046  0.059  2.569    NaN  2259.0  1.0  \n3    0.352  0.000  2.112  0.000  0.000  3.909   11.0     NaN  1.0  \n4    0.335  0.000  0.671    NaN  0.000  4.000   12.0     NaN  1.0  \n..     ...    ...    ...    ...    ...    ...    ...     ...  ...  \n915    NaN    NaN  0.000  0.000    NaN  3.333    NaN     NaN  0.0  \n916    NaN  0.000  0.000  0.000  0.000    NaN    5.0    28.0  0.0  \n917  0.254  0.000  0.000  0.000  0.000  1.000    NaN    13.0  0.0  \n918  0.000  0.000  0.000  0.000    NaN  1.266    NaN    19.0  0.0  \n919  0.111  0.000  0.000  0.000  0.000    NaN    NaN    27.0  0.0  \n\n[920 rows x 58 columns]",
      "text/html": "<div>\n<style scoped>\n    .dataframe tbody tr th:only-of-type {\n        vertical-align: middle;\n    }\n\n    .dataframe tbody tr th {\n        vertical-align: top;\n    }\n\n    .dataframe thead th {\n        text-align: right;\n    }\n</style>\n<table border=\"1\" class=\"dataframe\">\n  <thead>\n    <tr style=\"text-align: right;\">\n      <th></th>\n      <th>0</th>\n      <th>1</th>\n      <th>2</th>\n      <th>3</th>\n      <th>4</th>\n      <th>5</th>\n      <th>6</th>\n      <th>7</th>\n      <th>8</th>\n      <th>9</th>\n      <th>...</th>\n      <th>48</th>\n      <th>49</th>\n      <th>50</th>\n      <th>51</th>\n      <th>52</th>\n      <th>53</th>\n      <th>54</th>\n      <th>55</th>\n      <th>56</th>\n      <th>57</th>\n    </tr>\n  </thead>\n  <tbody>\n    <tr>\n      <th>0</th>\n      <td>0.21</td>\n      <td>0.28</td>\n      <td>NaN</td>\n      <td>NaN</td>\n      <td>NaN</td>\n      <td>NaN</td>\n      <td>NaN</td>\n      <td>0.07</td>\n      <td>0.00</td>\n      <td>0.94</td>\n      <td>...</td>\n      <td>0.000</td>\n      <td>0.132</td>\n      <td>0.000</td>\n      <td>0.372</td>\n      <td>NaN</td>\n      <td>0.048</td>\n      <td>5.114</td>\n      <td>101.0</td>\n      <td>NaN</td>\n      <td>1.0</td>\n    </tr>\n    <tr>\n      <th>1</th>\n      <td>0.00</td>\n      <td>0.00</td>\n      <td>0.25</td>\n      <td>0.0</td>\n      <td>0.38</td>\n      <td>0.25</td>\n      <td>NaN</td>\n      <td>0.00</td>\n      <td>0.00</td>\n      <td>0.00</td>\n      <td>...</td>\n      <td>0.022</td>\n      <td>0.044</td>\n      <td>NaN</td>\n      <td>NaN</td>\n      <td>0.000</td>\n      <td>0.000</td>\n      <td>NaN</td>\n      <td>11.0</td>\n      <td>184.0</td>\n      <td>1.0</td>\n    </tr>\n    <tr>\n      <th>2</th>\n      <td>0.05</td>\n      <td>0.07</td>\n      <td>0.10</td>\n      <td>0.0</td>\n      <td>0.76</td>\n      <td>NaN</td>\n      <td>NaN</td>\n      <td>NaN</td>\n      <td>0.55</td>\n      <td>0.00</td>\n      <td>...</td>\n      <td>0.042</td>\n      <td>NaN</td>\n      <td>0.016</td>\n      <td>0.250</td>\n      <td>0.046</td>\n      <td>0.059</td>\n      <td>2.569</td>\n      <td>NaN</td>\n      <td>2259.0</td>\n      <td>1.0</td>\n    </tr>\n    <tr>\n      <th>3</th>\n      <td>NaN</td>\n      <td>NaN</td>\n      <td>NaN</td>\n      <td>0.0</td>\n      <td>0.00</td>\n      <td>0.00</td>\n      <td>0.0</td>\n      <td>0.00</td>\n      <td>NaN</td>\n      <td>NaN</td>\n      <td>...</td>\n      <td>NaN</td>\n      <td>0.352</td>\n      <td>0.000</td>\n      <td>2.112</td>\n      <td>0.000</td>\n      <td>0.000</td>\n      <td>3.909</td>\n      <td>11.0</td>\n      <td>NaN</td>\n      <td>1.0</td>\n    </tr>\n    <tr>\n      <th>4</th>\n      <td>NaN</td>\n      <td>0.00</td>\n      <td>0.00</td>\n      <td>NaN</td>\n      <td>2.94</td>\n      <td>0.00</td>\n      <td>NaN</td>\n      <td>0.00</td>\n      <td>0.00</td>\n      <td>0.00</td>\n      <td>...</td>\n      <td>0.335</td>\n      <td>0.335</td>\n      <td>0.000</td>\n      <td>0.671</td>\n      <td>NaN</td>\n      <td>0.000</td>\n      <td>4.000</td>\n      <td>12.0</td>\n      <td>NaN</td>\n      <td>1.0</td>\n    </tr>\n    <tr>\n      <th>...</th>\n      <td>...</td>\n      <td>...</td>\n      <td>...</td>\n      <td>...</td>\n      <td>...</td>\n      <td>...</td>\n      <td>...</td>\n      <td>...</td>\n      <td>...</td>\n      <td>...</td>\n      <td>...</td>\n      <td>...</td>\n      <td>...</td>\n      <td>...</td>\n      <td>...</td>\n      <td>...</td>\n      <td>...</td>\n      <td>...</td>\n      <td>...</td>\n      <td>...</td>\n      <td>...</td>\n    </tr>\n    <tr>\n      <th>915</th>\n      <td>0.00</td>\n      <td>NaN</td>\n      <td>0.00</td>\n      <td>0.0</td>\n      <td>0.00</td>\n      <td>0.00</td>\n      <td>0.0</td>\n      <td>0.00</td>\n      <td>0.00</td>\n      <td>0.00</td>\n      <td>...</td>\n      <td>NaN</td>\n      <td>NaN</td>\n      <td>NaN</td>\n      <td>0.000</td>\n      <td>0.000</td>\n      <td>NaN</td>\n      <td>3.333</td>\n      <td>NaN</td>\n      <td>NaN</td>\n      <td>0.0</td>\n    </tr>\n    <tr>\n      <th>916</th>\n      <td>0.00</td>\n      <td>0.00</td>\n      <td>1.02</td>\n      <td>0.0</td>\n      <td>0.00</td>\n      <td>NaN</td>\n      <td>0.0</td>\n      <td>0.00</td>\n      <td>NaN</td>\n      <td>NaN</td>\n      <td>...</td>\n      <td>0.000</td>\n      <td>NaN</td>\n      <td>0.000</td>\n      <td>0.000</td>\n      <td>0.000</td>\n      <td>0.000</td>\n      <td>NaN</td>\n      <td>5.0</td>\n      <td>28.0</td>\n      <td>0.0</td>\n    </tr>\n    <tr>\n      <th>917</th>\n      <td>0.00</td>\n      <td>0.00</td>\n      <td>0.00</td>\n      <td>0.0</td>\n      <td>NaN</td>\n      <td>0.00</td>\n      <td>NaN</td>\n      <td>NaN</td>\n      <td>NaN</td>\n      <td>0.00</td>\n      <td>...</td>\n      <td>0.000</td>\n      <td>0.254</td>\n      <td>0.000</td>\n      <td>0.000</td>\n      <td>0.000</td>\n      <td>0.000</td>\n      <td>1.000</td>\n      <td>NaN</td>\n      <td>13.0</td>\n      <td>0.0</td>\n    </tr>\n    <tr>\n      <th>918</th>\n      <td>0.00</td>\n      <td>0.00</td>\n      <td>0.00</td>\n      <td>0.0</td>\n      <td>0.00</td>\n      <td>NaN</td>\n      <td>0.0</td>\n      <td>0.00</td>\n      <td>0.00</td>\n      <td>NaN</td>\n      <td>...</td>\n      <td>0.000</td>\n      <td>0.000</td>\n      <td>0.000</td>\n      <td>0.000</td>\n      <td>0.000</td>\n      <td>NaN</td>\n      <td>1.266</td>\n      <td>NaN</td>\n      <td>19.0</td>\n      <td>0.0</td>\n    </tr>\n    <tr>\n      <th>919</th>\n      <td>0.00</td>\n      <td>0.00</td>\n      <td>1.25</td>\n      <td>NaN</td>\n      <td>2.50</td>\n      <td>0.00</td>\n      <td>0.0</td>\n      <td>0.00</td>\n      <td>0.00</td>\n      <td>0.00</td>\n      <td>...</td>\n      <td>0.000</td>\n      <td>0.111</td>\n      <td>0.000</td>\n      <td>0.000</td>\n      <td>0.000</td>\n      <td>0.000</td>\n      <td>NaN</td>\n      <td>NaN</td>\n      <td>27.0</td>\n      <td>0.0</td>\n    </tr>\n  </tbody>\n</table>\n<p>920 rows × 58 columns</p>\n</div>"
     },
     "metadata": {},
     "output_type": "display_data"
    }
   ],
   "source": [
    "# Display data\n",
    "display(missing_train)\n",
    "display(missing_test)"
   ],
   "metadata": {
    "collapsed": false,
    "ExecuteTime": {
     "end_time": "2023-11-26T12:32:52.930184Z",
     "start_time": "2023-11-26T12:32:52.910163Z"
    }
   },
   "id": "80a9f5328eaace46"
  },
  {
   "cell_type": "markdown",
   "source": [
    "## Missing Data Bernoulli Naive Bayes"
   ],
   "metadata": {
    "collapsed": false
   },
   "id": "ca5bc41e7d1812d0"
  },
  {
   "cell_type": "code",
   "execution_count": 21,
   "outputs": [],
   "source": [
    "bnb_missing = ml.MissingValuesBernoulliNaiveBayes()\n",
    "bnb_missing.fit(missing_train)"
   ],
   "metadata": {
    "collapsed": false,
    "ExecuteTime": {
     "end_time": "2023-11-26T12:32:52.932648Z",
     "start_time": "2023-11-26T12:32:52.926131Z"
    }
   },
   "id": "38be66d225ed91c6"
  },
  {
   "cell_type": "markdown",
   "source": [
    "### Accuracy"
   ],
   "metadata": {
    "collapsed": false
   },
   "id": "30e541d8155e3f35"
  },
  {
   "cell_type": "code",
   "execution_count": 22,
   "outputs": [
    {
     "name": "stdout",
     "output_type": "stream",
     "text": [
      "Accuracy:  0.8076086956521739\n"
     ]
    }
   ],
   "source": [
    "print('Accuracy: ', bnb_missing.accuracy(missing_test))"
   ],
   "metadata": {
    "collapsed": false,
    "ExecuteTime": {
     "end_time": "2023-11-26T12:32:53.214587Z",
     "start_time": "2023-11-26T12:32:52.932454Z"
    }
   },
   "id": "d709dd153f5bb5bf"
  },
  {
   "cell_type": "code",
   "execution_count": 22,
   "outputs": [],
   "source": [],
   "metadata": {
    "collapsed": false,
    "ExecuteTime": {
     "end_time": "2023-11-26T12:32:53.215856Z",
     "start_time": "2023-11-26T12:32:53.214670Z"
    }
   },
   "id": "e56f8a758176d40c"
  }
 ],
 "metadata": {
  "kernelspec": {
   "display_name": "Python 3",
   "language": "python",
   "name": "python3"
  },
  "language_info": {
   "codemirror_mode": {
    "name": "ipython",
    "version": 2
   },
   "file_extension": ".py",
   "mimetype": "text/x-python",
   "name": "python",
   "nbconvert_exporter": "python",
   "pygments_lexer": "ipython2",
   "version": "2.7.6"
  }
 },
 "nbformat": 4,
 "nbformat_minor": 5
}
