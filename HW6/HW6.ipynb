{
 "cells": [
  {
   "cell_type": "code",
   "execution_count": 1,
   "id": "initial_id",
   "metadata": {
    "collapsed": true,
    "ExecuteTime": {
     "end_time": "2023-12-14T21:14:39.389511Z",
     "start_time": "2023-12-14T21:14:35.323494Z"
    }
   },
   "outputs": [],
   "source": [
    "import pandas as pd\n",
    "from sklearn import metrics\n",
    "from sklearn import model_selection\n",
    "from sklearn import svm\n",
    "\n",
    "import MLutils as ml"
   ]
  },
  {
   "cell_type": "code",
   "execution_count": 2,
   "outputs": [],
   "source": [
    "# Load data\n",
    "columns = ['word_freq_make', 'word_freq_address', 'word_freq_all', 'word_freq_3d', 'word_freq_our',\n",
    "           'word_freq_over', 'word_freq_remove', 'word_freq_internet', 'word_freq_order',\n",
    "           'word_freq_mail', 'word_freq_receive', 'word_freq_will', 'word_freq_people',\n",
    "           'word_freq_report', 'word_freq_addresses', 'word_freq_free', 'word_freq_business',\n",
    "           'word_freq_email', 'word_freq_you', 'word_freq_credit', 'word_freq_your',\n",
    "           'word_freq_font', 'word_freq_000', 'word_freq_money', 'word_freq_hp', 'word_freq_hpl',\n",
    "           'word_freq_george', 'word_freq_650', 'word_freq_lab', 'word_freq_labs',\n",
    "           'word_freq_telnet', 'word_freq_857', 'word_freq_data', 'word_freq_415', 'word_freq_85',\n",
    "           'word_freq_technology', 'word_freq_1999', 'word_freq_parts', 'word_freq_pm',\n",
    "           'word_freq_direct', 'word_freq_cs', 'word_freq_meeting', 'word_freq_original',\n",
    "           'word_freq_project', 'word_freq_re', 'word_freq_edu', 'word_freq_table',\n",
    "           'word_freq_conference', 'char_freq_;', 'char_freq_(', 'char_freq_[', 'char_freq_!',\n",
    "           'char_freq_$', 'char_freq_#', 'capital_run_length_average', 'capital_run_length_longest',\n",
    "           'capital_run_length_total']\n",
    "\n",
    "spambase = pd.read_csv('spambase.data', header=None, delim_whitespace=False, names=columns + ['spam'])"
   ],
   "metadata": {
    "collapsed": false,
    "ExecuteTime": {
     "end_time": "2023-12-14T01:14:19.269839Z",
     "start_time": "2023-12-14T01:14:19.254501Z"
    }
   },
   "id": "84a35c3e63d93328"
  },
  {
   "cell_type": "code",
   "execution_count": 3,
   "outputs": [
    {
     "data": {
      "text/plain": "      word_freq_make  word_freq_address  word_freq_all  word_freq_3d  \\\n0               0.00               0.64           0.64           0.0   \n1               0.21               0.28           0.50           0.0   \n2               0.06               0.00           0.71           0.0   \n3               0.00               0.00           0.00           0.0   \n4               0.00               0.00           0.00           0.0   \n...              ...                ...            ...           ...   \n4596            0.31               0.00           0.62           0.0   \n4597            0.00               0.00           0.00           0.0   \n4598            0.30               0.00           0.30           0.0   \n4599            0.96               0.00           0.00           0.0   \n4600            0.00               0.00           0.65           0.0   \n\n      word_freq_our  word_freq_over  word_freq_remove  word_freq_internet  \\\n0              0.32            0.00              0.00                0.00   \n1              0.14            0.28              0.21                0.07   \n2              1.23            0.19              0.19                0.12   \n3              0.63            0.00              0.31                0.63   \n4              0.63            0.00              0.31                0.63   \n...             ...             ...               ...                 ...   \n4596           0.00            0.31              0.00                0.00   \n4597           0.00            0.00              0.00                0.00   \n4598           0.00            0.00              0.00                0.00   \n4599           0.32            0.00              0.00                0.00   \n4600           0.00            0.00              0.00                0.00   \n\n      word_freq_order  word_freq_mail  ...  char_freq_;  char_freq_(  \\\n0                0.00            0.00  ...        0.000        0.000   \n1                0.00            0.94  ...        0.000        0.132   \n2                0.64            0.25  ...        0.010        0.143   \n3                0.31            0.63  ...        0.000        0.137   \n4                0.31            0.63  ...        0.000        0.135   \n...               ...             ...  ...          ...          ...   \n4596             0.00            0.00  ...        0.000        0.232   \n4597             0.00            0.00  ...        0.000        0.000   \n4598             0.00            0.00  ...        0.102        0.718   \n4599             0.00            0.00  ...        0.000        0.057   \n4600             0.00            0.00  ...        0.000        0.000   \n\n      char_freq_[  char_freq_!  char_freq_$  char_freq_#  \\\n0             0.0        0.778        0.000        0.000   \n1             0.0        0.372        0.180        0.048   \n2             0.0        0.276        0.184        0.010   \n3             0.0        0.137        0.000        0.000   \n4             0.0        0.135        0.000        0.000   \n...           ...          ...          ...          ...   \n4596          0.0        0.000        0.000        0.000   \n4597          0.0        0.353        0.000        0.000   \n4598          0.0        0.000        0.000        0.000   \n4599          0.0        0.000        0.000        0.000   \n4600          0.0        0.125        0.000        0.000   \n\n      capital_run_length_average  capital_run_length_longest  \\\n0                          3.756                          61   \n1                          5.114                         101   \n2                          9.821                         485   \n3                          3.537                          40   \n4                          3.537                          40   \n...                          ...                         ...   \n4596                       1.142                           3   \n4597                       1.555                           4   \n4598                       1.404                           6   \n4599                       1.147                           5   \n4600                       1.250                           5   \n\n      capital_run_length_total  spam  \n0                          278     1  \n1                         1028     1  \n2                         2259     1  \n3                          191     1  \n4                          191     1  \n...                        ...   ...  \n4596                        88     0  \n4597                        14     0  \n4598                       118     0  \n4599                        78     0  \n4600                        40     0  \n\n[4601 rows x 58 columns]",
      "text/html": "<div>\n<style scoped>\n    .dataframe tbody tr th:only-of-type {\n        vertical-align: middle;\n    }\n\n    .dataframe tbody tr th {\n        vertical-align: top;\n    }\n\n    .dataframe thead th {\n        text-align: right;\n    }\n</style>\n<table border=\"1\" class=\"dataframe\">\n  <thead>\n    <tr style=\"text-align: right;\">\n      <th></th>\n      <th>word_freq_make</th>\n      <th>word_freq_address</th>\n      <th>word_freq_all</th>\n      <th>word_freq_3d</th>\n      <th>word_freq_our</th>\n      <th>word_freq_over</th>\n      <th>word_freq_remove</th>\n      <th>word_freq_internet</th>\n      <th>word_freq_order</th>\n      <th>word_freq_mail</th>\n      <th>...</th>\n      <th>char_freq_;</th>\n      <th>char_freq_(</th>\n      <th>char_freq_[</th>\n      <th>char_freq_!</th>\n      <th>char_freq_$</th>\n      <th>char_freq_#</th>\n      <th>capital_run_length_average</th>\n      <th>capital_run_length_longest</th>\n      <th>capital_run_length_total</th>\n      <th>spam</th>\n    </tr>\n  </thead>\n  <tbody>\n    <tr>\n      <th>0</th>\n      <td>0.00</td>\n      <td>0.64</td>\n      <td>0.64</td>\n      <td>0.0</td>\n      <td>0.32</td>\n      <td>0.00</td>\n      <td>0.00</td>\n      <td>0.00</td>\n      <td>0.00</td>\n      <td>0.00</td>\n      <td>...</td>\n      <td>0.000</td>\n      <td>0.000</td>\n      <td>0.0</td>\n      <td>0.778</td>\n      <td>0.000</td>\n      <td>0.000</td>\n      <td>3.756</td>\n      <td>61</td>\n      <td>278</td>\n      <td>1</td>\n    </tr>\n    <tr>\n      <th>1</th>\n      <td>0.21</td>\n      <td>0.28</td>\n      <td>0.50</td>\n      <td>0.0</td>\n      <td>0.14</td>\n      <td>0.28</td>\n      <td>0.21</td>\n      <td>0.07</td>\n      <td>0.00</td>\n      <td>0.94</td>\n      <td>...</td>\n      <td>0.000</td>\n      <td>0.132</td>\n      <td>0.0</td>\n      <td>0.372</td>\n      <td>0.180</td>\n      <td>0.048</td>\n      <td>5.114</td>\n      <td>101</td>\n      <td>1028</td>\n      <td>1</td>\n    </tr>\n    <tr>\n      <th>2</th>\n      <td>0.06</td>\n      <td>0.00</td>\n      <td>0.71</td>\n      <td>0.0</td>\n      <td>1.23</td>\n      <td>0.19</td>\n      <td>0.19</td>\n      <td>0.12</td>\n      <td>0.64</td>\n      <td>0.25</td>\n      <td>...</td>\n      <td>0.010</td>\n      <td>0.143</td>\n      <td>0.0</td>\n      <td>0.276</td>\n      <td>0.184</td>\n      <td>0.010</td>\n      <td>9.821</td>\n      <td>485</td>\n      <td>2259</td>\n      <td>1</td>\n    </tr>\n    <tr>\n      <th>3</th>\n      <td>0.00</td>\n      <td>0.00</td>\n      <td>0.00</td>\n      <td>0.0</td>\n      <td>0.63</td>\n      <td>0.00</td>\n      <td>0.31</td>\n      <td>0.63</td>\n      <td>0.31</td>\n      <td>0.63</td>\n      <td>...</td>\n      <td>0.000</td>\n      <td>0.137</td>\n      <td>0.0</td>\n      <td>0.137</td>\n      <td>0.000</td>\n      <td>0.000</td>\n      <td>3.537</td>\n      <td>40</td>\n      <td>191</td>\n      <td>1</td>\n    </tr>\n    <tr>\n      <th>4</th>\n      <td>0.00</td>\n      <td>0.00</td>\n      <td>0.00</td>\n      <td>0.0</td>\n      <td>0.63</td>\n      <td>0.00</td>\n      <td>0.31</td>\n      <td>0.63</td>\n      <td>0.31</td>\n      <td>0.63</td>\n      <td>...</td>\n      <td>0.000</td>\n      <td>0.135</td>\n      <td>0.0</td>\n      <td>0.135</td>\n      <td>0.000</td>\n      <td>0.000</td>\n      <td>3.537</td>\n      <td>40</td>\n      <td>191</td>\n      <td>1</td>\n    </tr>\n    <tr>\n      <th>...</th>\n      <td>...</td>\n      <td>...</td>\n      <td>...</td>\n      <td>...</td>\n      <td>...</td>\n      <td>...</td>\n      <td>...</td>\n      <td>...</td>\n      <td>...</td>\n      <td>...</td>\n      <td>...</td>\n      <td>...</td>\n      <td>...</td>\n      <td>...</td>\n      <td>...</td>\n      <td>...</td>\n      <td>...</td>\n      <td>...</td>\n      <td>...</td>\n      <td>...</td>\n      <td>...</td>\n    </tr>\n    <tr>\n      <th>4596</th>\n      <td>0.31</td>\n      <td>0.00</td>\n      <td>0.62</td>\n      <td>0.0</td>\n      <td>0.00</td>\n      <td>0.31</td>\n      <td>0.00</td>\n      <td>0.00</td>\n      <td>0.00</td>\n      <td>0.00</td>\n      <td>...</td>\n      <td>0.000</td>\n      <td>0.232</td>\n      <td>0.0</td>\n      <td>0.000</td>\n      <td>0.000</td>\n      <td>0.000</td>\n      <td>1.142</td>\n      <td>3</td>\n      <td>88</td>\n      <td>0</td>\n    </tr>\n    <tr>\n      <th>4597</th>\n      <td>0.00</td>\n      <td>0.00</td>\n      <td>0.00</td>\n      <td>0.0</td>\n      <td>0.00</td>\n      <td>0.00</td>\n      <td>0.00</td>\n      <td>0.00</td>\n      <td>0.00</td>\n      <td>0.00</td>\n      <td>...</td>\n      <td>0.000</td>\n      <td>0.000</td>\n      <td>0.0</td>\n      <td>0.353</td>\n      <td>0.000</td>\n      <td>0.000</td>\n      <td>1.555</td>\n      <td>4</td>\n      <td>14</td>\n      <td>0</td>\n    </tr>\n    <tr>\n      <th>4598</th>\n      <td>0.30</td>\n      <td>0.00</td>\n      <td>0.30</td>\n      <td>0.0</td>\n      <td>0.00</td>\n      <td>0.00</td>\n      <td>0.00</td>\n      <td>0.00</td>\n      <td>0.00</td>\n      <td>0.00</td>\n      <td>...</td>\n      <td>0.102</td>\n      <td>0.718</td>\n      <td>0.0</td>\n      <td>0.000</td>\n      <td>0.000</td>\n      <td>0.000</td>\n      <td>1.404</td>\n      <td>6</td>\n      <td>118</td>\n      <td>0</td>\n    </tr>\n    <tr>\n      <th>4599</th>\n      <td>0.96</td>\n      <td>0.00</td>\n      <td>0.00</td>\n      <td>0.0</td>\n      <td>0.32</td>\n      <td>0.00</td>\n      <td>0.00</td>\n      <td>0.00</td>\n      <td>0.00</td>\n      <td>0.00</td>\n      <td>...</td>\n      <td>0.000</td>\n      <td>0.057</td>\n      <td>0.0</td>\n      <td>0.000</td>\n      <td>0.000</td>\n      <td>0.000</td>\n      <td>1.147</td>\n      <td>5</td>\n      <td>78</td>\n      <td>0</td>\n    </tr>\n    <tr>\n      <th>4600</th>\n      <td>0.00</td>\n      <td>0.00</td>\n      <td>0.65</td>\n      <td>0.0</td>\n      <td>0.00</td>\n      <td>0.00</td>\n      <td>0.00</td>\n      <td>0.00</td>\n      <td>0.00</td>\n      <td>0.00</td>\n      <td>...</td>\n      <td>0.000</td>\n      <td>0.000</td>\n      <td>0.0</td>\n      <td>0.125</td>\n      <td>0.000</td>\n      <td>0.000</td>\n      <td>1.250</td>\n      <td>5</td>\n      <td>40</td>\n      <td>0</td>\n    </tr>\n  </tbody>\n</table>\n<p>4601 rows × 58 columns</p>\n</div>"
     },
     "metadata": {},
     "output_type": "display_data"
    }
   ],
   "source": [
    "# Display data\n",
    "display(spambase)"
   ],
   "metadata": {
    "collapsed": false,
    "ExecuteTime": {
     "end_time": "2023-12-14T01:14:19.277019Z",
     "start_time": "2023-12-14T01:14:19.266575Z"
    }
   },
   "id": "a54f5edca7e1103f"
  },
  {
   "cell_type": "code",
   "execution_count": 4,
   "outputs": [],
   "source": [
    "# Normalize data without labels\n",
    "spambase.iloc[:, :-1] = ml.normalize(spambase.iloc[:, :-1])[0]"
   ],
   "metadata": {
    "collapsed": false,
    "ExecuteTime": {
     "end_time": "2023-12-14T01:14:19.289820Z",
     "start_time": "2023-12-14T01:14:19.276609Z"
    }
   },
   "id": "117e7075ef44aac7"
  },
  {
   "cell_type": "code",
   "execution_count": 5,
   "outputs": [],
   "source": [
    "# Split data using 80/20 split sklearn function\n",
    "spam_train, spam_test = model_selection.train_test_split(spambase, test_size=0.2, random_state=0)"
   ],
   "metadata": {
    "collapsed": false,
    "ExecuteTime": {
     "end_time": "2023-12-14T01:14:19.290174Z",
     "start_time": "2023-12-14T01:14:19.282778Z"
    }
   },
   "id": "2d197cf3bc35e37"
  },
  {
   "cell_type": "markdown",
   "source": [
    "# Problem 1"
   ],
   "metadata": {
    "collapsed": false
   },
   "id": "f888fcc1196d0104"
  },
  {
   "cell_type": "markdown",
   "source": [
    "## sklearn SVM Spambase"
   ],
   "metadata": {
    "collapsed": false
   },
   "id": "c2e69f21e9e4659e"
  },
  {
   "cell_type": "code",
   "execution_count": 6,
   "outputs": [
    {
     "name": "stdout",
     "output_type": "stream",
     "text": [
      "Kernel: linear\n",
      "Accuracy: 0.9120521172638436\n",
      "Precision: 0.9081081081081082\n",
      "Recall: 0.8772845953002611\n",
      "F1: 0.8924302788844622\n",
      "Confusion Matrix:\n",
      "[[504  34]\n",
      " [ 47 336]]\n",
      "Kernel: poly\n",
      "Accuracy: 0.7752442996742671\n",
      "Precision: 0.9536082474226805\n",
      "Recall: 0.4830287206266319\n",
      "F1: 0.6412478336221837\n",
      "Confusion Matrix:\n",
      "[[529   9]\n",
      " [198 185]]\n",
      "Kernel: rbf\n",
      "Accuracy: 0.9261672095548317\n",
      "Precision: 0.9315068493150684\n",
      "Recall: 0.8877284595300261\n",
      "F1: 0.9090909090909091\n",
      "Confusion Matrix:\n",
      "[[513  25]\n",
      " [ 43 340]]\n",
      "\n",
      "Kernel: sigmoid\n",
      "Accuracy: 0.8794788273615635\n",
      "Precision: 0.8636363636363636\n",
      "Recall: 0.8433420365535248\n",
      "F1: 0.8533685601056803\n",
      "Confusion Matrix:\n",
      "[[487  51]\n",
      " [ 60 323]]\n"
     ]
    }
   ],
   "source": [
    "kernels = ['linear', 'poly', 'rbf', 'sigmoid']\n",
    "\n",
    "for kernel in kernels:\n",
    "    clf = svm.SVC(kernel=kernel)\n",
    "    clf.fit(spam_train.iloc[:, :-1], spam_train.iloc[:, -1])\n",
    "    y_pred = clf.predict(spam_test.iloc[:, :-1])\n",
    "    print('Kernel: ' + kernel)\n",
    "    print('Accuracy: ' + str(metrics.accuracy_score(spam_test.iloc[:, -1], y_pred)))\n",
    "    print('Precision: ' + str(metrics.precision_score(spam_test.iloc[:, -1], y_pred)))\n",
    "    print('Recall: ' + str(metrics.recall_score(spam_test.iloc[:, -1], y_pred)))\n",
    "    print('F1: ' + str(metrics.f1_score(spam_test.iloc[:, -1], y_pred)))\n",
    "    print('Confusion Matrix:')\n",
    "    print(metrics.confusion_matrix(spam_test.iloc[:, -1], y_pred))\n",
    "    print()"
   ],
   "metadata": {
    "collapsed": false,
    "ExecuteTime": {
     "end_time": "2023-12-13T22:42:06.703405900Z",
     "start_time": "2023-12-13T22:42:05.467488100Z"
    }
   },
   "id": "b6ee8b1ed26689af"
  },
  {
   "cell_type": "markdown",
   "source": [
    "## sklearn SVM Digits"
   ],
   "metadata": {
    "collapsed": false
   },
   "id": "375bc4a1f85e7db5"
  },
  {
   "cell_type": "code",
   "execution_count": 2,
   "outputs": [
    {
     "name": "stdout",
     "output_type": "stream",
     "text": [
      "(60000, 200)\n",
      "(60000, 1)\n",
      "(10000, 200)\n",
      "(10000, 1)\n"
     ]
    }
   ],
   "source": [
    "# Load data\n",
    "training_image = pd.read_csv('training_image.txt', header=None)\n",
    "print(training_image.shape)\n",
    "training_label = pd.read_csv('training_label.txt', header=None)\n",
    "print(training_label.shape)\n",
    "testing_image = pd.read_csv('testing_image.txt', header=None)\n",
    "print(testing_image.shape)\n",
    "testing_label = pd.read_csv('testing_label.txt', header=None)\n",
    "print(testing_label.shape)\n",
    "\n",
    "combined_training = pd.concat([training_image, training_label], axis=1)\n",
    "combined_testing = pd.concat([testing_image, testing_label], axis=1)\n",
    "digits = pd.concat([combined_training, combined_testing])"
   ],
   "metadata": {
    "collapsed": false,
    "ExecuteTime": {
     "end_time": "2023-12-14T21:14:40.206485Z",
     "start_time": "2023-12-14T21:14:39.529275Z"
    }
   },
   "id": "171655932698da61"
  },
  {
   "cell_type": "code",
   "execution_count": 3,
   "outputs": [
    {
     "data": {
      "text/plain": "      0    1    2     3     4     5     6    7    8    9    ...   191  192  \\\n0     0.0  0.0 -1.0  -1.0   1.0 -29.0 -10.0 -2.0  0.0  0.0  ...  -9.0  0.0   \n1     0.0  0.0 -1.0  -1.0  -4.0 -24.0  -8.0 -2.0  0.0  0.0  ...  -2.0 -1.0   \n2     0.0  0.0 -6.0  -6.0  13.0 -37.0  -1.0  5.0  0.0  0.0  ...  15.0 -8.0   \n3     0.0  0.0  0.0   0.0 -24.0 -20.0   0.0  0.0  0.0  0.0  ...  -7.0  1.0   \n4     0.0  0.0  2.0 -16.0 -14.0 -24.0   2.0 -4.0  0.0  0.0  ... -13.0 -6.0   \n...   ...  ...  ...   ...   ...   ...   ...  ...  ...  ...  ...   ...  ...   \n9995  0.0  0.0  0.0   0.0  11.0 -39.0  -9.0 -1.0  0.0  0.0  ...  -6.0  1.0   \n9996  0.0  0.0 -4.0  -4.0  39.0 -41.0  -9.0 -1.0  0.0  0.0  ...  -9.0  0.0   \n9997  0.0  0.0 -2.0  -4.0  -4.0 -38.0  -4.0 -6.0 -4.0  2.0  ...  -2.0 -3.0   \n9998  0.0  0.0 -2.0  -2.0 -23.0  -1.0  -6.0 -4.0  0.0  0.0  ... -12.0  0.0   \n9999  0.0  0.0  0.0   0.0  43.0 -27.0  -8.0  0.0  0.0  0.0  ...   2.0  0.0   \n\n      193  194  195   196   197   198   199  0    \n0     0.0  0.0  0.0   8.0 -10.0  -7.0  -5.0    5  \n1    -1.0  0.0  0.0  -7.0  -1.0   4.0   8.0    0  \n2     0.0 -2.0  0.0  16.0   6.0  14.0   2.0    4  \n3     5.0  0.0  0.0 -20.0  -6.0 -12.0  -4.0    1  \n4     4.0  1.0 -1.0 -14.0  -6.0   4.0  -8.0    9  \n...   ...  ...  ...   ...   ...   ...   ...  ...  \n9995  3.0  0.0  0.0  -4.0 -12.0   5.0 -13.0    2  \n9996  0.0  0.0  0.0  29.0  -7.0  17.0  -5.0    3  \n9997  5.0  0.0  0.0  -1.0   1.0  12.0  -8.0    4  \n9998  2.0  0.0  0.0  -8.0  -4.0  12.0   0.0    5  \n9999  4.0  0.0  0.0  21.0  -3.0   5.0  -3.0    6  \n\n[70000 rows x 201 columns]",
      "text/html": "<div>\n<style scoped>\n    .dataframe tbody tr th:only-of-type {\n        vertical-align: middle;\n    }\n\n    .dataframe tbody tr th {\n        vertical-align: top;\n    }\n\n    .dataframe thead th {\n        text-align: right;\n    }\n</style>\n<table border=\"1\" class=\"dataframe\">\n  <thead>\n    <tr style=\"text-align: right;\">\n      <th></th>\n      <th>0</th>\n      <th>1</th>\n      <th>2</th>\n      <th>3</th>\n      <th>4</th>\n      <th>5</th>\n      <th>6</th>\n      <th>7</th>\n      <th>8</th>\n      <th>9</th>\n      <th>...</th>\n      <th>191</th>\n      <th>192</th>\n      <th>193</th>\n      <th>194</th>\n      <th>195</th>\n      <th>196</th>\n      <th>197</th>\n      <th>198</th>\n      <th>199</th>\n      <th>0</th>\n    </tr>\n  </thead>\n  <tbody>\n    <tr>\n      <th>0</th>\n      <td>0.0</td>\n      <td>0.0</td>\n      <td>-1.0</td>\n      <td>-1.0</td>\n      <td>1.0</td>\n      <td>-29.0</td>\n      <td>-10.0</td>\n      <td>-2.0</td>\n      <td>0.0</td>\n      <td>0.0</td>\n      <td>...</td>\n      <td>-9.0</td>\n      <td>0.0</td>\n      <td>0.0</td>\n      <td>0.0</td>\n      <td>0.0</td>\n      <td>8.0</td>\n      <td>-10.0</td>\n      <td>-7.0</td>\n      <td>-5.0</td>\n      <td>5</td>\n    </tr>\n    <tr>\n      <th>1</th>\n      <td>0.0</td>\n      <td>0.0</td>\n      <td>-1.0</td>\n      <td>-1.0</td>\n      <td>-4.0</td>\n      <td>-24.0</td>\n      <td>-8.0</td>\n      <td>-2.0</td>\n      <td>0.0</td>\n      <td>0.0</td>\n      <td>...</td>\n      <td>-2.0</td>\n      <td>-1.0</td>\n      <td>-1.0</td>\n      <td>0.0</td>\n      <td>0.0</td>\n      <td>-7.0</td>\n      <td>-1.0</td>\n      <td>4.0</td>\n      <td>8.0</td>\n      <td>0</td>\n    </tr>\n    <tr>\n      <th>2</th>\n      <td>0.0</td>\n      <td>0.0</td>\n      <td>-6.0</td>\n      <td>-6.0</td>\n      <td>13.0</td>\n      <td>-37.0</td>\n      <td>-1.0</td>\n      <td>5.0</td>\n      <td>0.0</td>\n      <td>0.0</td>\n      <td>...</td>\n      <td>15.0</td>\n      <td>-8.0</td>\n      <td>0.0</td>\n      <td>-2.0</td>\n      <td>0.0</td>\n      <td>16.0</td>\n      <td>6.0</td>\n      <td>14.0</td>\n      <td>2.0</td>\n      <td>4</td>\n    </tr>\n    <tr>\n      <th>3</th>\n      <td>0.0</td>\n      <td>0.0</td>\n      <td>0.0</td>\n      <td>0.0</td>\n      <td>-24.0</td>\n      <td>-20.0</td>\n      <td>0.0</td>\n      <td>0.0</td>\n      <td>0.0</td>\n      <td>0.0</td>\n      <td>...</td>\n      <td>-7.0</td>\n      <td>1.0</td>\n      <td>5.0</td>\n      <td>0.0</td>\n      <td>0.0</td>\n      <td>-20.0</td>\n      <td>-6.0</td>\n      <td>-12.0</td>\n      <td>-4.0</td>\n      <td>1</td>\n    </tr>\n    <tr>\n      <th>4</th>\n      <td>0.0</td>\n      <td>0.0</td>\n      <td>2.0</td>\n      <td>-16.0</td>\n      <td>-14.0</td>\n      <td>-24.0</td>\n      <td>2.0</td>\n      <td>-4.0</td>\n      <td>0.0</td>\n      <td>0.0</td>\n      <td>...</td>\n      <td>-13.0</td>\n      <td>-6.0</td>\n      <td>4.0</td>\n      <td>1.0</td>\n      <td>-1.0</td>\n      <td>-14.0</td>\n      <td>-6.0</td>\n      <td>4.0</td>\n      <td>-8.0</td>\n      <td>9</td>\n    </tr>\n    <tr>\n      <th>...</th>\n      <td>...</td>\n      <td>...</td>\n      <td>...</td>\n      <td>...</td>\n      <td>...</td>\n      <td>...</td>\n      <td>...</td>\n      <td>...</td>\n      <td>...</td>\n      <td>...</td>\n      <td>...</td>\n      <td>...</td>\n      <td>...</td>\n      <td>...</td>\n      <td>...</td>\n      <td>...</td>\n      <td>...</td>\n      <td>...</td>\n      <td>...</td>\n      <td>...</td>\n      <td>...</td>\n    </tr>\n    <tr>\n      <th>9995</th>\n      <td>0.0</td>\n      <td>0.0</td>\n      <td>0.0</td>\n      <td>0.0</td>\n      <td>11.0</td>\n      <td>-39.0</td>\n      <td>-9.0</td>\n      <td>-1.0</td>\n      <td>0.0</td>\n      <td>0.0</td>\n      <td>...</td>\n      <td>-6.0</td>\n      <td>1.0</td>\n      <td>3.0</td>\n      <td>0.0</td>\n      <td>0.0</td>\n      <td>-4.0</td>\n      <td>-12.0</td>\n      <td>5.0</td>\n      <td>-13.0</td>\n      <td>2</td>\n    </tr>\n    <tr>\n      <th>9996</th>\n      <td>0.0</td>\n      <td>0.0</td>\n      <td>-4.0</td>\n      <td>-4.0</td>\n      <td>39.0</td>\n      <td>-41.0</td>\n      <td>-9.0</td>\n      <td>-1.0</td>\n      <td>0.0</td>\n      <td>0.0</td>\n      <td>...</td>\n      <td>-9.0</td>\n      <td>0.0</td>\n      <td>0.0</td>\n      <td>0.0</td>\n      <td>0.0</td>\n      <td>29.0</td>\n      <td>-7.0</td>\n      <td>17.0</td>\n      <td>-5.0</td>\n      <td>3</td>\n    </tr>\n    <tr>\n      <th>9997</th>\n      <td>0.0</td>\n      <td>0.0</td>\n      <td>-2.0</td>\n      <td>-4.0</td>\n      <td>-4.0</td>\n      <td>-38.0</td>\n      <td>-4.0</td>\n      <td>-6.0</td>\n      <td>-4.0</td>\n      <td>2.0</td>\n      <td>...</td>\n      <td>-2.0</td>\n      <td>-3.0</td>\n      <td>5.0</td>\n      <td>0.0</td>\n      <td>0.0</td>\n      <td>-1.0</td>\n      <td>1.0</td>\n      <td>12.0</td>\n      <td>-8.0</td>\n      <td>4</td>\n    </tr>\n    <tr>\n      <th>9998</th>\n      <td>0.0</td>\n      <td>0.0</td>\n      <td>-2.0</td>\n      <td>-2.0</td>\n      <td>-23.0</td>\n      <td>-1.0</td>\n      <td>-6.0</td>\n      <td>-4.0</td>\n      <td>0.0</td>\n      <td>0.0</td>\n      <td>...</td>\n      <td>-12.0</td>\n      <td>0.0</td>\n      <td>2.0</td>\n      <td>0.0</td>\n      <td>0.0</td>\n      <td>-8.0</td>\n      <td>-4.0</td>\n      <td>12.0</td>\n      <td>0.0</td>\n      <td>5</td>\n    </tr>\n    <tr>\n      <th>9999</th>\n      <td>0.0</td>\n      <td>0.0</td>\n      <td>0.0</td>\n      <td>0.0</td>\n      <td>43.0</td>\n      <td>-27.0</td>\n      <td>-8.0</td>\n      <td>0.0</td>\n      <td>0.0</td>\n      <td>0.0</td>\n      <td>...</td>\n      <td>2.0</td>\n      <td>0.0</td>\n      <td>4.0</td>\n      <td>0.0</td>\n      <td>0.0</td>\n      <td>21.0</td>\n      <td>-3.0</td>\n      <td>5.0</td>\n      <td>-3.0</td>\n      <td>6</td>\n    </tr>\n  </tbody>\n</table>\n<p>70000 rows × 201 columns</p>\n</div>"
     },
     "metadata": {},
     "output_type": "display_data"
    }
   ],
   "source": [
    "# Display data\n",
    "display(digits)"
   ],
   "metadata": {
    "collapsed": false,
    "ExecuteTime": {
     "end_time": "2023-12-14T21:14:40.326163Z",
     "start_time": "2023-12-14T21:14:40.303435Z"
    }
   },
   "id": "8e11db8ec6adc4e9"
  },
  {
   "cell_type": "code",
   "execution_count": 4,
   "outputs": [
    {
     "name": "stderr",
     "output_type": "stream",
     "text": [
      "/Users/garrinshieh/anaconda3/lib/python3.11/site-packages/sklearn/utils/validation.py:1143: DataConversionWarning: A column-vector y was passed when a 1d array was expected. Please change the shape of y to (n_samples, ), for example using ravel().\n",
      "  y = column_or_1d(y, warn=True)\n"
     ]
    },
    {
     "name": "stdout",
     "output_type": "stream",
     "text": [
      "Kernel: linear\n",
      "Accuracy: 0.9343\n",
      "Precision: 0.9338497397132699\n",
      "Recall: 0.9332721073664768\n",
      "F1: 0.933444419508511\n",
      "Confusion Matrix:\n",
      "[[ 952    0    0    3    0   11    8    1    3    2]\n",
      " [   0 1114    2    1    0    2    4    0   12    0]\n",
      " [   7    6  965    9    6    3    9    7   18    2]\n",
      " [   4    5   14  936    1   17    1    5   19    8]\n",
      " [   3    2   10    0  923    1    6    6    7   24]\n",
      " [  14    4    6   40    7  792    8    0   16    5]\n",
      " [  12    4   15    2    6   11  904    1    3    0]\n",
      " [   1    4   21   11   11    3    0  953    2   22]\n",
      " [   6    8   13   21    9   17    4    4  887    5]\n",
      " [   9    7    2   14   29    5    0   20    6  917]]\n"
     ]
    }
   ],
   "source": [
    "clf = svm.SVC(kernel='linear')\n",
    "clf.fit(training_image, training_label)\n",
    "y_pred = clf.predict(testing_image)\n",
    "print('Kernel: linear')\n",
    "print('Accuracy: ' + str(metrics.accuracy_score(testing_label, y_pred)))\n",
    "print('Precision: ' + str(metrics.precision_score(testing_label, y_pred, average='macro')))\n",
    "print('Recall: ' + str(metrics.recall_score(testing_label, y_pred, average='macro')))\n",
    "print('F1: ' + str(metrics.f1_score(testing_label, y_pred, average='macro')))\n",
    "print('Confusion Matrix:')\n",
    "print(metrics.confusion_matrix(testing_label, y_pred))"
   ],
   "metadata": {
    "collapsed": false,
    "ExecuteTime": {
     "end_time": "2023-12-14T21:34:24.803040Z",
     "start_time": "2023-12-14T21:14:41.350615Z"
    }
   },
   "id": "622cce52c443a626"
  },
  {
   "cell_type": "markdown",
   "source": [
    "# Problem 2"
   ],
   "metadata": {
    "collapsed": false
   },
   "id": "c1bc3bf401427d01"
  },
  {
   "cell_type": "markdown",
   "source": [
    "## SVM Spambase"
   ],
   "metadata": {
    "collapsed": false
   },
   "id": "21dce202fcf49e23"
  },
  {
   "cell_type": "code",
   "execution_count": 6,
   "outputs": [],
   "source": [
    "clf = ml.SVM()"
   ],
   "metadata": {
    "collapsed": false,
    "ExecuteTime": {
     "end_time": "2023-12-14T00:37:55.097560Z",
     "start_time": "2023-12-14T00:37:55.092714600Z"
    }
   },
   "id": "2442999bc99976e6"
  },
  {
   "cell_type": "markdown",
   "source": [
    "### Accuracy"
   ],
   "metadata": {
    "collapsed": false
   },
   "id": "dbed0b557be90297"
  },
  {
   "cell_type": "code",
   "execution_count": 9,
   "outputs": [
    {
     "name": "stdout",
     "output_type": "stream",
     "text": [
      "Accuracy: 0.8723913043478262\n"
     ]
    }
   ],
   "source": [
    "print('Accuracy: ' + str(clf.cross_validate(spambase)))"
   ],
   "metadata": {
    "collapsed": false,
    "ExecuteTime": {
     "end_time": "2023-12-14T00:38:34.795642900Z",
     "start_time": "2023-12-14T00:38:25.137469200Z"
    }
   },
   "id": "de869f7e10017b7c"
  },
  {
   "cell_type": "markdown",
   "source": [
    "# Problem 3"
   ],
   "metadata": {
    "collapsed": false
   },
   "id": "f0e572e83795894"
  },
  {
   "cell_type": "markdown",
   "source": [
    "## SVM Digits"
   ],
   "metadata": {
    "collapsed": false
   },
   "id": "1223725ebb8d5039"
  },
  {
   "cell_type": "code",
   "execution_count": 12,
   "outputs": [],
   "source": [
    "clf = ml.SVM()"
   ],
   "metadata": {
    "collapsed": false,
    "ExecuteTime": {
     "end_time": "2023-12-13T22:42:19.065659500Z",
     "start_time": "2023-12-13T22:42:19.060552400Z"
    }
   },
   "id": "536c35a14c441fc8"
  },
  {
   "cell_type": "markdown",
   "source": [
    "### Accuracy"
   ],
   "metadata": {
    "collapsed": false
   },
   "id": "3ca58bc101518188"
  },
  {
   "cell_type": "code",
   "execution_count": 13,
   "outputs": [
    {
     "name": "stdout",
     "output_type": "stream",
     "text": [
      "Class 0 Accuracy: 0.9847142857142858\n",
      "Class 1 Accuracy: 0.9814285714285714\n",
      "Class 2 Accuracy: 0.9514285714285714\n",
      "Class 3 Accuracy: 0.9561428571428572\n",
      "Class 4 Accuracy: 0.9577142857142857\n",
      "Class 5 Accuracy: 0.894\n",
      "Class 6 Accuracy: 0.9158571428571428\n",
      "Class 7 Accuracy: 0.8681428571428571\n",
      "Class 8 Accuracy: 0.9068571428571428\n",
      "Class 9 Accuracy: 0.93\n",
      "Total Accuracy: 0.9346285714285715\n"
     ]
    }
   ],
   "source": [
    "print('Total Accuracy: ' + str(clf.ovr(digits)))"
   ],
   "metadata": {
    "collapsed": false,
    "ExecuteTime": {
     "end_time": "2023-12-13T23:13:28.555134Z",
     "start_time": "2023-12-13T22:42:19.068663300Z"
    }
   },
   "id": "675ecc21256dc591"
  },
  {
   "cell_type": "markdown",
   "source": [
    "# Problem 5"
   ],
   "metadata": {
    "collapsed": false
   },
   "id": "64a626beca955632"
  },
  {
   "cell_type": "code",
   "execution_count": 6,
   "outputs": [],
   "source": [
    "clf = ml.KNN()"
   ],
   "metadata": {
    "collapsed": false,
    "ExecuteTime": {
     "end_time": "2023-12-14T01:14:21.849164Z",
     "start_time": "2023-12-14T01:14:21.842047Z"
    }
   },
   "id": "a3ba8f5f417d5fe1"
  },
  {
   "cell_type": "markdown",
   "source": [
    "## Accuracy"
   ],
   "metadata": {
    "collapsed": false
   },
   "id": "6bdfb929b721730c"
  },
  {
   "cell_type": "code",
   "execution_count": 7,
   "outputs": [
    {
     "name": "stdout",
     "output_type": "stream",
     "text": [
      "Accuracy: 0.9109663409337676\n"
     ]
    }
   ],
   "source": [
    "clf.fit(spam_train)\n",
    "print('Accuracy: ' + str(clf.accuracy(spam_test)))"
   ],
   "metadata": {
    "collapsed": false,
    "ExecuteTime": {
     "end_time": "2023-12-14T01:14:22.977367Z",
     "start_time": "2023-12-14T01:14:22.138279Z"
    }
   },
   "id": "f692771575a43d20"
  }
 ],
 "metadata": {
  "kernelspec": {
   "display_name": "Python 3",
   "language": "python",
   "name": "python3"
  },
  "language_info": {
   "codemirror_mode": {
    "name": "ipython",
    "version": 2
   },
   "file_extension": ".py",
   "mimetype": "text/x-python",
   "name": "python",
   "nbconvert_exporter": "python",
   "pygments_lexer": "ipython2",
   "version": "2.7.6"
  }
 },
 "nbformat": 4,
 "nbformat_minor": 5
}
