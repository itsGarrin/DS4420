{
 "cells": [
  {
   "cell_type": "code",
   "execution_count": 1,
   "id": "initial_id",
   "metadata": {
    "collapsed": true,
    "ExecuteTime": {
     "end_time": "2023-10-02T23:57:12.638451Z",
     "start_time": "2023-10-02T23:57:12.039114Z"
    }
   },
   "outputs": [],
   "source": [
    "from statistics import mean\n",
    "from statistics import mode\n",
    "\n",
    "import numpy as np\n",
    "import pandas as pd\n",
    "\n",
    "import MLutils as ml"
   ]
  },
  {
   "cell_type": "code",
   "execution_count": 2,
   "outputs": [],
   "source": [
    "# Load data\n",
    "housing_test = pd.read_csv('housing_test.txt', header=None, delim_whitespace=True,\n",
    "                           names=['CRIM', 'ZN', 'INDUS', 'CHAS', 'NOX', 'RM', 'AGE', 'DIS', 'RAD', 'TAX', 'PTRATIO',\n",
    "                                  'B', 'LSTAT', 'MEDV'])\n",
    "housing_train = pd.read_csv('housing_train.txt', header=None, delim_whitespace=True,\n",
    "                            names=['CRIM', 'ZN', 'INDUS', 'CHAS', 'NOX', 'RM', 'AGE', 'DIS', 'RAD', 'TAX', 'PTRATIO',\n",
    "                                   'B', 'LSTAT', 'MEDV'])\n",
    "spambase = pd.read_csv('spambase.data', header=None, delim_whitespace=False,\n",
    "                       names=['word_freq_make', 'word_freq_address', 'word_freq_all', 'word_freq_3d', 'word_freq_our',\n",
    "                              'word_freq_over', 'word_freq_remove', 'word_freq_internet', 'word_freq_order',\n",
    "                              'word_freq_mail', 'word_freq_receive', 'word_freq_will', 'word_freq_people',\n",
    "                              'word_freq_report', 'word_freq_addresses', 'word_freq_free', 'word_freq_business',\n",
    "                              'word_freq_email', 'word_freq_you', 'word_freq_credit', 'word_freq_your',\n",
    "                              'word_freq_font', 'word_freq_000', 'word_freq_money', 'word_freq_hp', 'word_freq_hpl',\n",
    "                              'word_freq_george', 'word_freq_650', 'word_freq_lab', 'word_freq_labs',\n",
    "                              'word_freq_telnet', 'word_freq_857', 'word_freq_data', 'word_freq_415', 'word_freq_85',\n",
    "                              'word_freq_technology', 'word_freq_1999', 'word_freq_parts', 'word_freq_pm',\n",
    "                              'word_freq_direct', 'word_freq_cs', 'word_freq_meeting', 'word_freq_original',\n",
    "                              'word_freq_project', 'word_freq_re', 'word_freq_edu', 'word_freq_table',\n",
    "                              'word_freq_conference', 'char_freq_;', 'char_freq_(', 'char_freq_[', 'char_freq_!',\n",
    "                              'char_freq_$', 'char_freq_#', 'capital_run_length_average', 'capital_run_length_longest',\n",
    "                              'capital_run_length_total', 'spam'])"
   ],
   "metadata": {
    "collapsed": false,
    "ExecuteTime": {
     "end_time": "2023-10-02T23:57:12.658399Z",
     "start_time": "2023-10-02T23:57:12.639621Z"
    }
   },
   "id": "352053136f12fee3"
  },
  {
   "cell_type": "code",
   "execution_count": 3,
   "outputs": [
    {
     "data": {
      "text/plain": "        CRIM    ZN  INDUS  CHAS    NOX     RM   AGE     DIS  RAD    TAX  \\\n0    0.00632  18.0   2.31     0  0.538  6.575  65.2  4.0900    1  296.0   \n1    0.02731   0.0   7.07     0  0.469  6.421  78.9  4.9671    2  242.0   \n2    0.02729   0.0   7.07     0  0.469  7.185  61.1  4.9671    2  242.0   \n3    0.03237   0.0   2.18     0  0.458  6.998  45.8  6.0622    3  222.0   \n4    0.06905   0.0   2.18     0  0.458  7.147  54.2  6.0622    3  222.0   \n..       ...   ...    ...   ...    ...    ...   ...     ...  ...    ...   \n428  0.06263   0.0  11.93     0  0.573  6.593  69.1  2.4786    1  273.0   \n429  0.04527   0.0  11.93     0  0.573  6.120  76.7  2.2875    1  273.0   \n430  0.06076   0.0  11.93     0  0.573  6.976  91.0  2.1675    1  273.0   \n431  0.10959   0.0  11.93     0  0.573  6.794  89.3  2.3889    1  273.0   \n432  0.04741   0.0  11.93     0  0.573  6.030  80.8  2.5050    1  273.0   \n\n     PTRATIO       B  LSTAT  MEDV  \n0       15.3  396.90   4.98  24.0  \n1       17.8  396.90   9.14  21.6  \n2       17.8  392.83   4.03  34.7  \n3       18.7  394.63   2.94  33.4  \n4       18.7  396.90   5.33  36.2  \n..       ...     ...    ...   ...  \n428     21.0  391.99   9.67  22.4  \n429     21.0  396.90   9.08  20.6  \n430     21.0  396.90   5.64  23.9  \n431     21.0  393.45   6.48  22.0  \n432     21.0  396.90   7.88  11.9  \n\n[433 rows x 14 columns]",
      "text/html": "<div>\n<style scoped>\n    .dataframe tbody tr th:only-of-type {\n        vertical-align: middle;\n    }\n\n    .dataframe tbody tr th {\n        vertical-align: top;\n    }\n\n    .dataframe thead th {\n        text-align: right;\n    }\n</style>\n<table border=\"1\" class=\"dataframe\">\n  <thead>\n    <tr style=\"text-align: right;\">\n      <th></th>\n      <th>CRIM</th>\n      <th>ZN</th>\n      <th>INDUS</th>\n      <th>CHAS</th>\n      <th>NOX</th>\n      <th>RM</th>\n      <th>AGE</th>\n      <th>DIS</th>\n      <th>RAD</th>\n      <th>TAX</th>\n      <th>PTRATIO</th>\n      <th>B</th>\n      <th>LSTAT</th>\n      <th>MEDV</th>\n    </tr>\n  </thead>\n  <tbody>\n    <tr>\n      <th>0</th>\n      <td>0.00632</td>\n      <td>18.0</td>\n      <td>2.31</td>\n      <td>0</td>\n      <td>0.538</td>\n      <td>6.575</td>\n      <td>65.2</td>\n      <td>4.0900</td>\n      <td>1</td>\n      <td>296.0</td>\n      <td>15.3</td>\n      <td>396.90</td>\n      <td>4.98</td>\n      <td>24.0</td>\n    </tr>\n    <tr>\n      <th>1</th>\n      <td>0.02731</td>\n      <td>0.0</td>\n      <td>7.07</td>\n      <td>0</td>\n      <td>0.469</td>\n      <td>6.421</td>\n      <td>78.9</td>\n      <td>4.9671</td>\n      <td>2</td>\n      <td>242.0</td>\n      <td>17.8</td>\n      <td>396.90</td>\n      <td>9.14</td>\n      <td>21.6</td>\n    </tr>\n    <tr>\n      <th>2</th>\n      <td>0.02729</td>\n      <td>0.0</td>\n      <td>7.07</td>\n      <td>0</td>\n      <td>0.469</td>\n      <td>7.185</td>\n      <td>61.1</td>\n      <td>4.9671</td>\n      <td>2</td>\n      <td>242.0</td>\n      <td>17.8</td>\n      <td>392.83</td>\n      <td>4.03</td>\n      <td>34.7</td>\n    </tr>\n    <tr>\n      <th>3</th>\n      <td>0.03237</td>\n      <td>0.0</td>\n      <td>2.18</td>\n      <td>0</td>\n      <td>0.458</td>\n      <td>6.998</td>\n      <td>45.8</td>\n      <td>6.0622</td>\n      <td>3</td>\n      <td>222.0</td>\n      <td>18.7</td>\n      <td>394.63</td>\n      <td>2.94</td>\n      <td>33.4</td>\n    </tr>\n    <tr>\n      <th>4</th>\n      <td>0.06905</td>\n      <td>0.0</td>\n      <td>2.18</td>\n      <td>0</td>\n      <td>0.458</td>\n      <td>7.147</td>\n      <td>54.2</td>\n      <td>6.0622</td>\n      <td>3</td>\n      <td>222.0</td>\n      <td>18.7</td>\n      <td>396.90</td>\n      <td>5.33</td>\n      <td>36.2</td>\n    </tr>\n    <tr>\n      <th>...</th>\n      <td>...</td>\n      <td>...</td>\n      <td>...</td>\n      <td>...</td>\n      <td>...</td>\n      <td>...</td>\n      <td>...</td>\n      <td>...</td>\n      <td>...</td>\n      <td>...</td>\n      <td>...</td>\n      <td>...</td>\n      <td>...</td>\n      <td>...</td>\n    </tr>\n    <tr>\n      <th>428</th>\n      <td>0.06263</td>\n      <td>0.0</td>\n      <td>11.93</td>\n      <td>0</td>\n      <td>0.573</td>\n      <td>6.593</td>\n      <td>69.1</td>\n      <td>2.4786</td>\n      <td>1</td>\n      <td>273.0</td>\n      <td>21.0</td>\n      <td>391.99</td>\n      <td>9.67</td>\n      <td>22.4</td>\n    </tr>\n    <tr>\n      <th>429</th>\n      <td>0.04527</td>\n      <td>0.0</td>\n      <td>11.93</td>\n      <td>0</td>\n      <td>0.573</td>\n      <td>6.120</td>\n      <td>76.7</td>\n      <td>2.2875</td>\n      <td>1</td>\n      <td>273.0</td>\n      <td>21.0</td>\n      <td>396.90</td>\n      <td>9.08</td>\n      <td>20.6</td>\n    </tr>\n    <tr>\n      <th>430</th>\n      <td>0.06076</td>\n      <td>0.0</td>\n      <td>11.93</td>\n      <td>0</td>\n      <td>0.573</td>\n      <td>6.976</td>\n      <td>91.0</td>\n      <td>2.1675</td>\n      <td>1</td>\n      <td>273.0</td>\n      <td>21.0</td>\n      <td>396.90</td>\n      <td>5.64</td>\n      <td>23.9</td>\n    </tr>\n    <tr>\n      <th>431</th>\n      <td>0.10959</td>\n      <td>0.0</td>\n      <td>11.93</td>\n      <td>0</td>\n      <td>0.573</td>\n      <td>6.794</td>\n      <td>89.3</td>\n      <td>2.3889</td>\n      <td>1</td>\n      <td>273.0</td>\n      <td>21.0</td>\n      <td>393.45</td>\n      <td>6.48</td>\n      <td>22.0</td>\n    </tr>\n    <tr>\n      <th>432</th>\n      <td>0.04741</td>\n      <td>0.0</td>\n      <td>11.93</td>\n      <td>0</td>\n      <td>0.573</td>\n      <td>6.030</td>\n      <td>80.8</td>\n      <td>2.5050</td>\n      <td>1</td>\n      <td>273.0</td>\n      <td>21.0</td>\n      <td>396.90</td>\n      <td>7.88</td>\n      <td>11.9</td>\n    </tr>\n  </tbody>\n</table>\n<p>433 rows × 14 columns</p>\n</div>"
     },
     "metadata": {},
     "output_type": "display_data"
    },
    {
     "data": {
      "text/plain": "       CRIM   ZN  INDUS  CHAS    NOX     RM   AGE     DIS  RAD    TAX  \\\n0   0.84054  0.0   8.14     0  0.538  5.599  85.7  4.4546    4  307.0   \n1   0.67191  0.0   8.14     0  0.538  5.813  90.3  4.6820    4  307.0   \n2   0.95577  0.0   8.14     0  0.538  6.047  88.8  4.4534    4  307.0   \n3   0.77299  0.0   8.14     0  0.538  6.495  94.4  4.4547    4  307.0   \n4   1.00245  0.0   8.14     0  0.538  6.674  87.3  4.2390    4  307.0   \n..      ...  ...    ...   ...    ...    ...   ...     ...  ...    ...   \n69  0.10574  0.0  27.74     0  0.609  5.983  98.8  1.8681    4  711.0   \n70  0.11132  0.0  27.74     0  0.609  5.983  83.5  2.1099    4  711.0   \n71  0.17331  0.0   9.69     0  0.585  5.707  54.0  2.3817    6  391.0   \n72  0.27957  0.0   9.69     0  0.585  5.926  42.6  2.3817    6  391.0   \n73  0.17899  0.0   9.69     0  0.585  5.670  28.8  2.7986    6  391.0   \n\n    PTRATIO       B  LSTAT  MEDV  \n0      21.0  303.42  16.51  13.9  \n1      21.0  376.88  14.81  16.6  \n2      21.0  306.38  17.28  14.8  \n3      21.0  387.94  12.80  18.4  \n4      21.0  380.23  11.98  21.0  \n..      ...     ...    ...   ...  \n69     20.1  390.11  18.07  13.6  \n70     20.1  396.90  13.35  20.1  \n71     19.2  396.90  12.01  21.8  \n72     19.2  396.90  13.59  24.5  \n73     19.2  393.29  17.60  23.1  \n\n[74 rows x 14 columns]",
      "text/html": "<div>\n<style scoped>\n    .dataframe tbody tr th:only-of-type {\n        vertical-align: middle;\n    }\n\n    .dataframe tbody tr th {\n        vertical-align: top;\n    }\n\n    .dataframe thead th {\n        text-align: right;\n    }\n</style>\n<table border=\"1\" class=\"dataframe\">\n  <thead>\n    <tr style=\"text-align: right;\">\n      <th></th>\n      <th>CRIM</th>\n      <th>ZN</th>\n      <th>INDUS</th>\n      <th>CHAS</th>\n      <th>NOX</th>\n      <th>RM</th>\n      <th>AGE</th>\n      <th>DIS</th>\n      <th>RAD</th>\n      <th>TAX</th>\n      <th>PTRATIO</th>\n      <th>B</th>\n      <th>LSTAT</th>\n      <th>MEDV</th>\n    </tr>\n  </thead>\n  <tbody>\n    <tr>\n      <th>0</th>\n      <td>0.84054</td>\n      <td>0.0</td>\n      <td>8.14</td>\n      <td>0</td>\n      <td>0.538</td>\n      <td>5.599</td>\n      <td>85.7</td>\n      <td>4.4546</td>\n      <td>4</td>\n      <td>307.0</td>\n      <td>21.0</td>\n      <td>303.42</td>\n      <td>16.51</td>\n      <td>13.9</td>\n    </tr>\n    <tr>\n      <th>1</th>\n      <td>0.67191</td>\n      <td>0.0</td>\n      <td>8.14</td>\n      <td>0</td>\n      <td>0.538</td>\n      <td>5.813</td>\n      <td>90.3</td>\n      <td>4.6820</td>\n      <td>4</td>\n      <td>307.0</td>\n      <td>21.0</td>\n      <td>376.88</td>\n      <td>14.81</td>\n      <td>16.6</td>\n    </tr>\n    <tr>\n      <th>2</th>\n      <td>0.95577</td>\n      <td>0.0</td>\n      <td>8.14</td>\n      <td>0</td>\n      <td>0.538</td>\n      <td>6.047</td>\n      <td>88.8</td>\n      <td>4.4534</td>\n      <td>4</td>\n      <td>307.0</td>\n      <td>21.0</td>\n      <td>306.38</td>\n      <td>17.28</td>\n      <td>14.8</td>\n    </tr>\n    <tr>\n      <th>3</th>\n      <td>0.77299</td>\n      <td>0.0</td>\n      <td>8.14</td>\n      <td>0</td>\n      <td>0.538</td>\n      <td>6.495</td>\n      <td>94.4</td>\n      <td>4.4547</td>\n      <td>4</td>\n      <td>307.0</td>\n      <td>21.0</td>\n      <td>387.94</td>\n      <td>12.80</td>\n      <td>18.4</td>\n    </tr>\n    <tr>\n      <th>4</th>\n      <td>1.00245</td>\n      <td>0.0</td>\n      <td>8.14</td>\n      <td>0</td>\n      <td>0.538</td>\n      <td>6.674</td>\n      <td>87.3</td>\n      <td>4.2390</td>\n      <td>4</td>\n      <td>307.0</td>\n      <td>21.0</td>\n      <td>380.23</td>\n      <td>11.98</td>\n      <td>21.0</td>\n    </tr>\n    <tr>\n      <th>...</th>\n      <td>...</td>\n      <td>...</td>\n      <td>...</td>\n      <td>...</td>\n      <td>...</td>\n      <td>...</td>\n      <td>...</td>\n      <td>...</td>\n      <td>...</td>\n      <td>...</td>\n      <td>...</td>\n      <td>...</td>\n      <td>...</td>\n      <td>...</td>\n    </tr>\n    <tr>\n      <th>69</th>\n      <td>0.10574</td>\n      <td>0.0</td>\n      <td>27.74</td>\n      <td>0</td>\n      <td>0.609</td>\n      <td>5.983</td>\n      <td>98.8</td>\n      <td>1.8681</td>\n      <td>4</td>\n      <td>711.0</td>\n      <td>20.1</td>\n      <td>390.11</td>\n      <td>18.07</td>\n      <td>13.6</td>\n    </tr>\n    <tr>\n      <th>70</th>\n      <td>0.11132</td>\n      <td>0.0</td>\n      <td>27.74</td>\n      <td>0</td>\n      <td>0.609</td>\n      <td>5.983</td>\n      <td>83.5</td>\n      <td>2.1099</td>\n      <td>4</td>\n      <td>711.0</td>\n      <td>20.1</td>\n      <td>396.90</td>\n      <td>13.35</td>\n      <td>20.1</td>\n    </tr>\n    <tr>\n      <th>71</th>\n      <td>0.17331</td>\n      <td>0.0</td>\n      <td>9.69</td>\n      <td>0</td>\n      <td>0.585</td>\n      <td>5.707</td>\n      <td>54.0</td>\n      <td>2.3817</td>\n      <td>6</td>\n      <td>391.0</td>\n      <td>19.2</td>\n      <td>396.90</td>\n      <td>12.01</td>\n      <td>21.8</td>\n    </tr>\n    <tr>\n      <th>72</th>\n      <td>0.27957</td>\n      <td>0.0</td>\n      <td>9.69</td>\n      <td>0</td>\n      <td>0.585</td>\n      <td>5.926</td>\n      <td>42.6</td>\n      <td>2.3817</td>\n      <td>6</td>\n      <td>391.0</td>\n      <td>19.2</td>\n      <td>396.90</td>\n      <td>13.59</td>\n      <td>24.5</td>\n    </tr>\n    <tr>\n      <th>73</th>\n      <td>0.17899</td>\n      <td>0.0</td>\n      <td>9.69</td>\n      <td>0</td>\n      <td>0.585</td>\n      <td>5.670</td>\n      <td>28.8</td>\n      <td>2.7986</td>\n      <td>6</td>\n      <td>391.0</td>\n      <td>19.2</td>\n      <td>393.29</td>\n      <td>17.60</td>\n      <td>23.1</td>\n    </tr>\n  </tbody>\n</table>\n<p>74 rows × 14 columns</p>\n</div>"
     },
     "metadata": {},
     "output_type": "display_data"
    },
    {
     "data": {
      "text/plain": "      word_freq_make  word_freq_address  word_freq_all  word_freq_3d  \\\n0               0.00               0.64           0.64           0.0   \n1               0.21               0.28           0.50           0.0   \n2               0.06               0.00           0.71           0.0   \n3               0.00               0.00           0.00           0.0   \n4               0.00               0.00           0.00           0.0   \n...              ...                ...            ...           ...   \n4596            0.31               0.00           0.62           0.0   \n4597            0.00               0.00           0.00           0.0   \n4598            0.30               0.00           0.30           0.0   \n4599            0.96               0.00           0.00           0.0   \n4600            0.00               0.00           0.65           0.0   \n\n      word_freq_our  word_freq_over  word_freq_remove  word_freq_internet  \\\n0              0.32            0.00              0.00                0.00   \n1              0.14            0.28              0.21                0.07   \n2              1.23            0.19              0.19                0.12   \n3              0.63            0.00              0.31                0.63   \n4              0.63            0.00              0.31                0.63   \n...             ...             ...               ...                 ...   \n4596           0.00            0.31              0.00                0.00   \n4597           0.00            0.00              0.00                0.00   \n4598           0.00            0.00              0.00                0.00   \n4599           0.32            0.00              0.00                0.00   \n4600           0.00            0.00              0.00                0.00   \n\n      word_freq_order  word_freq_mail  ...  char_freq_;  char_freq_(  \\\n0                0.00            0.00  ...        0.000        0.000   \n1                0.00            0.94  ...        0.000        0.132   \n2                0.64            0.25  ...        0.010        0.143   \n3                0.31            0.63  ...        0.000        0.137   \n4                0.31            0.63  ...        0.000        0.135   \n...               ...             ...  ...          ...          ...   \n4596             0.00            0.00  ...        0.000        0.232   \n4597             0.00            0.00  ...        0.000        0.000   \n4598             0.00            0.00  ...        0.102        0.718   \n4599             0.00            0.00  ...        0.000        0.057   \n4600             0.00            0.00  ...        0.000        0.000   \n\n      char_freq_[  char_freq_!  char_freq_$  char_freq_#  \\\n0             0.0        0.778        0.000        0.000   \n1             0.0        0.372        0.180        0.048   \n2             0.0        0.276        0.184        0.010   \n3             0.0        0.137        0.000        0.000   \n4             0.0        0.135        0.000        0.000   \n...           ...          ...          ...          ...   \n4596          0.0        0.000        0.000        0.000   \n4597          0.0        0.353        0.000        0.000   \n4598          0.0        0.000        0.000        0.000   \n4599          0.0        0.000        0.000        0.000   \n4600          0.0        0.125        0.000        0.000   \n\n      capital_run_length_average  capital_run_length_longest  \\\n0                          3.756                          61   \n1                          5.114                         101   \n2                          9.821                         485   \n3                          3.537                          40   \n4                          3.537                          40   \n...                          ...                         ...   \n4596                       1.142                           3   \n4597                       1.555                           4   \n4598                       1.404                           6   \n4599                       1.147                           5   \n4600                       1.250                           5   \n\n      capital_run_length_total  spam  \n0                          278     1  \n1                         1028     1  \n2                         2259     1  \n3                          191     1  \n4                          191     1  \n...                        ...   ...  \n4596                        88     0  \n4597                        14     0  \n4598                       118     0  \n4599                        78     0  \n4600                        40     0  \n\n[4601 rows x 58 columns]",
      "text/html": "<div>\n<style scoped>\n    .dataframe tbody tr th:only-of-type {\n        vertical-align: middle;\n    }\n\n    .dataframe tbody tr th {\n        vertical-align: top;\n    }\n\n    .dataframe thead th {\n        text-align: right;\n    }\n</style>\n<table border=\"1\" class=\"dataframe\">\n  <thead>\n    <tr style=\"text-align: right;\">\n      <th></th>\n      <th>word_freq_make</th>\n      <th>word_freq_address</th>\n      <th>word_freq_all</th>\n      <th>word_freq_3d</th>\n      <th>word_freq_our</th>\n      <th>word_freq_over</th>\n      <th>word_freq_remove</th>\n      <th>word_freq_internet</th>\n      <th>word_freq_order</th>\n      <th>word_freq_mail</th>\n      <th>...</th>\n      <th>char_freq_;</th>\n      <th>char_freq_(</th>\n      <th>char_freq_[</th>\n      <th>char_freq_!</th>\n      <th>char_freq_$</th>\n      <th>char_freq_#</th>\n      <th>capital_run_length_average</th>\n      <th>capital_run_length_longest</th>\n      <th>capital_run_length_total</th>\n      <th>spam</th>\n    </tr>\n  </thead>\n  <tbody>\n    <tr>\n      <th>0</th>\n      <td>0.00</td>\n      <td>0.64</td>\n      <td>0.64</td>\n      <td>0.0</td>\n      <td>0.32</td>\n      <td>0.00</td>\n      <td>0.00</td>\n      <td>0.00</td>\n      <td>0.00</td>\n      <td>0.00</td>\n      <td>...</td>\n      <td>0.000</td>\n      <td>0.000</td>\n      <td>0.0</td>\n      <td>0.778</td>\n      <td>0.000</td>\n      <td>0.000</td>\n      <td>3.756</td>\n      <td>61</td>\n      <td>278</td>\n      <td>1</td>\n    </tr>\n    <tr>\n      <th>1</th>\n      <td>0.21</td>\n      <td>0.28</td>\n      <td>0.50</td>\n      <td>0.0</td>\n      <td>0.14</td>\n      <td>0.28</td>\n      <td>0.21</td>\n      <td>0.07</td>\n      <td>0.00</td>\n      <td>0.94</td>\n      <td>...</td>\n      <td>0.000</td>\n      <td>0.132</td>\n      <td>0.0</td>\n      <td>0.372</td>\n      <td>0.180</td>\n      <td>0.048</td>\n      <td>5.114</td>\n      <td>101</td>\n      <td>1028</td>\n      <td>1</td>\n    </tr>\n    <tr>\n      <th>2</th>\n      <td>0.06</td>\n      <td>0.00</td>\n      <td>0.71</td>\n      <td>0.0</td>\n      <td>1.23</td>\n      <td>0.19</td>\n      <td>0.19</td>\n      <td>0.12</td>\n      <td>0.64</td>\n      <td>0.25</td>\n      <td>...</td>\n      <td>0.010</td>\n      <td>0.143</td>\n      <td>0.0</td>\n      <td>0.276</td>\n      <td>0.184</td>\n      <td>0.010</td>\n      <td>9.821</td>\n      <td>485</td>\n      <td>2259</td>\n      <td>1</td>\n    </tr>\n    <tr>\n      <th>3</th>\n      <td>0.00</td>\n      <td>0.00</td>\n      <td>0.00</td>\n      <td>0.0</td>\n      <td>0.63</td>\n      <td>0.00</td>\n      <td>0.31</td>\n      <td>0.63</td>\n      <td>0.31</td>\n      <td>0.63</td>\n      <td>...</td>\n      <td>0.000</td>\n      <td>0.137</td>\n      <td>0.0</td>\n      <td>0.137</td>\n      <td>0.000</td>\n      <td>0.000</td>\n      <td>3.537</td>\n      <td>40</td>\n      <td>191</td>\n      <td>1</td>\n    </tr>\n    <tr>\n      <th>4</th>\n      <td>0.00</td>\n      <td>0.00</td>\n      <td>0.00</td>\n      <td>0.0</td>\n      <td>0.63</td>\n      <td>0.00</td>\n      <td>0.31</td>\n      <td>0.63</td>\n      <td>0.31</td>\n      <td>0.63</td>\n      <td>...</td>\n      <td>0.000</td>\n      <td>0.135</td>\n      <td>0.0</td>\n      <td>0.135</td>\n      <td>0.000</td>\n      <td>0.000</td>\n      <td>3.537</td>\n      <td>40</td>\n      <td>191</td>\n      <td>1</td>\n    </tr>\n    <tr>\n      <th>...</th>\n      <td>...</td>\n      <td>...</td>\n      <td>...</td>\n      <td>...</td>\n      <td>...</td>\n      <td>...</td>\n      <td>...</td>\n      <td>...</td>\n      <td>...</td>\n      <td>...</td>\n      <td>...</td>\n      <td>...</td>\n      <td>...</td>\n      <td>...</td>\n      <td>...</td>\n      <td>...</td>\n      <td>...</td>\n      <td>...</td>\n      <td>...</td>\n      <td>...</td>\n      <td>...</td>\n    </tr>\n    <tr>\n      <th>4596</th>\n      <td>0.31</td>\n      <td>0.00</td>\n      <td>0.62</td>\n      <td>0.0</td>\n      <td>0.00</td>\n      <td>0.31</td>\n      <td>0.00</td>\n      <td>0.00</td>\n      <td>0.00</td>\n      <td>0.00</td>\n      <td>...</td>\n      <td>0.000</td>\n      <td>0.232</td>\n      <td>0.0</td>\n      <td>0.000</td>\n      <td>0.000</td>\n      <td>0.000</td>\n      <td>1.142</td>\n      <td>3</td>\n      <td>88</td>\n      <td>0</td>\n    </tr>\n    <tr>\n      <th>4597</th>\n      <td>0.00</td>\n      <td>0.00</td>\n      <td>0.00</td>\n      <td>0.0</td>\n      <td>0.00</td>\n      <td>0.00</td>\n      <td>0.00</td>\n      <td>0.00</td>\n      <td>0.00</td>\n      <td>0.00</td>\n      <td>...</td>\n      <td>0.000</td>\n      <td>0.000</td>\n      <td>0.0</td>\n      <td>0.353</td>\n      <td>0.000</td>\n      <td>0.000</td>\n      <td>1.555</td>\n      <td>4</td>\n      <td>14</td>\n      <td>0</td>\n    </tr>\n    <tr>\n      <th>4598</th>\n      <td>0.30</td>\n      <td>0.00</td>\n      <td>0.30</td>\n      <td>0.0</td>\n      <td>0.00</td>\n      <td>0.00</td>\n      <td>0.00</td>\n      <td>0.00</td>\n      <td>0.00</td>\n      <td>0.00</td>\n      <td>...</td>\n      <td>0.102</td>\n      <td>0.718</td>\n      <td>0.0</td>\n      <td>0.000</td>\n      <td>0.000</td>\n      <td>0.000</td>\n      <td>1.404</td>\n      <td>6</td>\n      <td>118</td>\n      <td>0</td>\n    </tr>\n    <tr>\n      <th>4599</th>\n      <td>0.96</td>\n      <td>0.00</td>\n      <td>0.00</td>\n      <td>0.0</td>\n      <td>0.32</td>\n      <td>0.00</td>\n      <td>0.00</td>\n      <td>0.00</td>\n      <td>0.00</td>\n      <td>0.00</td>\n      <td>...</td>\n      <td>0.000</td>\n      <td>0.057</td>\n      <td>0.0</td>\n      <td>0.000</td>\n      <td>0.000</td>\n      <td>0.000</td>\n      <td>1.147</td>\n      <td>5</td>\n      <td>78</td>\n      <td>0</td>\n    </tr>\n    <tr>\n      <th>4600</th>\n      <td>0.00</td>\n      <td>0.00</td>\n      <td>0.65</td>\n      <td>0.0</td>\n      <td>0.00</td>\n      <td>0.00</td>\n      <td>0.00</td>\n      <td>0.00</td>\n      <td>0.00</td>\n      <td>0.00</td>\n      <td>...</td>\n      <td>0.000</td>\n      <td>0.000</td>\n      <td>0.0</td>\n      <td>0.125</td>\n      <td>0.000</td>\n      <td>0.000</td>\n      <td>1.250</td>\n      <td>5</td>\n      <td>40</td>\n      <td>0</td>\n    </tr>\n  </tbody>\n</table>\n<p>4601 rows × 58 columns</p>\n</div>"
     },
     "metadata": {},
     "output_type": "display_data"
    }
   ],
   "source": [
    "# Display data\n",
    "display(housing_train)\n",
    "display(housing_test)\n",
    "display(spambase)"
   ],
   "metadata": {
    "collapsed": false,
    "ExecuteTime": {
     "end_time": "2023-10-02T23:57:12.684485Z",
     "start_time": "2023-10-02T23:57:12.658558Z"
    }
   },
   "id": "70f332686993f85b"
  },
  {
   "cell_type": "code",
   "execution_count": 4,
   "outputs": [],
   "source": [
    "# Normalize data without labels\n",
    "housing_train.iloc[:, :-1], housing_train_avg, housing_train_stdev = ml.normalize(housing_train.iloc[:, :-1])\n",
    "housing_test.iloc[:, :-1] = (housing_test.iloc[:, :-1] - housing_train_avg) / housing_train_stdev\n",
    "spambase.iloc[:, :-1] = ml.normalize(spambase.iloc[:, :-1])[0]"
   ],
   "metadata": {
    "collapsed": false,
    "ExecuteTime": {
     "end_time": "2023-10-02T23:57:12.695339Z",
     "start_time": "2023-10-02T23:57:12.685031Z"
    }
   },
   "id": "7de19f5065fd8fb2"
  },
  {
   "cell_type": "code",
   "execution_count": 5,
   "outputs": [
    {
     "data": {
      "text/plain": "         CRIM        ZN     INDUS      CHAS       NOX        RM       AGE  \\\n0   -0.406074  0.271666 -1.269381 -0.267612 -0.128607  0.384651 -0.095048   \n1   -0.403616 -0.486839 -0.554501 -0.267612 -0.726487  0.168444  0.397814   \n2   -0.403618 -0.486839 -0.554501 -0.267612 -0.726487  1.241055 -0.242547   \n3   -0.403023 -0.486839 -1.288905 -0.267612 -0.821802  0.978518 -0.792968   \n4   -0.398727 -0.486839 -1.288905 -0.267612 -0.821802  1.187706 -0.490776   \n..        ...       ...       ...       ...       ...       ...       ...   \n428 -0.399479 -0.486839  0.175397 -0.267612  0.174665  0.409922  0.045256   \n429 -0.401512 -0.486839  0.175397 -0.267612  0.174665 -0.254143  0.318668   \n430 -0.399698 -0.486839  0.175397 -0.267612  0.174665  0.947632  0.833114   \n431 -0.393978 -0.486839  0.175397 -0.267612  0.174665  0.692114  0.771956   \n432 -0.401261 -0.486839  0.175397 -0.267612  0.174665 -0.380497  0.466167   \n\n          DIS       RAD       TAX   PTRATIO         B     LSTAT  MEDV  \n0    0.140689 -0.969579 -0.612355 -1.449420  0.409077 -1.046568  24.0  \n1    0.567315 -0.854463 -0.934791 -0.274757  0.409077 -0.459782  21.6  \n2    0.567315 -0.854463 -0.934791 -0.274757  0.360950 -1.180570  34.7  \n3    1.099976 -0.739347 -1.054212  0.148121  0.382235 -1.334319  33.4  \n4    1.099976 -0.739347 -1.054212  0.148121  0.409077 -0.997199  36.2  \n..        ...       ...       ...       ...       ...       ...   ...  \n428 -0.643102 -0.969579 -0.749689  1.228811  0.351017 -0.385023  22.4  \n429 -0.736054 -0.969579 -0.749689  1.228811  0.409077 -0.468245  20.6  \n430 -0.794423 -0.969579 -0.749689  1.228811  0.409077 -0.953472  23.9  \n431 -0.686733 -0.969579 -0.749689  1.228811  0.368282 -0.834987  22.0  \n432 -0.630261 -0.969579 -0.749689  1.228811  0.409077 -0.637510  11.9  \n\n[433 rows x 14 columns]",
      "text/html": "<div>\n<style scoped>\n    .dataframe tbody tr th:only-of-type {\n        vertical-align: middle;\n    }\n\n    .dataframe tbody tr th {\n        vertical-align: top;\n    }\n\n    .dataframe thead th {\n        text-align: right;\n    }\n</style>\n<table border=\"1\" class=\"dataframe\">\n  <thead>\n    <tr style=\"text-align: right;\">\n      <th></th>\n      <th>CRIM</th>\n      <th>ZN</th>\n      <th>INDUS</th>\n      <th>CHAS</th>\n      <th>NOX</th>\n      <th>RM</th>\n      <th>AGE</th>\n      <th>DIS</th>\n      <th>RAD</th>\n      <th>TAX</th>\n      <th>PTRATIO</th>\n      <th>B</th>\n      <th>LSTAT</th>\n      <th>MEDV</th>\n    </tr>\n  </thead>\n  <tbody>\n    <tr>\n      <th>0</th>\n      <td>-0.406074</td>\n      <td>0.271666</td>\n      <td>-1.269381</td>\n      <td>-0.267612</td>\n      <td>-0.128607</td>\n      <td>0.384651</td>\n      <td>-0.095048</td>\n      <td>0.140689</td>\n      <td>-0.969579</td>\n      <td>-0.612355</td>\n      <td>-1.449420</td>\n      <td>0.409077</td>\n      <td>-1.046568</td>\n      <td>24.0</td>\n    </tr>\n    <tr>\n      <th>1</th>\n      <td>-0.403616</td>\n      <td>-0.486839</td>\n      <td>-0.554501</td>\n      <td>-0.267612</td>\n      <td>-0.726487</td>\n      <td>0.168444</td>\n      <td>0.397814</td>\n      <td>0.567315</td>\n      <td>-0.854463</td>\n      <td>-0.934791</td>\n      <td>-0.274757</td>\n      <td>0.409077</td>\n      <td>-0.459782</td>\n      <td>21.6</td>\n    </tr>\n    <tr>\n      <th>2</th>\n      <td>-0.403618</td>\n      <td>-0.486839</td>\n      <td>-0.554501</td>\n      <td>-0.267612</td>\n      <td>-0.726487</td>\n      <td>1.241055</td>\n      <td>-0.242547</td>\n      <td>0.567315</td>\n      <td>-0.854463</td>\n      <td>-0.934791</td>\n      <td>-0.274757</td>\n      <td>0.360950</td>\n      <td>-1.180570</td>\n      <td>34.7</td>\n    </tr>\n    <tr>\n      <th>3</th>\n      <td>-0.403023</td>\n      <td>-0.486839</td>\n      <td>-1.288905</td>\n      <td>-0.267612</td>\n      <td>-0.821802</td>\n      <td>0.978518</td>\n      <td>-0.792968</td>\n      <td>1.099976</td>\n      <td>-0.739347</td>\n      <td>-1.054212</td>\n      <td>0.148121</td>\n      <td>0.382235</td>\n      <td>-1.334319</td>\n      <td>33.4</td>\n    </tr>\n    <tr>\n      <th>4</th>\n      <td>-0.398727</td>\n      <td>-0.486839</td>\n      <td>-1.288905</td>\n      <td>-0.267612</td>\n      <td>-0.821802</td>\n      <td>1.187706</td>\n      <td>-0.490776</td>\n      <td>1.099976</td>\n      <td>-0.739347</td>\n      <td>-1.054212</td>\n      <td>0.148121</td>\n      <td>0.409077</td>\n      <td>-0.997199</td>\n      <td>36.2</td>\n    </tr>\n    <tr>\n      <th>...</th>\n      <td>...</td>\n      <td>...</td>\n      <td>...</td>\n      <td>...</td>\n      <td>...</td>\n      <td>...</td>\n      <td>...</td>\n      <td>...</td>\n      <td>...</td>\n      <td>...</td>\n      <td>...</td>\n      <td>...</td>\n      <td>...</td>\n      <td>...</td>\n    </tr>\n    <tr>\n      <th>428</th>\n      <td>-0.399479</td>\n      <td>-0.486839</td>\n      <td>0.175397</td>\n      <td>-0.267612</td>\n      <td>0.174665</td>\n      <td>0.409922</td>\n      <td>0.045256</td>\n      <td>-0.643102</td>\n      <td>-0.969579</td>\n      <td>-0.749689</td>\n      <td>1.228811</td>\n      <td>0.351017</td>\n      <td>-0.385023</td>\n      <td>22.4</td>\n    </tr>\n    <tr>\n      <th>429</th>\n      <td>-0.401512</td>\n      <td>-0.486839</td>\n      <td>0.175397</td>\n      <td>-0.267612</td>\n      <td>0.174665</td>\n      <td>-0.254143</td>\n      <td>0.318668</td>\n      <td>-0.736054</td>\n      <td>-0.969579</td>\n      <td>-0.749689</td>\n      <td>1.228811</td>\n      <td>0.409077</td>\n      <td>-0.468245</td>\n      <td>20.6</td>\n    </tr>\n    <tr>\n      <th>430</th>\n      <td>-0.399698</td>\n      <td>-0.486839</td>\n      <td>0.175397</td>\n      <td>-0.267612</td>\n      <td>0.174665</td>\n      <td>0.947632</td>\n      <td>0.833114</td>\n      <td>-0.794423</td>\n      <td>-0.969579</td>\n      <td>-0.749689</td>\n      <td>1.228811</td>\n      <td>0.409077</td>\n      <td>-0.953472</td>\n      <td>23.9</td>\n    </tr>\n    <tr>\n      <th>431</th>\n      <td>-0.393978</td>\n      <td>-0.486839</td>\n      <td>0.175397</td>\n      <td>-0.267612</td>\n      <td>0.174665</td>\n      <td>0.692114</td>\n      <td>0.771956</td>\n      <td>-0.686733</td>\n      <td>-0.969579</td>\n      <td>-0.749689</td>\n      <td>1.228811</td>\n      <td>0.368282</td>\n      <td>-0.834987</td>\n      <td>22.0</td>\n    </tr>\n    <tr>\n      <th>432</th>\n      <td>-0.401261</td>\n      <td>-0.486839</td>\n      <td>0.175397</td>\n      <td>-0.267612</td>\n      <td>0.174665</td>\n      <td>-0.380497</td>\n      <td>0.466167</td>\n      <td>-0.630261</td>\n      <td>-0.969579</td>\n      <td>-0.749689</td>\n      <td>1.228811</td>\n      <td>0.409077</td>\n      <td>-0.637510</td>\n      <td>11.9</td>\n    </tr>\n  </tbody>\n</table>\n<p>433 rows × 14 columns</p>\n</div>"
     },
     "metadata": {},
     "output_type": "display_data"
    },
    {
     "data": {
      "text/plain": "        CRIM        ZN     INDUS      CHAS       NOX        RM       AGE  \\\n0  -0.308363 -0.486839 -0.393803 -0.267612 -0.128607 -0.985596  0.642445   \n1  -0.328114 -0.486839 -0.393803 -0.267612 -0.128607 -0.685153  0.807932   \n2  -0.294866 -0.486839 -0.393803 -0.267612 -0.128607 -0.356630  0.753969   \n3  -0.316275 -0.486839 -0.393803 -0.267612 -0.128607  0.272336  0.955430   \n4  -0.289399 -0.486839 -0.393803 -0.267612 -0.128607  0.523641  0.700006   \n..       ...       ...       ...       ...       ...       ...       ...   \n69 -0.394429 -0.486839  2.549819 -0.267612  0.486603 -0.446483  1.113722   \n70 -0.393776 -0.486839  2.549819 -0.267612  0.486603 -0.446483  0.563300   \n71 -0.386515 -0.486839 -0.161017 -0.267612  0.278645 -0.833971 -0.497971   \n72 -0.374069 -0.486839 -0.161017 -0.267612  0.278645 -0.526507 -0.908089   \n73 -0.385850 -0.486839 -0.161017 -0.267612  0.278645 -0.885916 -1.404548   \n\n         DIS       RAD       TAX   PTRATIO         B     LSTAT  MEDV  \n0   0.318032 -0.624231 -0.546674  1.228811 -0.696315  0.579789  13.9  \n1   0.428641 -0.624231 -0.546674  1.228811  0.172343  0.339996  16.6  \n2   0.317449 -0.624231 -0.546674  1.228811 -0.661313  0.688401  14.8  \n3   0.318081 -0.624231 -0.546674  1.228811  0.303126  0.056477  18.4  \n4   0.213164 -0.624231 -0.546674  1.228811  0.211956 -0.059187  21.0  \n..       ...       ...       ...       ...       ...       ...   ...  \n69 -0.940052 -0.624231  1.865625  0.805933  0.328786  0.799834  13.6  \n70 -0.822439 -0.624231  1.865625  0.805933  0.409077  0.134057  20.1  \n71 -0.690235 -0.393999 -0.045107  0.383054  0.409077 -0.054956  21.8  \n72 -0.690235 -0.393999 -0.045107  0.383054  0.409077  0.167910  24.5  \n73 -0.487453 -0.393999 -0.045107  0.383054  0.366390  0.733538  23.1  \n\n[74 rows x 14 columns]",
      "text/html": "<div>\n<style scoped>\n    .dataframe tbody tr th:only-of-type {\n        vertical-align: middle;\n    }\n\n    .dataframe tbody tr th {\n        vertical-align: top;\n    }\n\n    .dataframe thead th {\n        text-align: right;\n    }\n</style>\n<table border=\"1\" class=\"dataframe\">\n  <thead>\n    <tr style=\"text-align: right;\">\n      <th></th>\n      <th>CRIM</th>\n      <th>ZN</th>\n      <th>INDUS</th>\n      <th>CHAS</th>\n      <th>NOX</th>\n      <th>RM</th>\n      <th>AGE</th>\n      <th>DIS</th>\n      <th>RAD</th>\n      <th>TAX</th>\n      <th>PTRATIO</th>\n      <th>B</th>\n      <th>LSTAT</th>\n      <th>MEDV</th>\n    </tr>\n  </thead>\n  <tbody>\n    <tr>\n      <th>0</th>\n      <td>-0.308363</td>\n      <td>-0.486839</td>\n      <td>-0.393803</td>\n      <td>-0.267612</td>\n      <td>-0.128607</td>\n      <td>-0.985596</td>\n      <td>0.642445</td>\n      <td>0.318032</td>\n      <td>-0.624231</td>\n      <td>-0.546674</td>\n      <td>1.228811</td>\n      <td>-0.696315</td>\n      <td>0.579789</td>\n      <td>13.9</td>\n    </tr>\n    <tr>\n      <th>1</th>\n      <td>-0.328114</td>\n      <td>-0.486839</td>\n      <td>-0.393803</td>\n      <td>-0.267612</td>\n      <td>-0.128607</td>\n      <td>-0.685153</td>\n      <td>0.807932</td>\n      <td>0.428641</td>\n      <td>-0.624231</td>\n      <td>-0.546674</td>\n      <td>1.228811</td>\n      <td>0.172343</td>\n      <td>0.339996</td>\n      <td>16.6</td>\n    </tr>\n    <tr>\n      <th>2</th>\n      <td>-0.294866</td>\n      <td>-0.486839</td>\n      <td>-0.393803</td>\n      <td>-0.267612</td>\n      <td>-0.128607</td>\n      <td>-0.356630</td>\n      <td>0.753969</td>\n      <td>0.317449</td>\n      <td>-0.624231</td>\n      <td>-0.546674</td>\n      <td>1.228811</td>\n      <td>-0.661313</td>\n      <td>0.688401</td>\n      <td>14.8</td>\n    </tr>\n    <tr>\n      <th>3</th>\n      <td>-0.316275</td>\n      <td>-0.486839</td>\n      <td>-0.393803</td>\n      <td>-0.267612</td>\n      <td>-0.128607</td>\n      <td>0.272336</td>\n      <td>0.955430</td>\n      <td>0.318081</td>\n      <td>-0.624231</td>\n      <td>-0.546674</td>\n      <td>1.228811</td>\n      <td>0.303126</td>\n      <td>0.056477</td>\n      <td>18.4</td>\n    </tr>\n    <tr>\n      <th>4</th>\n      <td>-0.289399</td>\n      <td>-0.486839</td>\n      <td>-0.393803</td>\n      <td>-0.267612</td>\n      <td>-0.128607</td>\n      <td>0.523641</td>\n      <td>0.700006</td>\n      <td>0.213164</td>\n      <td>-0.624231</td>\n      <td>-0.546674</td>\n      <td>1.228811</td>\n      <td>0.211956</td>\n      <td>-0.059187</td>\n      <td>21.0</td>\n    </tr>\n    <tr>\n      <th>...</th>\n      <td>...</td>\n      <td>...</td>\n      <td>...</td>\n      <td>...</td>\n      <td>...</td>\n      <td>...</td>\n      <td>...</td>\n      <td>...</td>\n      <td>...</td>\n      <td>...</td>\n      <td>...</td>\n      <td>...</td>\n      <td>...</td>\n      <td>...</td>\n    </tr>\n    <tr>\n      <th>69</th>\n      <td>-0.394429</td>\n      <td>-0.486839</td>\n      <td>2.549819</td>\n      <td>-0.267612</td>\n      <td>0.486603</td>\n      <td>-0.446483</td>\n      <td>1.113722</td>\n      <td>-0.940052</td>\n      <td>-0.624231</td>\n      <td>1.865625</td>\n      <td>0.805933</td>\n      <td>0.328786</td>\n      <td>0.799834</td>\n      <td>13.6</td>\n    </tr>\n    <tr>\n      <th>70</th>\n      <td>-0.393776</td>\n      <td>-0.486839</td>\n      <td>2.549819</td>\n      <td>-0.267612</td>\n      <td>0.486603</td>\n      <td>-0.446483</td>\n      <td>0.563300</td>\n      <td>-0.822439</td>\n      <td>-0.624231</td>\n      <td>1.865625</td>\n      <td>0.805933</td>\n      <td>0.409077</td>\n      <td>0.134057</td>\n      <td>20.1</td>\n    </tr>\n    <tr>\n      <th>71</th>\n      <td>-0.386515</td>\n      <td>-0.486839</td>\n      <td>-0.161017</td>\n      <td>-0.267612</td>\n      <td>0.278645</td>\n      <td>-0.833971</td>\n      <td>-0.497971</td>\n      <td>-0.690235</td>\n      <td>-0.393999</td>\n      <td>-0.045107</td>\n      <td>0.383054</td>\n      <td>0.409077</td>\n      <td>-0.054956</td>\n      <td>21.8</td>\n    </tr>\n    <tr>\n      <th>72</th>\n      <td>-0.374069</td>\n      <td>-0.486839</td>\n      <td>-0.161017</td>\n      <td>-0.267612</td>\n      <td>0.278645</td>\n      <td>-0.526507</td>\n      <td>-0.908089</td>\n      <td>-0.690235</td>\n      <td>-0.393999</td>\n      <td>-0.045107</td>\n      <td>0.383054</td>\n      <td>0.409077</td>\n      <td>0.167910</td>\n      <td>24.5</td>\n    </tr>\n    <tr>\n      <th>73</th>\n      <td>-0.385850</td>\n      <td>-0.486839</td>\n      <td>-0.161017</td>\n      <td>-0.267612</td>\n      <td>0.278645</td>\n      <td>-0.885916</td>\n      <td>-1.404548</td>\n      <td>-0.487453</td>\n      <td>-0.393999</td>\n      <td>-0.045107</td>\n      <td>0.383054</td>\n      <td>0.366390</td>\n      <td>0.733538</td>\n      <td>23.1</td>\n    </tr>\n  </tbody>\n</table>\n<p>74 rows × 14 columns</p>\n</div>"
     },
     "metadata": {},
     "output_type": "display_data"
    },
    {
     "data": {
      "text/plain": "      word_freq_make  word_freq_address  word_freq_all  word_freq_3d  \\\n0          -0.342396           0.330849       0.712781     -0.046894   \n1           0.345322           0.051904       0.435082     -0.046894   \n2          -0.145906          -0.165054       0.851631     -0.046894   \n3          -0.342396          -0.165054      -0.556700     -0.046894   \n4          -0.342396          -0.165054      -0.556700     -0.046894   \n...              ...                ...            ...           ...   \n4596        0.672807          -0.165054       0.673110     -0.046894   \n4597       -0.342396          -0.165054      -0.556700     -0.046894   \n4598        0.640058          -0.165054       0.038369     -0.046894   \n4599        2.801459          -0.165054      -0.556700     -0.046894   \n4600       -0.342396          -0.165054       0.732617     -0.046894   \n\n      word_freq_our  word_freq_over  word_freq_remove  word_freq_internet  \\\n0          0.011563       -0.350228         -0.291762           -0.262533   \n1         -0.256089        0.672326          0.244717           -0.088001   \n2          1.364698        0.343648          0.193623            0.036666   \n3          0.472521       -0.350228          0.500183            1.308259   \n4          0.472521       -0.350228          0.500183            1.308259   \n...             ...             ...               ...                 ...   \n4596      -0.464264        0.781886         -0.291762           -0.262533   \n4597      -0.464264       -0.350228         -0.291762           -0.262533   \n4598      -0.464264       -0.350228         -0.291762           -0.262533   \n4599       0.011563       -0.350228         -0.291762           -0.262533   \n4600      -0.464264       -0.350228         -0.291762           -0.262533   \n\n      word_freq_order  word_freq_mail  ...  char_freq_;  char_freq_(  \\\n0           -0.323267       -0.371324  ...    -0.158436    -0.514251   \n1           -0.323267        1.086593  ...    -0.158436    -0.026004   \n2            1.973802        0.016420  ...    -0.117364     0.014683   \n3            0.789376        0.605791  ...    -0.158436    -0.007510   \n4            0.789376        0.605791  ...    -0.158436    -0.014908   \n...               ...             ...  ...          ...          ...   \n4596        -0.323267       -0.371324  ...    -0.158436     0.343879   \n4597        -0.323267       -0.371324  ...    -0.158436    -0.514251   \n4598        -0.323267       -0.371324  ...     0.260504     2.141513   \n4599        -0.323267       -0.371324  ...    -0.158436    -0.303417   \n4600        -0.323267       -0.371324  ...    -0.158436    -0.514251   \n\n      char_freq_[  char_freq_!  char_freq_$  char_freq_#  \\\n0       -0.155181     0.623939    -0.308321    -0.103037   \n1       -0.155181     0.126189     0.423737     0.008762   \n2       -0.155181     0.008495     0.440005    -0.079746   \n3       -0.155181    -0.161917    -0.308321    -0.103037   \n4       -0.155181    -0.164369    -0.308321    -0.103037   \n...           ...          ...          ...          ...   \n4596    -0.155181    -0.329876    -0.308321    -0.103037   \n4597    -0.155181     0.102896    -0.308321    -0.103037   \n4598    -0.155181    -0.329876    -0.308321    -0.103037   \n4599    -0.155181    -0.329876    -0.308321    -0.103037   \n4600    -0.155181    -0.176628    -0.308321    -0.103037   \n\n      capital_run_length_average  capital_run_length_longest  \\\n0                      -0.045242                    0.045293   \n1                      -0.002443                    0.250536   \n2                       0.145905                    2.220865   \n3                      -0.052144                   -0.062459   \n4                      -0.052144                   -0.062459   \n...                          ...                         ...   \n4596                   -0.127626                   -0.252309   \n4597                   -0.114610                   -0.247178   \n4598                   -0.119369                   -0.236916   \n4599                   -0.127469                   -0.242047   \n4600                   -0.124223                   -0.242047   \n\n      capital_run_length_total  spam  \n0                    -0.008723     1  \n1                     1.228191     1  \n2                     3.258378     1  \n3                    -0.152205     1  \n4                    -0.152205     1  \n...                        ...   ...  \n4596                 -0.322075     0  \n4597                 -0.444117     0  \n4598                 -0.272598     0  \n4599                 -0.338567     0  \n4600                 -0.401237     0  \n\n[4601 rows x 58 columns]",
      "text/html": "<div>\n<style scoped>\n    .dataframe tbody tr th:only-of-type {\n        vertical-align: middle;\n    }\n\n    .dataframe tbody tr th {\n        vertical-align: top;\n    }\n\n    .dataframe thead th {\n        text-align: right;\n    }\n</style>\n<table border=\"1\" class=\"dataframe\">\n  <thead>\n    <tr style=\"text-align: right;\">\n      <th></th>\n      <th>word_freq_make</th>\n      <th>word_freq_address</th>\n      <th>word_freq_all</th>\n      <th>word_freq_3d</th>\n      <th>word_freq_our</th>\n      <th>word_freq_over</th>\n      <th>word_freq_remove</th>\n      <th>word_freq_internet</th>\n      <th>word_freq_order</th>\n      <th>word_freq_mail</th>\n      <th>...</th>\n      <th>char_freq_;</th>\n      <th>char_freq_(</th>\n      <th>char_freq_[</th>\n      <th>char_freq_!</th>\n      <th>char_freq_$</th>\n      <th>char_freq_#</th>\n      <th>capital_run_length_average</th>\n      <th>capital_run_length_longest</th>\n      <th>capital_run_length_total</th>\n      <th>spam</th>\n    </tr>\n  </thead>\n  <tbody>\n    <tr>\n      <th>0</th>\n      <td>-0.342396</td>\n      <td>0.330849</td>\n      <td>0.712781</td>\n      <td>-0.046894</td>\n      <td>0.011563</td>\n      <td>-0.350228</td>\n      <td>-0.291762</td>\n      <td>-0.262533</td>\n      <td>-0.323267</td>\n      <td>-0.371324</td>\n      <td>...</td>\n      <td>-0.158436</td>\n      <td>-0.514251</td>\n      <td>-0.155181</td>\n      <td>0.623939</td>\n      <td>-0.308321</td>\n      <td>-0.103037</td>\n      <td>-0.045242</td>\n      <td>0.045293</td>\n      <td>-0.008723</td>\n      <td>1</td>\n    </tr>\n    <tr>\n      <th>1</th>\n      <td>0.345322</td>\n      <td>0.051904</td>\n      <td>0.435082</td>\n      <td>-0.046894</td>\n      <td>-0.256089</td>\n      <td>0.672326</td>\n      <td>0.244717</td>\n      <td>-0.088001</td>\n      <td>-0.323267</td>\n      <td>1.086593</td>\n      <td>...</td>\n      <td>-0.158436</td>\n      <td>-0.026004</td>\n      <td>-0.155181</td>\n      <td>0.126189</td>\n      <td>0.423737</td>\n      <td>0.008762</td>\n      <td>-0.002443</td>\n      <td>0.250536</td>\n      <td>1.228191</td>\n      <td>1</td>\n    </tr>\n    <tr>\n      <th>2</th>\n      <td>-0.145906</td>\n      <td>-0.165054</td>\n      <td>0.851631</td>\n      <td>-0.046894</td>\n      <td>1.364698</td>\n      <td>0.343648</td>\n      <td>0.193623</td>\n      <td>0.036666</td>\n      <td>1.973802</td>\n      <td>0.016420</td>\n      <td>...</td>\n      <td>-0.117364</td>\n      <td>0.014683</td>\n      <td>-0.155181</td>\n      <td>0.008495</td>\n      <td>0.440005</td>\n      <td>-0.079746</td>\n      <td>0.145905</td>\n      <td>2.220865</td>\n      <td>3.258378</td>\n      <td>1</td>\n    </tr>\n    <tr>\n      <th>3</th>\n      <td>-0.342396</td>\n      <td>-0.165054</td>\n      <td>-0.556700</td>\n      <td>-0.046894</td>\n      <td>0.472521</td>\n      <td>-0.350228</td>\n      <td>0.500183</td>\n      <td>1.308259</td>\n      <td>0.789376</td>\n      <td>0.605791</td>\n      <td>...</td>\n      <td>-0.158436</td>\n      <td>-0.007510</td>\n      <td>-0.155181</td>\n      <td>-0.161917</td>\n      <td>-0.308321</td>\n      <td>-0.103037</td>\n      <td>-0.052144</td>\n      <td>-0.062459</td>\n      <td>-0.152205</td>\n      <td>1</td>\n    </tr>\n    <tr>\n      <th>4</th>\n      <td>-0.342396</td>\n      <td>-0.165054</td>\n      <td>-0.556700</td>\n      <td>-0.046894</td>\n      <td>0.472521</td>\n      <td>-0.350228</td>\n      <td>0.500183</td>\n      <td>1.308259</td>\n      <td>0.789376</td>\n      <td>0.605791</td>\n      <td>...</td>\n      <td>-0.158436</td>\n      <td>-0.014908</td>\n      <td>-0.155181</td>\n      <td>-0.164369</td>\n      <td>-0.308321</td>\n      <td>-0.103037</td>\n      <td>-0.052144</td>\n      <td>-0.062459</td>\n      <td>-0.152205</td>\n      <td>1</td>\n    </tr>\n    <tr>\n      <th>...</th>\n      <td>...</td>\n      <td>...</td>\n      <td>...</td>\n      <td>...</td>\n      <td>...</td>\n      <td>...</td>\n      <td>...</td>\n      <td>...</td>\n      <td>...</td>\n      <td>...</td>\n      <td>...</td>\n      <td>...</td>\n      <td>...</td>\n      <td>...</td>\n      <td>...</td>\n      <td>...</td>\n      <td>...</td>\n      <td>...</td>\n      <td>...</td>\n      <td>...</td>\n      <td>...</td>\n    </tr>\n    <tr>\n      <th>4596</th>\n      <td>0.672807</td>\n      <td>-0.165054</td>\n      <td>0.673110</td>\n      <td>-0.046894</td>\n      <td>-0.464264</td>\n      <td>0.781886</td>\n      <td>-0.291762</td>\n      <td>-0.262533</td>\n      <td>-0.323267</td>\n      <td>-0.371324</td>\n      <td>...</td>\n      <td>-0.158436</td>\n      <td>0.343879</td>\n      <td>-0.155181</td>\n      <td>-0.329876</td>\n      <td>-0.308321</td>\n      <td>-0.103037</td>\n      <td>-0.127626</td>\n      <td>-0.252309</td>\n      <td>-0.322075</td>\n      <td>0</td>\n    </tr>\n    <tr>\n      <th>4597</th>\n      <td>-0.342396</td>\n      <td>-0.165054</td>\n      <td>-0.556700</td>\n      <td>-0.046894</td>\n      <td>-0.464264</td>\n      <td>-0.350228</td>\n      <td>-0.291762</td>\n      <td>-0.262533</td>\n      <td>-0.323267</td>\n      <td>-0.371324</td>\n      <td>...</td>\n      <td>-0.158436</td>\n      <td>-0.514251</td>\n      <td>-0.155181</td>\n      <td>0.102896</td>\n      <td>-0.308321</td>\n      <td>-0.103037</td>\n      <td>-0.114610</td>\n      <td>-0.247178</td>\n      <td>-0.444117</td>\n      <td>0</td>\n    </tr>\n    <tr>\n      <th>4598</th>\n      <td>0.640058</td>\n      <td>-0.165054</td>\n      <td>0.038369</td>\n      <td>-0.046894</td>\n      <td>-0.464264</td>\n      <td>-0.350228</td>\n      <td>-0.291762</td>\n      <td>-0.262533</td>\n      <td>-0.323267</td>\n      <td>-0.371324</td>\n      <td>...</td>\n      <td>0.260504</td>\n      <td>2.141513</td>\n      <td>-0.155181</td>\n      <td>-0.329876</td>\n      <td>-0.308321</td>\n      <td>-0.103037</td>\n      <td>-0.119369</td>\n      <td>-0.236916</td>\n      <td>-0.272598</td>\n      <td>0</td>\n    </tr>\n    <tr>\n      <th>4599</th>\n      <td>2.801459</td>\n      <td>-0.165054</td>\n      <td>-0.556700</td>\n      <td>-0.046894</td>\n      <td>0.011563</td>\n      <td>-0.350228</td>\n      <td>-0.291762</td>\n      <td>-0.262533</td>\n      <td>-0.323267</td>\n      <td>-0.371324</td>\n      <td>...</td>\n      <td>-0.158436</td>\n      <td>-0.303417</td>\n      <td>-0.155181</td>\n      <td>-0.329876</td>\n      <td>-0.308321</td>\n      <td>-0.103037</td>\n      <td>-0.127469</td>\n      <td>-0.242047</td>\n      <td>-0.338567</td>\n      <td>0</td>\n    </tr>\n    <tr>\n      <th>4600</th>\n      <td>-0.342396</td>\n      <td>-0.165054</td>\n      <td>0.732617</td>\n      <td>-0.046894</td>\n      <td>-0.464264</td>\n      <td>-0.350228</td>\n      <td>-0.291762</td>\n      <td>-0.262533</td>\n      <td>-0.323267</td>\n      <td>-0.371324</td>\n      <td>...</td>\n      <td>-0.158436</td>\n      <td>-0.514251</td>\n      <td>-0.155181</td>\n      <td>-0.176628</td>\n      <td>-0.308321</td>\n      <td>-0.103037</td>\n      <td>-0.124223</td>\n      <td>-0.242047</td>\n      <td>-0.401237</td>\n      <td>0</td>\n    </tr>\n  </tbody>\n</table>\n<p>4601 rows × 58 columns</p>\n</div>"
     },
     "metadata": {},
     "output_type": "display_data"
    }
   ],
   "source": [
    "# Display normalized data\n",
    "display(housing_train)\n",
    "display(housing_test)\n",
    "display(spambase)"
   ],
   "metadata": {
    "collapsed": false,
    "ExecuteTime": {
     "end_time": "2023-10-02T23:57:12.858675Z",
     "start_time": "2023-10-02T23:57:12.700153Z"
    }
   },
   "id": "5ee0455324f4fea7"
  },
  {
   "cell_type": "code",
   "execution_count": 6,
   "outputs": [
    {
     "data": {
      "text/plain": "               CRIM            ZN       INDUS          CHAS           NOX  \\\ncount  4.330000e+02  4.330000e+02  433.000000  4.330000e+02  4.330000e+02   \nmean   6.563905e-17  1.640976e-17    0.000000 -6.563905e-17 -1.476879e-16   \nstd    1.000000e+00  1.000000e+00    1.000000  1.000000e+00  1.000000e+00   \nmin   -4.060742e-01 -4.868385e-01   -1.547223 -2.676124e-01 -1.393687e+00   \n25%   -3.984385e-01 -4.868385e-01   -0.845860 -2.676124e-01 -8.651264e-01   \n50%   -3.799111e-01 -4.868385e-01   -0.330726 -2.676124e-01 -1.805968e-01   \n75%    1.118072e-02  3.990081e-02    1.102037 -2.676124e-01  6.165769e-01   \nmax    1.001486e+01  3.727076e+00    2.235933  3.728118e+00  2.756815e+00   \n\n                 RM           AGE           DIS           RAD           TAX  \\\ncount  4.330000e+02  4.330000e+02  4.330000e+02  4.330000e+02  4.330000e+02   \nmean   5.661368e-16  1.887123e-16  8.204881e-17 -1.640976e-16  3.281953e-17   \nstd    1.000000e+00  1.000000e+00  1.000000e+00  1.000000e+00  1.000000e+00   \nmin   -3.846830e+00 -2.336308e+00 -1.299261e+00 -9.695790e-01 -1.263199e+00   \n25%   -5.798571e-01 -8.433338e-01 -8.238987e-01 -6.242313e-01 -7.258052e-01   \n50%   -1.291918e-01  2.503149e-01 -2.281509e-01 -5.091154e-01 -5.227899e-01   \n75%    4.604637e-01  9.158576e-01  6.876996e-01  1.678087e+00  1.596929e+00   \nmax    3.480342e+00  1.156892e+00  4.049677e+00  1.678087e+00  1.596929e+00   \n\n            PTRATIO             B         LSTAT        MEDV  \ncount  4.330000e+02  4.330000e+02  4.330000e+02  433.000000  \nmean   5.743417e-16 -3.446050e-16 -3.281953e-17   22.867206  \nstd    1.000000e+00  1.000000e+00  1.000000e+00    9.497501  \nmin   -2.718055e+00 -4.280446e+00 -1.504995e+00    5.000000  \n25%   -6.506492e-01  1.708055e-01 -7.969020e-01   17.200000  \n50%    1.481214e-01  3.550376e-01 -2.566636e-01   21.500000  \n75%    8.529190e-01  4.090775e-01  5.670940e-01   25.100000  \nmax    1.322784e+00  4.090775e-01  3.467172e+00   50.000000  ",
      "text/html": "<div>\n<style scoped>\n    .dataframe tbody tr th:only-of-type {\n        vertical-align: middle;\n    }\n\n    .dataframe tbody tr th {\n        vertical-align: top;\n    }\n\n    .dataframe thead th {\n        text-align: right;\n    }\n</style>\n<table border=\"1\" class=\"dataframe\">\n  <thead>\n    <tr style=\"text-align: right;\">\n      <th></th>\n      <th>CRIM</th>\n      <th>ZN</th>\n      <th>INDUS</th>\n      <th>CHAS</th>\n      <th>NOX</th>\n      <th>RM</th>\n      <th>AGE</th>\n      <th>DIS</th>\n      <th>RAD</th>\n      <th>TAX</th>\n      <th>PTRATIO</th>\n      <th>B</th>\n      <th>LSTAT</th>\n      <th>MEDV</th>\n    </tr>\n  </thead>\n  <tbody>\n    <tr>\n      <th>count</th>\n      <td>4.330000e+02</td>\n      <td>4.330000e+02</td>\n      <td>433.000000</td>\n      <td>4.330000e+02</td>\n      <td>4.330000e+02</td>\n      <td>4.330000e+02</td>\n      <td>4.330000e+02</td>\n      <td>4.330000e+02</td>\n      <td>4.330000e+02</td>\n      <td>4.330000e+02</td>\n      <td>4.330000e+02</td>\n      <td>4.330000e+02</td>\n      <td>4.330000e+02</td>\n      <td>433.000000</td>\n    </tr>\n    <tr>\n      <th>mean</th>\n      <td>6.563905e-17</td>\n      <td>1.640976e-17</td>\n      <td>0.000000</td>\n      <td>-6.563905e-17</td>\n      <td>-1.476879e-16</td>\n      <td>5.661368e-16</td>\n      <td>1.887123e-16</td>\n      <td>8.204881e-17</td>\n      <td>-1.640976e-16</td>\n      <td>3.281953e-17</td>\n      <td>5.743417e-16</td>\n      <td>-3.446050e-16</td>\n      <td>-3.281953e-17</td>\n      <td>22.867206</td>\n    </tr>\n    <tr>\n      <th>std</th>\n      <td>1.000000e+00</td>\n      <td>1.000000e+00</td>\n      <td>1.000000</td>\n      <td>1.000000e+00</td>\n      <td>1.000000e+00</td>\n      <td>1.000000e+00</td>\n      <td>1.000000e+00</td>\n      <td>1.000000e+00</td>\n      <td>1.000000e+00</td>\n      <td>1.000000e+00</td>\n      <td>1.000000e+00</td>\n      <td>1.000000e+00</td>\n      <td>1.000000e+00</td>\n      <td>9.497501</td>\n    </tr>\n    <tr>\n      <th>min</th>\n      <td>-4.060742e-01</td>\n      <td>-4.868385e-01</td>\n      <td>-1.547223</td>\n      <td>-2.676124e-01</td>\n      <td>-1.393687e+00</td>\n      <td>-3.846830e+00</td>\n      <td>-2.336308e+00</td>\n      <td>-1.299261e+00</td>\n      <td>-9.695790e-01</td>\n      <td>-1.263199e+00</td>\n      <td>-2.718055e+00</td>\n      <td>-4.280446e+00</td>\n      <td>-1.504995e+00</td>\n      <td>5.000000</td>\n    </tr>\n    <tr>\n      <th>25%</th>\n      <td>-3.984385e-01</td>\n      <td>-4.868385e-01</td>\n      <td>-0.845860</td>\n      <td>-2.676124e-01</td>\n      <td>-8.651264e-01</td>\n      <td>-5.798571e-01</td>\n      <td>-8.433338e-01</td>\n      <td>-8.238987e-01</td>\n      <td>-6.242313e-01</td>\n      <td>-7.258052e-01</td>\n      <td>-6.506492e-01</td>\n      <td>1.708055e-01</td>\n      <td>-7.969020e-01</td>\n      <td>17.200000</td>\n    </tr>\n    <tr>\n      <th>50%</th>\n      <td>-3.799111e-01</td>\n      <td>-4.868385e-01</td>\n      <td>-0.330726</td>\n      <td>-2.676124e-01</td>\n      <td>-1.805968e-01</td>\n      <td>-1.291918e-01</td>\n      <td>2.503149e-01</td>\n      <td>-2.281509e-01</td>\n      <td>-5.091154e-01</td>\n      <td>-5.227899e-01</td>\n      <td>1.481214e-01</td>\n      <td>3.550376e-01</td>\n      <td>-2.566636e-01</td>\n      <td>21.500000</td>\n    </tr>\n    <tr>\n      <th>75%</th>\n      <td>1.118072e-02</td>\n      <td>3.990081e-02</td>\n      <td>1.102037</td>\n      <td>-2.676124e-01</td>\n      <td>6.165769e-01</td>\n      <td>4.604637e-01</td>\n      <td>9.158576e-01</td>\n      <td>6.876996e-01</td>\n      <td>1.678087e+00</td>\n      <td>1.596929e+00</td>\n      <td>8.529190e-01</td>\n      <td>4.090775e-01</td>\n      <td>5.670940e-01</td>\n      <td>25.100000</td>\n    </tr>\n    <tr>\n      <th>max</th>\n      <td>1.001486e+01</td>\n      <td>3.727076e+00</td>\n      <td>2.235933</td>\n      <td>3.728118e+00</td>\n      <td>2.756815e+00</td>\n      <td>3.480342e+00</td>\n      <td>1.156892e+00</td>\n      <td>4.049677e+00</td>\n      <td>1.678087e+00</td>\n      <td>1.596929e+00</td>\n      <td>1.322784e+00</td>\n      <td>4.090775e-01</td>\n      <td>3.467172e+00</td>\n      <td>50.000000</td>\n    </tr>\n  </tbody>\n</table>\n</div>"
     },
     "metadata": {},
     "output_type": "display_data"
    },
    {
     "data": {
      "text/plain": "            CRIM         ZN      INDUS       CHAS        NOX         RM  \\\ncount  74.000000  74.000000  74.000000  74.000000  74.000000  74.000000   \nmean    0.107248  -0.061176   0.270379   0.056366   0.097501  -0.123766   \nstd     1.046984   0.873962   1.053129   1.098118   1.021359   0.866413   \nmin    -0.405531  -0.486839  -1.351982  -0.267612  -1.454342  -3.036755   \n25%    -0.391656  -0.486839  -0.685162  -0.267612  -1.003765  -0.597406   \n50%    -0.342517  -0.486839   0.310563  -0.267612   0.269980  -0.134106   \n75%     0.041908  -0.486839   1.102037  -0.267612   0.616577   0.336566   \nmax     5.582659   2.884293   2.549819   3.728118   2.756815   2.748889   \n\n             AGE        DIS        RAD        TAX    PTRATIO          B  \\\ncount  74.000000  74.000000  74.000000  74.000000  74.000000  74.000000   \nmean    0.106608  -0.011508   0.102243   0.316706   0.226221  -0.429456   \nstd     1.081841   1.148877   1.008596   0.930946   1.093038   1.410777   \nmin    -2.196004  -1.295662  -0.969579  -0.988531  -2.530109  -4.253485   \n25%    -0.879309  -0.822342  -0.624231  -0.409340  -0.227771  -0.488226   \n50%     0.584885  -0.510971  -0.509115  -0.003310   0.829426   0.288227   \n75%     0.990506   0.414620   1.678087   1.596929   0.852919   0.382117   \nmax     1.156892   3.300225   1.678087   1.865625   1.698676   0.409077   \n\n           LSTAT       MEDV  \ncount  74.000000  74.000000  \nmean    0.184436  21.171622  \nstd     0.979311   6.505351  \nmin    -1.344193  10.200000  \n25%    -0.414292  16.750000  \n50%     0.098793  20.100000  \n75%     0.683817  24.250000  \nmax     3.606816  42.800000  ",
      "text/html": "<div>\n<style scoped>\n    .dataframe tbody tr th:only-of-type {\n        vertical-align: middle;\n    }\n\n    .dataframe tbody tr th {\n        vertical-align: top;\n    }\n\n    .dataframe thead th {\n        text-align: right;\n    }\n</style>\n<table border=\"1\" class=\"dataframe\">\n  <thead>\n    <tr style=\"text-align: right;\">\n      <th></th>\n      <th>CRIM</th>\n      <th>ZN</th>\n      <th>INDUS</th>\n      <th>CHAS</th>\n      <th>NOX</th>\n      <th>RM</th>\n      <th>AGE</th>\n      <th>DIS</th>\n      <th>RAD</th>\n      <th>TAX</th>\n      <th>PTRATIO</th>\n      <th>B</th>\n      <th>LSTAT</th>\n      <th>MEDV</th>\n    </tr>\n  </thead>\n  <tbody>\n    <tr>\n      <th>count</th>\n      <td>74.000000</td>\n      <td>74.000000</td>\n      <td>74.000000</td>\n      <td>74.000000</td>\n      <td>74.000000</td>\n      <td>74.000000</td>\n      <td>74.000000</td>\n      <td>74.000000</td>\n      <td>74.000000</td>\n      <td>74.000000</td>\n      <td>74.000000</td>\n      <td>74.000000</td>\n      <td>74.000000</td>\n      <td>74.000000</td>\n    </tr>\n    <tr>\n      <th>mean</th>\n      <td>0.107248</td>\n      <td>-0.061176</td>\n      <td>0.270379</td>\n      <td>0.056366</td>\n      <td>0.097501</td>\n      <td>-0.123766</td>\n      <td>0.106608</td>\n      <td>-0.011508</td>\n      <td>0.102243</td>\n      <td>0.316706</td>\n      <td>0.226221</td>\n      <td>-0.429456</td>\n      <td>0.184436</td>\n      <td>21.171622</td>\n    </tr>\n    <tr>\n      <th>std</th>\n      <td>1.046984</td>\n      <td>0.873962</td>\n      <td>1.053129</td>\n      <td>1.098118</td>\n      <td>1.021359</td>\n      <td>0.866413</td>\n      <td>1.081841</td>\n      <td>1.148877</td>\n      <td>1.008596</td>\n      <td>0.930946</td>\n      <td>1.093038</td>\n      <td>1.410777</td>\n      <td>0.979311</td>\n      <td>6.505351</td>\n    </tr>\n    <tr>\n      <th>min</th>\n      <td>-0.405531</td>\n      <td>-0.486839</td>\n      <td>-1.351982</td>\n      <td>-0.267612</td>\n      <td>-1.454342</td>\n      <td>-3.036755</td>\n      <td>-2.196004</td>\n      <td>-1.295662</td>\n      <td>-0.969579</td>\n      <td>-0.988531</td>\n      <td>-2.530109</td>\n      <td>-4.253485</td>\n      <td>-1.344193</td>\n      <td>10.200000</td>\n    </tr>\n    <tr>\n      <th>25%</th>\n      <td>-0.391656</td>\n      <td>-0.486839</td>\n      <td>-0.685162</td>\n      <td>-0.267612</td>\n      <td>-1.003765</td>\n      <td>-0.597406</td>\n      <td>-0.879309</td>\n      <td>-0.822342</td>\n      <td>-0.624231</td>\n      <td>-0.409340</td>\n      <td>-0.227771</td>\n      <td>-0.488226</td>\n      <td>-0.414292</td>\n      <td>16.750000</td>\n    </tr>\n    <tr>\n      <th>50%</th>\n      <td>-0.342517</td>\n      <td>-0.486839</td>\n      <td>0.310563</td>\n      <td>-0.267612</td>\n      <td>0.269980</td>\n      <td>-0.134106</td>\n      <td>0.584885</td>\n      <td>-0.510971</td>\n      <td>-0.509115</td>\n      <td>-0.003310</td>\n      <td>0.829426</td>\n      <td>0.288227</td>\n      <td>0.098793</td>\n      <td>20.100000</td>\n    </tr>\n    <tr>\n      <th>75%</th>\n      <td>0.041908</td>\n      <td>-0.486839</td>\n      <td>1.102037</td>\n      <td>-0.267612</td>\n      <td>0.616577</td>\n      <td>0.336566</td>\n      <td>0.990506</td>\n      <td>0.414620</td>\n      <td>1.678087</td>\n      <td>1.596929</td>\n      <td>0.852919</td>\n      <td>0.382117</td>\n      <td>0.683817</td>\n      <td>24.250000</td>\n    </tr>\n    <tr>\n      <th>max</th>\n      <td>5.582659</td>\n      <td>2.884293</td>\n      <td>2.549819</td>\n      <td>3.728118</td>\n      <td>2.756815</td>\n      <td>2.748889</td>\n      <td>1.156892</td>\n      <td>3.300225</td>\n      <td>1.678087</td>\n      <td>1.865625</td>\n      <td>1.698676</td>\n      <td>0.409077</td>\n      <td>3.606816</td>\n      <td>42.800000</td>\n    </tr>\n  </tbody>\n</table>\n</div>"
     },
     "metadata": {},
     "output_type": "display_data"
    },
    {
     "data": {
      "text/plain": "       word_freq_make  word_freq_address  word_freq_all  word_freq_3d  \\\ncount    4.601000e+03       4.601000e+03    4601.000000  4.601000e+03   \nmean    -3.088645e-17       1.544322e-17       0.000000 -6.177290e-18   \nstd      1.000000e+00       1.000000e+00       1.000000  1.000000e+00   \nmin     -3.423965e-01      -1.650540e-01      -0.556700 -4.689449e-02   \n25%     -3.423965e-01      -1.650540e-01      -0.556700 -4.689449e-02   \n50%     -3.423965e-01      -1.650540e-01      -0.556700 -4.689449e-02   \n75%     -3.423965e-01      -1.650540e-01       0.276397 -4.689449e-02   \nmax      1.452542e+01       1.089978e+01       9.559480  3.063795e+01   \n\n       word_freq_our  word_freq_over  word_freq_remove  word_freq_internet  \\\ncount   4.601000e+03    4.601000e+03      4.601000e+03        4.601000e+03   \nmean    3.706374e-17    6.177290e-17      2.470916e-17       -2.470916e-17   \nstd     1.000000e+00    1.000000e+00      1.000000e+00        1.000000e+00   \nmin    -4.642639e-01   -3.502281e-01     -2.917622e-01       -2.625330e-01   \n25%    -4.642639e-01   -3.502281e-01     -2.917622e-01       -2.625330e-01   \n50%    -4.642639e-01   -3.502281e-01     -2.917622e-01       -2.625330e-01   \n75%     1.007811e-01   -3.502281e-01     -2.917622e-01       -2.625330e-01   \nmax     1.440534e+01    2.112341e+01      1.828062e+01        2.743827e+01   \n\n       word_freq_order  word_freq_mail  ...   char_freq_;   char_freq_(  \\\ncount     4.601000e+03    4.601000e+03  ...  4.601000e+03  4.601000e+03   \nmean      9.883663e-17   -6.177290e-18  ...  3.706374e-17 -5.559561e-17   \nstd       1.000000e+00    1.000000e+00  ...  1.000000e+00  1.000000e+00   \nmin      -3.232672e-01   -3.713240e-01  ... -1.584361e-01 -5.142507e-01   \n25%      -3.232672e-01   -3.713240e-01  ... -1.584361e-01 -5.142507e-01   \n50%      -3.232672e-01   -3.713240e-01  ... -1.584361e-01 -2.738264e-01   \n75%      -3.232672e-01   -1.231679e-01  ... -1.584361e-01  1.811304e-01   \nmax       1.855577e+01    2.782542e+01  ...  1.785190e+01  3.555679e+01   \n\n        char_freq_[   char_freq_!   char_freq_$   char_freq_#  \\\ncount  4.601000e+03  4.601000e+03  4.601000e+03  4.601000e+03   \nmean   2.162051e-17  2.470916e-17 -2.470916e-17  1.853187e-17   \nstd    1.000000e+00  1.000000e+00  1.000000e+00  1.000000e+00   \nmin   -1.551808e-01 -3.298764e-01 -3.083214e-01 -1.030372e-01   \n25%   -1.551808e-01 -3.298764e-01 -3.083214e-01 -1.030372e-01   \n50%   -1.551808e-01 -3.298764e-01 -3.083214e-01 -1.030372e-01   \n75%   -1.551808e-01  5.630838e-02 -9.683788e-02 -1.030372e-01   \nmax    3.715028e+01  3.948762e+01  2.410583e+01  4.608158e+01   \n\n       capital_run_length_average  capital_run_length_longest  \\\ncount                4.601000e+03                4.601000e+03   \nmean                 3.706374e-17                1.235458e-17   \nstd                  1.000000e+00                1.000000e+00   \nmin                 -1.321017e-01               -2.625709e-01   \n25%                 -1.135701e-01               -2.369156e-01   \n50%                 -9.188672e-02               -1.907360e-01   \n75%                 -4.681818e-02               -4.706618e-02   \nmax                  3.458328e+01                5.098651e+01   \n\n       capital_run_length_total         spam  \ncount               4601.000000  4601.000000  \nmean                   0.000000     0.394045  \nstd                    1.000000     0.488698  \nmin                   -0.465557     0.000000  \n25%                   -0.409483     0.000000  \n50%                   -0.310530     0.000000  \n75%                   -0.028514     1.000000  \nmax                   25.658062     1.000000  \n\n[8 rows x 58 columns]",
      "text/html": "<div>\n<style scoped>\n    .dataframe tbody tr th:only-of-type {\n        vertical-align: middle;\n    }\n\n    .dataframe tbody tr th {\n        vertical-align: top;\n    }\n\n    .dataframe thead th {\n        text-align: right;\n    }\n</style>\n<table border=\"1\" class=\"dataframe\">\n  <thead>\n    <tr style=\"text-align: right;\">\n      <th></th>\n      <th>word_freq_make</th>\n      <th>word_freq_address</th>\n      <th>word_freq_all</th>\n      <th>word_freq_3d</th>\n      <th>word_freq_our</th>\n      <th>word_freq_over</th>\n      <th>word_freq_remove</th>\n      <th>word_freq_internet</th>\n      <th>word_freq_order</th>\n      <th>word_freq_mail</th>\n      <th>...</th>\n      <th>char_freq_;</th>\n      <th>char_freq_(</th>\n      <th>char_freq_[</th>\n      <th>char_freq_!</th>\n      <th>char_freq_$</th>\n      <th>char_freq_#</th>\n      <th>capital_run_length_average</th>\n      <th>capital_run_length_longest</th>\n      <th>capital_run_length_total</th>\n      <th>spam</th>\n    </tr>\n  </thead>\n  <tbody>\n    <tr>\n      <th>count</th>\n      <td>4.601000e+03</td>\n      <td>4.601000e+03</td>\n      <td>4601.000000</td>\n      <td>4.601000e+03</td>\n      <td>4.601000e+03</td>\n      <td>4.601000e+03</td>\n      <td>4.601000e+03</td>\n      <td>4.601000e+03</td>\n      <td>4.601000e+03</td>\n      <td>4.601000e+03</td>\n      <td>...</td>\n      <td>4.601000e+03</td>\n      <td>4.601000e+03</td>\n      <td>4.601000e+03</td>\n      <td>4.601000e+03</td>\n      <td>4.601000e+03</td>\n      <td>4.601000e+03</td>\n      <td>4.601000e+03</td>\n      <td>4.601000e+03</td>\n      <td>4601.000000</td>\n      <td>4601.000000</td>\n    </tr>\n    <tr>\n      <th>mean</th>\n      <td>-3.088645e-17</td>\n      <td>1.544322e-17</td>\n      <td>0.000000</td>\n      <td>-6.177290e-18</td>\n      <td>3.706374e-17</td>\n      <td>6.177290e-17</td>\n      <td>2.470916e-17</td>\n      <td>-2.470916e-17</td>\n      <td>9.883663e-17</td>\n      <td>-6.177290e-18</td>\n      <td>...</td>\n      <td>3.706374e-17</td>\n      <td>-5.559561e-17</td>\n      <td>2.162051e-17</td>\n      <td>2.470916e-17</td>\n      <td>-2.470916e-17</td>\n      <td>1.853187e-17</td>\n      <td>3.706374e-17</td>\n      <td>1.235458e-17</td>\n      <td>0.000000</td>\n      <td>0.394045</td>\n    </tr>\n    <tr>\n      <th>std</th>\n      <td>1.000000e+00</td>\n      <td>1.000000e+00</td>\n      <td>1.000000</td>\n      <td>1.000000e+00</td>\n      <td>1.000000e+00</td>\n      <td>1.000000e+00</td>\n      <td>1.000000e+00</td>\n      <td>1.000000e+00</td>\n      <td>1.000000e+00</td>\n      <td>1.000000e+00</td>\n      <td>...</td>\n      <td>1.000000e+00</td>\n      <td>1.000000e+00</td>\n      <td>1.000000e+00</td>\n      <td>1.000000e+00</td>\n      <td>1.000000e+00</td>\n      <td>1.000000e+00</td>\n      <td>1.000000e+00</td>\n      <td>1.000000e+00</td>\n      <td>1.000000</td>\n      <td>0.488698</td>\n    </tr>\n    <tr>\n      <th>min</th>\n      <td>-3.423965e-01</td>\n      <td>-1.650540e-01</td>\n      <td>-0.556700</td>\n      <td>-4.689449e-02</td>\n      <td>-4.642639e-01</td>\n      <td>-3.502281e-01</td>\n      <td>-2.917622e-01</td>\n      <td>-2.625330e-01</td>\n      <td>-3.232672e-01</td>\n      <td>-3.713240e-01</td>\n      <td>...</td>\n      <td>-1.584361e-01</td>\n      <td>-5.142507e-01</td>\n      <td>-1.551808e-01</td>\n      <td>-3.298764e-01</td>\n      <td>-3.083214e-01</td>\n      <td>-1.030372e-01</td>\n      <td>-1.321017e-01</td>\n      <td>-2.625709e-01</td>\n      <td>-0.465557</td>\n      <td>0.000000</td>\n    </tr>\n    <tr>\n      <th>25%</th>\n      <td>-3.423965e-01</td>\n      <td>-1.650540e-01</td>\n      <td>-0.556700</td>\n      <td>-4.689449e-02</td>\n      <td>-4.642639e-01</td>\n      <td>-3.502281e-01</td>\n      <td>-2.917622e-01</td>\n      <td>-2.625330e-01</td>\n      <td>-3.232672e-01</td>\n      <td>-3.713240e-01</td>\n      <td>...</td>\n      <td>-1.584361e-01</td>\n      <td>-5.142507e-01</td>\n      <td>-1.551808e-01</td>\n      <td>-3.298764e-01</td>\n      <td>-3.083214e-01</td>\n      <td>-1.030372e-01</td>\n      <td>-1.135701e-01</td>\n      <td>-2.369156e-01</td>\n      <td>-0.409483</td>\n      <td>0.000000</td>\n    </tr>\n    <tr>\n      <th>50%</th>\n      <td>-3.423965e-01</td>\n      <td>-1.650540e-01</td>\n      <td>-0.556700</td>\n      <td>-4.689449e-02</td>\n      <td>-4.642639e-01</td>\n      <td>-3.502281e-01</td>\n      <td>-2.917622e-01</td>\n      <td>-2.625330e-01</td>\n      <td>-3.232672e-01</td>\n      <td>-3.713240e-01</td>\n      <td>...</td>\n      <td>-1.584361e-01</td>\n      <td>-2.738264e-01</td>\n      <td>-1.551808e-01</td>\n      <td>-3.298764e-01</td>\n      <td>-3.083214e-01</td>\n      <td>-1.030372e-01</td>\n      <td>-9.188672e-02</td>\n      <td>-1.907360e-01</td>\n      <td>-0.310530</td>\n      <td>0.000000</td>\n    </tr>\n    <tr>\n      <th>75%</th>\n      <td>-3.423965e-01</td>\n      <td>-1.650540e-01</td>\n      <td>0.276397</td>\n      <td>-4.689449e-02</td>\n      <td>1.007811e-01</td>\n      <td>-3.502281e-01</td>\n      <td>-2.917622e-01</td>\n      <td>-2.625330e-01</td>\n      <td>-3.232672e-01</td>\n      <td>-1.231679e-01</td>\n      <td>...</td>\n      <td>-1.584361e-01</td>\n      <td>1.811304e-01</td>\n      <td>-1.551808e-01</td>\n      <td>5.630838e-02</td>\n      <td>-9.683788e-02</td>\n      <td>-1.030372e-01</td>\n      <td>-4.681818e-02</td>\n      <td>-4.706618e-02</td>\n      <td>-0.028514</td>\n      <td>1.000000</td>\n    </tr>\n    <tr>\n      <th>max</th>\n      <td>1.452542e+01</td>\n      <td>1.089978e+01</td>\n      <td>9.559480</td>\n      <td>3.063795e+01</td>\n      <td>1.440534e+01</td>\n      <td>2.112341e+01</td>\n      <td>1.828062e+01</td>\n      <td>2.743827e+01</td>\n      <td>1.855577e+01</td>\n      <td>2.782542e+01</td>\n      <td>...</td>\n      <td>1.785190e+01</td>\n      <td>3.555679e+01</td>\n      <td>3.715028e+01</td>\n      <td>3.948762e+01</td>\n      <td>2.410583e+01</td>\n      <td>4.608158e+01</td>\n      <td>3.458328e+01</td>\n      <td>5.098651e+01</td>\n      <td>25.658062</td>\n      <td>1.000000</td>\n    </tr>\n  </tbody>\n</table>\n<p>8 rows × 58 columns</p>\n</div>"
     },
     "metadata": {},
     "output_type": "display_data"
    }
   ],
   "source": [
    "# Describe data\n",
    "display(housing_train.describe())\n",
    "display(housing_test.describe())\n",
    "display(spambase.describe())"
   ],
   "metadata": {
    "collapsed": false,
    "ExecuteTime": {
     "end_time": "2023-10-02T23:57:13.051336Z",
     "start_time": "2023-10-02T23:57:12.715246Z"
    }
   },
   "id": "1a6f9b85386627d4"
  },
  {
   "cell_type": "markdown",
   "source": [
    "# Problem 1"
   ],
   "metadata": {
    "collapsed": false
   },
   "id": "e23da68564fdff54"
  },
  {
   "cell_type": "markdown",
   "source": [
    "## Housing Linear Ridge Regression"
   ],
   "metadata": {
    "collapsed": false
   },
   "id": "d0eda9bc65194201"
  },
  {
   "cell_type": "code",
   "execution_count": 7,
   "outputs": [
    {
     "name": "stdout",
     "output_type": "stream",
     "text": [
      "Best alpha: 10\n",
      "Best MSE: 22.288685981130126\n"
     ]
    }
   ],
   "source": [
    "# Find the best alpha for housing data\n",
    "alphas = [0.01, 0.1, 1, 10, 100]\n",
    "best_alpha = None\n",
    "best_mse = float('inf')\n",
    "\n",
    "for alpha in alphas:\n",
    "    ridge = ml.RidgeLinearRegression(alpha)\n",
    "    ridge.fit(housing_train)\n",
    "    mse = ridge.mse(housing_test)\n",
    "    if mse < best_mse:\n",
    "        best_alpha = alpha\n",
    "        best_mse = mse\n",
    "\n",
    "print('Best alpha: ' + str(best_alpha))\n",
    "print('Best MSE: ' + str(best_mse))\n",
    "housing_ridge_regression_alpha = best_alpha\n",
    "housing_ridge_regression_mse = best_mse"
   ],
   "metadata": {
    "collapsed": false,
    "ExecuteTime": {
     "end_time": "2023-10-02T23:57:13.053531Z",
     "start_time": "2023-10-02T23:57:12.772776Z"
    }
   },
   "id": "e48250bf5470b7ca"
  },
  {
   "cell_type": "markdown",
   "source": [
    "## Spambase Linear Ridge Regression"
   ],
   "metadata": {
    "collapsed": false
   },
   "id": "350096ab8dd94d1a"
  },
  {
   "cell_type": "code",
   "execution_count": 8,
   "outputs": [
    {
     "name": "stdout",
     "output_type": "stream",
     "text": [
      "Best alpha: 10\n",
      "Best accuracy: 0.8756521739130434\n"
     ]
    }
   ],
   "source": [
    "# Find the best alpha for spambase data\n",
    "alphas = [0.01, 0.1, 1, 10, 100]\n",
    "best_alpha = None\n",
    "best_accuracy = float('inf')\n",
    "\n",
    "for alpha in alphas:\n",
    "    ridge = ml.RidgeLinearRegression(alpha)\n",
    "    ridge.fit(spambase)\n",
    "    accuracy = ridge.cross_validate(spambase)\n",
    "    if accuracy < best_accuracy:\n",
    "        best_alpha = alpha\n",
    "        best_accuracy = accuracy\n",
    "\n",
    "print('Best alpha: ' + str(best_alpha))\n",
    "print('Best accuracy: ' + str(best_accuracy))\n",
    "spambase_ridge_regression_alpha = best_alpha\n",
    "spambase_ridge_regression_accuracy = best_accuracy"
   ],
   "metadata": {
    "collapsed": false,
    "ExecuteTime": {
     "end_time": "2023-10-02T23:57:13.975278Z",
     "start_time": "2023-10-02T23:57:12.907427Z"
    }
   },
   "id": "fdf93cb2e1aa5f49"
  },
  {
   "cell_type": "markdown",
   "source": [
    "## Housing Linear Regression with Gradient Descent"
   ],
   "metadata": {
    "collapsed": false
   },
   "id": "85b8cc19f510f414"
  },
  {
   "cell_type": "code",
   "execution_count": 9,
   "outputs": [
    {
     "name": "stdout",
     "output_type": "stream",
     "text": [
      "Best alpha: 0.01\n",
      "Best MSE: 21.11970137777015\n"
     ]
    }
   ],
   "source": [
    "# Find the best alpha for housing data\n",
    "alphas = [0.01, 0.1, 1, 10, 100]\n",
    "best_alpha = None\n",
    "best_mse = float('inf')\n",
    "\n",
    "for alpha in alphas:\n",
    "    gradient = ml.LinearGradientDescent(alpha, 1e-4, 100)\n",
    "    gradient.fit(housing_train)\n",
    "    mse = gradient.mse(housing_test)\n",
    "    if mse < best_mse:\n",
    "        best_alpha = alpha\n",
    "        best_mse = mse\n",
    "\n",
    "print('Best alpha: ' + str(best_alpha))\n",
    "print('Best MSE: ' + str(best_mse))\n",
    "housing_linear_gradient_alpha = best_alpha\n",
    "housing_linear_gradient_mse = best_mse"
   ],
   "metadata": {
    "collapsed": false,
    "ExecuteTime": {
     "end_time": "2023-10-02T23:57:14.047095Z",
     "start_time": "2023-10-02T23:57:13.976974Z"
    }
   },
   "id": "2295b4f2a6f995eb"
  },
  {
   "cell_type": "markdown",
   "source": [
    "## Spambase Linear Regression with Gradient Descent"
   ],
   "metadata": {
    "collapsed": false
   },
   "id": "6f155901a3d0e417"
  },
  {
   "cell_type": "code",
   "execution_count": 10,
   "outputs": [
    {
     "name": "stdout",
     "output_type": "stream",
     "text": [
      "Best alpha: 100\n",
      "Best accuracy: 0.8789130434782608\n"
     ]
    }
   ],
   "source": [
    "# Find the best alpha for spambase data\n",
    "alphas = [0.01, 0.1, 1, 10, 100]\n",
    "best_alpha = None\n",
    "best_accuracy = float('inf')\n",
    "\n",
    "for alpha in alphas:\n",
    "    gradient = ml.LinearGradientDescent(alpha, 1e-5, 100)\n",
    "    gradient.fit(spambase)\n",
    "    accuracy = gradient.cross_validate(spambase)\n",
    "    if accuracy < best_accuracy:\n",
    "        best_alpha = alpha\n",
    "        best_accuracy = accuracy\n",
    "\n",
    "print('Best alpha: ' + str(best_alpha))\n",
    "print('Best accuracy: ' + str(best_accuracy))\n",
    "spambase_linear_gradient_alpha = best_alpha\n",
    "spambase_linear_gradient_accuracy = best_accuracy"
   ],
   "metadata": {
    "collapsed": false,
    "ExecuteTime": {
     "end_time": "2023-10-02T23:57:16.385451Z",
     "start_time": "2023-10-02T23:57:14.016716Z"
    }
   },
   "id": "feb362c534f59956"
  },
  {
   "cell_type": "markdown",
   "source": [
    "## Spambase Logistic Regression with Gradient Descent"
   ],
   "metadata": {
    "collapsed": false
   },
   "id": "6e7bf8b411803b27"
  },
  {
   "cell_type": "code",
   "execution_count": 11,
   "outputs": [
    {
     "name": "stdout",
     "output_type": "stream",
     "text": [
      "Best alpha: 0.01\n",
      "Best accuracy: 0.9134782608695652\n"
     ]
    }
   ],
   "source": [
    "# Find the best alpha for spambase data\n",
    "alphas = [0.01, 0.1, 1, 10, 100]\n",
    "best_alpha = None\n",
    "best_accuracy = float('inf')\n",
    "best_matrix = None\n",
    "\n",
    "for alpha in alphas:\n",
    "    logistic = ml.LogisticGradientDescent(alpha, 1e-3, 100)\n",
    "    logistic.fit(spambase)\n",
    "    accuracy, matrix = logistic.cross_validate(spambase, confusion=True)\n",
    "    if accuracy < best_accuracy:\n",
    "        best_alpha = alpha\n",
    "        best_accuracy = accuracy\n",
    "        best_matrix = matrix\n",
    "\n",
    "print('Best alpha: ' + str(best_alpha))\n",
    "print('Best accuracy: ' + str(best_accuracy))\n",
    "spambase_logistic_gradient_alpha = best_alpha\n",
    "spambase_logistic_regression_accuracy = best_accuracy\n",
    "spambase_logistic_regression_matrix = best_matrix"
   ],
   "metadata": {
    "collapsed": false,
    "ExecuteTime": {
     "end_time": "2023-10-02T23:57:18.897091Z",
     "start_time": "2023-10-02T23:57:16.369793Z"
    }
   },
   "id": "46e9e693e89737b7"
  },
  {
   "cell_type": "markdown",
   "source": [
    "## HW1 Algorithms"
   ],
   "metadata": {
    "collapsed": false
   },
   "id": "b021ea6b9e6afb80"
  },
  {
   "cell_type": "code",
   "execution_count": 12,
   "outputs": [],
   "source": [
    "# Spambase\n",
    "# Decision tree\n",
    "spambase_decision_tree = ml.DecisionTree(ml.entropy, mode, max_depth=6, min_instances=5, target_impurity=0.5)\n",
    "spambase_decision_tree_accuracy, spambase_decision_tree_matrix = spambase_decision_tree.cross_validate(spambase,\n",
    "                                                                                                       confusion=True)\n",
    "\n",
    "# Normal linear regression\n",
    "spambase_linear_regression = ml.LinearRegression()\n",
    "spambase_linear_regression_accuracy, spambase_linear_regression_matrix = spambase_linear_regression.cross_validate(\n",
    "    spambase, confusion=True)\n",
    "\n",
    "# Housing\n",
    "# Decision tree\n",
    "housing_decision_tree = ml.DecisionTree(ml.entropy, mean, max_depth=8, min_instances=5, target_impurity=1.0)\n",
    "housing_decision_tree_model = housing_decision_tree.fit(housing_train)\n",
    "housing_decision_tree_mse = housing_decision_tree.mse(housing_decision_tree_model, housing_test)\n",
    "\n",
    "# Normal linear regression\n",
    "housing_linear_regression = ml.LinearRegression()\n",
    "housing_linear_regression.fit(housing_train)\n",
    "housing_linear_regression_mse = housing_linear_regression.mse(housing_test)"
   ],
   "metadata": {
    "collapsed": false,
    "ExecuteTime": {
     "end_time": "2023-10-03T00:01:12.079052Z",
     "start_time": "2023-10-02T23:57:18.902897Z"
    }
   },
   "id": "c9357bc9e2fdd8e6"
  },
  {
   "cell_type": "markdown",
   "source": [
    "## Training Accuracies"
   ],
   "metadata": {
    "collapsed": false
   },
   "id": "a7e95137f2754cdf"
  },
  {
   "cell_type": "code",
   "execution_count": 13,
   "outputs": [],
   "source": [
    "# Find training accuracies for all algorithms\n",
    "\n",
    "# Spambase\n",
    "pred = np.vectorize(lambda y: 1 if y >= 0.5 else 0)\n",
    "\n",
    "# Decision tree\n",
    "spambase_train_decision_tree_model = spambase_decision_tree.fit(spambase)\n",
    "spambase_train_decision_tree_predictions = spambase_decision_tree.predict(spambase_train_decision_tree_model, spambase)\n",
    "spambase_train_decision_tree_accuracy = np.sum(\n",
    "    spambase_train_decision_tree_predictions == spambase.iloc[:, -1]) / float(spambase.shape[0])\n",
    "\n",
    "# Normal linear regression\n",
    "spambase_linear_regression.fit(spambase)\n",
    "spambase_train_linear_regression_predictions = pred(spambase_linear_regression.predict(spambase))\n",
    "spambase_train_linear_regression_accuracy = np.sum(\n",
    "    spambase_train_linear_regression_predictions == spambase.iloc[:, -1]) / float(spambase.shape[0])\n",
    "\n",
    "# Linear ridge regression\n",
    "spambase_train_ridge_regression = ml.RidgeLinearRegression(spambase_ridge_regression_alpha)\n",
    "spambase_train_ridge_regression.fit(spambase)\n",
    "spambase_train_ridge_regression_predictions = pred(spambase_train_ridge_regression.predict(spambase))\n",
    "spambase_train_ridge_regression_accuracy = np.sum(\n",
    "    spambase_train_ridge_regression_predictions == spambase.iloc[:, -1]) / float(spambase.shape[0])\n",
    "\n",
    "# Linear regression with gradient descent\n",
    "spambase_train_linear_gradient = ml.LinearGradientDescent(spambase_linear_gradient_alpha, 1e-5, 100)\n",
    "spambase_train_linear_gradient.fit(spambase)\n",
    "spambase_train_linear_gradient_predictions = pred(spambase_train_linear_gradient.predict(spambase))\n",
    "spambase_train_linear_gradient_accuracy = np.sum(\n",
    "    spambase_train_linear_gradient_predictions == spambase.iloc[:, -1]) / float(spambase.shape[0])\n",
    "\n",
    "# Logistic regression with gradient descent\n",
    "spambase_train_logistic_gradient = ml.LogisticGradientDescent(spambase_logistic_gradient_alpha, 1e-3, 100)\n",
    "spambase_train_logistic_gradient.fit(spambase)\n",
    "spambase_train_logistic_gradient_predictions = pred(spambase_train_logistic_gradient.predict(spambase))\n",
    "spambase_train_logistic_gradient_accuracy = np.sum(\n",
    "    spambase_train_logistic_gradient_predictions == spambase.iloc[:, -1]) / float(spambase.shape[0])\n",
    "\n",
    "# Housing\n",
    "# Regression tree\n",
    "housing_train_decision_tree_mse = housing_decision_tree.mse(housing_decision_tree_model, housing_train)\n",
    "\n",
    "# Normal linear regression\n",
    "housing_train_linear_regression_mse = housing_linear_regression.mse(housing_train)\n",
    "\n",
    "# Linear ridge regression\n",
    "housing_train_ridge_regression = ml.RidgeLinearRegression(housing_ridge_regression_alpha)\n",
    "housing_train_ridge_regression.fit(housing_train)\n",
    "housing_train_ridge_regression_mse = housing_train_ridge_regression.mse(housing_train)\n",
    "\n",
    "# Linear regression with gradient descent\n",
    "housing_train_linear_gradient = ml.LinearGradientDescent(housing_linear_gradient_alpha, 1e-4, 100)\n",
    "housing_train_linear_gradient.fit(housing_train)\n",
    "housing_train_linear_gradient_mse = housing_train_linear_gradient.mse(housing_train)"
   ],
   "metadata": {
    "collapsed": false,
    "ExecuteTime": {
     "end_time": "2023-10-03T00:01:39.419641Z",
     "start_time": "2023-10-03T00:01:12.085504Z"
    }
   },
   "id": "ee81c70c4d2770d6"
  },
  {
   "cell_type": "markdown",
   "source": [
    "## Results Table"
   ],
   "metadata": {
    "collapsed": false
   },
   "id": "f2081e07fe29aad7"
  },
  {
   "cell_type": "code",
   "execution_count": 14,
   "outputs": [
    {
     "data": {
      "text/plain": "                     Decision or Regression Tree  \\\nSpambase   Training Acc: 0.92; Testing Acc: 0.91   \nHousing   Training MSE: 10.5; Testing MSE: 20.98   \n\n                                Linear Regression  \\\nSpambase    Training Acc: 0.89; Testing Acc: 0.89   \nHousing   Training MSE: 22.08; Testing MSE: 22.64   \n\n                          Linear Ridge Regression  \\\nSpambase    Training Acc: 0.89; Testing Acc: 0.88   \nHousing   Training MSE: 22.48; Testing MSE: 22.29   \n\n          Linear Regression with Gradient Descent  \\\nSpambase    Training Acc: 0.88; Testing Acc: 0.88   \nHousing   Training MSE: 23.26; Testing MSE: 21.12   \n\n         Logistic Regression with Gradient Descent  \nSpambase     Training Acc: 0.93; Testing Acc: 0.91  \nHousing                                        N/A  ",
      "text/html": "<div>\n<style scoped>\n    .dataframe tbody tr th:only-of-type {\n        vertical-align: middle;\n    }\n\n    .dataframe tbody tr th {\n        vertical-align: top;\n    }\n\n    .dataframe thead th {\n        text-align: right;\n    }\n</style>\n<table border=\"1\" class=\"dataframe\">\n  <thead>\n    <tr style=\"text-align: right;\">\n      <th></th>\n      <th>Decision or Regression Tree</th>\n      <th>Linear Regression</th>\n      <th>Linear Ridge Regression</th>\n      <th>Linear Regression with Gradient Descent</th>\n      <th>Logistic Regression with Gradient Descent</th>\n    </tr>\n  </thead>\n  <tbody>\n    <tr>\n      <th>Spambase</th>\n      <td>Training Acc: 0.92; Testing Acc: 0.91</td>\n      <td>Training Acc: 0.89; Testing Acc: 0.89</td>\n      <td>Training Acc: 0.89; Testing Acc: 0.88</td>\n      <td>Training Acc: 0.88; Testing Acc: 0.88</td>\n      <td>Training Acc: 0.93; Testing Acc: 0.91</td>\n    </tr>\n    <tr>\n      <th>Housing</th>\n      <td>Training MSE: 10.5; Testing MSE: 20.98</td>\n      <td>Training MSE: 22.08; Testing MSE: 22.64</td>\n      <td>Training MSE: 22.48; Testing MSE: 22.29</td>\n      <td>Training MSE: 23.26; Testing MSE: 21.12</td>\n      <td>N/A</td>\n    </tr>\n  </tbody>\n</table>\n</div>"
     },
     "metadata": {},
     "output_type": "display_data"
    }
   ],
   "source": [
    "# Create results table\n",
    "results = pd.DataFrame(columns=['Decision or Regression Tree', 'Linear Regression', 'Linear Ridge Regression',\n",
    "                                'Linear Regression with Gradient Descent', 'Logistic Regression with Gradient Descent'],\n",
    "                       index=['Spambase', 'Housing'])\n",
    "results.iloc[0, 0] = \"Training Acc: \" + str(\n",
    "    np.round(spambase_train_decision_tree_accuracy, 2)) + \"; Testing Acc: \" + str(\n",
    "    np.round(spambase_decision_tree_accuracy, 2))\n",
    "results.iloc[0, 1] = \"Training Acc: \" + str(\n",
    "    np.round(spambase_train_linear_regression_accuracy, 2)) + \"; Testing Acc: \" + str(\n",
    "    np.round(spambase_linear_regression_accuracy, 2))\n",
    "results.iloc[0, 2] = \"Training Acc: \" + str(\n",
    "    np.round(spambase_train_ridge_regression_accuracy, 2)) + \"; Testing Acc: \" + str(\n",
    "    np.round(spambase_ridge_regression_accuracy, 2))\n",
    "results.iloc[0, 3] = \"Training Acc: \" + str(\n",
    "    np.round(spambase_train_linear_gradient_accuracy, 2)) + \"; Testing Acc: \" + str(\n",
    "    np.round(spambase_linear_gradient_accuracy, 2))\n",
    "results.iloc[0, 4] = \"Training Acc: \" + str(\n",
    "    np.round(spambase_train_logistic_gradient_accuracy, 2)) + \"; Testing Acc: \" + str(\n",
    "    np.round(spambase_logistic_regression_accuracy, 2))\n",
    "\n",
    "results.iloc[1, 0] = \"Training MSE: \" + str(\n",
    "    np.round(housing_train_decision_tree_mse, 2)) + \"; Testing MSE: \" + str(\n",
    "    np.round(housing_decision_tree_mse, 2))\n",
    "results.iloc[1, 1] = \"Training MSE: \" + str(\n",
    "    np.round(housing_train_linear_regression_mse, 2)) + \"; Testing MSE: \" + str(\n",
    "    np.round(housing_linear_regression_mse, 2))\n",
    "results.iloc[1, 2] = \"Training MSE: \" + str(\n",
    "    np.round(housing_train_ridge_regression_mse, 2)) + \"; Testing MSE: \" + str(\n",
    "    np.round(housing_ridge_regression_mse, 2))\n",
    "results.iloc[1, 3] = \"Training MSE: \" + str(\n",
    "    np.round(housing_train_linear_gradient_mse, 2)) + \"; Testing MSE: \" + str(\n",
    "    np.round(housing_linear_gradient_mse, 2))\n",
    "results.iloc[1, 4] = \"N/A\"\n",
    "\n",
    "display(results)"
   ],
   "metadata": {
    "collapsed": false,
    "ExecuteTime": {
     "end_time": "2023-10-03T00:01:39.546894Z",
     "start_time": "2023-10-03T00:01:39.421637Z"
    }
   },
   "id": "a8457cf4a6f4e9d7"
  },
  {
   "cell_type": "markdown",
   "source": [
    "## Confusion Matrices"
   ],
   "metadata": {
    "collapsed": false
   },
   "id": "4a3fcb75dd0aca2"
  },
  {
   "cell_type": "code",
   "execution_count": 15,
   "outputs": [
    {
     "data": {
      "text/plain": "array([[2660,  153],\n       [ 271, 1516]])"
     },
     "metadata": {},
     "output_type": "display_data"
    }
   ],
   "source": [
    "# Decision tree confusion matrix\n",
    "display(spambase_decision_tree_matrix)"
   ],
   "metadata": {
    "collapsed": false,
    "ExecuteTime": {
     "end_time": "2023-10-03T00:01:39.549978Z",
     "start_time": "2023-10-03T00:01:39.423240Z"
    }
   },
   "id": "e18a546982644485"
  },
  {
   "cell_type": "code",
   "execution_count": 16,
   "outputs": [
    {
     "data": {
      "text/plain": "array([[2647,  138],\n       [ 389, 1426]])"
     },
     "metadata": {},
     "output_type": "display_data"
    }
   ],
   "source": [
    "# Normal linear regression confusion matrix\n",
    "display(spambase_linear_regression_matrix)"
   ],
   "metadata": {
    "collapsed": false,
    "ExecuteTime": {
     "end_time": "2023-10-03T00:01:39.553223Z",
     "start_time": "2023-10-03T00:01:39.435505Z"
    }
   },
   "id": "7607ca0e28a08dcc"
  },
  {
   "cell_type": "code",
   "execution_count": 17,
   "outputs": [
    {
     "data": {
      "text/plain": "array([[2636,  147],\n       [ 251, 1566]])"
     },
     "metadata": {},
     "output_type": "display_data"
    }
   ],
   "source": [
    "# Logistic regression confusion matrix\n",
    "display(spambase_logistic_regression_matrix)"
   ],
   "metadata": {
    "collapsed": false,
    "ExecuteTime": {
     "end_time": "2023-10-03T00:01:40.138747Z",
     "start_time": "2023-10-03T00:01:39.537549Z"
    }
   },
   "id": "77c0f46ac215df85"
  },
  {
   "cell_type": "markdown",
   "source": [
    "## ROC Curves"
   ],
   "metadata": {
    "collapsed": false
   },
   "id": "d00f592613361628"
  },
  {
   "cell_type": "code",
   "execution_count": 18,
   "outputs": [
    {
     "data": {
      "text/plain": "<Figure size 640x480 with 1 Axes>",
      "image/png": "[encoded data removed]"
     },
     "metadata": {},
     "output_type": "display_data"
    },
    {
     "name": "stdout",
     "output_type": "stream",
     "text": [
      "AUC: 0.9437504941102062\n"
     ]
    }
   ],
   "source": [
    "# Linear regression ROC curve\n",
    "fpr, tpr = spambase_linear_regression.roc_curve(spambase)\n",
    "ml.plot_roc_curve(fpr, tpr)\n",
    "fpr, tpr = zip(*sorted(zip(fpr, tpr)))\n",
    "print(\"AUC: \" + str(ml.calculate_auc(fpr, tpr)))"
   ],
   "metadata": {
    "collapsed": false,
    "ExecuteTime": {
     "end_time": "2023-10-03T00:01:40.256211Z",
     "start_time": "2023-10-03T00:01:39.537936Z"
    }
   },
   "id": "669e20e6b6f93dd1"
  },
  {
   "cell_type": "code",
   "execution_count": 19,
   "outputs": [
    {
     "data": {
      "text/plain": "<Figure size 640x480 with 1 Axes>",
      "image/png": "[encoded data removed]"
     },
     "metadata": {},
     "output_type": "display_data"
    },
    {
     "name": "stdout",
     "output_type": "stream",
     "text": [
      "AUC: 0.9655696428571428\n"
     ]
    }
   ],
   "source": [
    "# Logistic regression ROC curve\n",
    "fpr, tpr = spambase_train_logistic_gradient.roc_curve(spambase)\n",
    "ml.plot_roc_curve(fpr, tpr)\n",
    "fpr, tpr = zip(*sorted(zip(fpr, tpr)))\n",
    "print(\"AUC: \" + str(ml.calculate_auc(fpr, tpr)))"
   ],
   "metadata": {
    "collapsed": false,
    "ExecuteTime": {
     "end_time": "2023-10-03T00:01:41.330574Z",
     "start_time": "2023-10-03T00:01:39.801042Z"
    }
   },
   "id": "5364c02f1ba7f3d2"
  },
  {
   "cell_type": "markdown",
   "source": [
    "# Problem 2"
   ],
   "metadata": {
    "collapsed": false
   },
   "id": "a18a5a49c151c86e"
  },
  {
   "cell_type": "code",
   "execution_count": 20,
   "outputs": [],
   "source": [
    "# Load the perceptron data\n",
    "perceptron_train = pd.read_csv('perceptronData.txt', header=None, delim_whitespace=True,\n",
    "                               names=['x1', 'x2', 'x3', 'x4', 'y'])"
   ],
   "metadata": {
    "collapsed": false,
    "ExecuteTime": {
     "end_time": "2023-10-03T00:01:41.331089Z",
     "start_time": "2023-10-03T00:01:41.189801Z"
    }
   },
   "id": "64313de4a2f9a414"
  },
  {
   "cell_type": "code",
   "execution_count": 21,
   "outputs": [
    {
     "data": {
      "text/plain": "           x1        x2        x3        x4  y\n0    0.385205  0.183011  0.545166  0.598326 -1\n1    0.065588  0.515544  0.645150  0.390085 -1\n2    0.554554  0.111030  0.217264  0.703676 -1\n3    0.307584  0.117353  0.568609  0.171143 -1\n4    0.527311  0.593813  0.023508  0.393045 -1\n..        ...       ...       ...       ... ..\n995  0.587124  0.782808  0.379083  0.059473 -1\n996  0.835300  0.905012  0.828545  0.430708  1\n997  0.219083  0.181531  0.947483  0.566283  1\n998  0.710701  0.700835  0.614247  0.471783  1\n999  0.584976  0.608665  0.094657  0.015315 -1\n\n[1000 rows x 5 columns]",
      "text/html": "<div>\n<style scoped>\n    .dataframe tbody tr th:only-of-type {\n        vertical-align: middle;\n    }\n\n    .dataframe tbody tr th {\n        vertical-align: top;\n    }\n\n    .dataframe thead th {\n        text-align: right;\n    }\n</style>\n<table border=\"1\" class=\"dataframe\">\n  <thead>\n    <tr style=\"text-align: right;\">\n      <th></th>\n      <th>x1</th>\n      <th>x2</th>\n      <th>x3</th>\n      <th>x4</th>\n      <th>y</th>\n    </tr>\n  </thead>\n  <tbody>\n    <tr>\n      <th>0</th>\n      <td>0.385205</td>\n      <td>0.183011</td>\n      <td>0.545166</td>\n      <td>0.598326</td>\n      <td>-1</td>\n    </tr>\n    <tr>\n      <th>1</th>\n      <td>0.065588</td>\n      <td>0.515544</td>\n      <td>0.645150</td>\n      <td>0.390085</td>\n      <td>-1</td>\n    </tr>\n    <tr>\n      <th>2</th>\n      <td>0.554554</td>\n      <td>0.111030</td>\n      <td>0.217264</td>\n      <td>0.703676</td>\n      <td>-1</td>\n    </tr>\n    <tr>\n      <th>3</th>\n      <td>0.307584</td>\n      <td>0.117353</td>\n      <td>0.568609</td>\n      <td>0.171143</td>\n      <td>-1</td>\n    </tr>\n    <tr>\n      <th>4</th>\n      <td>0.527311</td>\n      <td>0.593813</td>\n      <td>0.023508</td>\n      <td>0.393045</td>\n      <td>-1</td>\n    </tr>\n    <tr>\n      <th>...</th>\n      <td>...</td>\n      <td>...</td>\n      <td>...</td>\n      <td>...</td>\n      <td>...</td>\n    </tr>\n    <tr>\n      <th>995</th>\n      <td>0.587124</td>\n      <td>0.782808</td>\n      <td>0.379083</td>\n      <td>0.059473</td>\n      <td>-1</td>\n    </tr>\n    <tr>\n      <th>996</th>\n      <td>0.835300</td>\n      <td>0.905012</td>\n      <td>0.828545</td>\n      <td>0.430708</td>\n      <td>1</td>\n    </tr>\n    <tr>\n      <th>997</th>\n      <td>0.219083</td>\n      <td>0.181531</td>\n      <td>0.947483</td>\n      <td>0.566283</td>\n      <td>1</td>\n    </tr>\n    <tr>\n      <th>998</th>\n      <td>0.710701</td>\n      <td>0.700835</td>\n      <td>0.614247</td>\n      <td>0.471783</td>\n      <td>1</td>\n    </tr>\n    <tr>\n      <th>999</th>\n      <td>0.584976</td>\n      <td>0.608665</td>\n      <td>0.094657</td>\n      <td>0.015315</td>\n      <td>-1</td>\n    </tr>\n  </tbody>\n</table>\n<p>1000 rows × 5 columns</p>\n</div>"
     },
     "metadata": {},
     "output_type": "display_data"
    }
   ],
   "source": [
    "# Display the perceptron data\n",
    "display(perceptron_train)"
   ],
   "metadata": {
    "collapsed": false,
    "ExecuteTime": {
     "end_time": "2023-10-03T00:01:41.332198Z",
     "start_time": "2023-10-03T00:01:41.190233Z"
    }
   },
   "id": "21a2633dd5029e36"
  },
  {
   "cell_type": "markdown",
   "source": [
    "## Perceptron"
   ],
   "metadata": {
    "collapsed": false
   },
   "id": "9f10902ad7fe4fed"
  },
  {
   "cell_type": "code",
   "execution_count": 26,
   "outputs": [
    {
     "name": "stdout",
     "output_type": "stream",
     "text": [
      "Iteration: 0 , Mistakes: 0\n",
      "Weights: [ 1.71195596  1.82118643  1.08483022 -0.44130277 -0.55993175]\n",
      "Weights normalized with threshold: [-1.06380449 -0.63367881  0.25777694  0.32707135]\n"
     ]
    }
   ],
   "source": [
    "# Run perceptron on the data\n",
    "perceptron = ml.Perceptron(5e-2)\n",
    "weights = perceptron.fit(perceptron_train)\n",
    "\n",
    "print(\"Weights: \" + str(weights))\n",
    "print(\"Weights normalized with threshold: \" + str(weights[1:] / -weights[0]))"
   ],
   "metadata": {
    "collapsed": false,
    "ExecuteTime": {
     "end_time": "2023-10-03T00:07:29.455592Z",
     "start_time": "2023-10-03T00:07:29.448796Z"
    }
   },
   "id": "4c390d4cbfbe208"
  },
  {
   "cell_type": "markdown",
   "source": [],
   "metadata": {
    "collapsed": false
   },
   "id": "d56d3baa39f1c474"
  }
 ],
 "metadata": {
  "kernelspec": {
   "display_name": "Python 3",
   "language": "python",
   "name": "python3"
  },
  "language_info": {
   "codemirror_mode": {
    "name": "ipython",
    "version": 2
   },
   "file_extension": ".py",
   "mimetype": "text/x-python",
   "name": "python",
   "nbconvert_exporter": "python",
   "pygments_lexer": "ipython2",
   "version": "2.7.6"
  }
 },
 "nbformat": 4,
 "nbformat_minor": 5
}
