{
 "cells": [
  {
   "cell_type": "code",
   "execution_count": 1,
   "id": "initial_id",
   "metadata": {
    "collapsed": true,
    "ExecuteTime": {
     "end_time": "2023-11-26T21:50:56.397955Z",
     "start_time": "2023-11-26T21:50:53.129386Z"
    }
   },
   "outputs": [],
   "source": [
    "import numpy as np\n",
    "import pandas as pd\n",
    "from sklearn import model_selection\n",
    "\n",
    "import MLutils as ml"
   ]
  },
  {
   "cell_type": "code",
   "execution_count": 2,
   "outputs": [],
   "source": [
    "# Load data\n",
    "spambase = pd.read_csv('spambase.data', header=None, delim_whitespace=False,\n",
    "                       names=['word_freq_make', 'word_freq_address', 'word_freq_all', 'word_freq_3d', 'word_freq_our',\n",
    "                              'word_freq_over', 'word_freq_remove', 'word_freq_internet', 'word_freq_order',\n",
    "                              'word_freq_mail', 'word_freq_receive', 'word_freq_will', 'word_freq_people',\n",
    "                              'word_freq_report', 'word_freq_addresses', 'word_freq_free', 'word_freq_business',\n",
    "                              'word_freq_email', 'word_freq_you', 'word_freq_credit', 'word_freq_your',\n",
    "                              'word_freq_font', 'word_freq_000', 'word_freq_money', 'word_freq_hp', 'word_freq_hpl',\n",
    "                              'word_freq_george', 'word_freq_650', 'word_freq_lab', 'word_freq_labs',\n",
    "                              'word_freq_telnet', 'word_freq_857', 'word_freq_data', 'word_freq_415', 'word_freq_85',\n",
    "                              'word_freq_technology', 'word_freq_1999', 'word_freq_parts', 'word_freq_pm',\n",
    "                              'word_freq_direct', 'word_freq_cs', 'word_freq_meeting', 'word_freq_original',\n",
    "                              'word_freq_project', 'word_freq_re', 'word_freq_edu', 'word_freq_table',\n",
    "                              'word_freq_conference', 'char_freq_;', 'char_freq_(', 'char_freq_[', 'char_freq_!',\n",
    "                              'char_freq_$', 'char_freq_#', 'capital_run_length_average', 'capital_run_length_longest',\n",
    "                              'capital_run_length_total', 'spam'])"
   ],
   "metadata": {
    "collapsed": false,
    "ExecuteTime": {
     "end_time": "2023-11-26T21:50:56.410592Z",
     "start_time": "2023-11-26T21:50:56.398911Z"
    }
   },
   "id": "a0456cb50f816afc"
  },
  {
   "cell_type": "code",
   "execution_count": 3,
   "outputs": [
    {
     "data": {
      "text/plain": "      word_freq_make  word_freq_address  word_freq_all  word_freq_3d  \\\n0               0.00               0.64           0.64           0.0   \n1               0.21               0.28           0.50           0.0   \n2               0.06               0.00           0.71           0.0   \n3               0.00               0.00           0.00           0.0   \n4               0.00               0.00           0.00           0.0   \n...              ...                ...            ...           ...   \n4596            0.31               0.00           0.62           0.0   \n4597            0.00               0.00           0.00           0.0   \n4598            0.30               0.00           0.30           0.0   \n4599            0.96               0.00           0.00           0.0   \n4600            0.00               0.00           0.65           0.0   \n\n      word_freq_our  word_freq_over  word_freq_remove  word_freq_internet  \\\n0              0.32            0.00              0.00                0.00   \n1              0.14            0.28              0.21                0.07   \n2              1.23            0.19              0.19                0.12   \n3              0.63            0.00              0.31                0.63   \n4              0.63            0.00              0.31                0.63   \n...             ...             ...               ...                 ...   \n4596           0.00            0.31              0.00                0.00   \n4597           0.00            0.00              0.00                0.00   \n4598           0.00            0.00              0.00                0.00   \n4599           0.32            0.00              0.00                0.00   \n4600           0.00            0.00              0.00                0.00   \n\n      word_freq_order  word_freq_mail  ...  char_freq_;  char_freq_(  \\\n0                0.00            0.00  ...        0.000        0.000   \n1                0.00            0.94  ...        0.000        0.132   \n2                0.64            0.25  ...        0.010        0.143   \n3                0.31            0.63  ...        0.000        0.137   \n4                0.31            0.63  ...        0.000        0.135   \n...               ...             ...  ...          ...          ...   \n4596             0.00            0.00  ...        0.000        0.232   \n4597             0.00            0.00  ...        0.000        0.000   \n4598             0.00            0.00  ...        0.102        0.718   \n4599             0.00            0.00  ...        0.000        0.057   \n4600             0.00            0.00  ...        0.000        0.000   \n\n      char_freq_[  char_freq_!  char_freq_$  char_freq_#  \\\n0             0.0        0.778        0.000        0.000   \n1             0.0        0.372        0.180        0.048   \n2             0.0        0.276        0.184        0.010   \n3             0.0        0.137        0.000        0.000   \n4             0.0        0.135        0.000        0.000   \n...           ...          ...          ...          ...   \n4596          0.0        0.000        0.000        0.000   \n4597          0.0        0.353        0.000        0.000   \n4598          0.0        0.000        0.000        0.000   \n4599          0.0        0.000        0.000        0.000   \n4600          0.0        0.125        0.000        0.000   \n\n      capital_run_length_average  capital_run_length_longest  \\\n0                          3.756                          61   \n1                          5.114                         101   \n2                          9.821                         485   \n3                          3.537                          40   \n4                          3.537                          40   \n...                          ...                         ...   \n4596                       1.142                           3   \n4597                       1.555                           4   \n4598                       1.404                           6   \n4599                       1.147                           5   \n4600                       1.250                           5   \n\n      capital_run_length_total  spam  \n0                          278     1  \n1                         1028     1  \n2                         2259     1  \n3                          191     1  \n4                          191     1  \n...                        ...   ...  \n4596                        88     0  \n4597                        14     0  \n4598                       118     0  \n4599                        78     0  \n4600                        40     0  \n\n[4601 rows x 58 columns]",
      "text/html": "<div>\n<style scoped>\n    .dataframe tbody tr th:only-of-type {\n        vertical-align: middle;\n    }\n\n    .dataframe tbody tr th {\n        vertical-align: top;\n    }\n\n    .dataframe thead th {\n        text-align: right;\n    }\n</style>\n<table border=\"1\" class=\"dataframe\">\n  <thead>\n    <tr style=\"text-align: right;\">\n      <th></th>\n      <th>word_freq_make</th>\n      <th>word_freq_address</th>\n      <th>word_freq_all</th>\n      <th>word_freq_3d</th>\n      <th>word_freq_our</th>\n      <th>word_freq_over</th>\n      <th>word_freq_remove</th>\n      <th>word_freq_internet</th>\n      <th>word_freq_order</th>\n      <th>word_freq_mail</th>\n      <th>...</th>\n      <th>char_freq_;</th>\n      <th>char_freq_(</th>\n      <th>char_freq_[</th>\n      <th>char_freq_!</th>\n      <th>char_freq_$</th>\n      <th>char_freq_#</th>\n      <th>capital_run_length_average</th>\n      <th>capital_run_length_longest</th>\n      <th>capital_run_length_total</th>\n      <th>spam</th>\n    </tr>\n  </thead>\n  <tbody>\n    <tr>\n      <th>0</th>\n      <td>0.00</td>\n      <td>0.64</td>\n      <td>0.64</td>\n      <td>0.0</td>\n      <td>0.32</td>\n      <td>0.00</td>\n      <td>0.00</td>\n      <td>0.00</td>\n      <td>0.00</td>\n      <td>0.00</td>\n      <td>...</td>\n      <td>0.000</td>\n      <td>0.000</td>\n      <td>0.0</td>\n      <td>0.778</td>\n      <td>0.000</td>\n      <td>0.000</td>\n      <td>3.756</td>\n      <td>61</td>\n      <td>278</td>\n      <td>1</td>\n    </tr>\n    <tr>\n      <th>1</th>\n      <td>0.21</td>\n      <td>0.28</td>\n      <td>0.50</td>\n      <td>0.0</td>\n      <td>0.14</td>\n      <td>0.28</td>\n      <td>0.21</td>\n      <td>0.07</td>\n      <td>0.00</td>\n      <td>0.94</td>\n      <td>...</td>\n      <td>0.000</td>\n      <td>0.132</td>\n      <td>0.0</td>\n      <td>0.372</td>\n      <td>0.180</td>\n      <td>0.048</td>\n      <td>5.114</td>\n      <td>101</td>\n      <td>1028</td>\n      <td>1</td>\n    </tr>\n    <tr>\n      <th>2</th>\n      <td>0.06</td>\n      <td>0.00</td>\n      <td>0.71</td>\n      <td>0.0</td>\n      <td>1.23</td>\n      <td>0.19</td>\n      <td>0.19</td>\n      <td>0.12</td>\n      <td>0.64</td>\n      <td>0.25</td>\n      <td>...</td>\n      <td>0.010</td>\n      <td>0.143</td>\n      <td>0.0</td>\n      <td>0.276</td>\n      <td>0.184</td>\n      <td>0.010</td>\n      <td>9.821</td>\n      <td>485</td>\n      <td>2259</td>\n      <td>1</td>\n    </tr>\n    <tr>\n      <th>3</th>\n      <td>0.00</td>\n      <td>0.00</td>\n      <td>0.00</td>\n      <td>0.0</td>\n      <td>0.63</td>\n      <td>0.00</td>\n      <td>0.31</td>\n      <td>0.63</td>\n      <td>0.31</td>\n      <td>0.63</td>\n      <td>...</td>\n      <td>0.000</td>\n      <td>0.137</td>\n      <td>0.0</td>\n      <td>0.137</td>\n      <td>0.000</td>\n      <td>0.000</td>\n      <td>3.537</td>\n      <td>40</td>\n      <td>191</td>\n      <td>1</td>\n    </tr>\n    <tr>\n      <th>4</th>\n      <td>0.00</td>\n      <td>0.00</td>\n      <td>0.00</td>\n      <td>0.0</td>\n      <td>0.63</td>\n      <td>0.00</td>\n      <td>0.31</td>\n      <td>0.63</td>\n      <td>0.31</td>\n      <td>0.63</td>\n      <td>...</td>\n      <td>0.000</td>\n      <td>0.135</td>\n      <td>0.0</td>\n      <td>0.135</td>\n      <td>0.000</td>\n      <td>0.000</td>\n      <td>3.537</td>\n      <td>40</td>\n      <td>191</td>\n      <td>1</td>\n    </tr>\n    <tr>\n      <th>...</th>\n      <td>...</td>\n      <td>...</td>\n      <td>...</td>\n      <td>...</td>\n      <td>...</td>\n      <td>...</td>\n      <td>...</td>\n      <td>...</td>\n      <td>...</td>\n      <td>...</td>\n      <td>...</td>\n      <td>...</td>\n      <td>...</td>\n      <td>...</td>\n      <td>...</td>\n      <td>...</td>\n      <td>...</td>\n      <td>...</td>\n      <td>...</td>\n      <td>...</td>\n      <td>...</td>\n    </tr>\n    <tr>\n      <th>4596</th>\n      <td>0.31</td>\n      <td>0.00</td>\n      <td>0.62</td>\n      <td>0.0</td>\n      <td>0.00</td>\n      <td>0.31</td>\n      <td>0.00</td>\n      <td>0.00</td>\n      <td>0.00</td>\n      <td>0.00</td>\n      <td>...</td>\n      <td>0.000</td>\n      <td>0.232</td>\n      <td>0.0</td>\n      <td>0.000</td>\n      <td>0.000</td>\n      <td>0.000</td>\n      <td>1.142</td>\n      <td>3</td>\n      <td>88</td>\n      <td>0</td>\n    </tr>\n    <tr>\n      <th>4597</th>\n      <td>0.00</td>\n      <td>0.00</td>\n      <td>0.00</td>\n      <td>0.0</td>\n      <td>0.00</td>\n      <td>0.00</td>\n      <td>0.00</td>\n      <td>0.00</td>\n      <td>0.00</td>\n      <td>0.00</td>\n      <td>...</td>\n      <td>0.000</td>\n      <td>0.000</td>\n      <td>0.0</td>\n      <td>0.353</td>\n      <td>0.000</td>\n      <td>0.000</td>\n      <td>1.555</td>\n      <td>4</td>\n      <td>14</td>\n      <td>0</td>\n    </tr>\n    <tr>\n      <th>4598</th>\n      <td>0.30</td>\n      <td>0.00</td>\n      <td>0.30</td>\n      <td>0.0</td>\n      <td>0.00</td>\n      <td>0.00</td>\n      <td>0.00</td>\n      <td>0.00</td>\n      <td>0.00</td>\n      <td>0.00</td>\n      <td>...</td>\n      <td>0.102</td>\n      <td>0.718</td>\n      <td>0.0</td>\n      <td>0.000</td>\n      <td>0.000</td>\n      <td>0.000</td>\n      <td>1.404</td>\n      <td>6</td>\n      <td>118</td>\n      <td>0</td>\n    </tr>\n    <tr>\n      <th>4599</th>\n      <td>0.96</td>\n      <td>0.00</td>\n      <td>0.00</td>\n      <td>0.0</td>\n      <td>0.32</td>\n      <td>0.00</td>\n      <td>0.00</td>\n      <td>0.00</td>\n      <td>0.00</td>\n      <td>0.00</td>\n      <td>...</td>\n      <td>0.000</td>\n      <td>0.057</td>\n      <td>0.0</td>\n      <td>0.000</td>\n      <td>0.000</td>\n      <td>0.000</td>\n      <td>1.147</td>\n      <td>5</td>\n      <td>78</td>\n      <td>0</td>\n    </tr>\n    <tr>\n      <th>4600</th>\n      <td>0.00</td>\n      <td>0.00</td>\n      <td>0.65</td>\n      <td>0.0</td>\n      <td>0.00</td>\n      <td>0.00</td>\n      <td>0.00</td>\n      <td>0.00</td>\n      <td>0.00</td>\n      <td>0.00</td>\n      <td>...</td>\n      <td>0.000</td>\n      <td>0.000</td>\n      <td>0.0</td>\n      <td>0.125</td>\n      <td>0.000</td>\n      <td>0.000</td>\n      <td>1.250</td>\n      <td>5</td>\n      <td>40</td>\n      <td>0</td>\n    </tr>\n  </tbody>\n</table>\n<p>4601 rows × 58 columns</p>\n</div>"
     },
     "metadata": {},
     "output_type": "display_data"
    }
   ],
   "source": [
    "display(spambase)"
   ],
   "metadata": {
    "collapsed": false,
    "ExecuteTime": {
     "end_time": "2023-11-26T21:50:56.425229Z",
     "start_time": "2023-11-26T21:50:56.412773Z"
    }
   },
   "id": "4a4e81339ee54ae4"
  },
  {
   "cell_type": "code",
   "execution_count": 4,
   "outputs": [],
   "source": [
    "# Normalize data\n",
    "spambase.iloc[:, :-1] = ml.normalize(spambase.iloc[:, :-1])[0]"
   ],
   "metadata": {
    "collapsed": false,
    "ExecuteTime": {
     "end_time": "2023-11-26T21:50:56.437458Z",
     "start_time": "2023-11-26T21:50:56.425393Z"
    }
   },
   "id": "c65f069c7a80cddd"
  },
  {
   "cell_type": "code",
   "execution_count": 5,
   "outputs": [
    {
     "data": {
      "text/plain": "      word_freq_make  word_freq_address  word_freq_all  word_freq_3d  \\\n0          -0.342396           0.330849       0.712781     -0.046894   \n1           0.345322           0.051904       0.435082     -0.046894   \n2          -0.145906          -0.165054       0.851631     -0.046894   \n3          -0.342396          -0.165054      -0.556700     -0.046894   \n4          -0.342396          -0.165054      -0.556700     -0.046894   \n...              ...                ...            ...           ...   \n4596        0.672807          -0.165054       0.673110     -0.046894   \n4597       -0.342396          -0.165054      -0.556700     -0.046894   \n4598        0.640058          -0.165054       0.038369     -0.046894   \n4599        2.801459          -0.165054      -0.556700     -0.046894   \n4600       -0.342396          -0.165054       0.732617     -0.046894   \n\n      word_freq_our  word_freq_over  word_freq_remove  word_freq_internet  \\\n0          0.011563       -0.350228         -0.291762           -0.262533   \n1         -0.256089        0.672326          0.244717           -0.088001   \n2          1.364698        0.343648          0.193623            0.036666   \n3          0.472521       -0.350228          0.500183            1.308259   \n4          0.472521       -0.350228          0.500183            1.308259   \n...             ...             ...               ...                 ...   \n4596      -0.464264        0.781886         -0.291762           -0.262533   \n4597      -0.464264       -0.350228         -0.291762           -0.262533   \n4598      -0.464264       -0.350228         -0.291762           -0.262533   \n4599       0.011563       -0.350228         -0.291762           -0.262533   \n4600      -0.464264       -0.350228         -0.291762           -0.262533   \n\n      word_freq_order  word_freq_mail  ...  char_freq_;  char_freq_(  \\\n0           -0.323267       -0.371324  ...    -0.158436    -0.514251   \n1           -0.323267        1.086593  ...    -0.158436    -0.026004   \n2            1.973802        0.016420  ...    -0.117364     0.014683   \n3            0.789376        0.605791  ...    -0.158436    -0.007510   \n4            0.789376        0.605791  ...    -0.158436    -0.014908   \n...               ...             ...  ...          ...          ...   \n4596        -0.323267       -0.371324  ...    -0.158436     0.343879   \n4597        -0.323267       -0.371324  ...    -0.158436    -0.514251   \n4598        -0.323267       -0.371324  ...     0.260504     2.141513   \n4599        -0.323267       -0.371324  ...    -0.158436    -0.303417   \n4600        -0.323267       -0.371324  ...    -0.158436    -0.514251   \n\n      char_freq_[  char_freq_!  char_freq_$  char_freq_#  \\\n0       -0.155181     0.623939    -0.308321    -0.103037   \n1       -0.155181     0.126189     0.423737     0.008762   \n2       -0.155181     0.008495     0.440005    -0.079746   \n3       -0.155181    -0.161917    -0.308321    -0.103037   \n4       -0.155181    -0.164369    -0.308321    -0.103037   \n...           ...          ...          ...          ...   \n4596    -0.155181    -0.329876    -0.308321    -0.103037   \n4597    -0.155181     0.102896    -0.308321    -0.103037   \n4598    -0.155181    -0.329876    -0.308321    -0.103037   \n4599    -0.155181    -0.329876    -0.308321    -0.103037   \n4600    -0.155181    -0.176628    -0.308321    -0.103037   \n\n      capital_run_length_average  capital_run_length_longest  \\\n0                      -0.045242                    0.045293   \n1                      -0.002443                    0.250536   \n2                       0.145905                    2.220865   \n3                      -0.052144                   -0.062459   \n4                      -0.052144                   -0.062459   \n...                          ...                         ...   \n4596                   -0.127626                   -0.252309   \n4597                   -0.114610                   -0.247178   \n4598                   -0.119369                   -0.236916   \n4599                   -0.127469                   -0.242047   \n4600                   -0.124223                   -0.242047   \n\n      capital_run_length_total  spam  \n0                    -0.008723     1  \n1                     1.228191     1  \n2                     3.258378     1  \n3                    -0.152205     1  \n4                    -0.152205     1  \n...                        ...   ...  \n4596                 -0.322075     0  \n4597                 -0.444117     0  \n4598                 -0.272598     0  \n4599                 -0.338567     0  \n4600                 -0.401237     0  \n\n[4601 rows x 58 columns]",
      "text/html": "<div>\n<style scoped>\n    .dataframe tbody tr th:only-of-type {\n        vertical-align: middle;\n    }\n\n    .dataframe tbody tr th {\n        vertical-align: top;\n    }\n\n    .dataframe thead th {\n        text-align: right;\n    }\n</style>\n<table border=\"1\" class=\"dataframe\">\n  <thead>\n    <tr style=\"text-align: right;\">\n      <th></th>\n      <th>word_freq_make</th>\n      <th>word_freq_address</th>\n      <th>word_freq_all</th>\n      <th>word_freq_3d</th>\n      <th>word_freq_our</th>\n      <th>word_freq_over</th>\n      <th>word_freq_remove</th>\n      <th>word_freq_internet</th>\n      <th>word_freq_order</th>\n      <th>word_freq_mail</th>\n      <th>...</th>\n      <th>char_freq_;</th>\n      <th>char_freq_(</th>\n      <th>char_freq_[</th>\n      <th>char_freq_!</th>\n      <th>char_freq_$</th>\n      <th>char_freq_#</th>\n      <th>capital_run_length_average</th>\n      <th>capital_run_length_longest</th>\n      <th>capital_run_length_total</th>\n      <th>spam</th>\n    </tr>\n  </thead>\n  <tbody>\n    <tr>\n      <th>0</th>\n      <td>-0.342396</td>\n      <td>0.330849</td>\n      <td>0.712781</td>\n      <td>-0.046894</td>\n      <td>0.011563</td>\n      <td>-0.350228</td>\n      <td>-0.291762</td>\n      <td>-0.262533</td>\n      <td>-0.323267</td>\n      <td>-0.371324</td>\n      <td>...</td>\n      <td>-0.158436</td>\n      <td>-0.514251</td>\n      <td>-0.155181</td>\n      <td>0.623939</td>\n      <td>-0.308321</td>\n      <td>-0.103037</td>\n      <td>-0.045242</td>\n      <td>0.045293</td>\n      <td>-0.008723</td>\n      <td>1</td>\n    </tr>\n    <tr>\n      <th>1</th>\n      <td>0.345322</td>\n      <td>0.051904</td>\n      <td>0.435082</td>\n      <td>-0.046894</td>\n      <td>-0.256089</td>\n      <td>0.672326</td>\n      <td>0.244717</td>\n      <td>-0.088001</td>\n      <td>-0.323267</td>\n      <td>1.086593</td>\n      <td>...</td>\n      <td>-0.158436</td>\n      <td>-0.026004</td>\n      <td>-0.155181</td>\n      <td>0.126189</td>\n      <td>0.423737</td>\n      <td>0.008762</td>\n      <td>-0.002443</td>\n      <td>0.250536</td>\n      <td>1.228191</td>\n      <td>1</td>\n    </tr>\n    <tr>\n      <th>2</th>\n      <td>-0.145906</td>\n      <td>-0.165054</td>\n      <td>0.851631</td>\n      <td>-0.046894</td>\n      <td>1.364698</td>\n      <td>0.343648</td>\n      <td>0.193623</td>\n      <td>0.036666</td>\n      <td>1.973802</td>\n      <td>0.016420</td>\n      <td>...</td>\n      <td>-0.117364</td>\n      <td>0.014683</td>\n      <td>-0.155181</td>\n      <td>0.008495</td>\n      <td>0.440005</td>\n      <td>-0.079746</td>\n      <td>0.145905</td>\n      <td>2.220865</td>\n      <td>3.258378</td>\n      <td>1</td>\n    </tr>\n    <tr>\n      <th>3</th>\n      <td>-0.342396</td>\n      <td>-0.165054</td>\n      <td>-0.556700</td>\n      <td>-0.046894</td>\n      <td>0.472521</td>\n      <td>-0.350228</td>\n      <td>0.500183</td>\n      <td>1.308259</td>\n      <td>0.789376</td>\n      <td>0.605791</td>\n      <td>...</td>\n      <td>-0.158436</td>\n      <td>-0.007510</td>\n      <td>-0.155181</td>\n      <td>-0.161917</td>\n      <td>-0.308321</td>\n      <td>-0.103037</td>\n      <td>-0.052144</td>\n      <td>-0.062459</td>\n      <td>-0.152205</td>\n      <td>1</td>\n    </tr>\n    <tr>\n      <th>4</th>\n      <td>-0.342396</td>\n      <td>-0.165054</td>\n      <td>-0.556700</td>\n      <td>-0.046894</td>\n      <td>0.472521</td>\n      <td>-0.350228</td>\n      <td>0.500183</td>\n      <td>1.308259</td>\n      <td>0.789376</td>\n      <td>0.605791</td>\n      <td>...</td>\n      <td>-0.158436</td>\n      <td>-0.014908</td>\n      <td>-0.155181</td>\n      <td>-0.164369</td>\n      <td>-0.308321</td>\n      <td>-0.103037</td>\n      <td>-0.052144</td>\n      <td>-0.062459</td>\n      <td>-0.152205</td>\n      <td>1</td>\n    </tr>\n    <tr>\n      <th>...</th>\n      <td>...</td>\n      <td>...</td>\n      <td>...</td>\n      <td>...</td>\n      <td>...</td>\n      <td>...</td>\n      <td>...</td>\n      <td>...</td>\n      <td>...</td>\n      <td>...</td>\n      <td>...</td>\n      <td>...</td>\n      <td>...</td>\n      <td>...</td>\n      <td>...</td>\n      <td>...</td>\n      <td>...</td>\n      <td>...</td>\n      <td>...</td>\n      <td>...</td>\n      <td>...</td>\n    </tr>\n    <tr>\n      <th>4596</th>\n      <td>0.672807</td>\n      <td>-0.165054</td>\n      <td>0.673110</td>\n      <td>-0.046894</td>\n      <td>-0.464264</td>\n      <td>0.781886</td>\n      <td>-0.291762</td>\n      <td>-0.262533</td>\n      <td>-0.323267</td>\n      <td>-0.371324</td>\n      <td>...</td>\n      <td>-0.158436</td>\n      <td>0.343879</td>\n      <td>-0.155181</td>\n      <td>-0.329876</td>\n      <td>-0.308321</td>\n      <td>-0.103037</td>\n      <td>-0.127626</td>\n      <td>-0.252309</td>\n      <td>-0.322075</td>\n      <td>0</td>\n    </tr>\n    <tr>\n      <th>4597</th>\n      <td>-0.342396</td>\n      <td>-0.165054</td>\n      <td>-0.556700</td>\n      <td>-0.046894</td>\n      <td>-0.464264</td>\n      <td>-0.350228</td>\n      <td>-0.291762</td>\n      <td>-0.262533</td>\n      <td>-0.323267</td>\n      <td>-0.371324</td>\n      <td>...</td>\n      <td>-0.158436</td>\n      <td>-0.514251</td>\n      <td>-0.155181</td>\n      <td>0.102896</td>\n      <td>-0.308321</td>\n      <td>-0.103037</td>\n      <td>-0.114610</td>\n      <td>-0.247178</td>\n      <td>-0.444117</td>\n      <td>0</td>\n    </tr>\n    <tr>\n      <th>4598</th>\n      <td>0.640058</td>\n      <td>-0.165054</td>\n      <td>0.038369</td>\n      <td>-0.046894</td>\n      <td>-0.464264</td>\n      <td>-0.350228</td>\n      <td>-0.291762</td>\n      <td>-0.262533</td>\n      <td>-0.323267</td>\n      <td>-0.371324</td>\n      <td>...</td>\n      <td>0.260504</td>\n      <td>2.141513</td>\n      <td>-0.155181</td>\n      <td>-0.329876</td>\n      <td>-0.308321</td>\n      <td>-0.103037</td>\n      <td>-0.119369</td>\n      <td>-0.236916</td>\n      <td>-0.272598</td>\n      <td>0</td>\n    </tr>\n    <tr>\n      <th>4599</th>\n      <td>2.801459</td>\n      <td>-0.165054</td>\n      <td>-0.556700</td>\n      <td>-0.046894</td>\n      <td>0.011563</td>\n      <td>-0.350228</td>\n      <td>-0.291762</td>\n      <td>-0.262533</td>\n      <td>-0.323267</td>\n      <td>-0.371324</td>\n      <td>...</td>\n      <td>-0.158436</td>\n      <td>-0.303417</td>\n      <td>-0.155181</td>\n      <td>-0.329876</td>\n      <td>-0.308321</td>\n      <td>-0.103037</td>\n      <td>-0.127469</td>\n      <td>-0.242047</td>\n      <td>-0.338567</td>\n      <td>0</td>\n    </tr>\n    <tr>\n      <th>4600</th>\n      <td>-0.342396</td>\n      <td>-0.165054</td>\n      <td>0.732617</td>\n      <td>-0.046894</td>\n      <td>-0.464264</td>\n      <td>-0.350228</td>\n      <td>-0.291762</td>\n      <td>-0.262533</td>\n      <td>-0.323267</td>\n      <td>-0.371324</td>\n      <td>...</td>\n      <td>-0.158436</td>\n      <td>-0.514251</td>\n      <td>-0.155181</td>\n      <td>-0.176628</td>\n      <td>-0.308321</td>\n      <td>-0.103037</td>\n      <td>-0.124223</td>\n      <td>-0.242047</td>\n      <td>-0.401237</td>\n      <td>0</td>\n    </tr>\n  </tbody>\n</table>\n<p>4601 rows × 58 columns</p>\n</div>"
     },
     "metadata": {},
     "output_type": "display_data"
    }
   ],
   "source": [
    "display(spambase)"
   ],
   "metadata": {
    "collapsed": false,
    "ExecuteTime": {
     "end_time": "2023-11-26T21:50:56.452887Z",
     "start_time": "2023-11-26T21:50:56.433409Z"
    }
   },
   "id": "5273944799e8b991"
  },
  {
   "cell_type": "code",
   "execution_count": 6,
   "outputs": [
    {
     "data": {
      "text/plain": "       word_freq_make  word_freq_address  word_freq_all  word_freq_3d  \\\ncount    4.601000e+03       4.601000e+03    4601.000000  4.601000e+03   \nmean    -3.088645e-17       1.544322e-17       0.000000 -6.177290e-18   \nstd      1.000000e+00       1.000000e+00       1.000000  1.000000e+00   \nmin     -3.423965e-01      -1.650540e-01      -0.556700 -4.689449e-02   \n25%     -3.423965e-01      -1.650540e-01      -0.556700 -4.689449e-02   \n50%     -3.423965e-01      -1.650540e-01      -0.556700 -4.689449e-02   \n75%     -3.423965e-01      -1.650540e-01       0.276397 -4.689449e-02   \nmax      1.452542e+01       1.089978e+01       9.559480  3.063795e+01   \n\n       word_freq_our  word_freq_over  word_freq_remove  word_freq_internet  \\\ncount   4.601000e+03    4.601000e+03      4.601000e+03        4.601000e+03   \nmean    3.706374e-17    6.177290e-17      2.470916e-17       -2.470916e-17   \nstd     1.000000e+00    1.000000e+00      1.000000e+00        1.000000e+00   \nmin    -4.642639e-01   -3.502281e-01     -2.917622e-01       -2.625330e-01   \n25%    -4.642639e-01   -3.502281e-01     -2.917622e-01       -2.625330e-01   \n50%    -4.642639e-01   -3.502281e-01     -2.917622e-01       -2.625330e-01   \n75%     1.007811e-01   -3.502281e-01     -2.917622e-01       -2.625330e-01   \nmax     1.440534e+01    2.112341e+01      1.828062e+01        2.743827e+01   \n\n       word_freq_order  word_freq_mail  ...   char_freq_;   char_freq_(  \\\ncount     4.601000e+03    4.601000e+03  ...  4.601000e+03  4.601000e+03   \nmean      9.883663e-17   -6.177290e-18  ...  3.706374e-17 -5.559561e-17   \nstd       1.000000e+00    1.000000e+00  ...  1.000000e+00  1.000000e+00   \nmin      -3.232672e-01   -3.713240e-01  ... -1.584361e-01 -5.142507e-01   \n25%      -3.232672e-01   -3.713240e-01  ... -1.584361e-01 -5.142507e-01   \n50%      -3.232672e-01   -3.713240e-01  ... -1.584361e-01 -2.738264e-01   \n75%      -3.232672e-01   -1.231679e-01  ... -1.584361e-01  1.811304e-01   \nmax       1.855577e+01    2.782542e+01  ...  1.785190e+01  3.555679e+01   \n\n        char_freq_[   char_freq_!   char_freq_$   char_freq_#  \\\ncount  4.601000e+03  4.601000e+03  4.601000e+03  4.601000e+03   \nmean   2.162051e-17  2.470916e-17 -2.470916e-17  1.853187e-17   \nstd    1.000000e+00  1.000000e+00  1.000000e+00  1.000000e+00   \nmin   -1.551808e-01 -3.298764e-01 -3.083214e-01 -1.030372e-01   \n25%   -1.551808e-01 -3.298764e-01 -3.083214e-01 -1.030372e-01   \n50%   -1.551808e-01 -3.298764e-01 -3.083214e-01 -1.030372e-01   \n75%   -1.551808e-01  5.630838e-02 -9.683788e-02 -1.030372e-01   \nmax    3.715028e+01  3.948762e+01  2.410583e+01  4.608158e+01   \n\n       capital_run_length_average  capital_run_length_longest  \\\ncount                4.601000e+03                4.601000e+03   \nmean                 3.706374e-17                1.235458e-17   \nstd                  1.000000e+00                1.000000e+00   \nmin                 -1.321017e-01               -2.625709e-01   \n25%                 -1.135701e-01               -2.369156e-01   \n50%                 -9.188672e-02               -1.907360e-01   \n75%                 -4.681818e-02               -4.706618e-02   \nmax                  3.458328e+01                5.098651e+01   \n\n       capital_run_length_total         spam  \ncount               4601.000000  4601.000000  \nmean                   0.000000     0.394045  \nstd                    1.000000     0.488698  \nmin                   -0.465557     0.000000  \n25%                   -0.409483     0.000000  \n50%                   -0.310530     0.000000  \n75%                   -0.028514     1.000000  \nmax                   25.658062     1.000000  \n\n[8 rows x 58 columns]",
      "text/html": "<div>\n<style scoped>\n    .dataframe tbody tr th:only-of-type {\n        vertical-align: middle;\n    }\n\n    .dataframe tbody tr th {\n        vertical-align: top;\n    }\n\n    .dataframe thead th {\n        text-align: right;\n    }\n</style>\n<table border=\"1\" class=\"dataframe\">\n  <thead>\n    <tr style=\"text-align: right;\">\n      <th></th>\n      <th>word_freq_make</th>\n      <th>word_freq_address</th>\n      <th>word_freq_all</th>\n      <th>word_freq_3d</th>\n      <th>word_freq_our</th>\n      <th>word_freq_over</th>\n      <th>word_freq_remove</th>\n      <th>word_freq_internet</th>\n      <th>word_freq_order</th>\n      <th>word_freq_mail</th>\n      <th>...</th>\n      <th>char_freq_;</th>\n      <th>char_freq_(</th>\n      <th>char_freq_[</th>\n      <th>char_freq_!</th>\n      <th>char_freq_$</th>\n      <th>char_freq_#</th>\n      <th>capital_run_length_average</th>\n      <th>capital_run_length_longest</th>\n      <th>capital_run_length_total</th>\n      <th>spam</th>\n    </tr>\n  </thead>\n  <tbody>\n    <tr>\n      <th>count</th>\n      <td>4.601000e+03</td>\n      <td>4.601000e+03</td>\n      <td>4601.000000</td>\n      <td>4.601000e+03</td>\n      <td>4.601000e+03</td>\n      <td>4.601000e+03</td>\n      <td>4.601000e+03</td>\n      <td>4.601000e+03</td>\n      <td>4.601000e+03</td>\n      <td>4.601000e+03</td>\n      <td>...</td>\n      <td>4.601000e+03</td>\n      <td>4.601000e+03</td>\n      <td>4.601000e+03</td>\n      <td>4.601000e+03</td>\n      <td>4.601000e+03</td>\n      <td>4.601000e+03</td>\n      <td>4.601000e+03</td>\n      <td>4.601000e+03</td>\n      <td>4601.000000</td>\n      <td>4601.000000</td>\n    </tr>\n    <tr>\n      <th>mean</th>\n      <td>-3.088645e-17</td>\n      <td>1.544322e-17</td>\n      <td>0.000000</td>\n      <td>-6.177290e-18</td>\n      <td>3.706374e-17</td>\n      <td>6.177290e-17</td>\n      <td>2.470916e-17</td>\n      <td>-2.470916e-17</td>\n      <td>9.883663e-17</td>\n      <td>-6.177290e-18</td>\n      <td>...</td>\n      <td>3.706374e-17</td>\n      <td>-5.559561e-17</td>\n      <td>2.162051e-17</td>\n      <td>2.470916e-17</td>\n      <td>-2.470916e-17</td>\n      <td>1.853187e-17</td>\n      <td>3.706374e-17</td>\n      <td>1.235458e-17</td>\n      <td>0.000000</td>\n      <td>0.394045</td>\n    </tr>\n    <tr>\n      <th>std</th>\n      <td>1.000000e+00</td>\n      <td>1.000000e+00</td>\n      <td>1.000000</td>\n      <td>1.000000e+00</td>\n      <td>1.000000e+00</td>\n      <td>1.000000e+00</td>\n      <td>1.000000e+00</td>\n      <td>1.000000e+00</td>\n      <td>1.000000e+00</td>\n      <td>1.000000e+00</td>\n      <td>...</td>\n      <td>1.000000e+00</td>\n      <td>1.000000e+00</td>\n      <td>1.000000e+00</td>\n      <td>1.000000e+00</td>\n      <td>1.000000e+00</td>\n      <td>1.000000e+00</td>\n      <td>1.000000e+00</td>\n      <td>1.000000e+00</td>\n      <td>1.000000</td>\n      <td>0.488698</td>\n    </tr>\n    <tr>\n      <th>min</th>\n      <td>-3.423965e-01</td>\n      <td>-1.650540e-01</td>\n      <td>-0.556700</td>\n      <td>-4.689449e-02</td>\n      <td>-4.642639e-01</td>\n      <td>-3.502281e-01</td>\n      <td>-2.917622e-01</td>\n      <td>-2.625330e-01</td>\n      <td>-3.232672e-01</td>\n      <td>-3.713240e-01</td>\n      <td>...</td>\n      <td>-1.584361e-01</td>\n      <td>-5.142507e-01</td>\n      <td>-1.551808e-01</td>\n      <td>-3.298764e-01</td>\n      <td>-3.083214e-01</td>\n      <td>-1.030372e-01</td>\n      <td>-1.321017e-01</td>\n      <td>-2.625709e-01</td>\n      <td>-0.465557</td>\n      <td>0.000000</td>\n    </tr>\n    <tr>\n      <th>25%</th>\n      <td>-3.423965e-01</td>\n      <td>-1.650540e-01</td>\n      <td>-0.556700</td>\n      <td>-4.689449e-02</td>\n      <td>-4.642639e-01</td>\n      <td>-3.502281e-01</td>\n      <td>-2.917622e-01</td>\n      <td>-2.625330e-01</td>\n      <td>-3.232672e-01</td>\n      <td>-3.713240e-01</td>\n      <td>...</td>\n      <td>-1.584361e-01</td>\n      <td>-5.142507e-01</td>\n      <td>-1.551808e-01</td>\n      <td>-3.298764e-01</td>\n      <td>-3.083214e-01</td>\n      <td>-1.030372e-01</td>\n      <td>-1.135701e-01</td>\n      <td>-2.369156e-01</td>\n      <td>-0.409483</td>\n      <td>0.000000</td>\n    </tr>\n    <tr>\n      <th>50%</th>\n      <td>-3.423965e-01</td>\n      <td>-1.650540e-01</td>\n      <td>-0.556700</td>\n      <td>-4.689449e-02</td>\n      <td>-4.642639e-01</td>\n      <td>-3.502281e-01</td>\n      <td>-2.917622e-01</td>\n      <td>-2.625330e-01</td>\n      <td>-3.232672e-01</td>\n      <td>-3.713240e-01</td>\n      <td>...</td>\n      <td>-1.584361e-01</td>\n      <td>-2.738264e-01</td>\n      <td>-1.551808e-01</td>\n      <td>-3.298764e-01</td>\n      <td>-3.083214e-01</td>\n      <td>-1.030372e-01</td>\n      <td>-9.188672e-02</td>\n      <td>-1.907360e-01</td>\n      <td>-0.310530</td>\n      <td>0.000000</td>\n    </tr>\n    <tr>\n      <th>75%</th>\n      <td>-3.423965e-01</td>\n      <td>-1.650540e-01</td>\n      <td>0.276397</td>\n      <td>-4.689449e-02</td>\n      <td>1.007811e-01</td>\n      <td>-3.502281e-01</td>\n      <td>-2.917622e-01</td>\n      <td>-2.625330e-01</td>\n      <td>-3.232672e-01</td>\n      <td>-1.231679e-01</td>\n      <td>...</td>\n      <td>-1.584361e-01</td>\n      <td>1.811304e-01</td>\n      <td>-1.551808e-01</td>\n      <td>5.630838e-02</td>\n      <td>-9.683788e-02</td>\n      <td>-1.030372e-01</td>\n      <td>-4.681818e-02</td>\n      <td>-4.706618e-02</td>\n      <td>-0.028514</td>\n      <td>1.000000</td>\n    </tr>\n    <tr>\n      <th>max</th>\n      <td>1.452542e+01</td>\n      <td>1.089978e+01</td>\n      <td>9.559480</td>\n      <td>3.063795e+01</td>\n      <td>1.440534e+01</td>\n      <td>2.112341e+01</td>\n      <td>1.828062e+01</td>\n      <td>2.743827e+01</td>\n      <td>1.855577e+01</td>\n      <td>2.782542e+01</td>\n      <td>...</td>\n      <td>1.785190e+01</td>\n      <td>3.555679e+01</td>\n      <td>3.715028e+01</td>\n      <td>3.948762e+01</td>\n      <td>2.410583e+01</td>\n      <td>4.608158e+01</td>\n      <td>3.458328e+01</td>\n      <td>5.098651e+01</td>\n      <td>25.658062</td>\n      <td>1.000000</td>\n    </tr>\n  </tbody>\n</table>\n<p>8 rows × 58 columns</p>\n</div>"
     },
     "metadata": {},
     "output_type": "display_data"
    }
   ],
   "source": [
    "# Describe data\n",
    "display(spambase.describe())"
   ],
   "metadata": {
    "collapsed": false,
    "ExecuteTime": {
     "end_time": "2023-11-26T21:50:56.557938Z",
     "start_time": "2023-11-26T21:50:56.442733Z"
    }
   },
   "id": "1a50b8769d8699a7"
  },
  {
   "cell_type": "code",
   "execution_count": 7,
   "outputs": [],
   "source": [
    "# Split data using 80/20 split sklearn function\n",
    "train, test = model_selection.train_test_split(spambase, test_size=0.2, random_state=0)"
   ],
   "metadata": {
    "collapsed": false,
    "ExecuteTime": {
     "end_time": "2023-11-26T21:50:56.565226Z",
     "start_time": "2023-11-26T21:50:56.483687Z"
    }
   },
   "id": "d9d3b0a885e21bc5"
  },
  {
   "cell_type": "markdown",
   "source": [
    "# Problem 1"
   ],
   "metadata": {
    "collapsed": false
   },
   "id": "db4c7392c3b5bf44"
  },
  {
   "cell_type": "markdown",
   "source": [
    "## AdaBoost"
   ],
   "metadata": {
    "collapsed": false
   },
   "id": "7a67aa43737cd28a"
  },
  {
   "cell_type": "markdown",
   "source": [
    "### Optimal Split"
   ],
   "metadata": {
    "collapsed": false
   },
   "id": "db78e05c76046944"
  },
  {
   "cell_type": "code",
   "execution_count": 8,
   "outputs": [],
   "source": [
    "ada_optimal = ml.AdaBoost(num_classifiers=80, splitter=\"best\")\n",
    "ada_optimal.fit(train)"
   ],
   "metadata": {
    "collapsed": false,
    "ExecuteTime": {
     "end_time": "2023-11-26T21:50:56.834134Z",
     "start_time": "2023-11-26T21:50:56.487717Z"
    }
   },
   "id": "9d048cfe60e1210d"
  },
  {
   "cell_type": "markdown",
   "source": [
    "#### Accuracy"
   ],
   "metadata": {
    "collapsed": false
   },
   "id": "ab51646f7dae4566"
  },
  {
   "cell_type": "code",
   "execution_count": 9,
   "outputs": [
    {
     "name": "stdout",
     "output_type": "stream",
     "text": [
      "Accuracy:  0.9142236699239956\n"
     ]
    }
   ],
   "source": [
    "print('Accuracy: ', ada_optimal.accuracy(test))"
   ],
   "metadata": {
    "collapsed": false,
    "ExecuteTime": {
     "end_time": "2023-11-26T21:50:56.871475Z",
     "start_time": "2023-11-26T21:50:56.833614Z"
    }
   },
   "id": "d29b666c65f0c504"
  },
  {
   "cell_type": "markdown",
   "source": [
    "### Random Split"
   ],
   "metadata": {
    "collapsed": false
   },
   "id": "864e87bab730fd6"
  },
  {
   "cell_type": "code",
   "execution_count": 10,
   "outputs": [],
   "source": [
    "ada_random = ml.AdaBoost(num_classifiers=120, splitter=\"random\")\n",
    "ada_random.fit(train)"
   ],
   "metadata": {
    "collapsed": false,
    "ExecuteTime": {
     "end_time": "2023-11-26T21:50:57.036469Z",
     "start_time": "2023-11-26T21:50:56.863385Z"
    }
   },
   "id": "ac638c5ac2a5541c"
  },
  {
   "cell_type": "markdown",
   "source": [
    "#### Accuracy"
   ],
   "metadata": {
    "collapsed": false
   },
   "id": "74a19d5246d68762"
  },
  {
   "cell_type": "code",
   "execution_count": 11,
   "outputs": [
    {
     "name": "stdout",
     "output_type": "stream",
     "text": [
      "Accuracy:  0.9153094462540716\n"
     ]
    }
   ],
   "source": [
    "print('Accuracy: ', ada_random.accuracy(test))"
   ],
   "metadata": {
    "collapsed": false,
    "ExecuteTime": {
     "end_time": "2023-11-26T21:50:57.084051Z",
     "start_time": "2023-11-26T21:50:57.033709Z"
    }
   },
   "id": "4524006939c4eb5d"
  },
  {
   "cell_type": "markdown",
   "source": [
    "# Problem 2"
   ],
   "metadata": {
    "collapsed": false
   },
   "id": "ab76cfb3184374b4"
  },
  {
   "cell_type": "code",
   "execution_count": 12,
   "outputs": [],
   "source": [
    "# Load crx and vote datasets\n",
    "crx = pd.read_csv('crx.data', header=None, delim_whitespace=True,\n",
    "                  names=['A1', 'A2', 'A3', 'A4', 'A5', 'A6', 'A7', 'A8',\n",
    "                         'A9', 'A10', 'A11', 'A12', 'A13', 'A14', 'A15', 'A16'])\n",
    "vote = pd.read_csv('vote.data', header=None, delim_whitespace=True,\n",
    "                   names=['A1', 'A2', 'A3', 'A4', 'A5', 'A6', 'A7', 'A8',\n",
    "                          'A9', 'A10', 'A11', 'A12', 'A13', 'A14', 'A15', 'A16'])"
   ],
   "metadata": {
    "collapsed": false,
    "ExecuteTime": {
     "end_time": "2023-11-26T21:50:57.084214Z",
     "start_time": "2023-11-26T21:50:57.076107Z"
    }
   },
   "id": "b0ccd464054e755a"
  },
  {
   "cell_type": "code",
   "execution_count": 13,
   "outputs": [
    {
     "data": {
      "text/plain": "    A1     A2      A3 A4 A5 A6 A7    A8 A9 A10  A11 A12 A13    A14  A15 A16\n0    b  30.83   0.000  u  g  w  v  1.25  t   t    1   f   g  00202    0   +\n1    a  58.67   4.460  u  g  q  h  3.04  t   t    6   f   g  00043  560   +\n2    a  24.50   0.500  u  g  q  h  1.50  t   f    0   f   g  00280  824   +\n3    b  27.83   1.540  u  g  w  v  3.75  t   t    5   t   g  00100    3   +\n4    b  20.17   5.625  u  g  w  v  1.71  t   f    0   f   s  00120    0   +\n..  ..    ...     ... .. .. .. ..   ... ..  ..  ...  ..  ..    ...  ...  ..\n685  b  21.08  10.085  y  p  e  h  1.25  f   f    0   f   g  00260    0   -\n686  a  22.67   0.750  u  g  c  v  2.00  f   t    2   t   g  00200  394   -\n687  a  25.25  13.500  y  p  f  f  2.00  f   t    1   t   g  00200    1   -\n688  b  17.92   0.205  u  g  a  v  0.04  f   f    0   f   g  00280  750   -\n689  b  35.00   3.375  u  g  c  h  8.29  f   f    0   t   g  00000    0   -\n\n[690 rows x 16 columns]",
      "text/html": "<div>\n<style scoped>\n    .dataframe tbody tr th:only-of-type {\n        vertical-align: middle;\n    }\n\n    .dataframe tbody tr th {\n        vertical-align: top;\n    }\n\n    .dataframe thead th {\n        text-align: right;\n    }\n</style>\n<table border=\"1\" class=\"dataframe\">\n  <thead>\n    <tr style=\"text-align: right;\">\n      <th></th>\n      <th>A1</th>\n      <th>A2</th>\n      <th>A3</th>\n      <th>A4</th>\n      <th>A5</th>\n      <th>A6</th>\n      <th>A7</th>\n      <th>A8</th>\n      <th>A9</th>\n      <th>A10</th>\n      <th>A11</th>\n      <th>A12</th>\n      <th>A13</th>\n      <th>A14</th>\n      <th>A15</th>\n      <th>A16</th>\n    </tr>\n  </thead>\n  <tbody>\n    <tr>\n      <th>0</th>\n      <td>b</td>\n      <td>30.83</td>\n      <td>0.000</td>\n      <td>u</td>\n      <td>g</td>\n      <td>w</td>\n      <td>v</td>\n      <td>1.25</td>\n      <td>t</td>\n      <td>t</td>\n      <td>1</td>\n      <td>f</td>\n      <td>g</td>\n      <td>00202</td>\n      <td>0</td>\n      <td>+</td>\n    </tr>\n    <tr>\n      <th>1</th>\n      <td>a</td>\n      <td>58.67</td>\n      <td>4.460</td>\n      <td>u</td>\n      <td>g</td>\n      <td>q</td>\n      <td>h</td>\n      <td>3.04</td>\n      <td>t</td>\n      <td>t</td>\n      <td>6</td>\n      <td>f</td>\n      <td>g</td>\n      <td>00043</td>\n      <td>560</td>\n      <td>+</td>\n    </tr>\n    <tr>\n      <th>2</th>\n      <td>a</td>\n      <td>24.50</td>\n      <td>0.500</td>\n      <td>u</td>\n      <td>g</td>\n      <td>q</td>\n      <td>h</td>\n      <td>1.50</td>\n      <td>t</td>\n      <td>f</td>\n      <td>0</td>\n      <td>f</td>\n      <td>g</td>\n      <td>00280</td>\n      <td>824</td>\n      <td>+</td>\n    </tr>\n    <tr>\n      <th>3</th>\n      <td>b</td>\n      <td>27.83</td>\n      <td>1.540</td>\n      <td>u</td>\n      <td>g</td>\n      <td>w</td>\n      <td>v</td>\n      <td>3.75</td>\n      <td>t</td>\n      <td>t</td>\n      <td>5</td>\n      <td>t</td>\n      <td>g</td>\n      <td>00100</td>\n      <td>3</td>\n      <td>+</td>\n    </tr>\n    <tr>\n      <th>4</th>\n      <td>b</td>\n      <td>20.17</td>\n      <td>5.625</td>\n      <td>u</td>\n      <td>g</td>\n      <td>w</td>\n      <td>v</td>\n      <td>1.71</td>\n      <td>t</td>\n      <td>f</td>\n      <td>0</td>\n      <td>f</td>\n      <td>s</td>\n      <td>00120</td>\n      <td>0</td>\n      <td>+</td>\n    </tr>\n    <tr>\n      <th>...</th>\n      <td>...</td>\n      <td>...</td>\n      <td>...</td>\n      <td>...</td>\n      <td>...</td>\n      <td>...</td>\n      <td>...</td>\n      <td>...</td>\n      <td>...</td>\n      <td>...</td>\n      <td>...</td>\n      <td>...</td>\n      <td>...</td>\n      <td>...</td>\n      <td>...</td>\n      <td>...</td>\n    </tr>\n    <tr>\n      <th>685</th>\n      <td>b</td>\n      <td>21.08</td>\n      <td>10.085</td>\n      <td>y</td>\n      <td>p</td>\n      <td>e</td>\n      <td>h</td>\n      <td>1.25</td>\n      <td>f</td>\n      <td>f</td>\n      <td>0</td>\n      <td>f</td>\n      <td>g</td>\n      <td>00260</td>\n      <td>0</td>\n      <td>-</td>\n    </tr>\n    <tr>\n      <th>686</th>\n      <td>a</td>\n      <td>22.67</td>\n      <td>0.750</td>\n      <td>u</td>\n      <td>g</td>\n      <td>c</td>\n      <td>v</td>\n      <td>2.00</td>\n      <td>f</td>\n      <td>t</td>\n      <td>2</td>\n      <td>t</td>\n      <td>g</td>\n      <td>00200</td>\n      <td>394</td>\n      <td>-</td>\n    </tr>\n    <tr>\n      <th>687</th>\n      <td>a</td>\n      <td>25.25</td>\n      <td>13.500</td>\n      <td>y</td>\n      <td>p</td>\n      <td>f</td>\n      <td>f</td>\n      <td>2.00</td>\n      <td>f</td>\n      <td>t</td>\n      <td>1</td>\n      <td>t</td>\n      <td>g</td>\n      <td>00200</td>\n      <td>1</td>\n      <td>-</td>\n    </tr>\n    <tr>\n      <th>688</th>\n      <td>b</td>\n      <td>17.92</td>\n      <td>0.205</td>\n      <td>u</td>\n      <td>g</td>\n      <td>a</td>\n      <td>v</td>\n      <td>0.04</td>\n      <td>f</td>\n      <td>f</td>\n      <td>0</td>\n      <td>f</td>\n      <td>g</td>\n      <td>00280</td>\n      <td>750</td>\n      <td>-</td>\n    </tr>\n    <tr>\n      <th>689</th>\n      <td>b</td>\n      <td>35.00</td>\n      <td>3.375</td>\n      <td>u</td>\n      <td>g</td>\n      <td>c</td>\n      <td>h</td>\n      <td>8.29</td>\n      <td>f</td>\n      <td>f</td>\n      <td>0</td>\n      <td>t</td>\n      <td>g</td>\n      <td>00000</td>\n      <td>0</td>\n      <td>-</td>\n    </tr>\n  </tbody>\n</table>\n<p>690 rows × 16 columns</p>\n</div>"
     },
     "metadata": {},
     "output_type": "display_data"
    }
   ],
   "source": [
    "display(crx)"
   ],
   "metadata": {
    "collapsed": false,
    "ExecuteTime": {
     "end_time": "2023-11-26T21:50:57.088510Z",
     "start_time": "2023-11-26T21:50:57.085174Z"
    }
   },
   "id": "b15eb484a04eddf0"
  },
  {
   "cell_type": "code",
   "execution_count": 14,
   "outputs": [
    {
     "data": {
      "text/plain": "   A1 A2 A3 A4 A5 A6 A7 A8 A9 A10 A11 A12 A13 A14 A15 A16\nn   y  n  y  y  y  n  n  n  y   ?   y   y   y   n   y   r\nn   y  n  y  y  y  n  n  n  n   n   y   y   y   n   ?   r\n?   y  y  ?  y  y  n  n  n  n   y   n   y   y   n   n   d\nn   y  y  n  ?  y  n  n  n  n   y   n   y   n   n   y   d\ny   y  y  n  y  y  n  n  n  n   y   ?   y   y   y   y   d\n.. .. .. .. .. .. .. .. .. ..  ..  ..  ..  ..  ..  ..  ..\nn   n  y  y  y  y  n  n  y  y   n   y   y   y   n   y   r\nn   n  y  n  n  n  y  y  y  y   n   n   n   n   n   y   d\nn   ?  n  y  y  y  n  n  n  n   y   y   y   y   n   y   r\nn   n  n  y  y  y  ?  ?  ?  ?   n   y   y   y   n   y   r\nn   y  n  y  y  y  n  n  n  y   n   y   y   y   ?   n   r\n\n[435 rows x 16 columns]",
      "text/html": "<div>\n<style scoped>\n    .dataframe tbody tr th:only-of-type {\n        vertical-align: middle;\n    }\n\n    .dataframe tbody tr th {\n        vertical-align: top;\n    }\n\n    .dataframe thead th {\n        text-align: right;\n    }\n</style>\n<table border=\"1\" class=\"dataframe\">\n  <thead>\n    <tr style=\"text-align: right;\">\n      <th></th>\n      <th>A1</th>\n      <th>A2</th>\n      <th>A3</th>\n      <th>A4</th>\n      <th>A5</th>\n      <th>A6</th>\n      <th>A7</th>\n      <th>A8</th>\n      <th>A9</th>\n      <th>A10</th>\n      <th>A11</th>\n      <th>A12</th>\n      <th>A13</th>\n      <th>A14</th>\n      <th>A15</th>\n      <th>A16</th>\n    </tr>\n  </thead>\n  <tbody>\n    <tr>\n      <th>n</th>\n      <td>y</td>\n      <td>n</td>\n      <td>y</td>\n      <td>y</td>\n      <td>y</td>\n      <td>n</td>\n      <td>n</td>\n      <td>n</td>\n      <td>y</td>\n      <td>?</td>\n      <td>y</td>\n      <td>y</td>\n      <td>y</td>\n      <td>n</td>\n      <td>y</td>\n      <td>r</td>\n    </tr>\n    <tr>\n      <th>n</th>\n      <td>y</td>\n      <td>n</td>\n      <td>y</td>\n      <td>y</td>\n      <td>y</td>\n      <td>n</td>\n      <td>n</td>\n      <td>n</td>\n      <td>n</td>\n      <td>n</td>\n      <td>y</td>\n      <td>y</td>\n      <td>y</td>\n      <td>n</td>\n      <td>?</td>\n      <td>r</td>\n    </tr>\n    <tr>\n      <th>?</th>\n      <td>y</td>\n      <td>y</td>\n      <td>?</td>\n      <td>y</td>\n      <td>y</td>\n      <td>n</td>\n      <td>n</td>\n      <td>n</td>\n      <td>n</td>\n      <td>y</td>\n      <td>n</td>\n      <td>y</td>\n      <td>y</td>\n      <td>n</td>\n      <td>n</td>\n      <td>d</td>\n    </tr>\n    <tr>\n      <th>n</th>\n      <td>y</td>\n      <td>y</td>\n      <td>n</td>\n      <td>?</td>\n      <td>y</td>\n      <td>n</td>\n      <td>n</td>\n      <td>n</td>\n      <td>n</td>\n      <td>y</td>\n      <td>n</td>\n      <td>y</td>\n      <td>n</td>\n      <td>n</td>\n      <td>y</td>\n      <td>d</td>\n    </tr>\n    <tr>\n      <th>y</th>\n      <td>y</td>\n      <td>y</td>\n      <td>n</td>\n      <td>y</td>\n      <td>y</td>\n      <td>n</td>\n      <td>n</td>\n      <td>n</td>\n      <td>n</td>\n      <td>y</td>\n      <td>?</td>\n      <td>y</td>\n      <td>y</td>\n      <td>y</td>\n      <td>y</td>\n      <td>d</td>\n    </tr>\n    <tr>\n      <th>...</th>\n      <td>...</td>\n      <td>...</td>\n      <td>...</td>\n      <td>...</td>\n      <td>...</td>\n      <td>...</td>\n      <td>...</td>\n      <td>...</td>\n      <td>...</td>\n      <td>...</td>\n      <td>...</td>\n      <td>...</td>\n      <td>...</td>\n      <td>...</td>\n      <td>...</td>\n      <td>...</td>\n    </tr>\n    <tr>\n      <th>n</th>\n      <td>n</td>\n      <td>y</td>\n      <td>y</td>\n      <td>y</td>\n      <td>y</td>\n      <td>n</td>\n      <td>n</td>\n      <td>y</td>\n      <td>y</td>\n      <td>n</td>\n      <td>y</td>\n      <td>y</td>\n      <td>y</td>\n      <td>n</td>\n      <td>y</td>\n      <td>r</td>\n    </tr>\n    <tr>\n      <th>n</th>\n      <td>n</td>\n      <td>y</td>\n      <td>n</td>\n      <td>n</td>\n      <td>n</td>\n      <td>y</td>\n      <td>y</td>\n      <td>y</td>\n      <td>y</td>\n      <td>n</td>\n      <td>n</td>\n      <td>n</td>\n      <td>n</td>\n      <td>n</td>\n      <td>y</td>\n      <td>d</td>\n    </tr>\n    <tr>\n      <th>n</th>\n      <td>?</td>\n      <td>n</td>\n      <td>y</td>\n      <td>y</td>\n      <td>y</td>\n      <td>n</td>\n      <td>n</td>\n      <td>n</td>\n      <td>n</td>\n      <td>y</td>\n      <td>y</td>\n      <td>y</td>\n      <td>y</td>\n      <td>n</td>\n      <td>y</td>\n      <td>r</td>\n    </tr>\n    <tr>\n      <th>n</th>\n      <td>n</td>\n      <td>n</td>\n      <td>y</td>\n      <td>y</td>\n      <td>y</td>\n      <td>?</td>\n      <td>?</td>\n      <td>?</td>\n      <td>?</td>\n      <td>n</td>\n      <td>y</td>\n      <td>y</td>\n      <td>y</td>\n      <td>n</td>\n      <td>y</td>\n      <td>r</td>\n    </tr>\n    <tr>\n      <th>n</th>\n      <td>y</td>\n      <td>n</td>\n      <td>y</td>\n      <td>y</td>\n      <td>y</td>\n      <td>n</td>\n      <td>n</td>\n      <td>n</td>\n      <td>y</td>\n      <td>n</td>\n      <td>y</td>\n      <td>y</td>\n      <td>y</td>\n      <td>?</td>\n      <td>n</td>\n      <td>r</td>\n    </tr>\n  </tbody>\n</table>\n<p>435 rows × 16 columns</p>\n</div>"
     },
     "metadata": {},
     "output_type": "display_data"
    }
   ],
   "source": [
    "display(vote)"
   ],
   "metadata": {
    "collapsed": false,
    "ExecuteTime": {
     "end_time": "2023-11-26T21:50:57.104646Z",
     "start_time": "2023-11-26T21:50:57.090709Z"
    }
   },
   "id": "7759425bfc8d126f"
  },
  {
   "cell_type": "code",
   "execution_count": 15,
   "outputs": [],
   "source": [
    "# Turn categorical data for crx into one-hot encoding\n",
    "crx = pd.get_dummies(crx, columns=['A1', 'A4', 'A5', 'A6', 'A7', 'A9', 'A10', 'A12', 'A13', 'A16'], drop_first=True)\n",
    "\n",
    "# Replace missing values with 0\n",
    "crx = crx.replace('?', 0)"
   ],
   "metadata": {
    "collapsed": false,
    "ExecuteTime": {
     "end_time": "2023-11-26T21:50:57.104797Z",
     "start_time": "2023-11-26T21:50:57.094958Z"
    }
   },
   "id": "c97f3634db2f135b"
  },
  {
   "cell_type": "code",
   "execution_count": 16,
   "outputs": [],
   "source": [
    "# Turn categorical data for vote into one-hot encoding\n",
    "vote = pd.get_dummies(vote, columns=['A1', 'A2', 'A3', 'A4', 'A5', 'A6', 'A7', 'A8',\n",
    "                                     'A9', 'A10', 'A11', 'A12', 'A13', 'A14', 'A15', 'A16'], drop_first=True)\n",
    "\n",
    "# Replace missing values with 0\n",
    "vote = vote.replace('?', 0)"
   ],
   "metadata": {
    "collapsed": false,
    "ExecuteTime": {
     "end_time": "2023-11-26T21:50:57.132726Z",
     "start_time": "2023-11-26T21:50:57.101101Z"
    }
   },
   "id": "7a0bb0645549ec9"
  },
  {
   "cell_type": "code",
   "execution_count": 17,
   "outputs": [
    {
     "data": {
      "text/plain": "        A2      A3    A8  A11    A14  A15  A1_a  A1_b  A4_l  A4_u  ...  A7_n  \\\n0    30.83   0.000  1.25    1  00202    0     0     1     0     1  ...     0   \n1    58.67   4.460  3.04    6  00043  560     1     0     0     1  ...     0   \n2    24.50   0.500  1.50    0  00280  824     1     0     0     1  ...     0   \n3    27.83   1.540  3.75    5  00100    3     0     1     0     1  ...     0   \n4    20.17   5.625  1.71    0  00120    0     0     1     0     1  ...     0   \n..     ...     ...   ...  ...    ...  ...   ...   ...   ...   ...  ...   ...   \n685  21.08  10.085  1.25    0  00260    0     0     1     0     0  ...     0   \n686  22.67   0.750  2.00    2  00200  394     1     0     0     1  ...     0   \n687  25.25  13.500  2.00    1  00200    1     1     0     0     0  ...     0   \n688  17.92   0.205  0.04    0  00280  750     0     1     0     1  ...     0   \n689  35.00   3.375  8.29    0  00000    0     0     1     0     1  ...     0   \n\n     A7_o  A7_v  A7_z  A9_t  A10_t  A12_t  A13_p  A13_s  A16_-  \n0       0     1     0     1      1      0      0      0      0  \n1       0     0     0     1      1      0      0      0      0  \n2       0     0     0     1      0      0      0      0      0  \n3       0     1     0     1      1      1      0      0      0  \n4       0     1     0     1      0      0      0      1      0  \n..    ...   ...   ...   ...    ...    ...    ...    ...    ...  \n685     0     0     0     0      0      0      0      0      1  \n686     0     1     0     0      1      1      0      0      1  \n687     0     0     0     0      1      1      0      0      1  \n688     0     1     0     0      0      0      0      0      1  \n689     0     0     0     0      0      1      0      0      1  \n\n[690 rows x 43 columns]",
      "text/html": "<div>\n<style scoped>\n    .dataframe tbody tr th:only-of-type {\n        vertical-align: middle;\n    }\n\n    .dataframe tbody tr th {\n        vertical-align: top;\n    }\n\n    .dataframe thead th {\n        text-align: right;\n    }\n</style>\n<table border=\"1\" class=\"dataframe\">\n  <thead>\n    <tr style=\"text-align: right;\">\n      <th></th>\n      <th>A2</th>\n      <th>A3</th>\n      <th>A8</th>\n      <th>A11</th>\n      <th>A14</th>\n      <th>A15</th>\n      <th>A1_a</th>\n      <th>A1_b</th>\n      <th>A4_l</th>\n      <th>A4_u</th>\n      <th>...</th>\n      <th>A7_n</th>\n      <th>A7_o</th>\n      <th>A7_v</th>\n      <th>A7_z</th>\n      <th>A9_t</th>\n      <th>A10_t</th>\n      <th>A12_t</th>\n      <th>A13_p</th>\n      <th>A13_s</th>\n      <th>A16_-</th>\n    </tr>\n  </thead>\n  <tbody>\n    <tr>\n      <th>0</th>\n      <td>30.83</td>\n      <td>0.000</td>\n      <td>1.25</td>\n      <td>1</td>\n      <td>00202</td>\n      <td>0</td>\n      <td>0</td>\n      <td>1</td>\n      <td>0</td>\n      <td>1</td>\n      <td>...</td>\n      <td>0</td>\n      <td>0</td>\n      <td>1</td>\n      <td>0</td>\n      <td>1</td>\n      <td>1</td>\n      <td>0</td>\n      <td>0</td>\n      <td>0</td>\n      <td>0</td>\n    </tr>\n    <tr>\n      <th>1</th>\n      <td>58.67</td>\n      <td>4.460</td>\n      <td>3.04</td>\n      <td>6</td>\n      <td>00043</td>\n      <td>560</td>\n      <td>1</td>\n      <td>0</td>\n      <td>0</td>\n      <td>1</td>\n      <td>...</td>\n      <td>0</td>\n      <td>0</td>\n      <td>0</td>\n      <td>0</td>\n      <td>1</td>\n      <td>1</td>\n      <td>0</td>\n      <td>0</td>\n      <td>0</td>\n      <td>0</td>\n    </tr>\n    <tr>\n      <th>2</th>\n      <td>24.50</td>\n      <td>0.500</td>\n      <td>1.50</td>\n      <td>0</td>\n      <td>00280</td>\n      <td>824</td>\n      <td>1</td>\n      <td>0</td>\n      <td>0</td>\n      <td>1</td>\n      <td>...</td>\n      <td>0</td>\n      <td>0</td>\n      <td>0</td>\n      <td>0</td>\n      <td>1</td>\n      <td>0</td>\n      <td>0</td>\n      <td>0</td>\n      <td>0</td>\n      <td>0</td>\n    </tr>\n    <tr>\n      <th>3</th>\n      <td>27.83</td>\n      <td>1.540</td>\n      <td>3.75</td>\n      <td>5</td>\n      <td>00100</td>\n      <td>3</td>\n      <td>0</td>\n      <td>1</td>\n      <td>0</td>\n      <td>1</td>\n      <td>...</td>\n      <td>0</td>\n      <td>0</td>\n      <td>1</td>\n      <td>0</td>\n      <td>1</td>\n      <td>1</td>\n      <td>1</td>\n      <td>0</td>\n      <td>0</td>\n      <td>0</td>\n    </tr>\n    <tr>\n      <th>4</th>\n      <td>20.17</td>\n      <td>5.625</td>\n      <td>1.71</td>\n      <td>0</td>\n      <td>00120</td>\n      <td>0</td>\n      <td>0</td>\n      <td>1</td>\n      <td>0</td>\n      <td>1</td>\n      <td>...</td>\n      <td>0</td>\n      <td>0</td>\n      <td>1</td>\n      <td>0</td>\n      <td>1</td>\n      <td>0</td>\n      <td>0</td>\n      <td>0</td>\n      <td>1</td>\n      <td>0</td>\n    </tr>\n    <tr>\n      <th>...</th>\n      <td>...</td>\n      <td>...</td>\n      <td>...</td>\n      <td>...</td>\n      <td>...</td>\n      <td>...</td>\n      <td>...</td>\n      <td>...</td>\n      <td>...</td>\n      <td>...</td>\n      <td>...</td>\n      <td>...</td>\n      <td>...</td>\n      <td>...</td>\n      <td>...</td>\n      <td>...</td>\n      <td>...</td>\n      <td>...</td>\n      <td>...</td>\n      <td>...</td>\n      <td>...</td>\n    </tr>\n    <tr>\n      <th>685</th>\n      <td>21.08</td>\n      <td>10.085</td>\n      <td>1.25</td>\n      <td>0</td>\n      <td>00260</td>\n      <td>0</td>\n      <td>0</td>\n      <td>1</td>\n      <td>0</td>\n      <td>0</td>\n      <td>...</td>\n      <td>0</td>\n      <td>0</td>\n      <td>0</td>\n      <td>0</td>\n      <td>0</td>\n      <td>0</td>\n      <td>0</td>\n      <td>0</td>\n      <td>0</td>\n      <td>1</td>\n    </tr>\n    <tr>\n      <th>686</th>\n      <td>22.67</td>\n      <td>0.750</td>\n      <td>2.00</td>\n      <td>2</td>\n      <td>00200</td>\n      <td>394</td>\n      <td>1</td>\n      <td>0</td>\n      <td>0</td>\n      <td>1</td>\n      <td>...</td>\n      <td>0</td>\n      <td>0</td>\n      <td>1</td>\n      <td>0</td>\n      <td>0</td>\n      <td>1</td>\n      <td>1</td>\n      <td>0</td>\n      <td>0</td>\n      <td>1</td>\n    </tr>\n    <tr>\n      <th>687</th>\n      <td>25.25</td>\n      <td>13.500</td>\n      <td>2.00</td>\n      <td>1</td>\n      <td>00200</td>\n      <td>1</td>\n      <td>1</td>\n      <td>0</td>\n      <td>0</td>\n      <td>0</td>\n      <td>...</td>\n      <td>0</td>\n      <td>0</td>\n      <td>0</td>\n      <td>0</td>\n      <td>0</td>\n      <td>1</td>\n      <td>1</td>\n      <td>0</td>\n      <td>0</td>\n      <td>1</td>\n    </tr>\n    <tr>\n      <th>688</th>\n      <td>17.92</td>\n      <td>0.205</td>\n      <td>0.04</td>\n      <td>0</td>\n      <td>00280</td>\n      <td>750</td>\n      <td>0</td>\n      <td>1</td>\n      <td>0</td>\n      <td>1</td>\n      <td>...</td>\n      <td>0</td>\n      <td>0</td>\n      <td>1</td>\n      <td>0</td>\n      <td>0</td>\n      <td>0</td>\n      <td>0</td>\n      <td>0</td>\n      <td>0</td>\n      <td>1</td>\n    </tr>\n    <tr>\n      <th>689</th>\n      <td>35.00</td>\n      <td>3.375</td>\n      <td>8.29</td>\n      <td>0</td>\n      <td>00000</td>\n      <td>0</td>\n      <td>0</td>\n      <td>1</td>\n      <td>0</td>\n      <td>1</td>\n      <td>...</td>\n      <td>0</td>\n      <td>0</td>\n      <td>0</td>\n      <td>0</td>\n      <td>0</td>\n      <td>0</td>\n      <td>1</td>\n      <td>0</td>\n      <td>0</td>\n      <td>1</td>\n    </tr>\n  </tbody>\n</table>\n<p>690 rows × 43 columns</p>\n</div>"
     },
     "metadata": {},
     "output_type": "display_data"
    }
   ],
   "source": [
    "display(crx)"
   ],
   "metadata": {
    "collapsed": false,
    "ExecuteTime": {
     "end_time": "2023-11-26T21:50:57.143631Z",
     "start_time": "2023-11-26T21:50:57.106969Z"
    }
   },
   "id": "fb1d9a0db68cf1ac"
  },
  {
   "cell_type": "code",
   "execution_count": 18,
   "outputs": [
    {
     "data": {
      "text/plain": "    A1_n  A1_y  A2_n  A2_y  A3_n  A3_y  A4_n  A4_y  A5_n  A5_y  ...  A11_y  \\\nn      0     1     1     0     0     1     0     1     0     1  ...      1   \nn      0     1     1     0     0     1     0     1     0     1  ...      1   \n?      0     1     0     1     0     0     0     1     0     1  ...      0   \nn      0     1     0     1     1     0     0     0     0     1  ...      0   \ny      0     1     0     1     1     0     0     1     0     1  ...      0   \n..   ...   ...   ...   ...   ...   ...   ...   ...   ...   ...  ...    ...   \nn      1     0     0     1     0     1     0     1     0     1  ...      1   \nn      1     0     0     1     1     0     1     0     1     0  ...      0   \nn      0     0     1     0     0     1     0     1     0     1  ...      1   \nn      1     0     1     0     0     1     0     1     0     1  ...      1   \nn      0     1     1     0     0     1     0     1     0     1  ...      1   \n\n    A12_n  A12_y  A13_n  A13_y  A14_n  A14_y  A15_n  A15_y  A16_r  \nn       0      1      0      1      1      0      0      1      1  \nn       0      1      0      1      1      0      0      0      1  \n?       0      1      0      1      1      0      1      0      0  \nn       0      1      1      0      1      0      0      1      0  \ny       0      1      0      1      0      1      0      1      0  \n..    ...    ...    ...    ...    ...    ...    ...    ...    ...  \nn       0      1      0      1      1      0      0      1      1  \nn       1      0      1      0      1      0      0      1      0  \nn       0      1      0      1      1      0      0      1      1  \nn       0      1      0      1      1      0      0      1      1  \nn       0      1      0      1      0      0      1      0      1  \n\n[435 rows x 31 columns]",
      "text/html": "<div>\n<style scoped>\n    .dataframe tbody tr th:only-of-type {\n        vertical-align: middle;\n    }\n\n    .dataframe tbody tr th {\n        vertical-align: top;\n    }\n\n    .dataframe thead th {\n        text-align: right;\n    }\n</style>\n<table border=\"1\" class=\"dataframe\">\n  <thead>\n    <tr style=\"text-align: right;\">\n      <th></th>\n      <th>A1_n</th>\n      <th>A1_y</th>\n      <th>A2_n</th>\n      <th>A2_y</th>\n      <th>A3_n</th>\n      <th>A3_y</th>\n      <th>A4_n</th>\n      <th>A4_y</th>\n      <th>A5_n</th>\n      <th>A5_y</th>\n      <th>...</th>\n      <th>A11_y</th>\n      <th>A12_n</th>\n      <th>A12_y</th>\n      <th>A13_n</th>\n      <th>A13_y</th>\n      <th>A14_n</th>\n      <th>A14_y</th>\n      <th>A15_n</th>\n      <th>A15_y</th>\n      <th>A16_r</th>\n    </tr>\n  </thead>\n  <tbody>\n    <tr>\n      <th>n</th>\n      <td>0</td>\n      <td>1</td>\n      <td>1</td>\n      <td>0</td>\n      <td>0</td>\n      <td>1</td>\n      <td>0</td>\n      <td>1</td>\n      <td>0</td>\n      <td>1</td>\n      <td>...</td>\n      <td>1</td>\n      <td>0</td>\n      <td>1</td>\n      <td>0</td>\n      <td>1</td>\n      <td>1</td>\n      <td>0</td>\n      <td>0</td>\n      <td>1</td>\n      <td>1</td>\n    </tr>\n    <tr>\n      <th>n</th>\n      <td>0</td>\n      <td>1</td>\n      <td>1</td>\n      <td>0</td>\n      <td>0</td>\n      <td>1</td>\n      <td>0</td>\n      <td>1</td>\n      <td>0</td>\n      <td>1</td>\n      <td>...</td>\n      <td>1</td>\n      <td>0</td>\n      <td>1</td>\n      <td>0</td>\n      <td>1</td>\n      <td>1</td>\n      <td>0</td>\n      <td>0</td>\n      <td>0</td>\n      <td>1</td>\n    </tr>\n    <tr>\n      <th>?</th>\n      <td>0</td>\n      <td>1</td>\n      <td>0</td>\n      <td>1</td>\n      <td>0</td>\n      <td>0</td>\n      <td>0</td>\n      <td>1</td>\n      <td>0</td>\n      <td>1</td>\n      <td>...</td>\n      <td>0</td>\n      <td>0</td>\n      <td>1</td>\n      <td>0</td>\n      <td>1</td>\n      <td>1</td>\n      <td>0</td>\n      <td>1</td>\n      <td>0</td>\n      <td>0</td>\n    </tr>\n    <tr>\n      <th>n</th>\n      <td>0</td>\n      <td>1</td>\n      <td>0</td>\n      <td>1</td>\n      <td>1</td>\n      <td>0</td>\n      <td>0</td>\n      <td>0</td>\n      <td>0</td>\n      <td>1</td>\n      <td>...</td>\n      <td>0</td>\n      <td>0</td>\n      <td>1</td>\n      <td>1</td>\n      <td>0</td>\n      <td>1</td>\n      <td>0</td>\n      <td>0</td>\n      <td>1</td>\n      <td>0</td>\n    </tr>\n    <tr>\n      <th>y</th>\n      <td>0</td>\n      <td>1</td>\n      <td>0</td>\n      <td>1</td>\n      <td>1</td>\n      <td>0</td>\n      <td>0</td>\n      <td>1</td>\n      <td>0</td>\n      <td>1</td>\n      <td>...</td>\n      <td>0</td>\n      <td>0</td>\n      <td>1</td>\n      <td>0</td>\n      <td>1</td>\n      <td>0</td>\n      <td>1</td>\n      <td>0</td>\n      <td>1</td>\n      <td>0</td>\n    </tr>\n    <tr>\n      <th>...</th>\n      <td>...</td>\n      <td>...</td>\n      <td>...</td>\n      <td>...</td>\n      <td>...</td>\n      <td>...</td>\n      <td>...</td>\n      <td>...</td>\n      <td>...</td>\n      <td>...</td>\n      <td>...</td>\n      <td>...</td>\n      <td>...</td>\n      <td>...</td>\n      <td>...</td>\n      <td>...</td>\n      <td>...</td>\n      <td>...</td>\n      <td>...</td>\n      <td>...</td>\n      <td>...</td>\n    </tr>\n    <tr>\n      <th>n</th>\n      <td>1</td>\n      <td>0</td>\n      <td>0</td>\n      <td>1</td>\n      <td>0</td>\n      <td>1</td>\n      <td>0</td>\n      <td>1</td>\n      <td>0</td>\n      <td>1</td>\n      <td>...</td>\n      <td>1</td>\n      <td>0</td>\n      <td>1</td>\n      <td>0</td>\n      <td>1</td>\n      <td>1</td>\n      <td>0</td>\n      <td>0</td>\n      <td>1</td>\n      <td>1</td>\n    </tr>\n    <tr>\n      <th>n</th>\n      <td>1</td>\n      <td>0</td>\n      <td>0</td>\n      <td>1</td>\n      <td>1</td>\n      <td>0</td>\n      <td>1</td>\n      <td>0</td>\n      <td>1</td>\n      <td>0</td>\n      <td>...</td>\n      <td>0</td>\n      <td>1</td>\n      <td>0</td>\n      <td>1</td>\n      <td>0</td>\n      <td>1</td>\n      <td>0</td>\n      <td>0</td>\n      <td>1</td>\n      <td>0</td>\n    </tr>\n    <tr>\n      <th>n</th>\n      <td>0</td>\n      <td>0</td>\n      <td>1</td>\n      <td>0</td>\n      <td>0</td>\n      <td>1</td>\n      <td>0</td>\n      <td>1</td>\n      <td>0</td>\n      <td>1</td>\n      <td>...</td>\n      <td>1</td>\n      <td>0</td>\n      <td>1</td>\n      <td>0</td>\n      <td>1</td>\n      <td>1</td>\n      <td>0</td>\n      <td>0</td>\n      <td>1</td>\n      <td>1</td>\n    </tr>\n    <tr>\n      <th>n</th>\n      <td>1</td>\n      <td>0</td>\n      <td>1</td>\n      <td>0</td>\n      <td>0</td>\n      <td>1</td>\n      <td>0</td>\n      <td>1</td>\n      <td>0</td>\n      <td>1</td>\n      <td>...</td>\n      <td>1</td>\n      <td>0</td>\n      <td>1</td>\n      <td>0</td>\n      <td>1</td>\n      <td>1</td>\n      <td>0</td>\n      <td>0</td>\n      <td>1</td>\n      <td>1</td>\n    </tr>\n    <tr>\n      <th>n</th>\n      <td>0</td>\n      <td>1</td>\n      <td>1</td>\n      <td>0</td>\n      <td>0</td>\n      <td>1</td>\n      <td>0</td>\n      <td>1</td>\n      <td>0</td>\n      <td>1</td>\n      <td>...</td>\n      <td>1</td>\n      <td>0</td>\n      <td>1</td>\n      <td>0</td>\n      <td>1</td>\n      <td>0</td>\n      <td>0</td>\n      <td>1</td>\n      <td>0</td>\n      <td>1</td>\n    </tr>\n  </tbody>\n</table>\n<p>435 rows × 31 columns</p>\n</div>"
     },
     "metadata": {},
     "output_type": "display_data"
    }
   ],
   "source": [
    "display(vote)"
   ],
   "metadata": {
    "collapsed": false,
    "ExecuteTime": {
     "end_time": "2023-11-26T21:50:57.219377Z",
     "start_time": "2023-11-26T21:50:57.114004Z"
    }
   },
   "id": "fec5fcd79a6cc329"
  },
  {
   "cell_type": "code",
   "execution_count": 19,
   "outputs": [],
   "source": [
    "# Split data using 80/20 split sklearn function\n",
    "train_crx, test_crx = model_selection.train_test_split(crx, test_size=0.2, random_state=0)\n",
    "train_vote, test_vote = model_selection.train_test_split(vote, test_size=0.2, random_state=0)"
   ],
   "metadata": {
    "collapsed": false,
    "ExecuteTime": {
     "end_time": "2023-11-26T21:50:57.219825Z",
     "start_time": "2023-11-26T21:50:57.120361Z"
    }
   },
   "id": "59aecbc55017d0fd"
  },
  {
   "cell_type": "markdown",
   "source": [
    "## AdaBoost"
   ],
   "metadata": {
    "collapsed": false
   },
   "id": "99e7bb542c893a76"
  },
  {
   "cell_type": "markdown",
   "source": [
    "### CRX"
   ],
   "metadata": {
    "collapsed": false
   },
   "id": "90a91303c874b75c"
  },
  {
   "cell_type": "code",
   "execution_count": 20,
   "outputs": [],
   "source": [
    "ada_crx = ml.AdaBoost(num_classifiers=80, splitter=\"best\")\n",
    "ada_crx.fit(train_crx)"
   ],
   "metadata": {
    "collapsed": false,
    "ExecuteTime": {
     "end_time": "2023-11-26T21:50:57.385895Z",
     "start_time": "2023-11-26T21:50:57.123270Z"
    }
   },
   "id": "9c7fc90beac427d5"
  },
  {
   "cell_type": "markdown",
   "source": [
    "#### Accuracy"
   ],
   "metadata": {
    "collapsed": false
   },
   "id": "1f32a50f63a17f9f"
  },
  {
   "cell_type": "code",
   "execution_count": 21,
   "outputs": [
    {
     "name": "stdout",
     "output_type": "stream",
     "text": [
      "Accuracy:  0.8768115942028986\n"
     ]
    }
   ],
   "source": [
    "print('Accuracy: ', ada_crx.accuracy(test_crx))"
   ],
   "metadata": {
    "collapsed": false,
    "ExecuteTime": {
     "end_time": "2023-11-26T21:50:57.420474Z",
     "start_time": "2023-11-26T21:50:57.324036Z"
    }
   },
   "id": "173d63c7d6a3cba"
  },
  {
   "cell_type": "markdown",
   "source": [
    "### Vote"
   ],
   "metadata": {
    "collapsed": false
   },
   "id": "c7a7cce79d231acb"
  },
  {
   "cell_type": "code",
   "execution_count": 22,
   "outputs": [],
   "source": [
    "ada_vote = ml.AdaBoost(num_classifiers=80, splitter=\"best\")\n",
    "ada_vote.fit(train_vote)"
   ],
   "metadata": {
    "collapsed": false,
    "ExecuteTime": {
     "end_time": "2023-11-26T21:50:57.450683Z",
     "start_time": "2023-11-26T21:50:57.367563Z"
    }
   },
   "id": "97af16021e8333f9"
  },
  {
   "cell_type": "markdown",
   "source": [
    "#### Accuracy"
   ],
   "metadata": {
    "collapsed": false
   },
   "id": "ba9b610d5ad54328"
  },
  {
   "cell_type": "code",
   "execution_count": 23,
   "outputs": [
    {
     "name": "stdout",
     "output_type": "stream",
     "text": [
      "Accuracy:  0.9655172413793104\n"
     ]
    }
   ],
   "source": [
    "print('Accuracy: ', ada_vote.accuracy(test_vote))"
   ],
   "metadata": {
    "collapsed": false,
    "ExecuteTime": {
     "end_time": "2023-11-26T21:50:57.475078Z",
     "start_time": "2023-11-26T21:50:57.435990Z"
    }
   },
   "id": "3df5e835caa44f01"
  },
  {
   "cell_type": "markdown",
   "source": [
    "## Active Learning"
   ],
   "metadata": {
    "collapsed": false
   },
   "id": "12e84ea6939c040d"
  },
  {
   "cell_type": "markdown",
   "source": [
    "### CRX"
   ],
   "metadata": {
    "collapsed": false
   },
   "id": "fc5672d1c05067f9"
  },
  {
   "cell_type": "code",
   "execution_count": 24,
   "outputs": [],
   "source": [
    "ada_crx_active = ada_crx.active_learning(crx)"
   ],
   "metadata": {
    "collapsed": false,
    "ExecuteTime": {
     "end_time": "2023-11-26T21:52:21.328924Z",
     "start_time": "2023-11-26T21:50:57.457862Z"
    }
   },
   "id": "c7b020cfa64c3707"
  },
  {
   "cell_type": "markdown",
   "source": [
    "#### Accuracy"
   ],
   "metadata": {
    "collapsed": false
   },
   "id": "2fb24fb59f72321a"
  },
  {
   "cell_type": "code",
   "execution_count": 25,
   "outputs": [
    {
     "name": "stdout",
     "output_type": "stream",
     "text": [
      "Accuracy:  0.8832956478080441\n"
     ]
    }
   ],
   "source": [
    "print('Accuracy: ', ada_crx_active[0])"
   ],
   "metadata": {
    "collapsed": false,
    "ExecuteTime": {
     "end_time": "2023-11-26T21:52:21.331297Z",
     "start_time": "2023-11-26T21:52:21.328711Z"
    }
   },
   "id": "5932b1f7a98e9f66"
  },
  {
   "cell_type": "markdown",
   "source": [
    "### Vote"
   ],
   "metadata": {
    "collapsed": false
   },
   "id": "8e55830527b617d0"
  },
  {
   "cell_type": "code",
   "execution_count": 26,
   "outputs": [],
   "source": [
    "ada_vote_active = ada_vote.active_learning(vote)"
   ],
   "metadata": {
    "collapsed": false,
    "ExecuteTime": {
     "end_time": "2023-11-26T21:52:50.796848Z",
     "start_time": "2023-11-26T21:52:21.330718Z"
    }
   },
   "id": "9e514bc69df93ed"
  },
  {
   "cell_type": "markdown",
   "source": [
    "#### Accuracy"
   ],
   "metadata": {
    "collapsed": false
   },
   "id": "7b4cf802348ef4cf"
  },
  {
   "cell_type": "code",
   "execution_count": 27,
   "outputs": [
    {
     "name": "stdout",
     "output_type": "stream",
     "text": [
      "Accuracy:  0.9775968915571471\n"
     ]
    }
   ],
   "source": [
    "print('Accuracy: ', ada_vote_active[0])"
   ],
   "metadata": {
    "collapsed": false,
    "ExecuteTime": {
     "end_time": "2023-11-26T21:52:50.804216Z",
     "start_time": "2023-11-26T21:52:50.797816Z"
    }
   },
   "id": "d68a76ca7a24c2a8"
  },
  {
   "cell_type": "markdown",
   "source": [
    "# Problem 3"
   ],
   "metadata": {
    "collapsed": false
   },
   "id": "2614a4d16434ad0a"
  },
  {
   "cell_type": "markdown",
   "source": [
    "## ECOC"
   ],
   "metadata": {
    "collapsed": false
   },
   "id": "14c2568821a94df8"
  },
  {
   "cell_type": "code",
   "execution_count": 28,
   "outputs": [
    {
     "data": {
      "text/plain": "           0         1         2         3        4         5     6     7     \\\n0      0.000000  0.000000  0.000000  0.000000  0.00000  0.000000   0.0   0.0   \n1      0.633042  0.751372  0.000000  0.934572  0.00000  0.000000   0.0   0.0   \n2      0.000000  0.000000  0.000000  1.233315  0.00000  0.000000   0.0   0.0   \n3      0.000000  0.000000  0.000000  0.934572  0.00000  0.000000   0.0   0.0   \n4      0.000000  0.000000  0.000000  1.079151  0.00000  0.924446   0.0   0.0   \n...         ...       ...       ...       ...      ...       ...   ...   ...   \n11309  0.000000  0.000000  0.422553  0.000000  0.54142  0.000000   0.0   0.0   \n11310  0.000000  0.000000  0.000000  0.000000  0.00000  0.000000   0.0   0.0   \n11311  0.000000  0.000000  0.000000  0.000000  0.00000  0.000000   0.0   0.0   \n11312  0.000000  0.000000  0.000000  0.000000  0.00000  0.000000   0.0   0.0   \n11313  0.000000  0.000000  0.000000  0.000000  0.00000  0.000000   0.0   0.0   \n\n       8     9     ...  1745  1746  1747  1748  1749  1750  1751  1752  1753  \\\n0       0.0   0.0  ...   0.0   0.0   0.0   0.0   0.0   0.0   0.0   0.0   0.0   \n1       0.0   0.0  ...   0.0   0.0   0.0   0.0   0.0   0.0   0.0   0.0   0.0   \n2       0.0   0.0  ...   0.0   0.0   0.0   0.0   0.0   0.0   0.0   0.0   0.0   \n3       0.0   0.0  ...   0.0   0.0   0.0   0.0   0.0   0.0   0.0   0.0   0.0   \n4       0.0   0.0  ...   0.0   0.0   0.0   0.0   0.0   0.0   0.0   0.0   0.0   \n...     ...   ...  ...   ...   ...   ...   ...   ...   ...   ...   ...   ...   \n11309   0.0   0.0  ...   0.0   0.0   0.0   0.0   0.0   0.0   0.0   0.0   0.0   \n11310   0.0   0.0  ...   0.0   0.0   0.0   0.0   0.0   0.0   0.0   0.0   0.0   \n11311   0.0   0.0  ...   0.0   0.0   0.0   0.0   0.0   0.0   0.0   0.0   0.0   \n11312   0.0   0.0  ...   0.0   0.0   0.0   0.0   0.0   0.0   0.0   0.0   0.0   \n11313   0.0   0.0  ...   0.0   0.0   0.0   0.0   0.0   0.0   0.0   0.0   0.0   \n\n       1754  \n0       0.0  \n1       0.0  \n2       0.0  \n3       0.0  \n4       0.0  \n...     ...  \n11309   0.0  \n11310   0.0  \n11311   0.0  \n11312   0.0  \n11313   0.0  \n\n[11314 rows x 1755 columns]",
      "text/html": "<div>\n<style scoped>\n    .dataframe tbody tr th:only-of-type {\n        vertical-align: middle;\n    }\n\n    .dataframe tbody tr th {\n        vertical-align: top;\n    }\n\n    .dataframe thead th {\n        text-align: right;\n    }\n</style>\n<table border=\"1\" class=\"dataframe\">\n  <thead>\n    <tr style=\"text-align: right;\">\n      <th></th>\n      <th>0</th>\n      <th>1</th>\n      <th>2</th>\n      <th>3</th>\n      <th>4</th>\n      <th>5</th>\n      <th>6</th>\n      <th>7</th>\n      <th>8</th>\n      <th>9</th>\n      <th>...</th>\n      <th>1745</th>\n      <th>1746</th>\n      <th>1747</th>\n      <th>1748</th>\n      <th>1749</th>\n      <th>1750</th>\n      <th>1751</th>\n      <th>1752</th>\n      <th>1753</th>\n      <th>1754</th>\n    </tr>\n  </thead>\n  <tbody>\n    <tr>\n      <th>0</th>\n      <td>0.000000</td>\n      <td>0.000000</td>\n      <td>0.000000</td>\n      <td>0.000000</td>\n      <td>0.00000</td>\n      <td>0.000000</td>\n      <td>0.0</td>\n      <td>0.0</td>\n      <td>0.0</td>\n      <td>0.0</td>\n      <td>...</td>\n      <td>0.0</td>\n      <td>0.0</td>\n      <td>0.0</td>\n      <td>0.0</td>\n      <td>0.0</td>\n      <td>0.0</td>\n      <td>0.0</td>\n      <td>0.0</td>\n      <td>0.0</td>\n      <td>0.0</td>\n    </tr>\n    <tr>\n      <th>1</th>\n      <td>0.633042</td>\n      <td>0.751372</td>\n      <td>0.000000</td>\n      <td>0.934572</td>\n      <td>0.00000</td>\n      <td>0.000000</td>\n      <td>0.0</td>\n      <td>0.0</td>\n      <td>0.0</td>\n      <td>0.0</td>\n      <td>...</td>\n      <td>0.0</td>\n      <td>0.0</td>\n      <td>0.0</td>\n      <td>0.0</td>\n      <td>0.0</td>\n      <td>0.0</td>\n      <td>0.0</td>\n      <td>0.0</td>\n      <td>0.0</td>\n      <td>0.0</td>\n    </tr>\n    <tr>\n      <th>2</th>\n      <td>0.000000</td>\n      <td>0.000000</td>\n      <td>0.000000</td>\n      <td>1.233315</td>\n      <td>0.00000</td>\n      <td>0.000000</td>\n      <td>0.0</td>\n      <td>0.0</td>\n      <td>0.0</td>\n      <td>0.0</td>\n      <td>...</td>\n      <td>0.0</td>\n      <td>0.0</td>\n      <td>0.0</td>\n      <td>0.0</td>\n      <td>0.0</td>\n      <td>0.0</td>\n      <td>0.0</td>\n      <td>0.0</td>\n      <td>0.0</td>\n      <td>0.0</td>\n    </tr>\n    <tr>\n      <th>3</th>\n      <td>0.000000</td>\n      <td>0.000000</td>\n      <td>0.000000</td>\n      <td>0.934572</td>\n      <td>0.00000</td>\n      <td>0.000000</td>\n      <td>0.0</td>\n      <td>0.0</td>\n      <td>0.0</td>\n      <td>0.0</td>\n      <td>...</td>\n      <td>0.0</td>\n      <td>0.0</td>\n      <td>0.0</td>\n      <td>0.0</td>\n      <td>0.0</td>\n      <td>0.0</td>\n      <td>0.0</td>\n      <td>0.0</td>\n      <td>0.0</td>\n      <td>0.0</td>\n    </tr>\n    <tr>\n      <th>4</th>\n      <td>0.000000</td>\n      <td>0.000000</td>\n      <td>0.000000</td>\n      <td>1.079151</td>\n      <td>0.00000</td>\n      <td>0.924446</td>\n      <td>0.0</td>\n      <td>0.0</td>\n      <td>0.0</td>\n      <td>0.0</td>\n      <td>...</td>\n      <td>0.0</td>\n      <td>0.0</td>\n      <td>0.0</td>\n      <td>0.0</td>\n      <td>0.0</td>\n      <td>0.0</td>\n      <td>0.0</td>\n      <td>0.0</td>\n      <td>0.0</td>\n      <td>0.0</td>\n    </tr>\n    <tr>\n      <th>...</th>\n      <td>...</td>\n      <td>...</td>\n      <td>...</td>\n      <td>...</td>\n      <td>...</td>\n      <td>...</td>\n      <td>...</td>\n      <td>...</td>\n      <td>...</td>\n      <td>...</td>\n      <td>...</td>\n      <td>...</td>\n      <td>...</td>\n      <td>...</td>\n      <td>...</td>\n      <td>...</td>\n      <td>...</td>\n      <td>...</td>\n      <td>...</td>\n      <td>...</td>\n      <td>...</td>\n    </tr>\n    <tr>\n      <th>11309</th>\n      <td>0.000000</td>\n      <td>0.000000</td>\n      <td>0.422553</td>\n      <td>0.000000</td>\n      <td>0.54142</td>\n      <td>0.000000</td>\n      <td>0.0</td>\n      <td>0.0</td>\n      <td>0.0</td>\n      <td>0.0</td>\n      <td>...</td>\n      <td>0.0</td>\n      <td>0.0</td>\n      <td>0.0</td>\n      <td>0.0</td>\n      <td>0.0</td>\n      <td>0.0</td>\n      <td>0.0</td>\n      <td>0.0</td>\n      <td>0.0</td>\n      <td>0.0</td>\n    </tr>\n    <tr>\n      <th>11310</th>\n      <td>0.000000</td>\n      <td>0.000000</td>\n      <td>0.000000</td>\n      <td>0.000000</td>\n      <td>0.00000</td>\n      <td>0.000000</td>\n      <td>0.0</td>\n      <td>0.0</td>\n      <td>0.0</td>\n      <td>0.0</td>\n      <td>...</td>\n      <td>0.0</td>\n      <td>0.0</td>\n      <td>0.0</td>\n      <td>0.0</td>\n      <td>0.0</td>\n      <td>0.0</td>\n      <td>0.0</td>\n      <td>0.0</td>\n      <td>0.0</td>\n      <td>0.0</td>\n    </tr>\n    <tr>\n      <th>11311</th>\n      <td>0.000000</td>\n      <td>0.000000</td>\n      <td>0.000000</td>\n      <td>0.000000</td>\n      <td>0.00000</td>\n      <td>0.000000</td>\n      <td>0.0</td>\n      <td>0.0</td>\n      <td>0.0</td>\n      <td>0.0</td>\n      <td>...</td>\n      <td>0.0</td>\n      <td>0.0</td>\n      <td>0.0</td>\n      <td>0.0</td>\n      <td>0.0</td>\n      <td>0.0</td>\n      <td>0.0</td>\n      <td>0.0</td>\n      <td>0.0</td>\n      <td>0.0</td>\n    </tr>\n    <tr>\n      <th>11312</th>\n      <td>0.000000</td>\n      <td>0.000000</td>\n      <td>0.000000</td>\n      <td>0.000000</td>\n      <td>0.00000</td>\n      <td>0.000000</td>\n      <td>0.0</td>\n      <td>0.0</td>\n      <td>0.0</td>\n      <td>0.0</td>\n      <td>...</td>\n      <td>0.0</td>\n      <td>0.0</td>\n      <td>0.0</td>\n      <td>0.0</td>\n      <td>0.0</td>\n      <td>0.0</td>\n      <td>0.0</td>\n      <td>0.0</td>\n      <td>0.0</td>\n      <td>0.0</td>\n    </tr>\n    <tr>\n      <th>11313</th>\n      <td>0.000000</td>\n      <td>0.000000</td>\n      <td>0.000000</td>\n      <td>0.000000</td>\n      <td>0.00000</td>\n      <td>0.000000</td>\n      <td>0.0</td>\n      <td>0.0</td>\n      <td>0.0</td>\n      <td>0.0</td>\n      <td>...</td>\n      <td>0.0</td>\n      <td>0.0</td>\n      <td>0.0</td>\n      <td>0.0</td>\n      <td>0.0</td>\n      <td>0.0</td>\n      <td>0.0</td>\n      <td>0.0</td>\n      <td>0.0</td>\n      <td>0.0</td>\n    </tr>\n  </tbody>\n</table>\n<p>11314 rows × 1755 columns</p>\n</div>"
     },
     "metadata": {},
     "output_type": "display_data"
    },
    {
     "data": {
      "text/plain": "      0     1     2     3     4     5     6     7     8     9     ...  1745  \\\n0      0.0   0.0   0.0   0.0   0.0   0.0   0.0   0.0   0.0   0.0  ...   0.0   \n1      0.0   0.0   0.0   0.0   0.0   0.0   0.0   0.0   0.0   0.0  ...   0.0   \n2      0.0   0.0   0.0   0.0   0.0   0.0   0.0   0.0   0.0   0.0  ...   0.0   \n3      0.0   0.0   0.0   0.0   0.0   0.0   0.0   0.0   0.0   0.0  ...   0.0   \n4      0.0   0.0   0.0   0.0   0.0   0.0   0.0   0.0   0.0   0.0  ...   0.0   \n...    ...   ...   ...   ...   ...   ...   ...   ...   ...   ...  ...   ...   \n7527   0.0   0.0   0.0   0.0   0.0   0.0   0.0   0.0   0.0   0.0  ...   0.0   \n7528   0.0   0.0   0.0   0.0   0.0   0.0   0.0   0.0   0.0   0.0  ...   0.0   \n7529   0.0   0.0   0.0   0.0   0.0   0.0   0.0   0.0   0.0   0.0  ...   0.0   \n7530   0.0   0.0   0.0   0.0   0.0   0.0   0.0   0.0   0.0   0.0  ...   0.0   \n7531   0.0   0.0   0.0   0.0   0.0   0.0   0.0   0.0   0.0   0.0  ...   0.0   \n\n      1746  1747  1748  1749  1750  1751  1752  1753  1754  \n0      0.0   0.0   0.0   0.0   0.0   0.0   0.0   0.0   2.0  \n1      0.0   0.0   0.0   0.0   0.0   0.0   0.0   0.0   1.0  \n2      0.0   0.0   0.0   0.0   0.0   0.0   0.0   0.0   2.0  \n3      0.0   0.0   0.0   0.0   0.0   0.0   0.0   0.0   1.0  \n4      0.0   0.0   0.0   0.0   0.0   0.0   0.0   0.0   1.0  \n...    ...   ...   ...   ...   ...   ...   ...   ...   ...  \n7527   0.0   0.0   0.0   0.0   0.0   0.0   0.0   0.0   1.0  \n7528   0.0   0.0   0.0   0.0   0.0   0.0   0.0   0.0   1.0  \n7529   0.0   0.0   0.0   0.0   0.0   0.0   0.0   0.0   1.0  \n7530   0.0   0.0   0.0   0.0   0.0   0.0   0.0   0.0   1.0  \n7531   0.0   0.0   0.0   0.0   0.0   0.0   0.0   0.0   1.0  \n\n[7532 rows x 1755 columns]",
      "text/html": "<div>\n<style scoped>\n    .dataframe tbody tr th:only-of-type {\n        vertical-align: middle;\n    }\n\n    .dataframe tbody tr th {\n        vertical-align: top;\n    }\n\n    .dataframe thead th {\n        text-align: right;\n    }\n</style>\n<table border=\"1\" class=\"dataframe\">\n  <thead>\n    <tr style=\"text-align: right;\">\n      <th></th>\n      <th>0</th>\n      <th>1</th>\n      <th>2</th>\n      <th>3</th>\n      <th>4</th>\n      <th>5</th>\n      <th>6</th>\n      <th>7</th>\n      <th>8</th>\n      <th>9</th>\n      <th>...</th>\n      <th>1745</th>\n      <th>1746</th>\n      <th>1747</th>\n      <th>1748</th>\n      <th>1749</th>\n      <th>1750</th>\n      <th>1751</th>\n      <th>1752</th>\n      <th>1753</th>\n      <th>1754</th>\n    </tr>\n  </thead>\n  <tbody>\n    <tr>\n      <th>0</th>\n      <td>0.0</td>\n      <td>0.0</td>\n      <td>0.0</td>\n      <td>0.0</td>\n      <td>0.0</td>\n      <td>0.0</td>\n      <td>0.0</td>\n      <td>0.0</td>\n      <td>0.0</td>\n      <td>0.0</td>\n      <td>...</td>\n      <td>0.0</td>\n      <td>0.0</td>\n      <td>0.0</td>\n      <td>0.0</td>\n      <td>0.0</td>\n      <td>0.0</td>\n      <td>0.0</td>\n      <td>0.0</td>\n      <td>0.0</td>\n      <td>2.0</td>\n    </tr>\n    <tr>\n      <th>1</th>\n      <td>0.0</td>\n      <td>0.0</td>\n      <td>0.0</td>\n      <td>0.0</td>\n      <td>0.0</td>\n      <td>0.0</td>\n      <td>0.0</td>\n      <td>0.0</td>\n      <td>0.0</td>\n      <td>0.0</td>\n      <td>...</td>\n      <td>0.0</td>\n      <td>0.0</td>\n      <td>0.0</td>\n      <td>0.0</td>\n      <td>0.0</td>\n      <td>0.0</td>\n      <td>0.0</td>\n      <td>0.0</td>\n      <td>0.0</td>\n      <td>1.0</td>\n    </tr>\n    <tr>\n      <th>2</th>\n      <td>0.0</td>\n      <td>0.0</td>\n      <td>0.0</td>\n      <td>0.0</td>\n      <td>0.0</td>\n      <td>0.0</td>\n      <td>0.0</td>\n      <td>0.0</td>\n      <td>0.0</td>\n      <td>0.0</td>\n      <td>...</td>\n      <td>0.0</td>\n      <td>0.0</td>\n      <td>0.0</td>\n      <td>0.0</td>\n      <td>0.0</td>\n      <td>0.0</td>\n      <td>0.0</td>\n      <td>0.0</td>\n      <td>0.0</td>\n      <td>2.0</td>\n    </tr>\n    <tr>\n      <th>3</th>\n      <td>0.0</td>\n      <td>0.0</td>\n      <td>0.0</td>\n      <td>0.0</td>\n      <td>0.0</td>\n      <td>0.0</td>\n      <td>0.0</td>\n      <td>0.0</td>\n      <td>0.0</td>\n      <td>0.0</td>\n      <td>...</td>\n      <td>0.0</td>\n      <td>0.0</td>\n      <td>0.0</td>\n      <td>0.0</td>\n      <td>0.0</td>\n      <td>0.0</td>\n      <td>0.0</td>\n      <td>0.0</td>\n      <td>0.0</td>\n      <td>1.0</td>\n    </tr>\n    <tr>\n      <th>4</th>\n      <td>0.0</td>\n      <td>0.0</td>\n      <td>0.0</td>\n      <td>0.0</td>\n      <td>0.0</td>\n      <td>0.0</td>\n      <td>0.0</td>\n      <td>0.0</td>\n      <td>0.0</td>\n      <td>0.0</td>\n      <td>...</td>\n      <td>0.0</td>\n      <td>0.0</td>\n      <td>0.0</td>\n      <td>0.0</td>\n      <td>0.0</td>\n      <td>0.0</td>\n      <td>0.0</td>\n      <td>0.0</td>\n      <td>0.0</td>\n      <td>1.0</td>\n    </tr>\n    <tr>\n      <th>...</th>\n      <td>...</td>\n      <td>...</td>\n      <td>...</td>\n      <td>...</td>\n      <td>...</td>\n      <td>...</td>\n      <td>...</td>\n      <td>...</td>\n      <td>...</td>\n      <td>...</td>\n      <td>...</td>\n      <td>...</td>\n      <td>...</td>\n      <td>...</td>\n      <td>...</td>\n      <td>...</td>\n      <td>...</td>\n      <td>...</td>\n      <td>...</td>\n      <td>...</td>\n      <td>...</td>\n    </tr>\n    <tr>\n      <th>7527</th>\n      <td>0.0</td>\n      <td>0.0</td>\n      <td>0.0</td>\n      <td>0.0</td>\n      <td>0.0</td>\n      <td>0.0</td>\n      <td>0.0</td>\n      <td>0.0</td>\n      <td>0.0</td>\n      <td>0.0</td>\n      <td>...</td>\n      <td>0.0</td>\n      <td>0.0</td>\n      <td>0.0</td>\n      <td>0.0</td>\n      <td>0.0</td>\n      <td>0.0</td>\n      <td>0.0</td>\n      <td>0.0</td>\n      <td>0.0</td>\n      <td>1.0</td>\n    </tr>\n    <tr>\n      <th>7528</th>\n      <td>0.0</td>\n      <td>0.0</td>\n      <td>0.0</td>\n      <td>0.0</td>\n      <td>0.0</td>\n      <td>0.0</td>\n      <td>0.0</td>\n      <td>0.0</td>\n      <td>0.0</td>\n      <td>0.0</td>\n      <td>...</td>\n      <td>0.0</td>\n      <td>0.0</td>\n      <td>0.0</td>\n      <td>0.0</td>\n      <td>0.0</td>\n      <td>0.0</td>\n      <td>0.0</td>\n      <td>0.0</td>\n      <td>0.0</td>\n      <td>1.0</td>\n    </tr>\n    <tr>\n      <th>7529</th>\n      <td>0.0</td>\n      <td>0.0</td>\n      <td>0.0</td>\n      <td>0.0</td>\n      <td>0.0</td>\n      <td>0.0</td>\n      <td>0.0</td>\n      <td>0.0</td>\n      <td>0.0</td>\n      <td>0.0</td>\n      <td>...</td>\n      <td>0.0</td>\n      <td>0.0</td>\n      <td>0.0</td>\n      <td>0.0</td>\n      <td>0.0</td>\n      <td>0.0</td>\n      <td>0.0</td>\n      <td>0.0</td>\n      <td>0.0</td>\n      <td>1.0</td>\n    </tr>\n    <tr>\n      <th>7530</th>\n      <td>0.0</td>\n      <td>0.0</td>\n      <td>0.0</td>\n      <td>0.0</td>\n      <td>0.0</td>\n      <td>0.0</td>\n      <td>0.0</td>\n      <td>0.0</td>\n      <td>0.0</td>\n      <td>0.0</td>\n      <td>...</td>\n      <td>0.0</td>\n      <td>0.0</td>\n      <td>0.0</td>\n      <td>0.0</td>\n      <td>0.0</td>\n      <td>0.0</td>\n      <td>0.0</td>\n      <td>0.0</td>\n      <td>0.0</td>\n      <td>1.0</td>\n    </tr>\n    <tr>\n      <th>7531</th>\n      <td>0.0</td>\n      <td>0.0</td>\n      <td>0.0</td>\n      <td>0.0</td>\n      <td>0.0</td>\n      <td>0.0</td>\n      <td>0.0</td>\n      <td>0.0</td>\n      <td>0.0</td>\n      <td>0.0</td>\n      <td>...</td>\n      <td>0.0</td>\n      <td>0.0</td>\n      <td>0.0</td>\n      <td>0.0</td>\n      <td>0.0</td>\n      <td>0.0</td>\n      <td>0.0</td>\n      <td>0.0</td>\n      <td>0.0</td>\n      <td>1.0</td>\n    </tr>\n  </tbody>\n</table>\n<p>7532 rows × 1755 columns</p>\n</div>"
     },
     "metadata": {},
     "output_type": "display_data"
    }
   ],
   "source": [
    "# Load data\n",
    "ecoc_codes = np.array([[1, 0, 1, 0, 1, 0, 1, 0, 1, 0, 1, 0, 1, 0, 1, 0, 1, 0, 1, 0],\n",
    "              [0, 1, 0, 1, 0, 1, 0, 1, 0, 1, 0, 1, 0, 1, 0, 1, 0, 1, 0, 1],\n",
    "              [1, 1, 0, 0, 1, 1, 0, 0, 1, 1, 0, 0, 1, 1, 0, 0, 1, 1, 0, 0],\n",
    "              [0, 0, 1, 1, 0, 0, 1, 1, 0, 0, 1, 1, 0, 0, 1, 1, 0, 0, 1, 1],\n",
    "              [1, 0, 0, 1, 1, 0, 0, 1, 1, 0, 0, 1, 1, 0, 0, 1, 1, 0, 0, 1],\n",
    "              [0, 1, 1, 0, 0, 1, 1, 0, 0, 1, 1, 0, 0, 1, 1, 0, 0, 1, 1, 0],\n",
    "              [1, 1, 0, 1, 0, 0, 1, 0, 1, 1, 0, 1, 0, 0, 1, 0, 1, 1, 0, 1],\n",
    "              [0, 0, 1, 0, 1, 1, 0, 1, 0, 0, 1, 0, 1, 1, 0, 1, 0, 0, 1, 0]])\n",
    "\n",
    "news_train = ml.load_newsgroup('8newsgroup/train.trec/feature_matrix.txt')\n",
    "news_test = ml.load_newsgroup('8newsgroup/test.trec/feature_matrix.txt')\n",
    "\n",
    "display(news_train)\n",
    "display(news_test)"
   ],
   "metadata": {
    "collapsed": false,
    "ExecuteTime": {
     "end_time": "2023-11-26T21:52:51.054887Z",
     "start_time": "2023-11-26T21:52:50.809406Z"
    }
   },
   "id": "ba9f2f3c82bfb45"
  },
  {
   "cell_type": "code",
   "execution_count": 29,
   "outputs": [],
   "source": [
    "ecoc = ml.ECOC(ecoc_codes)\n",
    "ecoc.fit(news_train)"
   ],
   "metadata": {
    "collapsed": false,
    "ExecuteTime": {
     "end_time": "2023-11-26T21:55:24.126529Z",
     "start_time": "2023-11-26T21:52:51.057505Z"
    }
   },
   "id": "abf1a19b2aa6d523"
  },
  {
   "cell_type": "markdown",
   "source": [
    "### Accuracy"
   ],
   "metadata": {
    "collapsed": false
   },
   "id": "e1556b2bad831caa"
  },
  {
   "cell_type": "code",
   "execution_count": 30,
   "outputs": [
    {
     "name": "stdout",
     "output_type": "stream",
     "text": [
      "Accuracy:  0.7144184811471057\n"
     ]
    }
   ],
   "source": [
    "print('Accuracy: ', ecoc.accuracy(news_test))"
   ],
   "metadata": {
    "collapsed": false,
    "ExecuteTime": {
     "end_time": "2023-11-26T21:56:19.157055Z",
     "start_time": "2023-11-26T21:55:24.152632Z"
    }
   },
   "id": "531391ef782c4513"
  },
  {
   "cell_type": "markdown",
   "source": [
    "# Problem 4"
   ],
   "metadata": {
    "collapsed": false
   },
   "id": "7ff951643f5de1c6"
  },
  {
   "cell_type": "markdown",
   "source": [
    "## Bagging"
   ],
   "metadata": {
    "collapsed": false
   },
   "id": "1a5f97311747fdad"
  },
  {
   "cell_type": "code",
   "execution_count": 31,
   "outputs": [],
   "source": [
    "bagging = ml.Bagging()\n",
    "bagging.fit(train)"
   ],
   "metadata": {
    "collapsed": false,
    "ExecuteTime": {
     "end_time": "2023-11-26T21:56:21.241460Z",
     "start_time": "2023-11-26T21:56:19.158220Z"
    }
   },
   "id": "f9e4565a784c5b3c"
  },
  {
   "cell_type": "markdown",
   "source": [
    "### Accuracy"
   ],
   "metadata": {
    "collapsed": false
   },
   "id": "70a29f3021957cde"
  },
  {
   "cell_type": "code",
   "execution_count": 32,
   "outputs": [
    {
     "name": "stdout",
     "output_type": "stream",
     "text": [
      "Accuracy:  0.9391965255157437\n"
     ]
    }
   ],
   "source": [
    "print('Accuracy: ', bagging.accuracy(test))"
   ],
   "metadata": {
    "collapsed": false,
    "ExecuteTime": {
     "end_time": "2023-11-26T21:56:21.266841Z",
     "start_time": "2023-11-26T21:56:21.242052Z"
    }
   },
   "id": "181f67e1e940636c"
  },
  {
   "cell_type": "markdown",
   "source": [
    "# Problem 7"
   ],
   "metadata": {
    "collapsed": false
   },
   "id": "37c8994f63ed0a49"
  },
  {
   "cell_type": "code",
   "execution_count": 33,
   "outputs": [],
   "source": [
    "# Load data\n",
    "housing_test = pd.read_csv('housing_test.txt', header=None, delim_whitespace=True,\n",
    "                           names=['CRIM', 'ZN', 'INDUS', 'CHAS', 'NOX', 'RM', 'AGE', 'DIS', 'RAD', 'TAX', 'PTRATIO',\n",
    "                                  'B', 'LSTAT', 'MEDV'])\n",
    "housing_train = pd.read_csv('housing_train.txt', header=None, delim_whitespace=True,\n",
    "                            names=['CRIM', 'ZN', 'INDUS', 'CHAS', 'NOX', 'RM', 'AGE', 'DIS', 'RAD', 'TAX', 'PTRATIO',\n",
    "                                   'B', 'LSTAT', 'MEDV'])"
   ],
   "metadata": {
    "collapsed": false,
    "ExecuteTime": {
     "end_time": "2023-11-26T21:56:21.272277Z",
     "start_time": "2023-11-26T21:56:21.267717Z"
    }
   },
   "id": "988c9d23b3f73c50"
  },
  {
   "cell_type": "code",
   "execution_count": 34,
   "outputs": [],
   "source": [
    "# Normalize data without labels\n",
    "housing_train.iloc[:, :-1], housing_train_avg, housing_train_stdev = ml.normalize(housing_train.iloc[:, :-1])\n",
    "housing_test.iloc[:, :-1] = (housing_test.iloc[:, :-1] - housing_train_avg) / housing_train_stdev"
   ],
   "metadata": {
    "collapsed": false,
    "ExecuteTime": {
     "end_time": "2023-11-26T21:56:21.277989Z",
     "start_time": "2023-11-26T21:56:21.274448Z"
    }
   },
   "id": "30a208c48bd61958"
  },
  {
   "cell_type": "code",
   "execution_count": 35,
   "outputs": [
    {
     "data": {
      "text/plain": "         CRIM        ZN     INDUS      CHAS       NOX        RM       AGE  \\\n0   -0.406074  0.271666 -1.269381 -0.267612 -0.128607  0.384651 -0.095048   \n1   -0.403616 -0.486839 -0.554501 -0.267612 -0.726487  0.168444  0.397814   \n2   -0.403618 -0.486839 -0.554501 -0.267612 -0.726487  1.241055 -0.242547   \n3   -0.403023 -0.486839 -1.288905 -0.267612 -0.821802  0.978518 -0.792968   \n4   -0.398727 -0.486839 -1.288905 -0.267612 -0.821802  1.187706 -0.490776   \n..        ...       ...       ...       ...       ...       ...       ...   \n428 -0.399479 -0.486839  0.175397 -0.267612  0.174665  0.409922  0.045256   \n429 -0.401512 -0.486839  0.175397 -0.267612  0.174665 -0.254143  0.318668   \n430 -0.399698 -0.486839  0.175397 -0.267612  0.174665  0.947632  0.833114   \n431 -0.393978 -0.486839  0.175397 -0.267612  0.174665  0.692114  0.771956   \n432 -0.401261 -0.486839  0.175397 -0.267612  0.174665 -0.380497  0.466167   \n\n          DIS       RAD       TAX   PTRATIO         B     LSTAT  MEDV  \n0    0.140689 -0.969579 -0.612355 -1.449420  0.409077 -1.046568  24.0  \n1    0.567315 -0.854463 -0.934791 -0.274757  0.409077 -0.459782  21.6  \n2    0.567315 -0.854463 -0.934791 -0.274757  0.360950 -1.180570  34.7  \n3    1.099976 -0.739347 -1.054212  0.148121  0.382235 -1.334319  33.4  \n4    1.099976 -0.739347 -1.054212  0.148121  0.409077 -0.997199  36.2  \n..        ...       ...       ...       ...       ...       ...   ...  \n428 -0.643102 -0.969579 -0.749689  1.228811  0.351017 -0.385023  22.4  \n429 -0.736054 -0.969579 -0.749689  1.228811  0.409077 -0.468245  20.6  \n430 -0.794423 -0.969579 -0.749689  1.228811  0.409077 -0.953472  23.9  \n431 -0.686733 -0.969579 -0.749689  1.228811  0.368282 -0.834987  22.0  \n432 -0.630261 -0.969579 -0.749689  1.228811  0.409077 -0.637510  11.9  \n\n[433 rows x 14 columns]",
      "text/html": "<div>\n<style scoped>\n    .dataframe tbody tr th:only-of-type {\n        vertical-align: middle;\n    }\n\n    .dataframe tbody tr th {\n        vertical-align: top;\n    }\n\n    .dataframe thead th {\n        text-align: right;\n    }\n</style>\n<table border=\"1\" class=\"dataframe\">\n  <thead>\n    <tr style=\"text-align: right;\">\n      <th></th>\n      <th>CRIM</th>\n      <th>ZN</th>\n      <th>INDUS</th>\n      <th>CHAS</th>\n      <th>NOX</th>\n      <th>RM</th>\n      <th>AGE</th>\n      <th>DIS</th>\n      <th>RAD</th>\n      <th>TAX</th>\n      <th>PTRATIO</th>\n      <th>B</th>\n      <th>LSTAT</th>\n      <th>MEDV</th>\n    </tr>\n  </thead>\n  <tbody>\n    <tr>\n      <th>0</th>\n      <td>-0.406074</td>\n      <td>0.271666</td>\n      <td>-1.269381</td>\n      <td>-0.267612</td>\n      <td>-0.128607</td>\n      <td>0.384651</td>\n      <td>-0.095048</td>\n      <td>0.140689</td>\n      <td>-0.969579</td>\n      <td>-0.612355</td>\n      <td>-1.449420</td>\n      <td>0.409077</td>\n      <td>-1.046568</td>\n      <td>24.0</td>\n    </tr>\n    <tr>\n      <th>1</th>\n      <td>-0.403616</td>\n      <td>-0.486839</td>\n      <td>-0.554501</td>\n      <td>-0.267612</td>\n      <td>-0.726487</td>\n      <td>0.168444</td>\n      <td>0.397814</td>\n      <td>0.567315</td>\n      <td>-0.854463</td>\n      <td>-0.934791</td>\n      <td>-0.274757</td>\n      <td>0.409077</td>\n      <td>-0.459782</td>\n      <td>21.6</td>\n    </tr>\n    <tr>\n      <th>2</th>\n      <td>-0.403618</td>\n      <td>-0.486839</td>\n      <td>-0.554501</td>\n      <td>-0.267612</td>\n      <td>-0.726487</td>\n      <td>1.241055</td>\n      <td>-0.242547</td>\n      <td>0.567315</td>\n      <td>-0.854463</td>\n      <td>-0.934791</td>\n      <td>-0.274757</td>\n      <td>0.360950</td>\n      <td>-1.180570</td>\n      <td>34.7</td>\n    </tr>\n    <tr>\n      <th>3</th>\n      <td>-0.403023</td>\n      <td>-0.486839</td>\n      <td>-1.288905</td>\n      <td>-0.267612</td>\n      <td>-0.821802</td>\n      <td>0.978518</td>\n      <td>-0.792968</td>\n      <td>1.099976</td>\n      <td>-0.739347</td>\n      <td>-1.054212</td>\n      <td>0.148121</td>\n      <td>0.382235</td>\n      <td>-1.334319</td>\n      <td>33.4</td>\n    </tr>\n    <tr>\n      <th>4</th>\n      <td>-0.398727</td>\n      <td>-0.486839</td>\n      <td>-1.288905</td>\n      <td>-0.267612</td>\n      <td>-0.821802</td>\n      <td>1.187706</td>\n      <td>-0.490776</td>\n      <td>1.099976</td>\n      <td>-0.739347</td>\n      <td>-1.054212</td>\n      <td>0.148121</td>\n      <td>0.409077</td>\n      <td>-0.997199</td>\n      <td>36.2</td>\n    </tr>\n    <tr>\n      <th>...</th>\n      <td>...</td>\n      <td>...</td>\n      <td>...</td>\n      <td>...</td>\n      <td>...</td>\n      <td>...</td>\n      <td>...</td>\n      <td>...</td>\n      <td>...</td>\n      <td>...</td>\n      <td>...</td>\n      <td>...</td>\n      <td>...</td>\n      <td>...</td>\n    </tr>\n    <tr>\n      <th>428</th>\n      <td>-0.399479</td>\n      <td>-0.486839</td>\n      <td>0.175397</td>\n      <td>-0.267612</td>\n      <td>0.174665</td>\n      <td>0.409922</td>\n      <td>0.045256</td>\n      <td>-0.643102</td>\n      <td>-0.969579</td>\n      <td>-0.749689</td>\n      <td>1.228811</td>\n      <td>0.351017</td>\n      <td>-0.385023</td>\n      <td>22.4</td>\n    </tr>\n    <tr>\n      <th>429</th>\n      <td>-0.401512</td>\n      <td>-0.486839</td>\n      <td>0.175397</td>\n      <td>-0.267612</td>\n      <td>0.174665</td>\n      <td>-0.254143</td>\n      <td>0.318668</td>\n      <td>-0.736054</td>\n      <td>-0.969579</td>\n      <td>-0.749689</td>\n      <td>1.228811</td>\n      <td>0.409077</td>\n      <td>-0.468245</td>\n      <td>20.6</td>\n    </tr>\n    <tr>\n      <th>430</th>\n      <td>-0.399698</td>\n      <td>-0.486839</td>\n      <td>0.175397</td>\n      <td>-0.267612</td>\n      <td>0.174665</td>\n      <td>0.947632</td>\n      <td>0.833114</td>\n      <td>-0.794423</td>\n      <td>-0.969579</td>\n      <td>-0.749689</td>\n      <td>1.228811</td>\n      <td>0.409077</td>\n      <td>-0.953472</td>\n      <td>23.9</td>\n    </tr>\n    <tr>\n      <th>431</th>\n      <td>-0.393978</td>\n      <td>-0.486839</td>\n      <td>0.175397</td>\n      <td>-0.267612</td>\n      <td>0.174665</td>\n      <td>0.692114</td>\n      <td>0.771956</td>\n      <td>-0.686733</td>\n      <td>-0.969579</td>\n      <td>-0.749689</td>\n      <td>1.228811</td>\n      <td>0.368282</td>\n      <td>-0.834987</td>\n      <td>22.0</td>\n    </tr>\n    <tr>\n      <th>432</th>\n      <td>-0.401261</td>\n      <td>-0.486839</td>\n      <td>0.175397</td>\n      <td>-0.267612</td>\n      <td>0.174665</td>\n      <td>-0.380497</td>\n      <td>0.466167</td>\n      <td>-0.630261</td>\n      <td>-0.969579</td>\n      <td>-0.749689</td>\n      <td>1.228811</td>\n      <td>0.409077</td>\n      <td>-0.637510</td>\n      <td>11.9</td>\n    </tr>\n  </tbody>\n</table>\n<p>433 rows × 14 columns</p>\n</div>"
     },
     "metadata": {},
     "output_type": "display_data"
    },
    {
     "data": {
      "text/plain": "        CRIM        ZN     INDUS      CHAS       NOX        RM       AGE  \\\n0  -0.308363 -0.486839 -0.393803 -0.267612 -0.128607 -0.985596  0.642445   \n1  -0.328114 -0.486839 -0.393803 -0.267612 -0.128607 -0.685153  0.807932   \n2  -0.294866 -0.486839 -0.393803 -0.267612 -0.128607 -0.356630  0.753969   \n3  -0.316275 -0.486839 -0.393803 -0.267612 -0.128607  0.272336  0.955430   \n4  -0.289399 -0.486839 -0.393803 -0.267612 -0.128607  0.523641  0.700006   \n..       ...       ...       ...       ...       ...       ...       ...   \n69 -0.394429 -0.486839  2.549819 -0.267612  0.486603 -0.446483  1.113722   \n70 -0.393776 -0.486839  2.549819 -0.267612  0.486603 -0.446483  0.563300   \n71 -0.386515 -0.486839 -0.161017 -0.267612  0.278645 -0.833971 -0.497971   \n72 -0.374069 -0.486839 -0.161017 -0.267612  0.278645 -0.526507 -0.908089   \n73 -0.385850 -0.486839 -0.161017 -0.267612  0.278645 -0.885916 -1.404548   \n\n         DIS       RAD       TAX   PTRATIO         B     LSTAT  MEDV  \n0   0.318032 -0.624231 -0.546674  1.228811 -0.696315  0.579789  13.9  \n1   0.428641 -0.624231 -0.546674  1.228811  0.172343  0.339996  16.6  \n2   0.317449 -0.624231 -0.546674  1.228811 -0.661313  0.688401  14.8  \n3   0.318081 -0.624231 -0.546674  1.228811  0.303126  0.056477  18.4  \n4   0.213164 -0.624231 -0.546674  1.228811  0.211956 -0.059187  21.0  \n..       ...       ...       ...       ...       ...       ...   ...  \n69 -0.940052 -0.624231  1.865625  0.805933  0.328786  0.799834  13.6  \n70 -0.822439 -0.624231  1.865625  0.805933  0.409077  0.134057  20.1  \n71 -0.690235 -0.393999 -0.045107  0.383054  0.409077 -0.054956  21.8  \n72 -0.690235 -0.393999 -0.045107  0.383054  0.409077  0.167910  24.5  \n73 -0.487453 -0.393999 -0.045107  0.383054  0.366390  0.733538  23.1  \n\n[74 rows x 14 columns]",
      "text/html": "<div>\n<style scoped>\n    .dataframe tbody tr th:only-of-type {\n        vertical-align: middle;\n    }\n\n    .dataframe tbody tr th {\n        vertical-align: top;\n    }\n\n    .dataframe thead th {\n        text-align: right;\n    }\n</style>\n<table border=\"1\" class=\"dataframe\">\n  <thead>\n    <tr style=\"text-align: right;\">\n      <th></th>\n      <th>CRIM</th>\n      <th>ZN</th>\n      <th>INDUS</th>\n      <th>CHAS</th>\n      <th>NOX</th>\n      <th>RM</th>\n      <th>AGE</th>\n      <th>DIS</th>\n      <th>RAD</th>\n      <th>TAX</th>\n      <th>PTRATIO</th>\n      <th>B</th>\n      <th>LSTAT</th>\n      <th>MEDV</th>\n    </tr>\n  </thead>\n  <tbody>\n    <tr>\n      <th>0</th>\n      <td>-0.308363</td>\n      <td>-0.486839</td>\n      <td>-0.393803</td>\n      <td>-0.267612</td>\n      <td>-0.128607</td>\n      <td>-0.985596</td>\n      <td>0.642445</td>\n      <td>0.318032</td>\n      <td>-0.624231</td>\n      <td>-0.546674</td>\n      <td>1.228811</td>\n      <td>-0.696315</td>\n      <td>0.579789</td>\n      <td>13.9</td>\n    </tr>\n    <tr>\n      <th>1</th>\n      <td>-0.328114</td>\n      <td>-0.486839</td>\n      <td>-0.393803</td>\n      <td>-0.267612</td>\n      <td>-0.128607</td>\n      <td>-0.685153</td>\n      <td>0.807932</td>\n      <td>0.428641</td>\n      <td>-0.624231</td>\n      <td>-0.546674</td>\n      <td>1.228811</td>\n      <td>0.172343</td>\n      <td>0.339996</td>\n      <td>16.6</td>\n    </tr>\n    <tr>\n      <th>2</th>\n      <td>-0.294866</td>\n      <td>-0.486839</td>\n      <td>-0.393803</td>\n      <td>-0.267612</td>\n      <td>-0.128607</td>\n      <td>-0.356630</td>\n      <td>0.753969</td>\n      <td>0.317449</td>\n      <td>-0.624231</td>\n      <td>-0.546674</td>\n      <td>1.228811</td>\n      <td>-0.661313</td>\n      <td>0.688401</td>\n      <td>14.8</td>\n    </tr>\n    <tr>\n      <th>3</th>\n      <td>-0.316275</td>\n      <td>-0.486839</td>\n      <td>-0.393803</td>\n      <td>-0.267612</td>\n      <td>-0.128607</td>\n      <td>0.272336</td>\n      <td>0.955430</td>\n      <td>0.318081</td>\n      <td>-0.624231</td>\n      <td>-0.546674</td>\n      <td>1.228811</td>\n      <td>0.303126</td>\n      <td>0.056477</td>\n      <td>18.4</td>\n    </tr>\n    <tr>\n      <th>4</th>\n      <td>-0.289399</td>\n      <td>-0.486839</td>\n      <td>-0.393803</td>\n      <td>-0.267612</td>\n      <td>-0.128607</td>\n      <td>0.523641</td>\n      <td>0.700006</td>\n      <td>0.213164</td>\n      <td>-0.624231</td>\n      <td>-0.546674</td>\n      <td>1.228811</td>\n      <td>0.211956</td>\n      <td>-0.059187</td>\n      <td>21.0</td>\n    </tr>\n    <tr>\n      <th>...</th>\n      <td>...</td>\n      <td>...</td>\n      <td>...</td>\n      <td>...</td>\n      <td>...</td>\n      <td>...</td>\n      <td>...</td>\n      <td>...</td>\n      <td>...</td>\n      <td>...</td>\n      <td>...</td>\n      <td>...</td>\n      <td>...</td>\n      <td>...</td>\n    </tr>\n    <tr>\n      <th>69</th>\n      <td>-0.394429</td>\n      <td>-0.486839</td>\n      <td>2.549819</td>\n      <td>-0.267612</td>\n      <td>0.486603</td>\n      <td>-0.446483</td>\n      <td>1.113722</td>\n      <td>-0.940052</td>\n      <td>-0.624231</td>\n      <td>1.865625</td>\n      <td>0.805933</td>\n      <td>0.328786</td>\n      <td>0.799834</td>\n      <td>13.6</td>\n    </tr>\n    <tr>\n      <th>70</th>\n      <td>-0.393776</td>\n      <td>-0.486839</td>\n      <td>2.549819</td>\n      <td>-0.267612</td>\n      <td>0.486603</td>\n      <td>-0.446483</td>\n      <td>0.563300</td>\n      <td>-0.822439</td>\n      <td>-0.624231</td>\n      <td>1.865625</td>\n      <td>0.805933</td>\n      <td>0.409077</td>\n      <td>0.134057</td>\n      <td>20.1</td>\n    </tr>\n    <tr>\n      <th>71</th>\n      <td>-0.386515</td>\n      <td>-0.486839</td>\n      <td>-0.161017</td>\n      <td>-0.267612</td>\n      <td>0.278645</td>\n      <td>-0.833971</td>\n      <td>-0.497971</td>\n      <td>-0.690235</td>\n      <td>-0.393999</td>\n      <td>-0.045107</td>\n      <td>0.383054</td>\n      <td>0.409077</td>\n      <td>-0.054956</td>\n      <td>21.8</td>\n    </tr>\n    <tr>\n      <th>72</th>\n      <td>-0.374069</td>\n      <td>-0.486839</td>\n      <td>-0.161017</td>\n      <td>-0.267612</td>\n      <td>0.278645</td>\n      <td>-0.526507</td>\n      <td>-0.908089</td>\n      <td>-0.690235</td>\n      <td>-0.393999</td>\n      <td>-0.045107</td>\n      <td>0.383054</td>\n      <td>0.409077</td>\n      <td>0.167910</td>\n      <td>24.5</td>\n    </tr>\n    <tr>\n      <th>73</th>\n      <td>-0.385850</td>\n      <td>-0.486839</td>\n      <td>-0.161017</td>\n      <td>-0.267612</td>\n      <td>0.278645</td>\n      <td>-0.885916</td>\n      <td>-1.404548</td>\n      <td>-0.487453</td>\n      <td>-0.393999</td>\n      <td>-0.045107</td>\n      <td>0.383054</td>\n      <td>0.366390</td>\n      <td>0.733538</td>\n      <td>23.1</td>\n    </tr>\n  </tbody>\n</table>\n<p>74 rows × 14 columns</p>\n</div>"
     },
     "metadata": {},
     "output_type": "display_data"
    }
   ],
   "source": [
    "# Display data\n",
    "display(housing_train)\n",
    "display(housing_test)"
   ],
   "metadata": {
    "collapsed": false,
    "ExecuteTime": {
     "end_time": "2023-11-26T21:56:21.297010Z",
     "start_time": "2023-11-26T21:56:21.278490Z"
    }
   },
   "id": "1f400df7eaa1f95f"
  },
  {
   "cell_type": "markdown",
   "source": [
    "## Gradient Boosting"
   ],
   "metadata": {
    "collapsed": false
   },
   "id": "d70622e1c56ffb1e"
  },
  {
   "cell_type": "code",
   "execution_count": 36,
   "outputs": [],
   "source": [
    "gb = ml.GradientBoosting()\n",
    "gb.fit(housing_train)"
   ],
   "metadata": {
    "collapsed": false,
    "ExecuteTime": {
     "end_time": "2023-11-26T21:56:21.328132Z",
     "start_time": "2023-11-26T21:56:21.290241Z"
    }
   },
   "id": "9e767f947d34d761"
  },
  {
   "cell_type": "markdown",
   "source": [
    "### MSE"
   ],
   "metadata": {
    "collapsed": false
   },
   "id": "a8be7c36cfd9c27b"
  },
  {
   "cell_type": "code",
   "execution_count": 37,
   "outputs": [
    {
     "name": "stdout",
     "output_type": "stream",
     "text": [
      "MSE:  28.01856595168229\n"
     ]
    }
   ],
   "source": [
    "print('MSE: ', gb.mse(housing_test))"
   ],
   "metadata": {
    "collapsed": false,
    "ExecuteTime": {
     "end_time": "2023-11-26T21:56:21.332107Z",
     "start_time": "2023-11-26T21:56:21.306324Z"
    }
   },
   "id": "9f8402f748a948f1"
  },
  {
   "cell_type": "code",
   "execution_count": 37,
   "outputs": [],
   "source": [],
   "metadata": {
    "collapsed": false,
    "ExecuteTime": {
     "end_time": "2023-11-26T21:56:21.332232Z",
     "start_time": "2023-11-26T21:56:21.308027Z"
    }
   },
   "id": "fa570c8fddf77cce"
  }
 ],
 "metadata": {
  "kernelspec": {
   "display_name": "Python 3",
   "language": "python",
   "name": "python3"
  },
  "language_info": {
   "codemirror_mode": {
    "name": "ipython",
    "version": 2
   },
   "file_extension": ".py",
   "mimetype": "text/x-python",
   "name": "python",
   "nbconvert_exporter": "python",
   "pygments_lexer": "ipython2",
   "version": "2.7.6"
  }
 },
 "nbformat": 4,
 "nbformat_minor": 5
}
